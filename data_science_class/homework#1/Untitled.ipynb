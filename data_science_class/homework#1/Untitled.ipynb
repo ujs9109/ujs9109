{
 "cells": [
  {
   "cell_type": "code",
   "execution_count": 1,
   "id": "05d1a776",
   "metadata": {},
   "outputs": [],
   "source": [
    "import matplotlib.pyplot as plt\n",
    "from matplotlib import style\n",
    "style.use('fivethirtyeight')\n",
    "import numpy as np\n",
    "from scipy.stats import norm\n",
    "np.random.seed(0)\n",
    "\n",
    "X = np.linspace(-5,5,num=20)\n",
    "X0 = X*np.random.rand(len(X))+10 # Create data cluster 1\n",
    "X1 = X*np.random.rand(len(X))-10 # Create data cluster 2\n",
    "X2 = X*np.random.rand(len(X)) # Create data cluster 3\n",
    "X_tot = np.stack((X0,X1,X2)).flatten() # Combine the clusters to get the random datapoints from above"
   ]
  },
  {
   "cell_type": "code",
   "execution_count": 92,
   "id": "3a4f4621",
   "metadata": {},
   "outputs": [],
   "source": [
    "# Define model parameters\n",
    "A = np.array([[0.4, 0.5, 0.1], \n",
    "              [0.2, 0.7, 0.1], \n",
    "              [0.1, 0.3, 0.6]])\n",
    "\n",
    "C = np.array([0.4, 0.5, 0.1])\n",
    "\n",
    "B = np.array([[0.7, 0.0, 0.3], \n",
    "              [0.1, 0.4, 0.5], \n",
    "              [0.0, 0.2, 0.8],\n",
    "              ])\n",
    "\n",
    "\n",
    "O = np.array([0, 2, 0, 2, 2, 1]).astype(np.int32)"
   ]
  },
  {
   "cell_type": "code",
   "execution_count": null,
   "id": "77ba8ae0",
   "metadata": {},
   "outputs": [],
   "source": []
  },
  {
   "cell_type": "code",
   "execution_count": 12,
   "id": "4e4f42e9",
   "metadata": {},
   "outputs": [],
   "source": [
    "# Define model parameters\n",
    "A = np.array([[0.5, 0.5], \n",
    "              [0.4, 0.6],] \n",
    "              )\n",
    "\n",
    "C = np.array([0.5, 0.5])\n",
    "\n",
    "B = np.array([[0.2, 0.3, 0.3, 0.2], \n",
    "              [0.3, 0.2, 0.2, 0.3],\n",
    "              ])\n",
    "\n",
    "\n",
    "O = np.array([2, 2, 1, 0, 1, 3, 2, 0, 0]).astype(np.int32)"
   ]
  },
  {
   "cell_type": "code",
   "execution_count": 37,
   "id": "3fa0a17d",
   "metadata": {},
   "outputs": [],
   "source": [
    "toy_pis = np.array([0.1,0.2,0.3,0.4])\n",
    "toy_trans_probs = np.array([[0.1,0.2,0.3,0.4],[0.4, 0.3,0.2,0.1],[0.2,0.3,0.4,0.1],[0.3,0.4,0.2,0.1]])\n",
    "toy_emission_probs = np.array([[0.1,0.4,0.5],[0.5,0.3,0.2],[0.3,0.2,0.5],[0.1,0.5,0.4]])\n",
    "toy_x = np.array([0,1,2,0,1])"
   ]
  },
  {
   "cell_type": "code",
   "execution_count": 44,
   "id": "9cfe915e",
   "metadata": {},
   "outputs": [],
   "source": [
    "toy_pis = [0.1,0.2,0.3,0.4]\n",
    "toy_trans_probs = [[0.1,0.2,0.3,0.4],[0.4, 0.3,0.2,0.1],[0.2,0.3,0.4,0.1],[0.3,0.4,0.2,0.1]]\n",
    "toy_emission_probs = [[0.1,0.4,0.5],[0.5,0.3,0.2],[0.3,0.2,0.5],[0.1,0.5,0.4]]\n",
    "toy_x = [0,1,2,0,1]"
   ]
  },
  {
   "cell_type": "code",
   "execution_count": 47,
   "id": "ca6c0aca",
   "metadata": {
    "scrolled": false
   },
   "outputs": [
    {
     "data": {
      "text/plain": [
       "[1, 0, 3, 1, 0]"
      ]
     },
     "execution_count": 47,
     "metadata": {},
     "output_type": "execute_result"
    },
    {
     "data": {
      "image/png": "[encoded data removed]",
      "text/plain": [
       "<Figure size 432x288 with 1 Axes>"
      ]
     },
     "metadata": {},
     "output_type": "display_data"
    }
   ],
   "source": [
    "viterbi(toy_pis, toy_trans_probs,toy_emission_probs,toy_x)"
   ]
  },
  {
   "cell_type": "code",
   "execution_count": 48,
   "id": "570b1e5c",
   "metadata": {},
   "outputs": [],
   "source": [
    "import numpy as np\n",
    "import matplotlib.pyplot as plt\n",
    "from matplotlib import style\n",
    "style.use('fivethirtyeight')\n",
    "\n",
    "def viterbi(pis: np.ndarray, trans_probs: np.ndarray, emission_probs: np.ndarray, x: np.ndarray) -> np.ndarray:\n",
    "    # pis: initial probability in a one-dimensional array with m elements\n",
    "    # trans_probs: transition probability (i.e., trans_probs[i,j] is P(Z_{t+1}=j | Z_t=i)), 2d-array with shape (m, m)\n",
    "    # emission_probs: emission probability, emission_probs[i,k] is P(X_t=k | Z_t=i), 2d-array with shape (m, size of X's domain)\n",
    "    # x: an observational sequence in a 1d array with n elements\n",
    "    \n",
    "    #type casting \n",
    "    pis = np.array(pis)\n",
    "    trans_probs = np.array(trans_probs)\n",
    "    emission_probs = np.array(emission_probs)\n",
    "    x = np.array(x)\n",
    "    \n",
    "    \n",
    "    T, E, n, m = trans_probs, emission_probs, len(x), len(pis)\n",
    "    mu = np.zeros((n, m))  # to fill in\n",
    "    max_seq = [None] * n  # to return\n",
    "\n",
    "    # TODO\n",
    "    # hidden state (Z) 에서 가능한 변수의 수는 m 개. 따라서, 전이확률은 전체 m개의 가능성에서 m 개의 가능성으로 옮겨지는 것.\n",
    "    # 이 상황에서, pis 맨 처음의 확률!\n",
    "    #\n",
    "    \n",
    "    # emission problem : m개의 가능한 변수들 중에서 -> x가 될 수 있는 갯수. 즉 m * x_t.shape\n",
    "    \n",
    "    \n",
    "    # calculate mu1\n",
    "    mu_old = [0] * m\n",
    "    for i in range(m):\n",
    "        mu_old[i] += pis[i] * E[i,x[0]]\n",
    "        \n",
    "    \n",
    "    \n",
    "    mu[0] = mu_old\n",
    "    # calculate remain\n",
    "    \n",
    "    # calculate candidate\n",
    "    for leng in range(1,n):\n",
    "        mu_new_candidiate = np.zeros([m,m])\n",
    "        for i in range(m):\n",
    "            for j in range(m) :\n",
    "                mu_new_candidiate[i,j] += mu[leng-1][i] *T[i,j] * E[j, x[leng]]\n",
    "                \n",
    "        # choose the max one\n",
    "        mu[leng] = np.max(mu_new_candidiate, axis = 0)\n",
    "        # choose the sum one\n",
    "        #mu[leng] = np.sum(mu_new_candidiate, axis = 0)\n",
    "        \n",
    "    for i in range(len(max_seq)):\n",
    "        itera = len(max_seq) - i - 1\n",
    "        max_seq[itera] = np.argmax(mu[itera])\n",
    "    \n",
    "    for i in range(mu.shape[1]):\n",
    "        plt.plot(mu[:,i],'*')\n",
    "    \n",
    "    plt.legend(list(range(mu.shape[1])))\n",
    "    return max_seq\n"
   ]
  },
  {
   "cell_type": "code",
   "execution_count": null,
   "id": "45682d8c",
   "metadata": {},
   "outputs": [],
   "source": []
  }
 ],
 "metadata": {
  "kernelspec": {
   "display_name": "Python 3 (ipykernel)",
   "language": "python",
   "name": "python3"
  },
  "language_info": {
   "codemirror_mode": {
    "name": "ipython",
    "version": 3
   },
   "file_extension": ".py",
   "mimetype": "text/x-python",
   "name": "python",
   "nbconvert_exporter": "python",
   "pygments_lexer": "ipython3",
   "version": "3.9.6"
  }
 },
 "nbformat": 4,
 "nbformat_minor": 5
}

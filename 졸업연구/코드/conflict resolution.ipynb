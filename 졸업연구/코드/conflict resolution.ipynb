{
 "cells": [
  {
   "cell_type": "code",
   "execution_count": 7,
   "id": "8eacc271",
   "metadata": {},
   "outputs": [],
   "source": [
    "# num DP/FR\n",
    "num_DP = 10\n",
    "num_FR = 5\n",
    "num_option = 15\n",
    "\n",
    "DP = [0 for k in range(num_DP)]\n",
    "FR = [0 for k in range(num_FR)]\n",
    "option = [0 for k in range(num_option)]"
   ]
  },
  {
   "cell_type": "code",
   "execution_count": null,
   "id": "f4b4aa44",
   "metadata": {},
   "outputs": [],
   "source": []
  }
 ],
 "metadata": {
  "kernelspec": {
   "display_name": "Python 3 (ipykernel)",
   "language": "python",
   "name": "python3"
  },
  "language_info": {
   "codemirror_mode": {
    "name": "ipython",
    "version": 3
   },
   "file_extension": ".py",
   "mimetype": "text/x-python",
   "name": "python",
   "nbconvert_exporter": "python",
   "pygments_lexer": "ipython3",
   "version": "3.9.6"
  }
 },
 "nbformat": 4,
 "nbformat_minor": 5
}

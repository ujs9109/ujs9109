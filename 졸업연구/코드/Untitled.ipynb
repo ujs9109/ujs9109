{
 "cells": [
  {
   "cell_type": "code",
   "execution_count": 1,
   "id": "1e711857",
   "metadata": {},
   "outputs": [],
   "source": [
    "time_conflict_1 = [0.2, 0.02, 0.0, 0.0, 0.02, 0.0, 0.0, 0.0, 0.0, 4.98, 0.01, 0.58, 0.01, 0.33, 0.07, 0.0, 0.0, 0.03, 0.0, 0.01, 0.0, 0.01, 0.01, 0.06, 25.21, 0.03, 2.68, 0.01, 1.59, 0.01, 0.18, 0.0, 1.75, 0.19, 0.01, 0.01, 0.1, 0.02, 0.0, 0.0, 0.0, 0.03, 2.47, 0.0, 0.09, 0.0, 0.01, 0.0, 0.0, 0.0]\n",
    "time_conflict_2 = [0.05, 0.0, 0.06, 153.95, 0.0, 0.02, 0.38, 0.08, 0.05, 0.01, 0.07, 0.01, 0.0, 0.0, 0.41, 0.0, 0.0, 0.14, 0.01, 0.01, 0.0, 0.01, 0.01, 0.02, 0.08, 0.06, 0.01, 0.06, 0.0, 0.0, 0.04, 0.05, 0.0, 0.01, 0.0, 0.0, 0.01, 0.0, 0.01, 0.01, 0.02, 4.23, 0.04, 390.8, 0.0, 2.98, 0.01, 0.01, 0.3, 0.01]"
   ]
  },
  {
   "cell_type": "code",
   "execution_count": 4,
   "id": "b11c255d",
   "metadata": {},
   "outputs": [],
   "source": [
    "time_conflict = time_conflict_1 + time_conflict_2"
   ]
  },
  {
   "cell_type": "code",
   "execution_count": 13,
   "id": "ea294fc8",
   "metadata": {},
   "outputs": [],
   "source": [
    "import pandas as pd\n",
    "\n",
    "\n",
    "X = pd.DataFrame(time_conflict, columns = {\"Time_2_3_6\"})"
   ]
  },
  {
   "cell_type": "code",
   "execution_count": 14,
   "id": "1110ebfb",
   "metadata": {},
   "outputs": [
    {
     "data": {
      "text/html": [
       "<div>\n",
       "<style scoped>\n",
       "    .dataframe tbody tr th:only-of-type {\n",
       "        vertical-align: middle;\n",
       "    }\n",
       "\n",
       "    .dataframe tbody tr th {\n",
       "        vertical-align: top;\n",
       "    }\n",
       "\n",
       "    .dataframe thead th {\n",
       "        text-align: right;\n",
       "    }\n",
       "</style>\n",
       "<table border=\"1\" class=\"dataframe\">\n",
       "  <thead>\n",
       "    <tr style=\"text-align: right;\">\n",
       "      <th></th>\n",
       "      <th>Time_2_3_6</th>\n",
       "    </tr>\n",
       "  </thead>\n",
       "  <tbody>\n",
       "    <tr>\n",
       "      <th>0</th>\n",
       "      <td>0.20</td>\n",
       "    </tr>\n",
       "    <tr>\n",
       "      <th>1</th>\n",
       "      <td>0.02</td>\n",
       "    </tr>\n",
       "    <tr>\n",
       "      <th>2</th>\n",
       "      <td>0.00</td>\n",
       "    </tr>\n",
       "    <tr>\n",
       "      <th>3</th>\n",
       "      <td>0.00</td>\n",
       "    </tr>\n",
       "    <tr>\n",
       "      <th>4</th>\n",
       "      <td>0.02</td>\n",
       "    </tr>\n",
       "    <tr>\n",
       "      <th>...</th>\n",
       "      <td>...</td>\n",
       "    </tr>\n",
       "    <tr>\n",
       "      <th>95</th>\n",
       "      <td>2.98</td>\n",
       "    </tr>\n",
       "    <tr>\n",
       "      <th>96</th>\n",
       "      <td>0.01</td>\n",
       "    </tr>\n",
       "    <tr>\n",
       "      <th>97</th>\n",
       "      <td>0.01</td>\n",
       "    </tr>\n",
       "    <tr>\n",
       "      <th>98</th>\n",
       "      <td>0.30</td>\n",
       "    </tr>\n",
       "    <tr>\n",
       "      <th>99</th>\n",
       "      <td>0.01</td>\n",
       "    </tr>\n",
       "  </tbody>\n",
       "</table>\n",
       "<p>100 rows × 1 columns</p>\n",
       "</div>"
      ],
      "text/plain": [
       "    Time_2_3_6\n",
       "0         0.20\n",
       "1         0.02\n",
       "2         0.00\n",
       "3         0.00\n",
       "4         0.02\n",
       "..         ...\n",
       "95        2.98\n",
       "96        0.01\n",
       "97        0.01\n",
       "98        0.30\n",
       "99        0.01\n",
       "\n",
       "[100 rows x 1 columns]"
      ]
     },
     "execution_count": 14,
     "metadata": {},
     "output_type": "execute_result"
    }
   ],
   "source": [
    "X"
   ]
  },
  {
   "cell_type": "code",
   "execution_count": 15,
   "id": "79dbac53",
   "metadata": {
    "scrolled": false
   },
   "outputs": [
    {
     "data": {
      "text/plain": [
       "count    100.000000\n",
       "mean       5.947600\n",
       "std       41.874619\n",
       "min        0.000000\n",
       "25%        0.000000\n",
       "50%        0.010000\n",
       "75%        0.062500\n",
       "max      390.800000\n",
       "Name: Time_2_3_6, dtype: float64"
      ]
     },
     "execution_count": 15,
     "metadata": {},
     "output_type": "execute_result"
    }
   ],
   "source": [
    "X[\"Time_2_3_6\"].describe()"
   ]
  },
  {
   "cell_type": "code",
   "execution_count": 22,
   "id": "09d5f0df",
   "metadata": {
    "scrolled": true
   },
   "outputs": [
    {
     "data": {
      "text/plain": [
       "[390.8,\n",
       " 153.95,\n",
       " 25.21,\n",
       " 4.98,\n",
       " 4.23,\n",
       " 2.98,\n",
       " 2.68,\n",
       " 2.47,\n",
       " 1.75,\n",
       " 1.59,\n",
       " 0.58,\n",
       " 0.41,\n",
       " 0.38,\n",
       " 0.33,\n",
       " 0.3,\n",
       " 0.2,\n",
       " 0.19,\n",
       " 0.18,\n",
       " 0.14,\n",
       " 0.1,\n",
       " 0.09,\n",
       " 0.08,\n",
       " 0.07,\n",
       " 0.06,\n",
       " 0.05,\n",
       " 0.04,\n",
       " 0.03,\n",
       " 0.02,\n",
       " 0.01,\n",
       " 0.0]"
      ]
     },
     "execution_count": 22,
     "metadata": {},
     "output_type": "execute_result"
    }
   ],
   "source": [
    "sorted(X[\"Time_2_3_6\"].unique().tolist(), reverse = True)"
   ]
  },
  {
   "cell_type": "code",
   "execution_count": 30,
   "id": "98b7a2b5",
   "metadata": {},
   "outputs": [
    {
     "data": {
      "text/plain": [
       "count    100.000000\n",
       "mean       4.157900\n",
       "std       20.491267\n",
       "min        0.000000\n",
       "25%        0.010000\n",
       "50%        0.030000\n",
       "75%        0.220000\n",
       "max      173.330000\n",
       "Name: Time_2_3_8, dtype: float64"
      ]
     },
     "execution_count": 30,
     "metadata": {},
     "output_type": "execute_result"
    }
   ],
   "source": [
    "X[\"Time_2_3_8\"] = [0.01, 14.14, 0.11, 0.22, 0.04, 0.01, 0.01, 0.01, 0.02, 0.02, 0.01, 0.0, 0.29, 0.11, 0.03, 0.0, 0.14, 1.35, 0.0, 0.0, 0.0, 0.02, 35.83, 0.06, 0.32, 0.16, 0.12, 0.0, 0.1, 0.13, 0.0, 0.08, 0.11, 0.01, 0.01, 0.01, 0.01, 0.24, 0.22, 0.0, 0.01, 0.01, 0.29, 0.0, 0.01, 0.17, 1.27, 0.01, 0.01, 0.0, 0.01, 0.0, 2.85, 0.58, 0.01, 1.68, 0.02, 0.0, 0.04, 0.0, 48.91, 0.03, 0.04, 0.94, 0.0, 0.01, 0.0, 0.5, 0.0, 0.01, 0.01, 0.12, 0.0, 0.33, 0.16, 18.35, 0.1, 0.01, 0.11, 0.0, 0.01, 0.05, 5.08, 0.07, 0.01, 173.33, 3.79, 0.32, 0.02, 0.02, 0.02, 0.37, 0.24, 7.01, 0.16, 0.01, 0.1, 94.53, 0.03, 0.07]\n",
    "X[\"Time_2_3_8\"].describe()"
   ]
  },
  {
   "cell_type": "code",
   "execution_count": 32,
   "id": "6fa9dc1f",
   "metadata": {},
   "outputs": [
    {
     "data": {
      "text/plain": [
       "[173.33, 94.53, 48.91, 35.83, 18.35, 14.14, 7.01, 5.08, 3.79, 2.85]"
      ]
     },
     "execution_count": 32,
     "metadata": {},
     "output_type": "execute_result"
    }
   ],
   "source": [
    "sorted(X[\"Time_2_3_8\"].unique().tolist(), reverse = True)[:10]"
   ]
  },
  {
   "cell_type": "code",
   "execution_count": 33,
   "id": "b327dbd7",
   "metadata": {
    "scrolled": true
   },
   "outputs": [
    {
     "data": {
      "text/plain": [
       "count    100.000000\n",
       "mean      13.985700\n",
       "std       98.609308\n",
       "min        0.000000\n",
       "25%        0.010000\n",
       "50%        0.065000\n",
       "75%        0.622500\n",
       "max      965.040000\n",
       "Name: Time_2_3_10, dtype: float64"
      ]
     },
     "execution_count": 33,
     "metadata": {},
     "output_type": "execute_result"
    }
   ],
   "source": [
    "X[\"Time_2_3_10\"] = [0.4, 0.07, 1.24, 0.44, 0.1, 0.0, 0.06, 0.03, 0.11, 0.81, 0.03, 0.24, 0.0, 9.01, 0.08, 0.0, 0.01, 0.04, 0.01, 5.77, 0.02, 0.01, 98.27, 0.1, 0.04, 0.12, 2.6, 0.01, 5.24, 0.01, 198.85, 0.02, 0.1, 0.02, 0.01, 0.01, 0.01, 9.58, 0.03, 1.12, 0.03, 0.02, 16.44, 0.0, 0.37, 0.0, 0.01, 0.01, 0.01, 0.0, 0.07, 0.01, 0.23, 13.5, 0.3, 0.0, 0.01, 0.06, 0.05, 1.53, 0.25, 0.01, 0.6, 0.01, 2.95, 0.0, 0.0, 2.36, 0.01, 0.07, 0.17, 2.97, 0.0, 0.69, 0.02, 0.48, 0.01, 3.66, 0.0, 1.01, 0.05, 0.01, 28.09, 0.1, 0.01, 0.0, 1.85, 0.0, 0.01, 0.13, 5.47, 965.04, 0.13, 0.15, 0.34, 2.31, 0.07, 0.05, 12.21, 0.01]\n",
    "X[\"Time_2_3_10\"].describe()"
   ]
  },
  {
   "cell_type": "code",
   "execution_count": 34,
   "id": "4ae48bbb",
   "metadata": {},
   "outputs": [
    {
     "data": {
      "text/plain": [
       "[965.04, 198.85, 98.27, 28.09, 16.44, 13.5, 12.21, 9.58, 9.01, 5.77]"
      ]
     },
     "execution_count": 34,
     "metadata": {},
     "output_type": "execute_result"
    }
   ],
   "source": [
    "sorted(X[\"Time_2_3_10\"].unique().tolist(), reverse = True)[:10]"
   ]
  },
  {
   "cell_type": "code",
   "execution_count": 45,
   "id": "1bde9b9e",
   "metadata": {
    "scrolled": true
   },
   "outputs": [
    {
     "data": {
      "text/plain": [
       "64"
      ]
     },
     "execution_count": 45,
     "metadata": {},
     "output_type": "execute_result"
    }
   ],
   "source": [
    "total_len = 1\n",
    "for i in range(len(path_list)):\n",
    "    total_len *= len(path_list[i])\n",
    "total_len"
   ]
  },
  {
   "cell_type": "code",
   "execution_count": null,
   "id": "75089dc2",
   "metadata": {},
   "outputs": [
    {
     "name": "stderr",
     "output_type": "stream",
     "text": [
      "Process SpawnPoolWorker-21:\n",
      "Traceback (most recent call last):\n",
      "  File \"/Library/Frameworks/Python.framework/Versions/3.9/lib/python3.9/multiprocessing/process.py\", line 315, in _bootstrap\n",
      "    self.run()\n",
      "  File \"/Library/Frameworks/Python.framework/Versions/3.9/lib/python3.9/multiprocessing/process.py\", line 108, in run\n",
      "    self._target(*self._args, **self._kwargs)\n",
      "  File \"/Library/Frameworks/Python.framework/Versions/3.9/lib/python3.9/multiprocessing/pool.py\", line 114, in worker\n",
      "    task = get()\n",
      "  File \"/Library/Frameworks/Python.framework/Versions/3.9/lib/python3.9/multiprocessing/queues.py\", line 368, in get\n",
      "    return _ForkingPickler.loads(res)\n",
      "AttributeError: Can't get attribute 'process_element' on <module '__main__' (built-in)>\n",
      "Process SpawnPoolWorker-22:\n",
      "Traceback (most recent call last):\n",
      "  File \"/Library/Frameworks/Python.framework/Versions/3.9/lib/python3.9/multiprocessing/process.py\", line 315, in _bootstrap\n",
      "    self.run()\n",
      "  File \"/Library/Frameworks/Python.framework/Versions/3.9/lib/python3.9/multiprocessing/process.py\", line 108, in run\n",
      "    self._target(*self._args, **self._kwargs)\n",
      "  File \"/Library/Frameworks/Python.framework/Versions/3.9/lib/python3.9/multiprocessing/pool.py\", line 114, in worker\n",
      "    task = get()\n",
      "  File \"/Library/Frameworks/Python.framework/Versions/3.9/lib/python3.9/multiprocessing/queues.py\", line 368, in get\n",
      "    return _ForkingPickler.loads(res)\n",
      "AttributeError: Can't get attribute 'process_element' on <module '__main__' (built-in)>\n",
      "Process SpawnPoolWorker-23:\n",
      "Traceback (most recent call last):\n",
      "  File \"/Library/Frameworks/Python.framework/Versions/3.9/lib/python3.9/multiprocessing/process.py\", line 315, in _bootstrap\n",
      "    self.run()\n",
      "  File \"/Library/Frameworks/Python.framework/Versions/3.9/lib/python3.9/multiprocessing/process.py\", line 108, in run\n",
      "    self._target(*self._args, **self._kwargs)\n",
      "  File \"/Library/Frameworks/Python.framework/Versions/3.9/lib/python3.9/multiprocessing/pool.py\", line 114, in worker\n",
      "    task = get()\n",
      "  File \"/Library/Frameworks/Python.framework/Versions/3.9/lib/python3.9/multiprocessing/queues.py\", line 368, in get\n",
      "    return _ForkingPickler.loads(res)\n",
      "AttributeError: Can't get attribute 'process_element' on <module '__main__' (built-in)>\n",
      "Process SpawnPoolWorker-24:\n",
      "Traceback (most recent call last):\n",
      "  File \"/Library/Frameworks/Python.framework/Versions/3.9/lib/python3.9/multiprocessing/process.py\", line 315, in _bootstrap\n",
      "    self.run()\n",
      "  File \"/Library/Frameworks/Python.framework/Versions/3.9/lib/python3.9/multiprocessing/process.py\", line 108, in run\n",
      "    self._target(*self._args, **self._kwargs)\n",
      "  File \"/Library/Frameworks/Python.framework/Versions/3.9/lib/python3.9/multiprocessing/pool.py\", line 114, in worker\n",
      "    task = get()\n",
      "  File \"/Library/Frameworks/Python.framework/Versions/3.9/lib/python3.9/multiprocessing/queues.py\", line 368, in get\n",
      "    return _ForkingPickler.loads(res)\n",
      "AttributeError: Can't get attribute 'process_element' on <module '__main__' (built-in)>\n",
      "Process SpawnPoolWorker-25:\n",
      "Traceback (most recent call last):\n",
      "  File \"/Library/Frameworks/Python.framework/Versions/3.9/lib/python3.9/multiprocessing/process.py\", line 315, in _bootstrap\n",
      "    self.run()\n",
      "  File \"/Library/Frameworks/Python.framework/Versions/3.9/lib/python3.9/multiprocessing/process.py\", line 108, in run\n",
      "    self._target(*self._args, **self._kwargs)\n",
      "  File \"/Library/Frameworks/Python.framework/Versions/3.9/lib/python3.9/multiprocessing/pool.py\", line 114, in worker\n",
      "    task = get()\n",
      "  File \"/Library/Frameworks/Python.framework/Versions/3.9/lib/python3.9/multiprocessing/queues.py\", line 368, in get\n",
      "    return _ForkingPickler.loads(res)\n",
      "AttributeError: Can't get attribute 'process_element' on <module '__main__' (built-in)>\n",
      "Process SpawnPoolWorker-26:\n",
      "Traceback (most recent call last):\n",
      "  File \"/Library/Frameworks/Python.framework/Versions/3.9/lib/python3.9/multiprocessing/process.py\", line 315, in _bootstrap\n",
      "    self.run()\n",
      "  File \"/Library/Frameworks/Python.framework/Versions/3.9/lib/python3.9/multiprocessing/process.py\", line 108, in run\n",
      "    self._target(*self._args, **self._kwargs)\n",
      "  File \"/Library/Frameworks/Python.framework/Versions/3.9/lib/python3.9/multiprocessing/pool.py\", line 114, in worker\n",
      "    task = get()\n",
      "  File \"/Library/Frameworks/Python.framework/Versions/3.9/lib/python3.9/multiprocessing/queues.py\", line 368, in get\n",
      "    return _ForkingPickler.loads(res)\n",
      "AttributeError: Can't get attribute 'process_element' on <module '__main__' (built-in)>\n",
      "Process SpawnPoolWorker-27:\n",
      "Traceback (most recent call last):\n",
      "  File \"/Library/Frameworks/Python.framework/Versions/3.9/lib/python3.9/multiprocessing/process.py\", line 315, in _bootstrap\n",
      "    self.run()\n",
      "  File \"/Library/Frameworks/Python.framework/Versions/3.9/lib/python3.9/multiprocessing/process.py\", line 108, in run\n",
      "    self._target(*self._args, **self._kwargs)\n",
      "  File \"/Library/Frameworks/Python.framework/Versions/3.9/lib/python3.9/multiprocessing/pool.py\", line 114, in worker\n",
      "    task = get()\n",
      "  File \"/Library/Frameworks/Python.framework/Versions/3.9/lib/python3.9/multiprocessing/queues.py\", line 368, in get\n",
      "    return _ForkingPickler.loads(res)\n",
      "AttributeError: Can't get attribute 'process_element' on <module '__main__' (built-in)>\n",
      "Process SpawnPoolWorker-28:\n",
      "Traceback (most recent call last):\n",
      "  File \"/Library/Frameworks/Python.framework/Versions/3.9/lib/python3.9/multiprocessing/process.py\", line 315, in _bootstrap\n",
      "    self.run()\n",
      "  File \"/Library/Frameworks/Python.framework/Versions/3.9/lib/python3.9/multiprocessing/process.py\", line 108, in run\n",
      "    self._target(*self._args, **self._kwargs)\n",
      "  File \"/Library/Frameworks/Python.framework/Versions/3.9/lib/python3.9/multiprocessing/pool.py\", line 114, in worker\n",
      "    task = get()\n",
      "  File \"/Library/Frameworks/Python.framework/Versions/3.9/lib/python3.9/multiprocessing/queues.py\", line 368, in get\n",
      "    return _ForkingPickler.loads(res)\n",
      "AttributeError: Can't get attribute 'process_element' on <module '__main__' (built-in)>\n",
      "Process SpawnPoolWorker-29:\n",
      "Traceback (most recent call last):\n",
      "  File \"/Library/Frameworks/Python.framework/Versions/3.9/lib/python3.9/multiprocessing/process.py\", line 315, in _bootstrap\n",
      "    self.run()\n",
      "  File \"/Library/Frameworks/Python.framework/Versions/3.9/lib/python3.9/multiprocessing/process.py\", line 108, in run\n",
      "    self._target(*self._args, **self._kwargs)\n",
      "  File \"/Library/Frameworks/Python.framework/Versions/3.9/lib/python3.9/multiprocessing/pool.py\", line 114, in worker\n",
      "    task = get()\n",
      "  File \"/Library/Frameworks/Python.framework/Versions/3.9/lib/python3.9/multiprocessing/queues.py\", line 368, in get\n",
      "    return _ForkingPickler.loads(res)\n",
      "AttributeError: Can't get attribute 'process_element' on <module '__main__' (built-in)>\n",
      "Process SpawnPoolWorker-30:\n",
      "Traceback (most recent call last):\n",
      "  File \"/Library/Frameworks/Python.framework/Versions/3.9/lib/python3.9/multiprocessing/process.py\", line 315, in _bootstrap\n",
      "    self.run()\n",
      "  File \"/Library/Frameworks/Python.framework/Versions/3.9/lib/python3.9/multiprocessing/process.py\", line 108, in run\n",
      "    self._target(*self._args, **self._kwargs)\n",
      "  File \"/Library/Frameworks/Python.framework/Versions/3.9/lib/python3.9/multiprocessing/pool.py\", line 114, in worker\n",
      "    task = get()\n",
      "  File \"/Library/Frameworks/Python.framework/Versions/3.9/lib/python3.9/multiprocessing/queues.py\", line 368, in get\n",
      "    return _ForkingPickler.loads(res)\n",
      "AttributeError: Can't get attribute 'process_element' on <module '__main__' (built-in)>\n",
      "Process SpawnPoolWorker-31:\n",
      "Traceback (most recent call last):\n",
      "  File \"/Library/Frameworks/Python.framework/Versions/3.9/lib/python3.9/multiprocessing/process.py\", line 315, in _bootstrap\n",
      "    self.run()\n",
      "  File \"/Library/Frameworks/Python.framework/Versions/3.9/lib/python3.9/multiprocessing/process.py\", line 108, in run\n",
      "    self._target(*self._args, **self._kwargs)\n",
      "  File \"/Library/Frameworks/Python.framework/Versions/3.9/lib/python3.9/multiprocessing/pool.py\", line 114, in worker\n",
      "    task = get()\n",
      "  File \"/Library/Frameworks/Python.framework/Versions/3.9/lib/python3.9/multiprocessing/queues.py\", line 368, in get\n",
      "    return _ForkingPickler.loads(res)\n",
      "AttributeError: Can't get attribute 'process_element' on <module '__main__' (built-in)>\n",
      "Process SpawnPoolWorker-32:\n"
     ]
    },
    {
     "name": "stderr",
     "output_type": "stream",
     "text": [
      "Traceback (most recent call last):\n",
      "  File \"/Library/Frameworks/Python.framework/Versions/3.9/lib/python3.9/multiprocessing/process.py\", line 315, in _bootstrap\n",
      "    self.run()\n",
      "  File \"/Library/Frameworks/Python.framework/Versions/3.9/lib/python3.9/multiprocessing/process.py\", line 108, in run\n",
      "    self._target(*self._args, **self._kwargs)\n",
      "  File \"/Library/Frameworks/Python.framework/Versions/3.9/lib/python3.9/multiprocessing/pool.py\", line 114, in worker\n",
      "    task = get()\n",
      "  File \"/Library/Frameworks/Python.framework/Versions/3.9/lib/python3.9/multiprocessing/queues.py\", line 368, in get\n",
      "    return _ForkingPickler.loads(res)\n",
      "AttributeError: Can't get attribute 'process_element' on <module '__main__' (built-in)>\n",
      "Process SpawnPoolWorker-33:\n",
      "Traceback (most recent call last):\n",
      "  File \"/Library/Frameworks/Python.framework/Versions/3.9/lib/python3.9/multiprocessing/process.py\", line 315, in _bootstrap\n",
      "    self.run()\n",
      "  File \"/Library/Frameworks/Python.framework/Versions/3.9/lib/python3.9/multiprocessing/process.py\", line 108, in run\n",
      "    self._target(*self._args, **self._kwargs)\n",
      "  File \"/Library/Frameworks/Python.framework/Versions/3.9/lib/python3.9/multiprocessing/pool.py\", line 114, in worker\n",
      "    task = get()\n",
      "  File \"/Library/Frameworks/Python.framework/Versions/3.9/lib/python3.9/multiprocessing/queues.py\", line 368, in get\n",
      "    return _ForkingPickler.loads(res)\n",
      "AttributeError: Can't get attribute 'process_element' on <module '__main__' (built-in)>\n",
      "Process SpawnPoolWorker-34:\n",
      "Traceback (most recent call last):\n",
      "  File \"/Library/Frameworks/Python.framework/Versions/3.9/lib/python3.9/multiprocessing/process.py\", line 315, in _bootstrap\n",
      "    self.run()\n",
      "  File \"/Library/Frameworks/Python.framework/Versions/3.9/lib/python3.9/multiprocessing/process.py\", line 108, in run\n",
      "    self._target(*self._args, **self._kwargs)\n",
      "  File \"/Library/Frameworks/Python.framework/Versions/3.9/lib/python3.9/multiprocessing/pool.py\", line 114, in worker\n",
      "    task = get()\n",
      "  File \"/Library/Frameworks/Python.framework/Versions/3.9/lib/python3.9/multiprocessing/queues.py\", line 368, in get\n",
      "    return _ForkingPickler.loads(res)\n",
      "AttributeError: Can't get attribute 'process_element' on <module '__main__' (built-in)>\n",
      "Process SpawnPoolWorker-35:\n",
      "Traceback (most recent call last):\n",
      "  File \"/Library/Frameworks/Python.framework/Versions/3.9/lib/python3.9/multiprocessing/process.py\", line 315, in _bootstrap\n",
      "    self.run()\n",
      "  File \"/Library/Frameworks/Python.framework/Versions/3.9/lib/python3.9/multiprocessing/process.py\", line 108, in run\n",
      "    self._target(*self._args, **self._kwargs)\n",
      "  File \"/Library/Frameworks/Python.framework/Versions/3.9/lib/python3.9/multiprocessing/pool.py\", line 114, in worker\n",
      "    task = get()\n",
      "  File \"/Library/Frameworks/Python.framework/Versions/3.9/lib/python3.9/multiprocessing/queues.py\", line 368, in get\n",
      "    return _ForkingPickler.loads(res)\n",
      "AttributeError: Can't get attribute 'process_element' on <module '__main__' (built-in)>\n",
      "Process SpawnPoolWorker-36:\n",
      "Traceback (most recent call last):\n",
      "  File \"/Library/Frameworks/Python.framework/Versions/3.9/lib/python3.9/multiprocessing/process.py\", line 315, in _bootstrap\n",
      "    self.run()\n",
      "  File \"/Library/Frameworks/Python.framework/Versions/3.9/lib/python3.9/multiprocessing/process.py\", line 108, in run\n",
      "    self._target(*self._args, **self._kwargs)\n",
      "  File \"/Library/Frameworks/Python.framework/Versions/3.9/lib/python3.9/multiprocessing/pool.py\", line 114, in worker\n",
      "    task = get()\n",
      "  File \"/Library/Frameworks/Python.framework/Versions/3.9/lib/python3.9/multiprocessing/queues.py\", line 368, in get\n",
      "    return _ForkingPickler.loads(res)\n",
      "AttributeError: Can't get attribute 'process_element' on <module '__main__' (built-in)>\n"
     ]
    }
   ],
   "source": [
    "from multiprocessing import Pool\n",
    "\n",
    "def process_element(element):\n",
    "    # 각각의 element에 대한 처리 과정\n",
    "    return result\n",
    "\n",
    "path_list = [[0,1,2,3], [1,2,3,4], [3,4,5,6]]\n",
    "with Pool(processes=4) as pool:\n",
    "    results = pool.map(process_element, product_generator(path_list))\n",
    "print(results)"
   ]
  },
  {
   "cell_type": "code",
   "execution_count": 36,
   "id": "a3f445e6",
   "metadata": {},
   "outputs": [
    {
     "name": "stdout",
     "output_type": "stream",
     "text": [
      "[0, 1, 3]\n",
      "[0, 1, 4]\n",
      "[0, 1, 5]\n",
      "[0, 1, 6]\n",
      "[0, 2, 3]\n",
      "[0, 2, 4]\n",
      "[0, 2, 5]\n",
      "[0, 2, 6]\n",
      "[0, 3, 3]\n",
      "[0, 3, 4]\n",
      "[0, 3, 5]\n",
      "[0, 3, 6]\n",
      "[0, 4, 3]\n",
      "[0, 4, 4]\n",
      "[0, 4, 5]\n",
      "[0, 4, 6]\n",
      "[1, 1, 3]\n",
      "[1, 1, 4]\n",
      "[1, 1, 5]\n",
      "[1, 1, 6]\n",
      "[1, 2, 3]\n",
      "[1, 2, 4]\n",
      "[1, 2, 5]\n",
      "[1, 2, 6]\n",
      "[1, 3, 3]\n",
      "[1, 3, 4]\n",
      "[1, 3, 5]\n",
      "[1, 3, 6]\n",
      "[1, 4, 3]\n",
      "[1, 4, 4]\n",
      "[1, 4, 5]\n",
      "[1, 4, 6]\n",
      "[2, 1, 3]\n",
      "[2, 1, 4]\n",
      "[2, 1, 5]\n",
      "[2, 1, 6]\n",
      "[2, 2, 3]\n",
      "[2, 2, 4]\n",
      "[2, 2, 5]\n",
      "[2, 2, 6]\n",
      "[2, 3, 3]\n",
      "[2, 3, 4]\n",
      "[2, 3, 5]\n",
      "[2, 3, 6]\n",
      "[2, 4, 3]\n",
      "[2, 4, 4]\n",
      "[2, 4, 5]\n",
      "[2, 4, 6]\n",
      "[3, 1, 3]\n",
      "[3, 1, 4]\n",
      "[3, 1, 5]\n",
      "[3, 1, 6]\n",
      "[3, 2, 3]\n",
      "[3, 2, 4]\n",
      "[3, 2, 5]\n",
      "[3, 2, 6]\n",
      "[3, 3, 3]\n",
      "[3, 3, 4]\n",
      "[3, 3, 5]\n",
      "[3, 3, 6]\n",
      "[3, 4, 3]\n",
      "[3, 4, 4]\n",
      "[3, 4, 5]\n",
      "[3, 4, 6]\n"
     ]
    }
   ],
   "source": [
    "import itertools\n",
    "\n",
    "def product_generator(path_list):\n",
    "    for element in itertools.product(*path_list):\n",
    "        yield element\n",
    "path_list = [[0, 1, 2, 3], [1, 2, 3, 4], [3, 4, 5, 6]]\n",
    "\n",
    "# 제너레이터 함수 호출\n",
    "for element in product_generator(path_list):\n",
    "    print(list(element))"
   ]
  },
  {
   "cell_type": "code",
   "execution_count": null,
   "id": "8963be8e",
   "metadata": {},
   "outputs": [],
   "source": []
  }
 ],
 "metadata": {
  "kernelspec": {
   "display_name": "Python 3 (ipykernel)",
   "language": "python",
   "name": "python3"
  },
  "language_info": {
   "codemirror_mode": {
    "name": "ipython",
    "version": 3
   },
   "file_extension": ".py",
   "mimetype": "text/x-python",
   "name": "python",
   "nbconvert_exporter": "python",
   "pygments_lexer": "ipython3",
   "version": "3.9.6"
  }
 },
 "nbformat": 4,
 "nbformat_minor": 5
}

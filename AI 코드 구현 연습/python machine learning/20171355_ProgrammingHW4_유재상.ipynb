{
 "cells": [
  {
   "cell_type": "code",
   "execution_count": 73,
   "metadata": {},
   "outputs": [],
   "source": [
    "import numpy as np\n",
    "import pandas as pd\n",
    "import matplotlib.pyplot as plt\n",
    "\n",
    "\n",
    "\n",
    "from sklearn.datasets import load_breast_cancer\n",
    "\n",
    "\n",
    "\n",
    "from sklearn.model_selection import train_test_split\n",
    "\n",
    "\n",
    "from sklearn.neighbors import KNeighborsClassifier\n",
    "\n"
   ]
  },
  {
   "cell_type": "markdown",
   "metadata": {},
   "source": [
    "## Task 1. k-nearest neighbors algorithm (KNN)  "
   ]
  },
  {
   "cell_type": "markdown",
   "metadata": {},
   "source": [
    "#### 1. Load Dataset [1 point]"
   ]
  },
  {
   "cell_type": "markdown",
   "metadata": {},
   "source": [
    "- Load the csv file,'final_shuffled_breast_cancer100.csv' as `df`"
   ]
  },
  {
   "cell_type": "code",
   "execution_count": 74,
   "metadata": {},
   "outputs": [],
   "source": [
    "df = pd.read_csv(\"final_shuffled_breast_cancer100.csv\")"
   ]
  },
  {
   "cell_type": "markdown",
   "metadata": {},
   "source": [
    "#### 2. Split the independent variable set and the target variable set [1 point]\n",
    "- Assign `X` to the independent variable dataset\n",
    "- Assign `y` to the target variable dataset"
   ]
  },
  {
   "cell_type": "code",
   "execution_count": 75,
   "metadata": {},
   "outputs": [
    {
     "data": {
      "text/html": [
       "<div>\n",
       "<style scoped>\n",
       "    .dataframe tbody tr th:only-of-type {\n",
       "        vertical-align: middle;\n",
       "    }\n",
       "\n",
       "    .dataframe tbody tr th {\n",
       "        vertical-align: top;\n",
       "    }\n",
       "\n",
       "    .dataframe thead th {\n",
       "        text-align: right;\n",
       "    }\n",
       "</style>\n",
       "<table border=\"1\" class=\"dataframe\">\n",
       "  <thead>\n",
       "    <tr style=\"text-align: right;\">\n",
       "      <th></th>\n",
       "      <th>mean radius</th>\n",
       "      <th>mean texture</th>\n",
       "      <th>mean perimeter</th>\n",
       "      <th>mean area</th>\n",
       "      <th>mean smoothness</th>\n",
       "      <th>mean compactness</th>\n",
       "      <th>mean concavity</th>\n",
       "      <th>mean concave points</th>\n",
       "      <th>mean symmetry</th>\n",
       "      <th>mean fractal dimension</th>\n",
       "      <th>...</th>\n",
       "      <th>worst radius</th>\n",
       "      <th>worst texture</th>\n",
       "      <th>worst perimeter</th>\n",
       "      <th>worst area</th>\n",
       "      <th>worst smoothness</th>\n",
       "      <th>worst compactness</th>\n",
       "      <th>worst concavity</th>\n",
       "      <th>worst concave points</th>\n",
       "      <th>worst symmetry</th>\n",
       "      <th>worst fractal dimension</th>\n",
       "    </tr>\n",
       "  </thead>\n",
       "  <tbody>\n",
       "    <tr>\n",
       "      <th>0</th>\n",
       "      <td>17.91</td>\n",
       "      <td>21.02</td>\n",
       "      <td>124.40</td>\n",
       "      <td>994.0</td>\n",
       "      <td>0.12300</td>\n",
       "      <td>0.25760</td>\n",
       "      <td>0.318900</td>\n",
       "      <td>0.119800</td>\n",
       "      <td>0.2113</td>\n",
       "      <td>0.07115</td>\n",
       "      <td>...</td>\n",
       "      <td>20.80</td>\n",
       "      <td>27.78</td>\n",
       "      <td>149.60</td>\n",
       "      <td>1304.0</td>\n",
       "      <td>0.1873</td>\n",
       "      <td>0.59170</td>\n",
       "      <td>0.90340</td>\n",
       "      <td>0.19640</td>\n",
       "      <td>0.3245</td>\n",
       "      <td>0.11980</td>\n",
       "    </tr>\n",
       "    <tr>\n",
       "      <th>1</th>\n",
       "      <td>14.34</td>\n",
       "      <td>13.47</td>\n",
       "      <td>92.51</td>\n",
       "      <td>641.2</td>\n",
       "      <td>0.09906</td>\n",
       "      <td>0.07624</td>\n",
       "      <td>0.057240</td>\n",
       "      <td>0.046030</td>\n",
       "      <td>0.2075</td>\n",
       "      <td>0.05448</td>\n",
       "      <td>...</td>\n",
       "      <td>16.77</td>\n",
       "      <td>16.90</td>\n",
       "      <td>110.40</td>\n",
       "      <td>873.2</td>\n",
       "      <td>0.1297</td>\n",
       "      <td>0.15250</td>\n",
       "      <td>0.16320</td>\n",
       "      <td>0.10870</td>\n",
       "      <td>0.3062</td>\n",
       "      <td>0.06072</td>\n",
       "    </tr>\n",
       "    <tr>\n",
       "      <th>2</th>\n",
       "      <td>20.16</td>\n",
       "      <td>19.66</td>\n",
       "      <td>131.10</td>\n",
       "      <td>1274.0</td>\n",
       "      <td>0.08020</td>\n",
       "      <td>0.08564</td>\n",
       "      <td>0.115500</td>\n",
       "      <td>0.077260</td>\n",
       "      <td>0.1928</td>\n",
       "      <td>0.05096</td>\n",
       "      <td>...</td>\n",
       "      <td>23.06</td>\n",
       "      <td>23.03</td>\n",
       "      <td>150.20</td>\n",
       "      <td>1657.0</td>\n",
       "      <td>0.1054</td>\n",
       "      <td>0.15370</td>\n",
       "      <td>0.26060</td>\n",
       "      <td>0.14250</td>\n",
       "      <td>0.3055</td>\n",
       "      <td>0.05933</td>\n",
       "    </tr>\n",
       "    <tr>\n",
       "      <th>3</th>\n",
       "      <td>11.08</td>\n",
       "      <td>14.71</td>\n",
       "      <td>70.21</td>\n",
       "      <td>372.7</td>\n",
       "      <td>0.10060</td>\n",
       "      <td>0.05743</td>\n",
       "      <td>0.023630</td>\n",
       "      <td>0.025830</td>\n",
       "      <td>0.1566</td>\n",
       "      <td>0.06669</td>\n",
       "      <td>...</td>\n",
       "      <td>11.35</td>\n",
       "      <td>16.82</td>\n",
       "      <td>72.01</td>\n",
       "      <td>396.5</td>\n",
       "      <td>0.1216</td>\n",
       "      <td>0.08240</td>\n",
       "      <td>0.03938</td>\n",
       "      <td>0.04306</td>\n",
       "      <td>0.1902</td>\n",
       "      <td>0.07313</td>\n",
       "    </tr>\n",
       "    <tr>\n",
       "      <th>4</th>\n",
       "      <td>12.22</td>\n",
       "      <td>20.04</td>\n",
       "      <td>79.47</td>\n",
       "      <td>453.1</td>\n",
       "      <td>0.10960</td>\n",
       "      <td>0.11520</td>\n",
       "      <td>0.081750</td>\n",
       "      <td>0.021660</td>\n",
       "      <td>0.2124</td>\n",
       "      <td>0.06894</td>\n",
       "      <td>...</td>\n",
       "      <td>13.16</td>\n",
       "      <td>24.17</td>\n",
       "      <td>85.13</td>\n",
       "      <td>515.3</td>\n",
       "      <td>0.1402</td>\n",
       "      <td>0.23150</td>\n",
       "      <td>0.35350</td>\n",
       "      <td>0.08088</td>\n",
       "      <td>0.2709</td>\n",
       "      <td>0.08839</td>\n",
       "    </tr>\n",
       "    <tr>\n",
       "      <th>...</th>\n",
       "      <td>...</td>\n",
       "      <td>...</td>\n",
       "      <td>...</td>\n",
       "      <td>...</td>\n",
       "      <td>...</td>\n",
       "      <td>...</td>\n",
       "      <td>...</td>\n",
       "      <td>...</td>\n",
       "      <td>...</td>\n",
       "      <td>...</td>\n",
       "      <td>...</td>\n",
       "      <td>...</td>\n",
       "      <td>...</td>\n",
       "      <td>...</td>\n",
       "      <td>...</td>\n",
       "      <td>...</td>\n",
       "      <td>...</td>\n",
       "      <td>...</td>\n",
       "      <td>...</td>\n",
       "      <td>...</td>\n",
       "      <td>...</td>\n",
       "    </tr>\n",
       "    <tr>\n",
       "      <th>95</th>\n",
       "      <td>14.87</td>\n",
       "      <td>16.67</td>\n",
       "      <td>98.64</td>\n",
       "      <td>682.5</td>\n",
       "      <td>0.11620</td>\n",
       "      <td>0.16490</td>\n",
       "      <td>0.169000</td>\n",
       "      <td>0.089230</td>\n",
       "      <td>0.2157</td>\n",
       "      <td>0.06768</td>\n",
       "      <td>...</td>\n",
       "      <td>18.81</td>\n",
       "      <td>27.37</td>\n",
       "      <td>127.10</td>\n",
       "      <td>1095.0</td>\n",
       "      <td>0.1878</td>\n",
       "      <td>0.44800</td>\n",
       "      <td>0.47040</td>\n",
       "      <td>0.20270</td>\n",
       "      <td>0.3585</td>\n",
       "      <td>0.10650</td>\n",
       "    </tr>\n",
       "    <tr>\n",
       "      <th>96</th>\n",
       "      <td>15.08</td>\n",
       "      <td>25.74</td>\n",
       "      <td>98.00</td>\n",
       "      <td>716.6</td>\n",
       "      <td>0.10240</td>\n",
       "      <td>0.09769</td>\n",
       "      <td>0.123500</td>\n",
       "      <td>0.065530</td>\n",
       "      <td>0.1647</td>\n",
       "      <td>0.06464</td>\n",
       "      <td>...</td>\n",
       "      <td>18.51</td>\n",
       "      <td>33.22</td>\n",
       "      <td>121.20</td>\n",
       "      <td>1050.0</td>\n",
       "      <td>0.1660</td>\n",
       "      <td>0.23560</td>\n",
       "      <td>0.40290</td>\n",
       "      <td>0.15260</td>\n",
       "      <td>0.2654</td>\n",
       "      <td>0.09438</td>\n",
       "    </tr>\n",
       "    <tr>\n",
       "      <th>97</th>\n",
       "      <td>11.26</td>\n",
       "      <td>19.83</td>\n",
       "      <td>71.30</td>\n",
       "      <td>388.1</td>\n",
       "      <td>0.08511</td>\n",
       "      <td>0.04413</td>\n",
       "      <td>0.005067</td>\n",
       "      <td>0.005664</td>\n",
       "      <td>0.1637</td>\n",
       "      <td>0.06343</td>\n",
       "      <td>...</td>\n",
       "      <td>11.93</td>\n",
       "      <td>26.43</td>\n",
       "      <td>76.38</td>\n",
       "      <td>435.9</td>\n",
       "      <td>0.1108</td>\n",
       "      <td>0.07723</td>\n",
       "      <td>0.02533</td>\n",
       "      <td>0.02832</td>\n",
       "      <td>0.2557</td>\n",
       "      <td>0.07613</td>\n",
       "    </tr>\n",
       "    <tr>\n",
       "      <th>98</th>\n",
       "      <td>19.21</td>\n",
       "      <td>18.57</td>\n",
       "      <td>125.50</td>\n",
       "      <td>1152.0</td>\n",
       "      <td>0.10530</td>\n",
       "      <td>0.12670</td>\n",
       "      <td>0.132300</td>\n",
       "      <td>0.089940</td>\n",
       "      <td>0.1917</td>\n",
       "      <td>0.05961</td>\n",
       "      <td>...</td>\n",
       "      <td>26.14</td>\n",
       "      <td>28.14</td>\n",
       "      <td>170.10</td>\n",
       "      <td>2145.0</td>\n",
       "      <td>0.1624</td>\n",
       "      <td>0.35110</td>\n",
       "      <td>0.38790</td>\n",
       "      <td>0.20910</td>\n",
       "      <td>0.3537</td>\n",
       "      <td>0.08294</td>\n",
       "    </tr>\n",
       "    <tr>\n",
       "      <th>99</th>\n",
       "      <td>15.12</td>\n",
       "      <td>16.68</td>\n",
       "      <td>98.78</td>\n",
       "      <td>716.6</td>\n",
       "      <td>0.08876</td>\n",
       "      <td>0.09588</td>\n",
       "      <td>0.075500</td>\n",
       "      <td>0.040790</td>\n",
       "      <td>0.1594</td>\n",
       "      <td>0.05986</td>\n",
       "      <td>...</td>\n",
       "      <td>17.77</td>\n",
       "      <td>20.24</td>\n",
       "      <td>117.70</td>\n",
       "      <td>989.5</td>\n",
       "      <td>0.1491</td>\n",
       "      <td>0.33310</td>\n",
       "      <td>0.33270</td>\n",
       "      <td>0.12520</td>\n",
       "      <td>0.3415</td>\n",
       "      <td>0.09740</td>\n",
       "    </tr>\n",
       "  </tbody>\n",
       "</table>\n",
       "<p>100 rows × 30 columns</p>\n",
       "</div>"
      ],
      "text/plain": [
       "    mean radius  mean texture  mean perimeter  mean area  mean smoothness  \\\n",
       "0         17.91         21.02          124.40      994.0          0.12300   \n",
       "1         14.34         13.47           92.51      641.2          0.09906   \n",
       "2         20.16         19.66          131.10     1274.0          0.08020   \n",
       "3         11.08         14.71           70.21      372.7          0.10060   \n",
       "4         12.22         20.04           79.47      453.1          0.10960   \n",
       "..          ...           ...             ...        ...              ...   \n",
       "95        14.87         16.67           98.64      682.5          0.11620   \n",
       "96        15.08         25.74           98.00      716.6          0.10240   \n",
       "97        11.26         19.83           71.30      388.1          0.08511   \n",
       "98        19.21         18.57          125.50     1152.0          0.10530   \n",
       "99        15.12         16.68           98.78      716.6          0.08876   \n",
       "\n",
       "    mean compactness  mean concavity  mean concave points  mean symmetry  \\\n",
       "0            0.25760        0.318900             0.119800         0.2113   \n",
       "1            0.07624        0.057240             0.046030         0.2075   \n",
       "2            0.08564        0.115500             0.077260         0.1928   \n",
       "3            0.05743        0.023630             0.025830         0.1566   \n",
       "4            0.11520        0.081750             0.021660         0.2124   \n",
       "..               ...             ...                  ...            ...   \n",
       "95           0.16490        0.169000             0.089230         0.2157   \n",
       "96           0.09769        0.123500             0.065530         0.1647   \n",
       "97           0.04413        0.005067             0.005664         0.1637   \n",
       "98           0.12670        0.132300             0.089940         0.1917   \n",
       "99           0.09588        0.075500             0.040790         0.1594   \n",
       "\n",
       "    mean fractal dimension  ...  worst radius  worst texture  worst perimeter  \\\n",
       "0                  0.07115  ...         20.80          27.78           149.60   \n",
       "1                  0.05448  ...         16.77          16.90           110.40   \n",
       "2                  0.05096  ...         23.06          23.03           150.20   \n",
       "3                  0.06669  ...         11.35          16.82            72.01   \n",
       "4                  0.06894  ...         13.16          24.17            85.13   \n",
       "..                     ...  ...           ...            ...              ...   \n",
       "95                 0.06768  ...         18.81          27.37           127.10   \n",
       "96                 0.06464  ...         18.51          33.22           121.20   \n",
       "97                 0.06343  ...         11.93          26.43            76.38   \n",
       "98                 0.05961  ...         26.14          28.14           170.10   \n",
       "99                 0.05986  ...         17.77          20.24           117.70   \n",
       "\n",
       "    worst area  worst smoothness  worst compactness  worst concavity  \\\n",
       "0       1304.0            0.1873            0.59170          0.90340   \n",
       "1        873.2            0.1297            0.15250          0.16320   \n",
       "2       1657.0            0.1054            0.15370          0.26060   \n",
       "3        396.5            0.1216            0.08240          0.03938   \n",
       "4        515.3            0.1402            0.23150          0.35350   \n",
       "..         ...               ...                ...              ...   \n",
       "95      1095.0            0.1878            0.44800          0.47040   \n",
       "96      1050.0            0.1660            0.23560          0.40290   \n",
       "97       435.9            0.1108            0.07723          0.02533   \n",
       "98      2145.0            0.1624            0.35110          0.38790   \n",
       "99       989.5            0.1491            0.33310          0.33270   \n",
       "\n",
       "    worst concave points  worst symmetry  worst fractal dimension  \n",
       "0                0.19640          0.3245                  0.11980  \n",
       "1                0.10870          0.3062                  0.06072  \n",
       "2                0.14250          0.3055                  0.05933  \n",
       "3                0.04306          0.1902                  0.07313  \n",
       "4                0.08088          0.2709                  0.08839  \n",
       "..                   ...             ...                      ...  \n",
       "95               0.20270          0.3585                  0.10650  \n",
       "96               0.15260          0.2654                  0.09438  \n",
       "97               0.02832          0.2557                  0.07613  \n",
       "98               0.20910          0.3537                  0.08294  \n",
       "99               0.12520          0.3415                  0.09740  \n",
       "\n",
       "[100 rows x 30 columns]"
      ]
     },
     "execution_count": 75,
     "metadata": {},
     "output_type": "execute_result"
    }
   ],
   "source": [
    "X = df.iloc[:,:-1]\n",
    "y = df.iloc[:,-1]\n",
    "X"
   ]
  },
  {
   "cell_type": "markdown",
   "metadata": {},
   "source": [
    "#### 3. Split Dataset into the train & testset [1 point]\n",
    "** When you use scikit-learn method to split the train & test set : \n",
    "- the `random_state` value has to be zero.\n",
    "- the ratio of train set and test set is as follows : 80% train set / 20% test set\n",
    "- Assign the variable names as follow : `X_train`, `X_test`, `y_train`, `y_test`"
   ]
  },
  {
   "cell_type": "code",
   "execution_count": 76,
   "metadata": {
    "scrolled": true
   },
   "outputs": [
    {
     "name": "stdout",
     "output_type": "stream",
     "text": [
      "X_train's len :  80\n",
      "X_test's len  :  20\n",
      "y_train's len :  80\n",
      "y_test's len  :  20\n"
     ]
    }
   ],
   "source": [
    "X_train, X_test,y_train, y_test  = train_test_split(X,y ,train_size  = 0.8,random_state = 0)\n",
    "\n",
    "print(\"X_train's len : \" ,len(X_train))\n",
    "print(\"X_test's len  : \" ,len(X_test))\n",
    "print(\"y_train's len : \" ,len(y_train))\n",
    "print(\"y_test's len  : \" ,len(y_test))"
   ]
  },
  {
   "cell_type": "markdown",
   "metadata": {},
   "source": [
    "#### 4. Load  a KNN model by scikit-learn. [1 point]\n",
    "- Assign KNN as `KNN`\n",
    "- Set the `n_neighbors` as 5"
   ]
  },
  {
   "cell_type": "code",
   "execution_count": 77,
   "metadata": {},
   "outputs": [],
   "source": [
    "KNN = KNeighborsClassifier(n_neighbors = 5)"
   ]
  },
  {
   "cell_type": "markdown",
   "metadata": {},
   "source": [
    "#### 5. Predict on your test set. [1 point]"
   ]
  },
  {
   "cell_type": "code",
   "execution_count": 78,
   "metadata": {},
   "outputs": [
    {
     "data": {
      "text/plain": [
       "KNeighborsClassifier()"
      ]
     },
     "execution_count": 78,
     "metadata": {},
     "output_type": "execute_result"
    }
   ],
   "source": [
    "KNN.fit(X_train, y_train)"
   ]
  },
  {
   "cell_type": "code",
   "execution_count": 88,
   "metadata": {},
   "outputs": [
    {
     "data": {
      "text/plain": [
       "array([1., 0., 0., 1., 1., 0., 0., 0., 1., 0., 0., 1., 0., 0., 0., 1., 0.,\n",
       "       1., 0., 1.])"
      ]
     },
     "execution_count": 88,
     "metadata": {},
     "output_type": "execute_result"
    }
   ],
   "source": [
    "y_pred = KNN.predict(X_test)\n",
    "y_pred"
   ]
  },
  {
   "cell_type": "markdown",
   "metadata": {},
   "source": [
    "#### 6. Evaluate the prediction result of your model. \n",
    "\n",
    "- Calculate the confusion matrix which consists of `TP`, `FP`, `TN`, `FN` (True Positive, False Positive, True Negative, False Negative)\n",
    "- Calculate `accuracy rate`, `sensitivity`, `specificity`\n",
    "- Fill in the blank function in order to accomplish the aforementioned  tasks. (DO NOT USE PACKAGES IN THIS TASK)"
   ]
  },
  {
   "cell_type": "markdown",
   "metadata": {},
   "source": [
    "#### 6.1 Calculate the confusion matrix which consists of `TP`, `FP`, `TN`, `FN` (True Positive, False Positive, True Negative, False Negative) [5 points]\n",
    "- Fill in the blank function in order to accomplish the aforementioned  tasks. (DO NOT USE PACKAGES IN THIS TASK)  "
   ]
  },
  {
   "cell_type": "code",
   "execution_count": 89,
   "metadata": {},
   "outputs": [],
   "source": [
    "def cal_confusion(y_true, y_pred):\n",
    "    \n",
    "    \"\"\"\n",
    "    Calculate the confusion matrix from the predicted target value and the actual target value.\n",
    "    \n",
    "    Inputs\n",
    "    ------\n",
    "    y_true: actual target value\n",
    "    y_pred: predicted target value\n",
    "\n",
    "    Outputs\n",
    "    -------\n",
    "    confusion matrix components: TP, FP, TN, FN\n",
    "\n",
    "    \"\"\"\n",
    "    # TODO: Compute the compusion matrix\n",
    "    \n",
    "    TP, FP, TN, FN = 0,0,0,0\n",
    "    \n",
    "    for i in range(len(y_pred)):\n",
    "        if (y_true.values[i] == y_pred[i]) & (y_true.values[i] ==0): \n",
    "            TN +=1\n",
    "        if (y_true.values[i] == y_pred[i]) & (y_true.values[i]==1): \n",
    "            TP +=1\n",
    "        if (y_true.values[i] != y_pred[i]) & (y_true.values[i] ==0): \n",
    "            FP +=1\n",
    "        if (y_true.values[i] != y_pred[i]) & (y_true.values[i] ==1): \n",
    "            FN +=1\n",
    "\n",
    "    return TP, FP, TN, FN"
   ]
  },
  {
   "cell_type": "markdown",
   "metadata": {},
   "source": [
    "#### 6.2 Calculate `accuracy rate` by filling in the blank of `cal_accuracy` function. [5 points]\n",
    "- Fill in the blank function in order to accomplish the aforementioned  tasks. (DO NOT USE PACKAGES IN THIS TASK) "
   ]
  },
  {
   "cell_type": "code",
   "execution_count": 90,
   "metadata": {},
   "outputs": [],
   "source": [
    "def cal_accuracy(y_true, y_pred):\n",
    "    \n",
    "    \"\"\"\n",
    "    Calculate the accuracy rate from the predicted target value and the actual target value.\n",
    "    \n",
    "    Inputs\n",
    "    ------\n",
    "    y_true: actual target value\n",
    "    y_pred: predicted target value\n",
    "\n",
    "    Outputs\n",
    "    -------\n",
    "    calculataed accuracy rate\n",
    "\n",
    "    \"\"\"\n",
    "    # TODO: Compute the accuracy rate\n",
    "    correct = 0\n",
    "    for i in range(len(y_pred)):\n",
    "        if y_true.values[i] == y_pred[i]:\n",
    "            correct +=1\n",
    "        \n",
    "    accuracy = correct/len(y_pred)\n",
    "    return accuracy"
   ]
  },
  {
   "cell_type": "markdown",
   "metadata": {},
   "source": [
    "#### 6.3 Calculate `sensitivity` by filling in the blank of `cal_sensitivity` function. [5 points]\n",
    "- Fill in the blank function in order to accomplish the aforementioned  tasks. (DO NOT USE PACKAGES IN THIS TASK)\n",
    "\n",
    "- When it comes to the `cal_sensitivity` function, we didn't specify the exact input variables, but just include all of `TP`, `FP`, `TN`, `FN`.  You have to choose two of them and use them as the input variables of the `cal_sensitivity` function."
   ]
  },
  {
   "cell_type": "code",
   "execution_count": 91,
   "metadata": {},
   "outputs": [],
   "source": [
    "def cal_sensitivity(TP,FP,TN,FN):\n",
    "    \n",
    "    \"\"\"\n",
    "    Calculate the sensitivity using the TP, FP, TN, and FN information obtained through the confusion matrix.    \n",
    "    \n",
    "    Inputs\n",
    "    ------\n",
    "    TP,FP,TN,FN\n",
    "\n",
    "    Outputs\n",
    "    -------\n",
    "    calculated sensitivity rate\n",
    "\n",
    "    \"\"\"\n",
    "    # TODO: Compute the sensitivity rate\n",
    "    sensitivity = TP/(TP+FN)\n",
    "    \n",
    "    return sensitivity"
   ]
  },
  {
   "cell_type": "markdown",
   "metadata": {},
   "source": [
    "#### 6.4 Calculate `specificity` by filling in the blank of `cal_specificity` function. [5 points]\n",
    "- Fill in the blank function in order to accomplish the aforementioned  tasks. (DO NOT USE PACKAGES IN THIS TASK)\n",
    "\n",
    "- When it comes to the `cal_specificity` function, we didn't specify the exact input variables, but just include all of `TP`, `FP`, `TN`, `FN`.  You have to choose two of them and use them as the input variables of the `cal_specificity` function."
   ]
  },
  {
   "cell_type": "code",
   "execution_count": 92,
   "metadata": {},
   "outputs": [],
   "source": [
    "def cal_specificity(TP,FP,TN,FN):\n",
    "    \n",
    "    \"\"\"\n",
    "    Calculate the sensitivity using the TP, FP, TN, and FN information obtained through the confusion matrix.    \n",
    "    \n",
    "    Inputs\n",
    "    ------\n",
    "    TP,FP,TN,FN\n",
    "\n",
    "    Outputs\n",
    "    -------\n",
    "    calculated specificity rate\n",
    "\n",
    "    \"\"\"\n",
    "    # TODO: Compute the specificity rate\n",
    "    specificity = TN/(FP+TN)\n",
    "\n",
    "    return specificity"
   ]
  },
  {
   "cell_type": "markdown",
   "metadata": {},
   "source": [
    "#### 6.5 Print all of the results [1 point]"
   ]
  },
  {
   "cell_type": "markdown",
   "metadata": {},
   "source": [
    "- print all of the results (confusion matrix, accuracy , sensitivity, specificity) \n",
    "- fill in the below `print` function by your own results"
   ]
  },
  {
   "cell_type": "code",
   "execution_count": 93,
   "metadata": {},
   "outputs": [
    {
     "name": "stdout",
     "output_type": "stream",
     "text": [
      "confusion matrix (6, 2, 12, 0)\n",
      "accuracy 0.9\n",
      "sensitivity 1.0\n",
      "specificity 0.8571428571428571\n"
     ]
    }
   ],
   "source": [
    "TP, FP, TN, FN = cal_confusion(y_test, y_pred)\n",
    "print('confusion matrix', cal_confusion(y_test, y_pred))\n",
    "print('accuracy', cal_accuracy(y_test, y_pred) )\n",
    "print('sensitivity', cal_sensitivity(TP,FP,TN,FN) )\n",
    "print('specificity', cal_specificity(TP,FP,TN,FN) ) "
   ]
  },
  {
   "cell_type": "markdown",
   "metadata": {},
   "source": [
    "#### 6.6 Plot accuracy results as you change the K values. [4 points]\n",
    "- Plot the accuracy results from changing the number of K = (1,2,3,4,5,10) "
   ]
  },
  {
   "cell_type": "code",
   "execution_count": 100,
   "metadata": {},
   "outputs": [],
   "source": [
    "K = [1,2,3,4,5,10]\n",
    "accuracy = []\n",
    "\n",
    "for k in K:\n",
    "\n",
    "    KNN = KNeighborsClassifier(n_neighbors=k)\n",
    "    KNN.fit(X_train,y_train)\n",
    "    y_pred = KNN.predict(X_test)\n",
    "    accuracy.append(cal_accuracy(y_test, y_pred))                \n",
    "                                                       "
   ]
  },
  {
   "cell_type": "code",
   "execution_count": 101,
   "metadata": {
    "scrolled": true
   },
   "outputs": [
    {
     "data": {
      "text/plain": [
       "[0.95, 1.0, 0.9, 0.9, 0.9, 0.9]"
      ]
     },
     "execution_count": 101,
     "metadata": {},
     "output_type": "execute_result"
    }
   ],
   "source": [
    "accuracy"
   ]
  },
  {
   "cell_type": "code",
   "execution_count": 107,
   "metadata": {
    "scrolled": false
   },
   "outputs": [
    {
     "data": {
      "image/png": "[encoded data removed]",
      "text/plain": [
       "<Figure size 432x288 with 1 Axes>"
      ]
     },
     "metadata": {
      "needs_background": "light"
     },
     "output_type": "display_data"
    }
   ],
   "source": [
    "plt.plot( K,accuracy)\n",
    "plt.plot( K,accuracy, 'ro')\n",
    "plt.ylabel('accuracy rate')\n",
    "plt.xlabel(\"'K's number\")\n",
    "plt.title('Acurracy rate with changing hyperparameter (k) ')\n",
    "\n",
    "plt.show()"
   ]
  }
 ],
 "metadata": {
  "kernelspec": {
   "display_name": "Python 3 (ipykernel)",
   "language": "python",
   "name": "python3"
  },
  "language_info": {
   "codemirror_mode": {
    "name": "ipython",
    "version": 3
   },
   "file_extension": ".py",
   "mimetype": "text/x-python",
   "name": "python",
   "nbconvert_exporter": "python",
   "pygments_lexer": "ipython3",
   "version": "3.9.6"
  }
 },
 "nbformat": 4,
 "nbformat_minor": 2
}

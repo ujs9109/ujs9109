{
 "cells": [
  {
   "cell_type": "code",
   "execution_count": 1,
   "id": "7ab160cb",
   "metadata": {},
   "outputs": [],
   "source": [
    "# Python3 program to Print all possible paths from\n",
    "# top left to bottom right of a mXn matrix\n",
    "allPaths = []\n",
    "icount = 0\n",
    "jcount = 0\n",
    "\n",
    "def findPaths(maze, m, n):\n",
    "    path = [0 for d in range(m + n - 1)]\n",
    "    findPathsUtil(maze, m, n, 0, 0, path, 0)\n",
    "\n",
    "def findPathsUtil(maze, m, n, i, j, path, indx):\n",
    "    # if we reach the bottom of maze, we can only move right\n",
    "    global icount\n",
    "    global jcount\n",
    "    if i == m - 1:\n",
    "        for k in range(j, n):\n",
    "            # path.append(maze[i][k])\n",
    "            path[indx + k - j] = maze[i][k]\n",
    "        # if we hit this block, it means one path is completed.\n",
    "        # Add it to paths list and print\n",
    "        # print(path)\n",
    "        allPaths.append(path[:])\n",
    "        return\n",
    "    # if we reach to the right most corner, we can only move down\n",
    "    if j == n - 1:\n",
    "        for k in range(i, m):\n",
    "            path[indx + k - i] = maze[k][j]\n",
    "        # path.append(maze[j][k])\n",
    "        # if we hit this block, it means one path is completed.\n",
    "        # Add it to paths list and print\n",
    "        # print(path)\n",
    "        allPaths.append(path[:])\n",
    "        jcount += 1\n",
    "        return\n",
    "\n",
    "    # add current element to the path list\n",
    "    # path.append(maze[i][j])\n",
    "    path[indx] = maze[i][j]\n",
    "\n",
    "    # move down in y direction and call findPathsUtil recursively\n",
    "    findPathsUtil(maze, m, n, i + 1, j, path, indx + 1)\n",
    "\n",
    "    # move down in y direction and call findPathsUtil recursively\n",
    "    findPathsUtil(maze, m, n, i, j + 1, path, indx + 1)"
   ]
  },
  {
   "cell_type": "markdown",
   "id": "16a4e942",
   "metadata": {},
   "source": [
    "## vertex point 와 아닌 점을 나눈다\n",
    "\n",
    "### 다시 방향을 돌아가는 경우를 제외한다. (오른쪽 갔다가, 나중에 왼쪽으로 가는 경우를 제외)\n",
    "\n",
    "\n",
    " - vertex\n",
    " - non-vertex\n",
    "     - turning 0\n",
    "     - turning 1\n",
    "     - turning 2"
   ]
  },
  {
   "cell_type": "markdown",
   "id": "7f8e1b8d",
   "metadata": {},
   "source": [
    "### 1) vertex point 계산"
   ]
  },
  {
   "cell_type": "code",
   "execution_count": 2,
   "id": "222c37f6",
   "metadata": {},
   "outputs": [],
   "source": [
    "def point_to_point(isize, jsize):\n",
    "    global allPaths\n",
    "    one_point_total_list_vertex = [0,0,0,0,0]\n",
    "    mat = []\n",
    "\n",
    "    for i in range(isize):\n",
    "        mat.append([])\n",
    "        for j in range(jsize):\n",
    "            mat[i].append([(i + 1) , j + 1])\n",
    "    allPaths = []\n",
    "    findPaths(mat, isize, jsize)\n",
    "\n",
    "    for i in allPaths:\n",
    "        count = 0\n",
    "        for j in range(1, len(i)-1):\n",
    "            if i[j-1][0] == i[j][0]:\n",
    "                if i[j][0] != i[j+1][0]:\n",
    "                    count +=1\n",
    "\n",
    "            if i[j-1][1] == i[j][1]:\n",
    "                if i[j][1] != i[j+1][1]:\n",
    "                    count +=1             \n",
    "\n",
    "        if count <= 2:\n",
    "            #print(i, count)\n",
    "            one_point_total_list_vertex[count] +=1\n",
    "            \n",
    "    y_length = 3.5* (jsize-2) + 14.0\n",
    "    x_length = round(58.8 *(isize-1),2)  \n",
    "    one_point_total_list_vertex[3] =  x_length\n",
    "    one_point_total_list_vertex[4] =  y_length\n",
    "    \n",
    "    #print(x_length, y_length)\n",
    "    return (one_point_total_list_vertex)\n",
    "    "
   ]
  },
  {
   "cell_type": "code",
   "execution_count": 3,
   "id": "fef62158",
   "metadata": {
    "scrolled": true
   },
   "outputs": [
    {
     "data": {
      "text/plain": [
       "[48, 672, 3024, 79027.20000000008, 13440.0]"
      ]
     },
     "execution_count": 3,
     "metadata": {},
     "output_type": "execute_result"
    }
   ],
   "source": [
    "# (1번쨰 & 8번쨰 줄 완성 )\n",
    "one_point_total_list_vertex = [0,0,0,0,0]\n",
    "for k in range(0,6):\n",
    "    for i in [1,2,3,4,5,6,7,8]:\n",
    "        for j in range(7-k,15-k):\n",
    "            a,b,c,d,e = point_to_point(i,j)\n",
    "            one_point_total_list_vertex[0] += a\n",
    "            one_point_total_list_vertex[1] += b\n",
    "            one_point_total_list_vertex[2] += c\n",
    "            one_point_total_list_vertex[3] += d\n",
    "            one_point_total_list_vertex[4] += e\n",
    "\n",
    "one_point_total_list_vertex"
   ]
  },
  {
   "cell_type": "code",
   "execution_count": 5,
   "id": "19d9454f",
   "metadata": {},
   "outputs": [
    {
     "data": {
      "text/plain": [
       "[48, 672, 2736, 62092.800000000054, 13440.0]"
      ]
     },
     "execution_count": 5,
     "metadata": {},
     "output_type": "execute_result"
    }
   ],
   "source": [
    "# (2번쨰 & 7번쨰 줄 완성 )\n",
    "one_point_total_list_vertex = [0,0,0,0,0]\n",
    "for k in range(0,6):\n",
    "    # 줄 내에서의 세로 \n",
    "    for i in [1,2,2,3,4,5,6,7]:\n",
    "        # 가로 축 길이 조절\n",
    "        for j in range(7-k,15-k):\n",
    "            # 위에 있는 vertex 만 고려\n",
    "            a,b,c,d,e = point_to_point(i,j)\n",
    "            one_point_total_list_vertex[0] += a\n",
    "            one_point_total_list_vertex[1] += b\n",
    "            one_point_total_list_vertex[2] += c\n",
    "            one_point_total_list_vertex[3] += d\n",
    "            one_point_total_list_vertex[4] += e\n",
    "\n",
    "one_point_total_list_vertex"
   ]
  },
  {
   "cell_type": "code",
   "execution_count": 6,
   "id": "f3c93966",
   "metadata": {
    "scrolled": true
   },
   "outputs": [
    {
     "data": {
      "text/plain": [
       "[48, 672, 2544, 50803.19999999998, 13440.0]"
      ]
     },
     "execution_count": 6,
     "metadata": {},
     "output_type": "execute_result"
    }
   ],
   "source": [
    "# (3번쨰 & 6번쨰 줄 완성 )\n",
    "one_point_total_list_vertex = [0,0,0,0,0]\n",
    "for k in range(0,6):\n",
    "    # 줄 내에서의 세로 \n",
    "    for i in [1,2,2,3,3,4,5,6]:\n",
    "        # 가로 축 길이 조절\n",
    "        for j in range(7-k,15-k):\n",
    "            # 위에 있는 vertex 만 고려\n",
    "            a,b,c,d,e = point_to_point(i,j)\n",
    "            one_point_total_list_vertex[0] += a\n",
    "            one_point_total_list_vertex[1] += b\n",
    "            one_point_total_list_vertex[2] += c\n",
    "            one_point_total_list_vertex[3] += d\n",
    "            one_point_total_list_vertex[4] += e\n",
    "\n",
    "one_point_total_list_vertex"
   ]
  },
  {
   "cell_type": "code",
   "execution_count": 7,
   "id": "9205a504",
   "metadata": {},
   "outputs": [
    {
     "data": {
      "text/plain": [
       "[48, 672, 2448, 45158.39999999999, 13440.0]"
      ]
     },
     "execution_count": 7,
     "metadata": {},
     "output_type": "execute_result"
    }
   ],
   "source": [
    "# (4번쨰 & 5번쨰 줄 완성 )\n",
    "one_point_total_list_vertex = [0,0,0,0,0]\n",
    "for k in range(0,6):\n",
    "    # 줄 내에서의 세로\n",
    "    for i in [1,2,2,3,3,4,4,5]:\n",
    "        # 가로 축 길이 조절\n",
    "        for j in range(7-k,15-k):\n",
    "            # 위에 있는 vertex 만 고려\n",
    "            a,b,c,d,e = point_to_point(i,j)\n",
    "            one_point_total_list_vertex[0] += a\n",
    "            one_point_total_list_vertex[1] += b\n",
    "            one_point_total_list_vertex[2] += c\n",
    "            one_point_total_list_vertex[3] += d\n",
    "            one_point_total_list_vertex[4] += e\n",
    "\n",
    "one_point_total_list_vertex"
   ]
  },
  {
   "cell_type": "markdown",
   "id": "5486c0ca",
   "metadata": {},
   "source": [
    "## 최종 vertex 합 도출 "
   ]
  },
  {
   "cell_type": "code",
   "execution_count": 8,
   "id": "68c49012",
   "metadata": {},
   "outputs": [],
   "source": [
    "# (1번쨰 & 8번쨰 줄 완성 )\n",
    "one_point_total_list_vertex = [0,0,0,0,0]\n",
    "for k in range(0,6):\n",
    "    for i in [1,2,3,4,5,6,7,8]:\n",
    "        for j in range(7-k,15-k):\n",
    "            a,b,c,d,e= point_to_point(i,j)\n",
    "            one_point_total_list_vertex[0] += a\n",
    "            one_point_total_list_vertex[1] += b\n",
    "            one_point_total_list_vertex[2] += c\n",
    "            one_point_total_list_vertex[3] += d * (a+b+c)\n",
    "            one_point_total_list_vertex[4] += e * (a+b+c)\n",
    "  \n",
    "\n",
    "\n",
    "#(2번쨰 & 7번쨰 줄 완성)\n",
    "for k in range(0,6):\n",
    "    # 줄 내에서의 세로 \n",
    "    for i in [1,2,2,3,4,5,6,7]:\n",
    "        # 가로 축 길이 조절\n",
    "        for j in range(7-k,15-k):\n",
    "            # 위에 있는 vertex 만 고려\n",
    "            a,b,c,d,e = point_to_point(i,j)\n",
    "            one_point_total_list_vertex[0] += a\n",
    "            one_point_total_list_vertex[1] += b\n",
    "            one_point_total_list_vertex[2] += c\n",
    "            one_point_total_list_vertex[3] += d * (a+b+c)\n",
    "            one_point_total_list_vertex[4] += e * (a+b+c)\n",
    "\n",
    "# (3번쨰 & 6번쨰 줄 완성 )\n",
    "for k in range(0,6):\n",
    "    # 줄 내에서의 세로 \n",
    "    for i in [1,2,2,3,3,4,5,6]:\n",
    "        # 가로 축 길이 조절\n",
    "        for j in range(7-k,15-k):\n",
    "            # 위에 있는 vertex 만 고려\n",
    "            a,b,c,d,e = point_to_point(i,j)\n",
    "            one_point_total_list_vertex[0] += a\n",
    "            one_point_total_list_vertex[1] += b\n",
    "            one_point_total_list_vertex[2] += c\n",
    "            one_point_total_list_vertex[3] += d* (a+b+c)\n",
    "            one_point_total_list_vertex[4] += e * (a+b+c)\n",
    "\n",
    "\n",
    "\n",
    "# (4번쨰 & 5번쨰 줄 완성 )\n",
    "for k in range(0,6):\n",
    "    # 줄 내에서의 세로\n",
    "    for i in [1,2,2,3,3,4,4,5]:\n",
    "        # 가로 축 길이 조절\n",
    "        for j in range(7-k,15-k):\n",
    "            # 위에 있는 vertex 만 고려\n",
    "            a,b,c,d,e = point_to_point(i,j)\n",
    "            one_point_total_list_vertex[0] += a\n",
    "            one_point_total_list_vertex[1] += b\n",
    "            one_point_total_list_vertex[2] += c\n",
    "            one_point_total_list_vertex[3] += d * (a+b+c)\n",
    "            one_point_total_list_vertex[4] += e * (a+b+c)\n",
    "\n",
    "# 대칭     \n",
    "for i in range(5):\n",
    "    one_point_total_list_vertex[i] *=2\n",
    "\n",
    "    \n",
    "# 9번쨰 비대칭 줄\n",
    "for k in range(0,6):\n",
    "    # 줄 내에서의 세로\n",
    "    for i in [2,3,4,5,6,7,8,9]:\n",
    "        # 가로 축 길이 조절\n",
    "        for j in range(7-k,15-k):\n",
    "            # 위에 있는 vertex 만 고려\n",
    "            a,b,c,d,e = point_to_point(i,j)\n",
    "            d -= 14.7\n",
    "            one_point_total_list_vertex[0] += a\n",
    "            one_point_total_list_vertex[1] += b\n",
    "            one_point_total_list_vertex[2] += c\n",
    "            one_point_total_list_vertex[3] += d* (a+b+c)\n",
    "            one_point_total_list_vertex[4] += e * (a+b+c)"
   ]
  },
  {
   "cell_type": "code",
   "execution_count": 9,
   "id": "b90bcc1a",
   "metadata": {},
   "outputs": [
    {
     "data": {
      "text/plain": [
       "[384, 6144, 25152, 6437894.399999999, 1196608.0]"
      ]
     },
     "execution_count": 9,
     "metadata": {},
     "output_type": "execute_result"
    }
   ],
   "source": [
    "one_point_total_list_vertex"
   ]
  },
  {
   "cell_type": "markdown",
   "id": "9346d368",
   "metadata": {},
   "source": [
    "### more simplistic form"
   ]
  },
  {
   "cell_type": "code",
   "execution_count": 11,
   "id": "ad1879e6",
   "metadata": {},
   "outputs": [
    {
     "data": {
      "text/plain": [
       "[384, 6144, 25152, 6437894.399999999, 1196608.0]"
      ]
     },
     "execution_count": 11,
     "metadata": {},
     "output_type": "execute_result"
    }
   ],
   "source": [
    "# (1번쨰 & 8번쨰 줄 완성 )\n",
    "one_point_total_list_vertex = [0,0,0,0,0]\n",
    "horizon_indexes= [[1,2,3,4,5,6,7,8], [1,2,2,3,4,5,6,7], [1,2,2,3,3,4,5,6], [1,2,2,3,3,4,4,5]]\n",
    "\n",
    "for i in horizon_indexes:\n",
    "    for k in range(0,6):\n",
    "        for ii in i:\n",
    "            for j in range(7-k,15-k):\n",
    "                a,b,c,d,e = point_to_point(ii,j)\n",
    "                one_point_total_list_vertex[0] += a\n",
    "                one_point_total_list_vertex[1] += b\n",
    "                one_point_total_list_vertex[2] += c\n",
    "                one_point_total_list_vertex[3] += d *(a+b+c)\n",
    "                one_point_total_list_vertex[4] += e * (a+b+c)\n",
    "\n",
    "# 대칭     \n",
    "for i in range(5):\n",
    "    one_point_total_list_vertex[i] *=2\n",
    "    \n",
    "# 9번쨰 비대칭 줄\n",
    "for k in range(0,6):\n",
    "    # 줄 내에서의 세로\n",
    "    for i in [2,3,4,5,6,7,8,9]:\n",
    "        # 가로 축 길이 조절\n",
    "        for j in range(7-k,15-k):\n",
    "            # 위에 있는 vertex 만 고려\n",
    "            a,b,c,d,e = point_to_point(i,j)\n",
    "            d -= 14.7\n",
    "            one_point_total_list_vertex[0] += a\n",
    "            one_point_total_list_vertex[1] += b\n",
    "            one_point_total_list_vertex[2] += c\n",
    "            one_point_total_list_vertex[3] += d* (a+b+c)\n",
    "            one_point_total_list_vertex[4] += e * (a+b+c)\n",
    "            \n",
    "one_point_total_list_vertex    \n"
   ]
  },
  {
   "cell_type": "code",
   "execution_count": 14,
   "id": "b1b0c7ec",
   "metadata": {
    "scrolled": true
   },
   "outputs": [
    {
     "name": "stdout",
     "output_type": "stream",
     "text": [
      "203.2163636363636\n",
      "37.77171717171717\n"
     ]
    }
   ],
   "source": [
    "print(one_point_total_list_vertex[-2]/sum(one_point_total_list_vertex[0:3]))\n",
    "print(one_point_total_list_vertex[-1]/sum(one_point_total_list_vertex[0:3]))"
   ]
  },
  {
   "cell_type": "markdown",
   "id": "22295143",
   "metadata": {},
   "source": [
    "# non-vertex 값 고려하기"
   ]
  },
  {
   "cell_type": "markdown",
   "id": "2458f0cd",
   "metadata": {},
   "source": [
    "## 꺾는 횟수가 0인 경우"
   ]
  },
  {
   "cell_type": "code",
   "execution_count": 38,
   "id": "f4a15e34",
   "metadata": {},
   "outputs": [],
   "source": [
    "def point_to_point_inner(isize, jsize):\n",
    "    global allPaths\n",
    "    total_count_list = [0,0,0,0,0]\n",
    "    mat = []\n",
    "\n",
    "    for i in range(isize):\n",
    "        mat.append([])\n",
    "        for j in range(jsize):\n",
    "            mat[i].append([(i + 1) , j + 1])\n",
    "    allPaths = []\n",
    "    findPaths(mat, isize, jsize)\n",
    "\n",
    "    for i in allPaths:\n",
    "        count = 0\n",
    "        for j in range(1, len(i)-1):\n",
    "            if i[j-1][0] == i[j][0]:\n",
    "                if i[j][0] != i[j+1][0]:\n",
    "                    count +=1\n",
    "\n",
    "            if i[j-1][1] == i[j][1]:\n",
    "                if i[j][1] != i[j+1][1]:\n",
    "                    count +=1             \n",
    "\n",
    "        if count <= 2:\n",
    "            #print(i, count)\n",
    "            total_count_list[count] +=1\n",
    "            \n",
    "    y_length = 3.5* (jsize-1)\n",
    "    x_length = round(58.4 *(isize-1),2)  \n",
    "    total_count_list[3] = x_length \n",
    "    total_count_list[4] = y_length\n",
    "    #print(x_length, y_length)\n",
    "    return (total_count_list)\n",
    "    "
   ]
  },
  {
   "cell_type": "code",
   "execution_count": 39,
   "id": "864f8034",
   "metadata": {
    "scrolled": true
   },
   "outputs": [
    {
     "data": {
      "text/plain": [
       "[1296, 0, 0, 213979.2, 0.0]"
      ]
     },
     "execution_count": 39,
     "metadata": {},
     "output_type": "execute_result"
    }
   ],
   "source": [
    "one_point_total_list = [0,0,0,0,0]\n",
    "aa = 14.7\n",
    "\n",
    "for k in range(1,9):\n",
    "    for i in range(1,10-k):\n",
    "        #오른쪽 \n",
    "        a,b,c,d,e = point_to_point_inner(i,1)\n",
    "        if i <9-k:\n",
    "            one_point_total_list[0] += 3*a\n",
    "            one_point_total_list[1] += 3*b\n",
    "            one_point_total_list[2] += 3*c \n",
    "            one_point_total_list[3] += (3*d + 6*aa) *(a+b+c)\n",
    "            one_point_total_list[4] += (3*e) *(a+b+c)\n",
    "\n",
    "        if i == 9-k :\n",
    "            one_point_total_list[0] += 2*a\n",
    "            one_point_total_list[1] += 2*b\n",
    "            one_point_total_list[2] += 2*c\n",
    "            one_point_total_list[3] += (2*d + 3*aa) *(a+b+c)\n",
    "            one_point_total_list[4] += (2*e) *(a+b+c)\n",
    "            \n",
    "    for i in range(1,k):\n",
    "        #왼쪽\n",
    "        a,b,c,d,e = point_to_point_inner(i,1)\n",
    "        \n",
    "        one_point_total_list[0] += 3*a\n",
    "        one_point_total_list[1] += 3*b\n",
    "        one_point_total_list[2] += 3*c \n",
    "        one_point_total_list[3] += (3*d + 6*aa) *(a+b+c)\n",
    "        one_point_total_list[4] += (3*e) *(a+b+c)\n",
    "        \n",
    "    \n",
    "    # 맨 왼쪽 고려\n",
    "    one_point_total_list[0] += point_to_point_inner(k,1)[0]\n",
    "    one_point_total_list[3] += point_to_point_inner(k,1)[3] + aa\n",
    "    one_point_total_list[4] += point_to_point_inner(k,1)[4]\n",
    "    \n",
    "# 맨 오른쪽 9번쨰 번쨰 틀, 2개인 예외상황 고려    \n",
    "for k in range(1,9):\n",
    "    a,b,c,d,e = point_to_point_inner(k,1)\n",
    "    \n",
    "    if k ==1:\n",
    "        one_point_total_list[0] += 2*a \n",
    "        one_point_total_list[1] += 2*b\n",
    "        one_point_total_list[2] += 2*c \n",
    "        one_point_total_list[3] += (2*d + 3*aa)*(a+b+c)\n",
    "        one_point_total_list[4] += (2*e)*(a+b+c)\n",
    "        \n",
    "    else:\n",
    "        one_point_total_list[0] += 3*a \n",
    "        one_point_total_list[1] += 3*b\n",
    "        one_point_total_list[2] += 3*c \n",
    "        one_point_total_list[3] += (3*d + 6*aa -(3*aa))*(a+b+c)\n",
    "        one_point_total_list[4] += (2*e)*(a+b+c)\n",
    "    \n",
    "one_point_total_list[0] += point_to_point_inner(9,1)[0]\n",
    "one_point_total_list[3] += point_to_point_inner(9,1)[3] + aa - (aa)\n",
    "one_point_total_list[4] += point_to_point_inner(9,1)[4]\n",
    "\n",
    "\n",
    "#총 각 행마다 6개씩 존재\n",
    "for i in range(5):\n",
    "    one_point_total_list[i] *=6\n",
    "one_point_total_list"
   ]
  },
  {
   "cell_type": "markdown",
   "id": "0666036a",
   "metadata": {},
   "source": [
    "## 꺾는 횟수가 1인 경우"
   ]
  },
  {
   "cell_type": "code",
   "execution_count": 45,
   "id": "13f8d907",
   "metadata": {
    "scrolled": true
   },
   "outputs": [
    {
     "data": {
      "text/plain": [
       "[0, 16848, 0, 2781729.6000000006, 277452.0]"
      ]
     },
     "execution_count": 45,
     "metadata": {},
     "output_type": "execute_result"
    }
   ],
   "source": [
    "one_point_total_list_1st = [0,0,0,0,0]\n",
    "aa = 14.7\n",
    "\n",
    "for k in range(1,9):\n",
    "    for i in range(1,10-k):\n",
    "        #오른쪽 \n",
    "        a,b,c,d,e = point_to_point_inner(i,1)\n",
    "        if i <9-k:\n",
    "            one_point_total_list_1st[0] += 3*a\n",
    "            one_point_total_list_1st[1] += 3*b\n",
    "            one_point_total_list_1st[2] += 3*c \n",
    "            one_point_total_list_1st[3] += (3*d + 6*aa) *(a+b+c)\n",
    "            one_point_total_list_1st[4] += (3*e) *(a+b+c)\n",
    "\n",
    "        if i == 9-k :\n",
    "            one_point_total_list_1st[0] += 2*a\n",
    "            one_point_total_list_1st[1] += 2*b\n",
    "            one_point_total_list_1st[2] += 2*c\n",
    "            one_point_total_list_1st[3] += (2*d + 3*aa) *(a+b+c)\n",
    "            one_point_total_list_1st[4] += (3*e) *(a+b+c)\n",
    "            \n",
    "    for i in range(1,k):\n",
    "        #왼쪽\n",
    "        a,b,c,d,e = point_to_point_inner(i,1)\n",
    "        \n",
    "        one_point_total_list_1st[0] += 3*a\n",
    "        one_point_total_list_1st[1] += 3*b\n",
    "        one_point_total_list_1st[2] += 3*c \n",
    "        one_point_total_list_1st[3] += (3*d + 6*aa) *(a+b+c)\n",
    "        one_point_total_list_1st[4] += (3*e) *(a+b+c)\n",
    "        \n",
    "    \n",
    "    # 맨 왼쪽 고려\n",
    "    one_point_total_list_1st[0] += point_to_point_inner(k,1)[0]\n",
    "    one_point_total_list_1st[3] += point_to_point_inner(k,1)[3] + aa\n",
    "    one_point_total_list_1st[4] += point_to_point_inner(k,1)[4]\n",
    "\n",
    "\n",
    "# 맨 오른쪽 9번쨰 번쨰 틀, 2개인 예외상황 고려    \n",
    "for k in range(1,9):\n",
    "    a,b,c,d,e = point_to_point_inner(k,1)\n",
    "    \n",
    "    if k ==1:\n",
    "        one_point_total_list_1st[0] += 2*a \n",
    "        one_point_total_list_1st[1] += 2*b\n",
    "        one_point_total_list_1st[2] += 2*c \n",
    "        one_point_total_list_1st[3] += (2*d + 3*aa)*(a+b+c)\n",
    "        one_point_total_list_1st[4] += (2*e)*(a+b+c)\n",
    "        \n",
    "    else:\n",
    "        one_point_total_list_1st[0] += 3*a \n",
    "        one_point_total_list_1st[1] += 3*b\n",
    "        one_point_total_list_1st[2] += 3*c \n",
    "        one_point_total_list_1st[3] += (3*d + 6*aa -(3*aa))*(a+b+c)\n",
    "        one_point_total_list_1st[4] += (2*e)*(a+b+c)\n",
    "    \n",
    "one_point_total_list_1st[0] += point_to_point_inner(9,1)[0]\n",
    "one_point_total_list_1st[3] += point_to_point_inner(9,1)[3] + aa - (aa)\n",
    "one_point_total_list_1st[4] += point_to_point_inner(9,1)[4]\n",
    "    \n",
    "    \n",
    "    \n",
    "#각 행마다 13구역으로 이동 가능\n",
    "for i in range(5):\n",
    "    one_point_total_list_1st[i] *=(13 *6)\n",
    "    \n",
    "    \n",
    "height = 3.5\n",
    "much_height = 14\n",
    "summation = 0\n",
    "for i in range(12,6, -1):\n",
    "    imme = (((i * (i+1))/2)*height + much_height)\n",
    "    #print(   (i * (i+1))/2, imme)   \n",
    "    summation += imme\n",
    "\n",
    "for i in range(1,6):\n",
    "    imme = ((i*(i+1)/2))*height\n",
    "    summation += imme\n",
    "    \n",
    "summation *= 24 * 9\n",
    "# 각 층마다 24개 그리고 이러한 포인트가 각 9개의 가로축\n",
    "\n",
    "\n",
    "one_point_total_list_1st[4] += summation\n",
    "one_point_total_list_1st[1] = one_point_total_list_1st[0]\n",
    "one_point_total_list_1st[0] = 0\n",
    "\n",
    "one_point_total_list_1st"
   ]
  },
  {
   "cell_type": "code",
   "execution_count": 46,
   "id": "dac561b7",
   "metadata": {},
   "outputs": [
    {
     "name": "stdout",
     "output_type": "stream",
     "text": [
      "165.10740740740744\n",
      "16.46794871794872\n"
     ]
    }
   ],
   "source": [
    "print(one_point_total_list_1st[-2]/sum(one_point_total_list_1st[:3]))\n",
    "print(one_point_total_list_1st[-1]/sum(one_point_total_list_1st[:3]))"
   ]
  },
  {
   "cell_type": "markdown",
   "id": "c4834c84",
   "metadata": {},
   "source": [
    "## 꺾는 횟수가 2인 경우"
   ]
  },
  {
   "cell_type": "code",
   "execution_count": 109,
   "id": "a053d715",
   "metadata": {},
   "outputs": [],
   "source": [
    "def distance_calculate(i,j,isize, jsize):\n",
    "    x = i-isize\n",
    "    if x <0:\n",
    "        x = -x\n",
    "        \n",
    "    y = j-jsize\n",
    "    if y<0:\n",
    "        y = -y\n",
    "    \n",
    "    if jsize <7:\n",
    "        return x*58.4 , y*3.5\n",
    "    else:\n",
    "        return x*58.4 , (y-1)*3.5 + 14"
   ]
  },
  {
   "cell_type": "code",
   "execution_count": 110,
   "id": "73665a2e",
   "metadata": {},
   "outputs": [],
   "source": [
    "def right_arrow_sum(x, y):\n",
    "    number = 0\n",
    "    answer = 0\n",
    "    a = 14.7\n",
    "\n",
    "    for i in range(1, 10-x):\n",
    "        answer += 12*i*a -6*a\n",
    "        number +=3\n",
    "       \n",
    "    answer -=  (3*a + 4*(8-x)*a)\n",
    "    number -= 1\n",
    "   \n",
    "    return answer, number\n",
    "       \n",
    "    \n",
    "def upper_right_arrow_sum(x,y):\n",
    "    # 한 축으로만! \n",
    "    number = 0\n",
    "    answer_x = 0\n",
    "    answer_y = 0\n",
    "    a = 14.7\n",
    "    \n",
    "    for j in range(y+1, 15): \n",
    "        for i in range(x+1, 9):\n",
    "            d_x, d_y= distance_calculate(x,y,i,j)\n",
    "            a, b = right_arrow_sum(i,j)            \n",
    "            answer_x += (d_x*b) + a\n",
    "            answer_y += (d_y*b)\n",
    "            number += b\n",
    "\n",
    "\n",
    "   \n",
    "    return answer_x, answer_y, number\n",
    "\n",
    "def lower_right_arrow_sum(x,y):\n",
    "    # 한 축으로만! \n",
    "    number = 0\n",
    "    answer_x = 0\n",
    "    answer_y = 0\n",
    "    a = 14.7\n",
    "    \n",
    "    if y >1:\n",
    "        for j in range(y-1,0,-1): \n",
    "            for i in range(x+1, 9):\n",
    "      \n",
    "                d_x, d_y = distance_calculate(x,y,i,j)\n",
    "                a, b = right_arrow_sum(i,j)\n",
    "\n",
    "                answer_x += (d_x*b) + a\n",
    "                answer_y += (d_y*b)\n",
    "                number += b\n",
    "   \n",
    "    return answer_x,answer_y, number"
   ]
  },
  {
   "cell_type": "code",
   "execution_count": 111,
   "id": "fbdea9d9",
   "metadata": {
    "scrolled": true
   },
   "outputs": [],
   "source": [
    "def left_arrow_sum(x, y):\n",
    "    number = 0\n",
    "    answer = 0\n",
    "    a = 14.7\n",
    "\n",
    "    for i in range(1, x):\n",
    "        answer += 12*i*a -6*a\n",
    "        number += 3\n",
    "       \n",
    "    answer +=  (a + 4*(x-1)*a)\n",
    "    number += 1\n",
    "   \n",
    "    return answer, number\n",
    "\n",
    "def upper_left_arrow_sum(x,y):\n",
    "    # 한 축으로만! \n",
    "    number = 0\n",
    "    answer_x = 0\n",
    "    answer_y = 0\n",
    "    a = 14.7\n",
    "    \n",
    "    for j in range(y+1, 15): \n",
    "        for i in range(x-1, 0, -1):\n",
    "            d_x, d_y = distance_calculate(x,y,i,j)\n",
    "            a, b = left_arrow_sum(i,j)\n",
    "            answer_x += (d_x*b) + a\n",
    "            answer_y += (d_y*b)\n",
    "            number += b\n",
    "            \n",
    "    return answer_x, answer_y, number\n",
    "            \n",
    "\n",
    "def lower_left_arrow_sum(x,y):\n",
    "    # 한 축으로만! \n",
    "    number = 0\n",
    "    answer_x = 0\n",
    "    answer_y = 0\n",
    "    a = 14.7\n",
    "    \n",
    "    if y >1:\n",
    "        for j in range(y-1,0,-1): \n",
    "            for i in range(x-1, 0,-1):\n",
    "            \n",
    "                d_x, d_y = distance_calculate(x,y,i,j)\n",
    "                a, b = left_arrow_sum(i,j)\n",
    "                answer_x += (d_x*b) + a\n",
    "                answer_y += (d_y*b)\n",
    "                number += b\n",
    "   \n",
    "    return answer_x, answer_y, number"
   ]
  },
  {
   "cell_type": "code",
   "execution_count": 112,
   "id": "0fc2655e",
   "metadata": {},
   "outputs": [
    {
     "name": "stdout",
     "output_type": "stream",
     "text": [
      "10600012.799999999 985600.0 39936\n"
     ]
    }
   ],
   "source": [
    "\n",
    "summation_x = 0\n",
    "summation_y = 0\n",
    "number = 0\n",
    "\n",
    "for i in range(1,10):\n",
    "    for j in range(1,7):\n",
    "        \n",
    "        a1,b1, c1 = upper_right_arrow_sum(i,j)\n",
    "        a2,b2, c2 = lower_right_arrow_sum(i,j)\n",
    "        a3,b3, c3 = upper_left_arrow_sum(i,j)\n",
    "        a4,b4, c4 = lower_left_arrow_sum(i,j)\n",
    "       \n",
    "        summation_x +=a1+a2+a3+a4\n",
    "        summation_y +=b1+b2+b3+b4\n",
    "        number += c1+c2+c3+c4\n",
    "        \n",
    "        \n",
    "#9번째 축에서 8번째 축 오른쪽으로 보내는 2가지 고려\n",
    "distance_calculate\n",
    "print(summation_x, summation_y, number)"
   ]
  },
  {
   "cell_type": "code",
   "execution_count": 113,
   "id": "1ae5581a",
   "metadata": {},
   "outputs": [
    {
     "data": {
      "text/plain": [
       "[0, 0, 39936, 10600012.799999999, 985600.0]"
      ]
     },
     "execution_count": 113,
     "metadata": {},
     "output_type": "execute_result"
    }
   ],
   "source": [
    "one_point_total_list_2nd= [0,0, number, summation_x, summation_y]\n",
    "one_point_total_list_2nd"
   ]
  },
  {
   "cell_type": "markdown",
   "id": "b9c69c37",
   "metadata": {},
   "source": [
    "### 각 부분별 계산"
   ]
  },
  {
   "cell_type": "code",
   "execution_count": 130,
   "id": "46df6de9",
   "metadata": {},
   "outputs": [
    {
     "name": "stdout",
     "output_type": "stream",
     "text": [
      "one_point_total_list_intercept) \n",
      "0,1,2, x, y:            [384, 6144, 25152, 6437894.399999999, 1196608.0]\n",
      "average distance_x:      203.2163636363636\n",
      "average distance_y:      37.77171717171717\n"
     ]
    }
   ],
   "source": [
    "print(\"one_point_total_list_intercept) \")\n",
    "print(\"0,1,2, x, y:           \", one_point_total_list_vertex)\n",
    "print(\"average distance_x:     \", one_point_total_list_vertex[-2]/ sum(one_point_total_list_vertex[:3]))\n",
    "print(\"average distance_y:     \", one_point_total_list_vertex[-1]/ sum(one_point_total_list_vertex[:3]))"
   ]
  },
  {
   "cell_type": "code",
   "execution_count": 131,
   "id": "03ad839c",
   "metadata": {
    "scrolled": true
   },
   "outputs": [
    {
     "name": "stdout",
     "output_type": "stream",
     "text": [
      "one_point_total_list_0) \n",
      "0,1,2, x, y:             [1296, 0, 0, 213979.2, 0.0]\n",
      "average distance_x:      165.1074074074074\n",
      "average distance_y:      0.0\n"
     ]
    }
   ],
   "source": [
    "print(\"one_point_total_list_0) \")\n",
    "print(\"0,1,2, x, y:            \", one_point_total_list)\n",
    "print(\"average distance_x:     \", one_point_total_list[-2]/ sum(one_point_total_list[:3]))\n",
    "print(\"average distance_y:     \", one_point_total_list[-1]/ sum(one_point_total_list[:3]))"
   ]
  },
  {
   "cell_type": "code",
   "execution_count": 132,
   "id": "dfa2fac0",
   "metadata": {},
   "outputs": [
    {
     "name": "stdout",
     "output_type": "stream",
     "text": [
      "one_point_total_list_1) \n",
      "0,1,2, x,y:              [0, 16848, 0, 2781729.6000000006, 277452.0]\n",
      "average distance_x:      165.10740740740744\n",
      "average distance_y:      16.46794871794872\n"
     ]
    }
   ],
   "source": [
    "print(\"one_point_total_list_1) \")\n",
    "print(\"0,1,2, x,y:             \", one_point_total_list_1st)\n",
    "print(\"average distance_x:     \",one_point_total_list_1st[-2]/ sum(one_point_total_list_1st[:3]))\n",
    "print(\"average distance_y:     \",one_point_total_list_1st[-1]/ sum(one_point_total_list_1st[:3]))"
   ]
  },
  {
   "cell_type": "code",
   "execution_count": 133,
   "id": "f0fa01d0",
   "metadata": {},
   "outputs": [
    {
     "name": "stdout",
     "output_type": "stream",
     "text": [
      "one_point_total_list_2) \n",
      "0,1,2, total_distance:   [0, 0, 39936, 10600012.799999999, 985600.0]\n",
      "average distance_x:      265.42499999999995\n",
      "average distance_y:      24.67948717948718\n"
     ]
    }
   ],
   "source": [
    "print(\"one_point_total_list_2) \")\n",
    "print(\"0,1,2, total_distance:  \", one_point_total_list_2nd)\n",
    "print(\"average distance_x:     \",one_point_total_list_2nd[-2]/ sum(one_point_total_list_2nd[:3]))\n",
    "print(\"average distance_y:     \",one_point_total_list_2nd[-1]/ sum(one_point_total_list_2nd[:3]))"
   ]
  },
  {
   "cell_type": "markdown",
   "id": "726a46cd",
   "metadata": {},
   "source": [
    "### 최종합계 및 계산"
   ]
  },
  {
   "cell_type": "code",
   "execution_count": 134,
   "id": "f1ccd6b0",
   "metadata": {},
   "outputs": [
    {
     "data": {
      "text/plain": [
       "[1680, 22992, 65088, 20033616.0, 2459660.0]"
      ]
     },
     "execution_count": 134,
     "metadata": {},
     "output_type": "execute_result"
    }
   ],
   "source": [
    "final_list= [0,0,0,0,0]\n",
    "for i in [0,1,2,3,4]:\n",
    "    final_list[i] =one_point_total_list_vertex[i]+ one_point_total_list[i] + one_point_total_list_1st[i]+ one_point_total_list_2nd[i]\n",
    "final_list"
   ]
  },
  {
   "cell_type": "code",
   "execution_count": 135,
   "id": "ab92d2af",
   "metadata": {},
   "outputs": [],
   "source": [
    "ave_turning = (final_list[1] + final_list[2]*2)/ sum(final_list[:3])\n",
    "ave_movement_x = final_list[-2]/ sum(final_list[:3])\n",
    "ave_movement_y = final_list[-1]/ sum(final_list[:3])"
   ]
  },
  {
   "cell_type": "code",
   "execution_count": 136,
   "id": "e81f9514",
   "metadata": {
    "scrolled": true
   },
   "outputs": [
    {
     "name": "stdout",
     "output_type": "stream",
     "text": [
      "1.7064171122994651 223.1909090909091 27.402629233511586\n"
     ]
    }
   ],
   "source": [
    "print(ave_turning, ave_movement_x,ave_movement_y)"
   ]
  },
  {
   "cell_type": "code",
   "execution_count": null,
   "id": "e44444e6",
   "metadata": {},
   "outputs": [],
   "source": []
  }
 ],
 "metadata": {
  "kernelspec": {
   "display_name": "Python 3 (ipykernel)",
   "language": "python",
   "name": "python3"
  },
  "language_info": {
   "codemirror_mode": {
    "name": "ipython",
    "version": 3
   },
   "file_extension": ".py",
   "mimetype": "text/x-python",
   "name": "python",
   "nbconvert_exporter": "python",
   "pygments_lexer": "ipython3",
   "version": "3.9.6"
  }
 },
 "nbformat": 4,
 "nbformat_minor": 5
}

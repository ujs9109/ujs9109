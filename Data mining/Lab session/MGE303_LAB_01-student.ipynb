{
 "cells": [
  {
   "cell_type": "markdown",
   "metadata": {},
   "source": [
    "# UNIST MGE303 Data Mining\n",
    "## Lab Session 01 | 2021-04-19 (MON)\n",
    "### Kyeongbin Kim (kimkyle@unist.ac.kr)\n",
    "\n",
    "\n",
    "\n",
    "## Supervised Learning (Regression): House Price Prediction"
   ]
  },
  {
   "cell_type": "markdown",
   "metadata": {},
   "source": [
    "**This Jupyter Kernel is based on Seok-Ju Hahn's work** "
   ]
  },
  {
   "cell_type": "markdown",
   "metadata": {},
   "source": [
    "\n",
    "\n",
    "\n"
   ]
  },
  {
   "cell_type": "markdown",
   "metadata": {},
   "source": [
    "### Preparation\n",
    "- Load packages using `import` command and alias command (`as`)\n",
    "- Remember trio: numpy, pandas, matplotlib"
   ]
  },
  {
   "cell_type": "code",
   "execution_count": 62,
   "metadata": {},
   "outputs": [],
   "source": [
    "import numpy as np\n",
    "import pandas as pd\n",
    "import matplotlib.pyplot as plt"
   ]
  },
  {
   "cell_type": "markdown",
   "metadata": {},
   "source": [
    "### Data Munging\n",
    "* <a href='#Load-data'>Load data</a>\n",
    "* <a href='#Handle-data'>Handle data</a>\n",
    "* <a href='#Split-training-and-test-data'>Split training and test data</a>"
   ]
  },
  {
   "cell_type": "markdown",
   "metadata": {},
   "source": [
    "\n",
    "\n",
    "\n"
   ]
  },
  {
   "cell_type": "markdown",
   "metadata": {},
   "source": [
    "\n",
    "\n",
    "\n"
   ]
  },
  {
   "cell_type": "markdown",
   "metadata": {},
   "source": [
    "\n",
    "\n",
    "\n"
   ]
  },
  {
   "cell_type": "markdown",
   "metadata": {},
   "source": [
    "#### Load data\n",
    "* Load data using `read_csv()` method\n",
    "  - Pandas package read data as `DataFrame` attribute"
   ]
  },
  {
   "cell_type": "code",
   "execution_count": 120,
   "metadata": {},
   "outputs": [],
   "source": [
    "df = pd.read_csv('./housing.csv')"
   ]
  },
  {
   "cell_type": "markdown",
   "metadata": {},
   "source": [
    "* Check the first few rows of data using `head()` method"
   ]
  },
  {
   "cell_type": "code",
   "execution_count": 121,
   "metadata": {
    "scrolled": true
   },
   "outputs": [
    {
     "data": {
      "text/html": [
       "<div>\n",
       "<style scoped>\n",
       "    .dataframe tbody tr th:only-of-type {\n",
       "        vertical-align: middle;\n",
       "    }\n",
       "\n",
       "    .dataframe tbody tr th {\n",
       "        vertical-align: top;\n",
       "    }\n",
       "\n",
       "    .dataframe thead th {\n",
       "        text-align: right;\n",
       "    }\n",
       "</style>\n",
       "<table border=\"1\" class=\"dataframe\">\n",
       "  <thead>\n",
       "    <tr style=\"text-align: right;\">\n",
       "      <th></th>\n",
       "      <th>longitude</th>\n",
       "      <th>latitude</th>\n",
       "      <th>housing_median_age</th>\n",
       "      <th>total_rooms</th>\n",
       "      <th>total_bedrooms</th>\n",
       "      <th>population</th>\n",
       "      <th>households</th>\n",
       "      <th>median_income</th>\n",
       "      <th>median_house_value</th>\n",
       "      <th>ocean_proximity</th>\n",
       "    </tr>\n",
       "  </thead>\n",
       "  <tbody>\n",
       "    <tr>\n",
       "      <th>0</th>\n",
       "      <td>-122.23</td>\n",
       "      <td>37.88</td>\n",
       "      <td>41.0</td>\n",
       "      <td>880.0</td>\n",
       "      <td>129.0</td>\n",
       "      <td>322.0</td>\n",
       "      <td>126.0</td>\n",
       "      <td>8.3252</td>\n",
       "      <td>452600.0</td>\n",
       "      <td>NEAR BAY</td>\n",
       "    </tr>\n",
       "    <tr>\n",
       "      <th>1</th>\n",
       "      <td>-122.22</td>\n",
       "      <td>37.86</td>\n",
       "      <td>21.0</td>\n",
       "      <td>7099.0</td>\n",
       "      <td>1106.0</td>\n",
       "      <td>2401.0</td>\n",
       "      <td>1138.0</td>\n",
       "      <td>8.3014</td>\n",
       "      <td>358500.0</td>\n",
       "      <td>NEAR BAY</td>\n",
       "    </tr>\n",
       "    <tr>\n",
       "      <th>2</th>\n",
       "      <td>-122.24</td>\n",
       "      <td>37.85</td>\n",
       "      <td>52.0</td>\n",
       "      <td>1467.0</td>\n",
       "      <td>190.0</td>\n",
       "      <td>496.0</td>\n",
       "      <td>177.0</td>\n",
       "      <td>7.2574</td>\n",
       "      <td>352100.0</td>\n",
       "      <td>NEAR BAY</td>\n",
       "    </tr>\n",
       "    <tr>\n",
       "      <th>3</th>\n",
       "      <td>-122.25</td>\n",
       "      <td>37.85</td>\n",
       "      <td>52.0</td>\n",
       "      <td>1274.0</td>\n",
       "      <td>235.0</td>\n",
       "      <td>558.0</td>\n",
       "      <td>219.0</td>\n",
       "      <td>5.6431</td>\n",
       "      <td>341300.0</td>\n",
       "      <td>NEAR BAY</td>\n",
       "    </tr>\n",
       "    <tr>\n",
       "      <th>4</th>\n",
       "      <td>-122.25</td>\n",
       "      <td>37.85</td>\n",
       "      <td>52.0</td>\n",
       "      <td>1627.0</td>\n",
       "      <td>280.0</td>\n",
       "      <td>565.0</td>\n",
       "      <td>259.0</td>\n",
       "      <td>3.8462</td>\n",
       "      <td>342200.0</td>\n",
       "      <td>NEAR BAY</td>\n",
       "    </tr>\n",
       "  </tbody>\n",
       "</table>\n",
       "</div>"
      ],
      "text/plain": [
       "   longitude  latitude  housing_median_age  total_rooms  total_bedrooms  \\\n",
       "0    -122.23     37.88                41.0        880.0           129.0   \n",
       "1    -122.22     37.86                21.0       7099.0          1106.0   \n",
       "2    -122.24     37.85                52.0       1467.0           190.0   \n",
       "3    -122.25     37.85                52.0       1274.0           235.0   \n",
       "4    -122.25     37.85                52.0       1627.0           280.0   \n",
       "\n",
       "   population  households  median_income  median_house_value ocean_proximity  \n",
       "0       322.0       126.0         8.3252            452600.0        NEAR BAY  \n",
       "1      2401.0      1138.0         8.3014            358500.0        NEAR BAY  \n",
       "2       496.0       177.0         7.2574            352100.0        NEAR BAY  \n",
       "3       558.0       219.0         5.6431            341300.0        NEAR BAY  \n",
       "4       565.0       259.0         3.8462            342200.0        NEAR BAY  "
      ]
     },
     "execution_count": 121,
     "metadata": {},
     "output_type": "execute_result"
    }
   ],
   "source": [
    "df.head()"
   ]
  },
  {
   "cell_type": "markdown",
   "metadata": {},
   "source": [
    "\n",
    "\n",
    "\n"
   ]
  },
  {
   "cell_type": "markdown",
   "metadata": {},
   "source": [
    "\n",
    "\n",
    "\n"
   ]
  },
  {
   "cell_type": "markdown",
   "metadata": {},
   "source": [
    "\n",
    "\n",
    "\n"
   ]
  },
  {
   "cell_type": "markdown",
   "metadata": {},
   "source": [
    "#### Handle data\n",
    "* Get some parts of data using `iloc[row_index, column_index]` and `loc[row_index_name, column_name]` methods\n",
    "  - `:` means 'all'\n",
    "  - Attaching `.values` returns numpy array, if not it reutrns `pd.Series` attribute"
   ]
  },
  {
   "cell_type": "code",
   "execution_count": 65,
   "metadata": {},
   "outputs": [
    {
     "data": {
      "text/plain": [
       "0       -122.23\n",
       "1       -122.22\n",
       "2       -122.24\n",
       "3       -122.25\n",
       "4       -122.25\n",
       "          ...  \n",
       "20635   -121.09\n",
       "20636   -121.21\n",
       "20637   -121.22\n",
       "20638   -121.32\n",
       "20639   -121.24\n",
       "Name: longitude, Length: 20640, dtype: float64"
      ]
     },
     "execution_count": 65,
     "metadata": {},
     "output_type": "execute_result"
    }
   ],
   "source": [
    "\"\"\"\n",
    "- Get the first column of data\n",
    "\"\"\"\n",
    "df.iloc[:, 0]"
   ]
  },
  {
   "cell_type": "code",
   "execution_count": 66,
   "metadata": {},
   "outputs": [
    {
     "data": {
      "text/plain": [
       "array([-122.23, -122.22, -122.24, ..., -121.22, -121.32, -121.24])"
      ]
     },
     "execution_count": 66,
     "metadata": {},
     "output_type": "execute_result"
    }
   ],
   "source": [
    "\"\"\"\n",
    "- Get the first column of data attaching `.values`\n",
    "= CAUTION: in Python, index strats at 0\n",
    "\"\"\"\n",
    "df.iloc[:, 0].values"
   ]
  },
  {
   "cell_type": "code",
   "execution_count": 67,
   "metadata": {},
   "outputs": [
    {
     "data": {
      "text/plain": [
       "2202.0"
      ]
     },
     "execution_count": 67,
     "metadata": {},
     "output_type": "execute_result"
    }
   ],
   "source": [
    "\"\"\"\n",
    "- Get the 11th data of 'total_rooms' feature \n",
    "\"\"\"\n",
    "df.loc[10, 'total_rooms']"
   ]
  },
  {
   "cell_type": "markdown",
   "metadata": {},
   "source": [
    "* You can refer a specific column using `[]` notation or `.column_name` notation"
   ]
  },
  {
   "cell_type": "code",
   "execution_count": 68,
   "metadata": {},
   "outputs": [
    {
     "data": {
      "text/plain": [
       "0        37.88\n",
       "1        37.86\n",
       "2        37.85\n",
       "3        37.85\n",
       "4        37.85\n",
       "         ...  \n",
       "20635    39.48\n",
       "20636    39.49\n",
       "20637    39.43\n",
       "20638    39.43\n",
       "20639    39.37\n",
       "Name: latitude, Length: 20640, dtype: float64"
      ]
     },
     "execution_count": 68,
     "metadata": {},
     "output_type": "execute_result"
    }
   ],
   "source": [
    "\"\"\"\n",
    "- Get the 'latitude' column\n",
    "\"\"\"\n",
    "df.latitude"
   ]
  },
  {
   "cell_type": "markdown",
   "metadata": {},
   "source": [
    "* Check simple description of data using `info()` method\n",
    "  - Column name\n",
    "  - Column/Row counts\n",
    "  - Data types\n",
    "  - Counts of non-null samples"
   ]
  },
  {
   "cell_type": "code",
   "execution_count": 69,
   "metadata": {},
   "outputs": [
    {
     "name": "stdout",
     "output_type": "stream",
     "text": [
      "<class 'pandas.core.frame.DataFrame'>\n",
      "RangeIndex: 20640 entries, 0 to 20639\n",
      "Data columns (total 10 columns):\n",
      " #   Column              Non-Null Count  Dtype  \n",
      "---  ------              --------------  -----  \n",
      " 0   longitude           20640 non-null  float64\n",
      " 1   latitude            20640 non-null  float64\n",
      " 2   housing_median_age  20640 non-null  float64\n",
      " 3   total_rooms         20640 non-null  float64\n",
      " 4   total_bedrooms      20433 non-null  float64\n",
      " 5   population          20640 non-null  float64\n",
      " 6   households          20640 non-null  float64\n",
      " 7   median_income       20640 non-null  float64\n",
      " 8   median_house_value  20640 non-null  float64\n",
      " 9   ocean_proximity     20640 non-null  object \n",
      "dtypes: float64(9), object(1)\n",
      "memory usage: 1.6+ MB\n"
     ]
    }
   ],
   "source": [
    "df.info()"
   ]
  },
  {
   "cell_type": "markdown",
   "metadata": {},
   "source": [
    "* Check a categorical feature using `value_counts()` method"
   ]
  },
  {
   "cell_type": "code",
   "execution_count": 70,
   "metadata": {},
   "outputs": [
    {
     "data": {
      "text/plain": [
       "<1H OCEAN     9136\n",
       "INLAND        6551\n",
       "NEAR OCEAN    2658\n",
       "NEAR BAY      2290\n",
       "ISLAND           5\n",
       "Name: ocean_proximity, dtype: int64"
      ]
     },
     "execution_count": 70,
     "metadata": {},
     "output_type": "execute_result"
    }
   ],
   "source": [
    "df['ocean_proximity'].value_counts()"
   ]
  },
  {
   "cell_type": "markdown",
   "metadata": {},
   "source": [
    "* Check summarized information of numerical features using `describe()` method"
   ]
  },
  {
   "cell_type": "code",
   "execution_count": 71,
   "metadata": {},
   "outputs": [
    {
     "data": {
      "text/html": [
       "<div>\n",
       "<style scoped>\n",
       "    .dataframe tbody tr th:only-of-type {\n",
       "        vertical-align: middle;\n",
       "    }\n",
       "\n",
       "    .dataframe tbody tr th {\n",
       "        vertical-align: top;\n",
       "    }\n",
       "\n",
       "    .dataframe thead th {\n",
       "        text-align: right;\n",
       "    }\n",
       "</style>\n",
       "<table border=\"1\" class=\"dataframe\">\n",
       "  <thead>\n",
       "    <tr style=\"text-align: right;\">\n",
       "      <th></th>\n",
       "      <th>longitude</th>\n",
       "      <th>latitude</th>\n",
       "      <th>housing_median_age</th>\n",
       "      <th>total_rooms</th>\n",
       "      <th>total_bedrooms</th>\n",
       "      <th>population</th>\n",
       "      <th>households</th>\n",
       "      <th>median_income</th>\n",
       "      <th>median_house_value</th>\n",
       "    </tr>\n",
       "  </thead>\n",
       "  <tbody>\n",
       "    <tr>\n",
       "      <th>count</th>\n",
       "      <td>20640.000000</td>\n",
       "      <td>20640.000000</td>\n",
       "      <td>20640.000000</td>\n",
       "      <td>20640.000000</td>\n",
       "      <td>20433.000000</td>\n",
       "      <td>20640.000000</td>\n",
       "      <td>20640.000000</td>\n",
       "      <td>20640.000000</td>\n",
       "      <td>20640.000000</td>\n",
       "    </tr>\n",
       "    <tr>\n",
       "      <th>mean</th>\n",
       "      <td>-119.569704</td>\n",
       "      <td>35.631861</td>\n",
       "      <td>28.639486</td>\n",
       "      <td>2635.763081</td>\n",
       "      <td>537.870553</td>\n",
       "      <td>1425.476744</td>\n",
       "      <td>499.539680</td>\n",
       "      <td>3.870671</td>\n",
       "      <td>206855.816909</td>\n",
       "    </tr>\n",
       "    <tr>\n",
       "      <th>std</th>\n",
       "      <td>2.003532</td>\n",
       "      <td>2.135952</td>\n",
       "      <td>12.585558</td>\n",
       "      <td>2181.615252</td>\n",
       "      <td>421.385070</td>\n",
       "      <td>1132.462122</td>\n",
       "      <td>382.329753</td>\n",
       "      <td>1.899822</td>\n",
       "      <td>115395.615874</td>\n",
       "    </tr>\n",
       "    <tr>\n",
       "      <th>min</th>\n",
       "      <td>-124.350000</td>\n",
       "      <td>32.540000</td>\n",
       "      <td>1.000000</td>\n",
       "      <td>2.000000</td>\n",
       "      <td>1.000000</td>\n",
       "      <td>3.000000</td>\n",
       "      <td>1.000000</td>\n",
       "      <td>0.499900</td>\n",
       "      <td>14999.000000</td>\n",
       "    </tr>\n",
       "    <tr>\n",
       "      <th>25%</th>\n",
       "      <td>-121.800000</td>\n",
       "      <td>33.930000</td>\n",
       "      <td>18.000000</td>\n",
       "      <td>1447.750000</td>\n",
       "      <td>296.000000</td>\n",
       "      <td>787.000000</td>\n",
       "      <td>280.000000</td>\n",
       "      <td>2.563400</td>\n",
       "      <td>119600.000000</td>\n",
       "    </tr>\n",
       "    <tr>\n",
       "      <th>50%</th>\n",
       "      <td>-118.490000</td>\n",
       "      <td>34.260000</td>\n",
       "      <td>29.000000</td>\n",
       "      <td>2127.000000</td>\n",
       "      <td>435.000000</td>\n",
       "      <td>1166.000000</td>\n",
       "      <td>409.000000</td>\n",
       "      <td>3.534800</td>\n",
       "      <td>179700.000000</td>\n",
       "    </tr>\n",
       "    <tr>\n",
       "      <th>75%</th>\n",
       "      <td>-118.010000</td>\n",
       "      <td>37.710000</td>\n",
       "      <td>37.000000</td>\n",
       "      <td>3148.000000</td>\n",
       "      <td>647.000000</td>\n",
       "      <td>1725.000000</td>\n",
       "      <td>605.000000</td>\n",
       "      <td>4.743250</td>\n",
       "      <td>264725.000000</td>\n",
       "    </tr>\n",
       "    <tr>\n",
       "      <th>max</th>\n",
       "      <td>-114.310000</td>\n",
       "      <td>41.950000</td>\n",
       "      <td>52.000000</td>\n",
       "      <td>39320.000000</td>\n",
       "      <td>6445.000000</td>\n",
       "      <td>35682.000000</td>\n",
       "      <td>6082.000000</td>\n",
       "      <td>15.000100</td>\n",
       "      <td>500001.000000</td>\n",
       "    </tr>\n",
       "  </tbody>\n",
       "</table>\n",
       "</div>"
      ],
      "text/plain": [
       "          longitude      latitude  housing_median_age   total_rooms  \\\n",
       "count  20640.000000  20640.000000        20640.000000  20640.000000   \n",
       "mean    -119.569704     35.631861           28.639486   2635.763081   \n",
       "std        2.003532      2.135952           12.585558   2181.615252   \n",
       "min     -124.350000     32.540000            1.000000      2.000000   \n",
       "25%     -121.800000     33.930000           18.000000   1447.750000   \n",
       "50%     -118.490000     34.260000           29.000000   2127.000000   \n",
       "75%     -118.010000     37.710000           37.000000   3148.000000   \n",
       "max     -114.310000     41.950000           52.000000  39320.000000   \n",
       "\n",
       "       total_bedrooms    population    households  median_income  \\\n",
       "count    20433.000000  20640.000000  20640.000000   20640.000000   \n",
       "mean       537.870553   1425.476744    499.539680       3.870671   \n",
       "std        421.385070   1132.462122    382.329753       1.899822   \n",
       "min          1.000000      3.000000      1.000000       0.499900   \n",
       "25%        296.000000    787.000000    280.000000       2.563400   \n",
       "50%        435.000000   1166.000000    409.000000       3.534800   \n",
       "75%        647.000000   1725.000000    605.000000       4.743250   \n",
       "max       6445.000000  35682.000000   6082.000000      15.000100   \n",
       "\n",
       "       median_house_value  \n",
       "count        20640.000000  \n",
       "mean        206855.816909  \n",
       "std         115395.615874  \n",
       "min          14999.000000  \n",
       "25%         119600.000000  \n",
       "50%         179700.000000  \n",
       "75%         264725.000000  \n",
       "max         500001.000000  "
      ]
     },
     "execution_count": 71,
     "metadata": {},
     "output_type": "execute_result"
    }
   ],
   "source": [
    "df.describe()"
   ]
  },
  {
   "cell_type": "markdown",
   "metadata": {},
   "source": [
    "* Plot histogram of each column to check sanity of the data\n",
    "  - Attach `hist()` method to your dataframe"
   ]
  },
  {
   "cell_type": "code",
   "execution_count": 72,
   "metadata": {},
   "outputs": [
    {
     "data": {
      "image/png": "[encoded data removed]",
      "text/plain": [
       "<Figure size 1440x1080 with 9 Axes>"
      ]
     },
     "metadata": {
      "needs_background": "light"
     },
     "output_type": "display_data"
    }
   ],
   "source": [
    "df.hist(bins=50, figsize=(20, 15))\n",
    "plt.show()"
   ]
  },
  {
   "cell_type": "markdown",
   "metadata": {},
   "source": [
    "##### What things can you find in the above histograms?\n",
    "- 'median_income(중위 소득)' variable is not represented in dollar. (See horizontal axis)\n",
    "- Maximum values of 'housing_median_age(중위 주택 연도)' and 'median_house_value(중위 주택 가격)' variables are strange.\n",
    "  - It is intentionally set to be limited by data collector.\n",
    "  - So, you don't have to care, but for other dataset, you should detect and ask this kinds of facts to data engineers.\n",
    "- Scales (value range) of predictors are different from each other.\n",
    "  - It is to be handled in data pre-processing stage."
   ]
  },
  {
   "cell_type": "markdown",
   "metadata": {},
   "source": [
    "\n",
    "\n",
    "\n"
   ]
  },
  {
   "cell_type": "markdown",
   "metadata": {},
   "source": [
    "\n",
    "\n",
    "\n"
   ]
  },
  {
   "cell_type": "markdown",
   "metadata": {},
   "source": [
    "\n",
    "\n",
    "\n"
   ]
  },
  {
   "cell_type": "markdown",
   "metadata": {},
   "source": [
    "#### Split training and test data\n",
    "- Remember, you **MUST** split test data first for simulating unseen data\n",
    "- Use `train_test_split()` method in scikit-learn package\n",
    "- If you use test set on training your models, it underestimates generalization error, which induces __data snooping bias__."
   ]
  },
  {
   "cell_type": "code",
   "execution_count": 73,
   "metadata": {},
   "outputs": [],
   "source": [
    "# import method\n",
    "from sklearn.model_selection import train_test_split"
   ]
  },
  {
   "cell_type": "code",
   "execution_count": 74,
   "metadata": {},
   "outputs": [],
   "source": [
    "# set `random_state` for reproduciblity\n",
    "training_set, test_set = train_test_split(df, test_size=0.2, random_state=202040) "
   ]
  },
  {
   "cell_type": "markdown",
   "metadata": {},
   "source": [
    "- Check sample counts of training and test set using `len()` method"
   ]
  },
  {
   "cell_type": "code",
   "execution_count": 75,
   "metadata": {},
   "outputs": [
    {
     "name": "stdout",
     "output_type": "stream",
     "text": [
      "Training samples: 16512, Test samples: 4128\n"
     ]
    }
   ],
   "source": [
    "TR_LENGTH = len(training_set)\n",
    "TE_LENGTH = len(test_set)\n",
    "\n",
    "print(f'Training samples: {TR_LENGTH}, Test samples: {TE_LENGTH}')"
   ]
  },
  {
   "cell_type": "markdown",
   "metadata": {},
   "source": [
    "\n",
    "\n",
    "\n"
   ]
  },
  {
   "cell_type": "markdown",
   "metadata": {},
   "source": [
    "\n",
    "\n",
    "\n"
   ]
  },
  {
   "cell_type": "markdown",
   "metadata": {},
   "source": [
    "\n",
    "\n",
    "\n"
   ]
  },
  {
   "cell_type": "markdown",
   "metadata": {},
   "source": [
    "### Exploratory Data Analysis (EDA)"
   ]
  },
  {
   "cell_type": "code",
   "execution_count": 76,
   "metadata": {},
   "outputs": [],
   "source": [
    "# copy data for preventing damage in raw training data\n",
    "data = training_set.copy()"
   ]
  },
  {
   "cell_type": "markdown",
   "metadata": {},
   "source": [
    "* Plot scatter-plot of your training data for indicating house location\n",
    "  - Attach `plot(kind='scatter', x='', y='')` method to your dataframe\n",
    "  - You can add `alpha` argument for effective representation of scatter density"
   ]
  },
  {
   "cell_type": "code",
   "execution_count": 77,
   "metadata": {},
   "outputs": [
    {
     "data": {
      "image/png": "[encoded data removed]",
      "text/plain": [
       "<Figure size 432x288 with 1 Axes>"
      ]
     },
     "metadata": {
      "needs_background": "light"
     },
     "output_type": "display_data"
    }
   ],
   "source": [
    "ax = data.plot(kind='scatter', x='longitude', y='latitude', alpha=0.1)\n",
    "ax.set(xlabel='Longitude', ylabel='Latitude')\n",
    "plt.show()"
   ]
  },
  {
   "cell_type": "markdown",
   "metadata": {},
   "source": [
    "* Calculate Pearson's r correlation coefficient among predictors\n",
    "  - Attach `corr()` method to dataframe"
   ]
  },
  {
   "cell_type": "code",
   "execution_count": 78,
   "metadata": {},
   "outputs": [
    {
     "data": {
      "text/html": [
       "<div>\n",
       "<style scoped>\n",
       "    .dataframe tbody tr th:only-of-type {\n",
       "        vertical-align: middle;\n",
       "    }\n",
       "\n",
       "    .dataframe tbody tr th {\n",
       "        vertical-align: top;\n",
       "    }\n",
       "\n",
       "    .dataframe thead th {\n",
       "        text-align: right;\n",
       "    }\n",
       "</style>\n",
       "<table border=\"1\" class=\"dataframe\">\n",
       "  <thead>\n",
       "    <tr style=\"text-align: right;\">\n",
       "      <th></th>\n",
       "      <th>longitude</th>\n",
       "      <th>latitude</th>\n",
       "      <th>housing_median_age</th>\n",
       "      <th>total_rooms</th>\n",
       "      <th>total_bedrooms</th>\n",
       "      <th>population</th>\n",
       "      <th>households</th>\n",
       "      <th>median_income</th>\n",
       "      <th>median_house_value</th>\n",
       "    </tr>\n",
       "  </thead>\n",
       "  <tbody>\n",
       "    <tr>\n",
       "      <th>longitude</th>\n",
       "      <td>1.000000</td>\n",
       "      <td>-0.924726</td>\n",
       "      <td>-0.103263</td>\n",
       "      <td>0.049015</td>\n",
       "      <td>0.072546</td>\n",
       "      <td>0.102086</td>\n",
       "      <td>0.058918</td>\n",
       "      <td>-0.014598</td>\n",
       "      <td>-0.047471</td>\n",
       "    </tr>\n",
       "    <tr>\n",
       "      <th>latitude</th>\n",
       "      <td>-0.924726</td>\n",
       "      <td>1.000000</td>\n",
       "      <td>0.005275</td>\n",
       "      <td>-0.043288</td>\n",
       "      <td>-0.072183</td>\n",
       "      <td>-0.112571</td>\n",
       "      <td>-0.076660</td>\n",
       "      <td>-0.080461</td>\n",
       "      <td>-0.142119</td>\n",
       "    </tr>\n",
       "    <tr>\n",
       "      <th>housing_median_age</th>\n",
       "      <td>-0.103263</td>\n",
       "      <td>0.005275</td>\n",
       "      <td>1.000000</td>\n",
       "      <td>-0.360107</td>\n",
       "      <td>-0.320407</td>\n",
       "      <td>-0.293105</td>\n",
       "      <td>-0.302444</td>\n",
       "      <td>-0.116998</td>\n",
       "      <td>0.108591</td>\n",
       "    </tr>\n",
       "    <tr>\n",
       "      <th>total_rooms</th>\n",
       "      <td>0.049015</td>\n",
       "      <td>-0.043288</td>\n",
       "      <td>-0.360107</td>\n",
       "      <td>1.000000</td>\n",
       "      <td>0.931133</td>\n",
       "      <td>0.855019</td>\n",
       "      <td>0.920570</td>\n",
       "      <td>0.199310</td>\n",
       "      <td>0.133397</td>\n",
       "    </tr>\n",
       "    <tr>\n",
       "      <th>total_bedrooms</th>\n",
       "      <td>0.072546</td>\n",
       "      <td>-0.072183</td>\n",
       "      <td>-0.320407</td>\n",
       "      <td>0.931133</td>\n",
       "      <td>1.000000</td>\n",
       "      <td>0.876469</td>\n",
       "      <td>0.980907</td>\n",
       "      <td>-0.007292</td>\n",
       "      <td>0.046944</td>\n",
       "    </tr>\n",
       "    <tr>\n",
       "      <th>population</th>\n",
       "      <td>0.102086</td>\n",
       "      <td>-0.112571</td>\n",
       "      <td>-0.293105</td>\n",
       "      <td>0.855019</td>\n",
       "      <td>0.876469</td>\n",
       "      <td>1.000000</td>\n",
       "      <td>0.904495</td>\n",
       "      <td>0.005575</td>\n",
       "      <td>-0.026485</td>\n",
       "    </tr>\n",
       "    <tr>\n",
       "      <th>households</th>\n",
       "      <td>0.058918</td>\n",
       "      <td>-0.076660</td>\n",
       "      <td>-0.302444</td>\n",
       "      <td>0.920570</td>\n",
       "      <td>0.980907</td>\n",
       "      <td>0.904495</td>\n",
       "      <td>1.000000</td>\n",
       "      <td>0.013392</td>\n",
       "      <td>0.062730</td>\n",
       "    </tr>\n",
       "    <tr>\n",
       "      <th>median_income</th>\n",
       "      <td>-0.014598</td>\n",
       "      <td>-0.080461</td>\n",
       "      <td>-0.116998</td>\n",
       "      <td>0.199310</td>\n",
       "      <td>-0.007292</td>\n",
       "      <td>0.005575</td>\n",
       "      <td>0.013392</td>\n",
       "      <td>1.000000</td>\n",
       "      <td>0.687874</td>\n",
       "    </tr>\n",
       "    <tr>\n",
       "      <th>median_house_value</th>\n",
       "      <td>-0.047471</td>\n",
       "      <td>-0.142119</td>\n",
       "      <td>0.108591</td>\n",
       "      <td>0.133397</td>\n",
       "      <td>0.046944</td>\n",
       "      <td>-0.026485</td>\n",
       "      <td>0.062730</td>\n",
       "      <td>0.687874</td>\n",
       "      <td>1.000000</td>\n",
       "    </tr>\n",
       "  </tbody>\n",
       "</table>\n",
       "</div>"
      ],
      "text/plain": [
       "                    longitude  latitude  housing_median_age  total_rooms  \\\n",
       "longitude            1.000000 -0.924726           -0.103263     0.049015   \n",
       "latitude            -0.924726  1.000000            0.005275    -0.043288   \n",
       "housing_median_age  -0.103263  0.005275            1.000000    -0.360107   \n",
       "total_rooms          0.049015 -0.043288           -0.360107     1.000000   \n",
       "total_bedrooms       0.072546 -0.072183           -0.320407     0.931133   \n",
       "population           0.102086 -0.112571           -0.293105     0.855019   \n",
       "households           0.058918 -0.076660           -0.302444     0.920570   \n",
       "median_income       -0.014598 -0.080461           -0.116998     0.199310   \n",
       "median_house_value  -0.047471 -0.142119            0.108591     0.133397   \n",
       "\n",
       "                    total_bedrooms  population  households  median_income  \\\n",
       "longitude                 0.072546    0.102086    0.058918      -0.014598   \n",
       "latitude                 -0.072183   -0.112571   -0.076660      -0.080461   \n",
       "housing_median_age       -0.320407   -0.293105   -0.302444      -0.116998   \n",
       "total_rooms               0.931133    0.855019    0.920570       0.199310   \n",
       "total_bedrooms            1.000000    0.876469    0.980907      -0.007292   \n",
       "population                0.876469    1.000000    0.904495       0.005575   \n",
       "households                0.980907    0.904495    1.000000       0.013392   \n",
       "median_income            -0.007292    0.005575    0.013392       1.000000   \n",
       "median_house_value        0.046944   -0.026485    0.062730       0.687874   \n",
       "\n",
       "                    median_house_value  \n",
       "longitude                    -0.047471  \n",
       "latitude                     -0.142119  \n",
       "housing_median_age            0.108591  \n",
       "total_rooms                   0.133397  \n",
       "total_bedrooms                0.046944  \n",
       "population                   -0.026485  \n",
       "households                    0.062730  \n",
       "median_income                 0.687874  \n",
       "median_house_value            1.000000  "
      ]
     },
     "execution_count": 78,
     "metadata": {},
     "output_type": "execute_result"
    }
   ],
   "source": [
    "correlation_matrix = data.corr()\n",
    "correlation_matrix"
   ]
  },
  {
   "cell_type": "markdown",
   "metadata": {},
   "source": [
    "* Inspect which variable is highly correlated with house value\n",
    "  - Attach `sort_values(ascending=False)` method to correlation matrix you made, after referring the 'median_house_value' column"
   ]
  },
  {
   "cell_type": "code",
   "execution_count": 79,
   "metadata": {
    "scrolled": true
   },
   "outputs": [
    {
     "data": {
      "text/plain": [
       "median_house_value    1.000000\n",
       "median_income         0.687874\n",
       "total_rooms           0.133397\n",
       "housing_median_age    0.108591\n",
       "households            0.062730\n",
       "total_bedrooms        0.046944\n",
       "population           -0.026485\n",
       "longitude            -0.047471\n",
       "latitude             -0.142119\n",
       "Name: median_house_value, dtype: float64"
      ]
     },
     "execution_count": 79,
     "metadata": {},
     "output_type": "execute_result"
    }
   ],
   "source": [
    "correlation_matrix['median_house_value'].sort_values(ascending=False)"
   ]
  },
  {
   "cell_type": "markdown",
   "metadata": {},
   "source": [
    "* Seems like 'median_income' is highly correalted with house price\n",
    "  - let us see scatter plot again"
   ]
  },
  {
   "cell_type": "code",
   "execution_count": 80,
   "metadata": {},
   "outputs": [
    {
     "data": {
      "image/png": "[encoded data removed]",
      "text/plain": [
       "<Figure size 432x288 with 1 Axes>"
      ]
     },
     "metadata": {
      "needs_background": "light"
     },
     "output_type": "display_data"
    }
   ],
   "source": [
    "data.plot(kind='scatter', x='median_income', y='median_house_value', alpha=0.1)\n",
    "plt.show()"
   ]
  },
  {
   "cell_type": "markdown",
   "metadata": {},
   "source": [
    "* Yes, it seems better to remove the uppermost lines (due to intentional limit by data engineers).\n",
    "* You can filter out samples to be remained by providing conditions in `[]` notation."
   ]
  },
  {
   "cell_type": "code",
   "execution_count": 81,
   "metadata": {},
   "outputs": [],
   "source": [
    "data = data[data['median_house_value'] < 500000]"
   ]
  },
  {
   "cell_type": "code",
   "execution_count": 82,
   "metadata": {},
   "outputs": [
    {
     "name": "stdout",
     "output_type": "stream",
     "text": [
      "<class 'pandas.core.frame.DataFrame'>\n",
      "Int64Index: 15717 entries, 5386 to 2585\n",
      "Data columns (total 10 columns):\n",
      " #   Column              Non-Null Count  Dtype  \n",
      "---  ------              --------------  -----  \n",
      " 0   longitude           15717 non-null  float64\n",
      " 1   latitude            15717 non-null  float64\n",
      " 2   housing_median_age  15717 non-null  float64\n",
      " 3   total_rooms         15717 non-null  float64\n",
      " 4   total_bedrooms      15559 non-null  float64\n",
      " 5   population          15717 non-null  float64\n",
      " 6   households          15717 non-null  float64\n",
      " 7   median_income       15717 non-null  float64\n",
      " 8   median_house_value  15717 non-null  float64\n",
      " 9   ocean_proximity     15717 non-null  object \n",
      "dtypes: float64(9), object(1)\n",
      "memory usage: 1.3+ MB\n"
     ]
    }
   ],
   "source": [
    "data.info()"
   ]
  },
  {
   "cell_type": "markdown",
   "metadata": {},
   "source": [
    "* You can do more!\n",
    "  - <u>Create new features</u> by combining existing predictors\n",
    "  - This kind of work can strengthen our hypothesis (if it is done in a sophisticated manner) \n",
    "\n",
    "* For example, it is better to know the number of rooms per household rather than 'total_rooms'.\n",
    "* Same logic can be applied for 'total_bedrooms' and 'population'\n",
    "  - Let us make new features: 'rooms_per_household', 'bedrooms_per_room', 'people_per_household'"
   ]
  },
  {
   "cell_type": "code",
   "execution_count": 83,
   "metadata": {},
   "outputs": [
    {
     "name": "stderr",
     "output_type": "stream",
     "text": [
      "<ipython-input-83-541815b7839e>:1: SettingWithCopyWarning: \n",
      "A value is trying to be set on a copy of a slice from a DataFrame.\n",
      "Try using .loc[row_indexer,col_indexer] = value instead\n",
      "\n",
      "See the caveats in the documentation: https://pandas.pydata.org/pandas-docs/stable/user_guide/indexing.html#returning-a-view-versus-a-copy\n",
      "  data['rooms_per_household'] = data['total_rooms'] / data['households']\n",
      "<ipython-input-83-541815b7839e>:2: SettingWithCopyWarning: \n",
      "A value is trying to be set on a copy of a slice from a DataFrame.\n",
      "Try using .loc[row_indexer,col_indexer] = value instead\n",
      "\n",
      "See the caveats in the documentation: https://pandas.pydata.org/pandas-docs/stable/user_guide/indexing.html#returning-a-view-versus-a-copy\n",
      "  data['bedrooms_per_room'] = data['total_bedrooms'] / data['total_rooms']\n",
      "<ipython-input-83-541815b7839e>:3: SettingWithCopyWarning: \n",
      "A value is trying to be set on a copy of a slice from a DataFrame.\n",
      "Try using .loc[row_indexer,col_indexer] = value instead\n",
      "\n",
      "See the caveats in the documentation: https://pandas.pydata.org/pandas-docs/stable/user_guide/indexing.html#returning-a-view-versus-a-copy\n",
      "  data['people_per_household'] = data['population'] / data['households']\n"
     ]
    }
   ],
   "source": [
    "data['rooms_per_household'] = data['total_rooms'] / data['households']\n",
    "data['bedrooms_per_room'] = data['total_bedrooms'] / data['total_rooms']\n",
    "data['people_per_household'] = data['population'] / data['households']"
   ]
  },
  {
   "cell_type": "code",
   "execution_count": 84,
   "metadata": {},
   "outputs": [
    {
     "data": {
      "text/plain": [
       "median_house_value      1.000000\n",
       "median_income           0.645514\n",
       "total_rooms             0.142905\n",
       "rooms_per_household     0.112020\n",
       "households              0.091778\n",
       "total_bedrooms          0.071951\n",
       "housing_median_age      0.070114\n",
       "population              0.011031\n",
       "people_per_household   -0.019586\n",
       "longitude              -0.048110\n",
       "latitude               -0.146159\n",
       "bedrooms_per_room      -0.222653\n",
       "Name: median_house_value, dtype: float64"
      ]
     },
     "execution_count": 84,
     "metadata": {},
     "output_type": "execute_result"
    }
   ],
   "source": [
    "# Check correlation matrix again for additional features\n",
    "correlation_matrix = data.corr()\n",
    "correlation_matrix['median_house_value'].sort_values(ascending=False)"
   ]
  },
  {
   "cell_type": "markdown",
   "metadata": {},
   "source": [
    "\n",
    "\n",
    "\n"
   ]
  },
  {
   "cell_type": "markdown",
   "metadata": {},
   "source": [
    "\n",
    "\n",
    "\n"
   ]
  },
  {
   "cell_type": "markdown",
   "metadata": {},
   "source": [
    "\n",
    "\n",
    "\n"
   ]
  },
  {
   "cell_type": "markdown",
   "metadata": {},
   "source": [
    "### Data Pre-processing\n",
    "* <a href='#Cleanse-data'>Cleanse data</a>\n",
    "* <a href='#Scale-data'>Scale data</a>"
   ]
  },
  {
   "cell_type": "markdown",
   "metadata": {},
   "source": [
    "#### Cleanse data\n",
    "* Handle missing values\n",
    "  - Just remove rows with missing values\n",
    "  - Impute missing values using mean, median, or imputation algorithms (NOT covered today)\n",
    "  - Collect data again\n",
    "* Drop unncessary columns\n",
    "* Remove duplicated samples\n",
    "* Convert categorical data into numerical representation (encoding)"
   ]
  },
  {
   "cell_type": "markdown",
   "metadata": {},
   "source": [
    "##### Handle missing values\n",
    "- Remove rows with missing value\n",
    "- Attach `dropna()` to the dataframe"
   ]
  },
  {
   "cell_type": "code",
   "execution_count": 85,
   "metadata": {},
   "outputs": [
    {
     "name": "stdout",
     "output_type": "stream",
     "text": [
      "<class 'pandas.core.frame.DataFrame'>\n",
      "Int64Index: 15717 entries, 5386 to 2585\n",
      "Data columns (total 13 columns):\n",
      " #   Column                Non-Null Count  Dtype  \n",
      "---  ------                --------------  -----  \n",
      " 0   longitude             15717 non-null  float64\n",
      " 1   latitude              15717 non-null  float64\n",
      " 2   housing_median_age    15717 non-null  float64\n",
      " 3   total_rooms           15717 non-null  float64\n",
      " 4   total_bedrooms        15559 non-null  float64\n",
      " 5   population            15717 non-null  float64\n",
      " 6   households            15717 non-null  float64\n",
      " 7   median_income         15717 non-null  float64\n",
      " 8   median_house_value    15717 non-null  float64\n",
      " 9   ocean_proximity       15717 non-null  object \n",
      " 10  rooms_per_household   15717 non-null  float64\n",
      " 11  bedrooms_per_room     15559 non-null  float64\n",
      " 12  people_per_household  15717 non-null  float64\n",
      "dtypes: float64(12), object(1)\n",
      "memory usage: 1.7+ MB\n"
     ]
    }
   ],
   "source": [
    "# We have missing data in 'total_bedrooms' and 'bedrooms_per_room' features\n",
    "data.info()"
   ]
  },
  {
   "cell_type": "code",
   "execution_count": 86,
   "metadata": {},
   "outputs": [],
   "source": [
    "data = data.dropna()"
   ]
  },
  {
   "cell_type": "code",
   "execution_count": 87,
   "metadata": {},
   "outputs": [
    {
     "name": "stdout",
     "output_type": "stream",
     "text": [
      "<class 'pandas.core.frame.DataFrame'>\n",
      "Int64Index: 15559 entries, 5386 to 2585\n",
      "Data columns (total 13 columns):\n",
      " #   Column                Non-Null Count  Dtype  \n",
      "---  ------                --------------  -----  \n",
      " 0   longitude             15559 non-null  float64\n",
      " 1   latitude              15559 non-null  float64\n",
      " 2   housing_median_age    15559 non-null  float64\n",
      " 3   total_rooms           15559 non-null  float64\n",
      " 4   total_bedrooms        15559 non-null  float64\n",
      " 5   population            15559 non-null  float64\n",
      " 6   households            15559 non-null  float64\n",
      " 7   median_income         15559 non-null  float64\n",
      " 8   median_house_value    15559 non-null  float64\n",
      " 9   ocean_proximity       15559 non-null  object \n",
      " 10  rooms_per_household   15559 non-null  float64\n",
      " 11  bedrooms_per_room     15559 non-null  float64\n",
      " 12  people_per_household  15559 non-null  float64\n",
      "dtypes: float64(12), object(1)\n",
      "memory usage: 1.7+ MB\n"
     ]
    }
   ],
   "source": [
    "data.info()"
   ]
  },
  {
   "cell_type": "markdown",
   "metadata": {},
   "source": [
    "##### Drop unncessary columns\n",
    "- As we made new features ('rooms_per_household', 'bedrooms_per_room', 'people_per_household'), let us remove features used for making three predictors\n",
    "- Attach `drop(columns=['COLUMN_NAME'], axis=1)` to the dataframe"
   ]
  },
  {
   "cell_type": "code",
   "execution_count": 88,
   "metadata": {},
   "outputs": [],
   "source": [
    "data = data.drop(columns=['total_rooms', 'total_bedrooms', 'population', 'households'], axis=1)"
   ]
  },
  {
   "cell_type": "code",
   "execution_count": 89,
   "metadata": {},
   "outputs": [
    {
     "name": "stdout",
     "output_type": "stream",
     "text": [
      "<class 'pandas.core.frame.DataFrame'>\n",
      "Int64Index: 15559 entries, 5386 to 2585\n",
      "Data columns (total 9 columns):\n",
      " #   Column                Non-Null Count  Dtype  \n",
      "---  ------                --------------  -----  \n",
      " 0   longitude             15559 non-null  float64\n",
      " 1   latitude              15559 non-null  float64\n",
      " 2   housing_median_age    15559 non-null  float64\n",
      " 3   median_income         15559 non-null  float64\n",
      " 4   median_house_value    15559 non-null  float64\n",
      " 5   ocean_proximity       15559 non-null  object \n",
      " 6   rooms_per_household   15559 non-null  float64\n",
      " 7   bedrooms_per_room     15559 non-null  float64\n",
      " 8   people_per_household  15559 non-null  float64\n",
      "dtypes: float64(8), object(1)\n",
      "memory usage: 1.2+ MB\n"
     ]
    }
   ],
   "source": [
    "data.info()"
   ]
  },
  {
   "cell_type": "code",
   "execution_count": 90,
   "metadata": {},
   "outputs": [
    {
     "data": {
      "text/plain": [
       "(15559, 9)"
      ]
     },
     "execution_count": 90,
     "metadata": {},
     "output_type": "execute_result"
    }
   ],
   "source": [
    "data.shape"
   ]
  },
  {
   "cell_type": "markdown",
   "metadata": {},
   "source": [
    "##### Drop duplicated samples\n",
    "- Attach `drop_duplicates()` to the dataframe"
   ]
  },
  {
   "cell_type": "code",
   "execution_count": 91,
   "metadata": {},
   "outputs": [
    {
     "data": {
      "text/plain": [
       "(15559, 9)"
      ]
     },
     "execution_count": 91,
     "metadata": {},
     "output_type": "execute_result"
    }
   ],
   "source": [
    "data = data.drop_duplicates()\n",
    "data.shape"
   ]
  },
  {
   "cell_type": "markdown",
   "metadata": {},
   "source": [
    "##### Encode cateogrical feature\n",
    "- Convert categorical feature represented in string format into numerical representation ('ocean_proximity' feature)"
   ]
  },
  {
   "cell_type": "code",
   "execution_count": 119,
   "metadata": {},
   "outputs": [
    {
     "data": {
      "text/html": [
       "<div>\n",
       "<style scoped>\n",
       "    .dataframe tbody tr th:only-of-type {\n",
       "        vertical-align: middle;\n",
       "    }\n",
       "\n",
       "    .dataframe tbody tr th {\n",
       "        vertical-align: top;\n",
       "    }\n",
       "\n",
       "    .dataframe thead th {\n",
       "        text-align: right;\n",
       "    }\n",
       "</style>\n",
       "<table border=\"1\" class=\"dataframe\">\n",
       "  <thead>\n",
       "    <tr style=\"text-align: right;\">\n",
       "      <th></th>\n",
       "      <th>longitude</th>\n",
       "      <th>latitude</th>\n",
       "      <th>housing_median_age</th>\n",
       "      <th>median_income</th>\n",
       "      <th>median_house_value</th>\n",
       "      <th>ocean_proximity</th>\n",
       "      <th>rooms_per_household</th>\n",
       "      <th>bedrooms_per_room</th>\n",
       "      <th>people_per_household</th>\n",
       "    </tr>\n",
       "  </thead>\n",
       "  <tbody>\n",
       "    <tr>\n",
       "      <th>5386</th>\n",
       "      <td>-118.41</td>\n",
       "      <td>34.02</td>\n",
       "      <td>24.0</td>\n",
       "      <td>3.5022</td>\n",
       "      <td>281300.0</td>\n",
       "      <td>&lt;1H OCEAN</td>\n",
       "      <td>3.771676</td>\n",
       "      <td>0.289655</td>\n",
       "      <td>1.910405</td>\n",
       "    </tr>\n",
       "    <tr>\n",
       "      <th>16516</th>\n",
       "      <td>-121.21</td>\n",
       "      <td>37.81</td>\n",
       "      <td>18.0</td>\n",
       "      <td>2.9950</td>\n",
       "      <td>124300.0</td>\n",
       "      <td>INLAND</td>\n",
       "      <td>4.750988</td>\n",
       "      <td>0.207155</td>\n",
       "      <td>3.025692</td>\n",
       "    </tr>\n",
       "    <tr>\n",
       "      <th>12181</th>\n",
       "      <td>-117.27</td>\n",
       "      <td>33.77</td>\n",
       "      <td>16.0</td>\n",
       "      <td>2.0878</td>\n",
       "      <td>101300.0</td>\n",
       "      <td>&lt;1H OCEAN</td>\n",
       "      <td>5.277064</td>\n",
       "      <td>0.200278</td>\n",
       "      <td>3.411009</td>\n",
       "    </tr>\n",
       "    <tr>\n",
       "      <th>908</th>\n",
       "      <td>-122.00</td>\n",
       "      <td>37.54</td>\n",
       "      <td>29.0</td>\n",
       "      <td>5.1616</td>\n",
       "      <td>275100.0</td>\n",
       "      <td>&lt;1H OCEAN</td>\n",
       "      <td>5.518024</td>\n",
       "      <td>0.180015</td>\n",
       "      <td>2.700935</td>\n",
       "    </tr>\n",
       "    <tr>\n",
       "      <th>361</th>\n",
       "      <td>-122.12</td>\n",
       "      <td>37.75</td>\n",
       "      <td>33.0</td>\n",
       "      <td>6.8600</td>\n",
       "      <td>250000.0</td>\n",
       "      <td>NEAR BAY</td>\n",
       "      <td>8.260274</td>\n",
       "      <td>0.144279</td>\n",
       "      <td>3.689498</td>\n",
       "    </tr>\n",
       "    <tr>\n",
       "      <th>...</th>\n",
       "      <td>...</td>\n",
       "      <td>...</td>\n",
       "      <td>...</td>\n",
       "      <td>...</td>\n",
       "      <td>...</td>\n",
       "      <td>...</td>\n",
       "      <td>...</td>\n",
       "      <td>...</td>\n",
       "      <td>...</td>\n",
       "    </tr>\n",
       "    <tr>\n",
       "      <th>6349</th>\n",
       "      <td>-117.94</td>\n",
       "      <td>34.15</td>\n",
       "      <td>33.0</td>\n",
       "      <td>4.4821</td>\n",
       "      <td>220100.0</td>\n",
       "      <td>INLAND</td>\n",
       "      <td>6.224638</td>\n",
       "      <td>0.167637</td>\n",
       "      <td>3.050725</td>\n",
       "    </tr>\n",
       "    <tr>\n",
       "      <th>16449</th>\n",
       "      <td>-121.27</td>\n",
       "      <td>38.14</td>\n",
       "      <td>40.0</td>\n",
       "      <td>2.1250</td>\n",
       "      <td>137500.0</td>\n",
       "      <td>INLAND</td>\n",
       "      <td>4.056769</td>\n",
       "      <td>0.276642</td>\n",
       "      <td>2.515284</td>\n",
       "    </tr>\n",
       "    <tr>\n",
       "      <th>6016</th>\n",
       "      <td>-117.78</td>\n",
       "      <td>34.06</td>\n",
       "      <td>33.0</td>\n",
       "      <td>2.4464</td>\n",
       "      <td>128700.0</td>\n",
       "      <td>INLAND</td>\n",
       "      <td>3.520000</td>\n",
       "      <td>0.257576</td>\n",
       "      <td>3.213333</td>\n",
       "    </tr>\n",
       "    <tr>\n",
       "      <th>16482</th>\n",
       "      <td>-121.16</td>\n",
       "      <td>38.16</td>\n",
       "      <td>31.0</td>\n",
       "      <td>2.4906</td>\n",
       "      <td>122500.0</td>\n",
       "      <td>INLAND</td>\n",
       "      <td>6.180380</td>\n",
       "      <td>0.187404</td>\n",
       "      <td>3.161392</td>\n",
       "    </tr>\n",
       "    <tr>\n",
       "      <th>2585</th>\n",
       "      <td>-124.08</td>\n",
       "      <td>40.87</td>\n",
       "      <td>29.0</td>\n",
       "      <td>1.1479</td>\n",
       "      <td>101100.0</td>\n",
       "      <td>NEAR OCEAN</td>\n",
       "      <td>4.023529</td>\n",
       "      <td>0.274269</td>\n",
       "      <td>2.329412</td>\n",
       "    </tr>\n",
       "  </tbody>\n",
       "</table>\n",
       "<p>15559 rows × 9 columns</p>\n",
       "</div>"
      ],
      "text/plain": [
       "       longitude  latitude  housing_median_age  median_income  \\\n",
       "5386     -118.41     34.02                24.0         3.5022   \n",
       "16516    -121.21     37.81                18.0         2.9950   \n",
       "12181    -117.27     33.77                16.0         2.0878   \n",
       "908      -122.00     37.54                29.0         5.1616   \n",
       "361      -122.12     37.75                33.0         6.8600   \n",
       "...          ...       ...                 ...            ...   \n",
       "6349     -117.94     34.15                33.0         4.4821   \n",
       "16449    -121.27     38.14                40.0         2.1250   \n",
       "6016     -117.78     34.06                33.0         2.4464   \n",
       "16482    -121.16     38.16                31.0         2.4906   \n",
       "2585     -124.08     40.87                29.0         1.1479   \n",
       "\n",
       "       median_house_value ocean_proximity  rooms_per_household  \\\n",
       "5386             281300.0       <1H OCEAN             3.771676   \n",
       "16516            124300.0          INLAND             4.750988   \n",
       "12181            101300.0       <1H OCEAN             5.277064   \n",
       "908              275100.0       <1H OCEAN             5.518024   \n",
       "361              250000.0        NEAR BAY             8.260274   \n",
       "...                   ...             ...                  ...   \n",
       "6349             220100.0          INLAND             6.224638   \n",
       "16449            137500.0          INLAND             4.056769   \n",
       "6016             128700.0          INLAND             3.520000   \n",
       "16482            122500.0          INLAND             6.180380   \n",
       "2585             101100.0      NEAR OCEAN             4.023529   \n",
       "\n",
       "       bedrooms_per_room  people_per_household  \n",
       "5386            0.289655              1.910405  \n",
       "16516           0.207155              3.025692  \n",
       "12181           0.200278              3.411009  \n",
       "908             0.180015              2.700935  \n",
       "361             0.144279              3.689498  \n",
       "...                  ...                   ...  \n",
       "6349            0.167637              3.050725  \n",
       "16449           0.276642              2.515284  \n",
       "6016            0.257576              3.213333  \n",
       "16482           0.187404              3.161392  \n",
       "2585            0.274269              2.329412  \n",
       "\n",
       "[15559 rows x 9 columns]"
      ]
     },
     "execution_count": 119,
     "metadata": {},
     "output_type": "execute_result"
    }
   ],
   "source": [
    "data"
   ]
  },
  {
   "cell_type": "code",
   "execution_count": 92,
   "metadata": {},
   "outputs": [],
   "source": [
    "# let us first separate numerical and categorical columns\n",
    "cat_feat = ['ocean_proximity']\n",
    "num_feat = ['longitude', 'latitude', 'housing_median_age', 'median_income', 'rooms_per_household', 'bedrooms_per_room', 'people_per_household']"
   ]
  },
  {
   "cell_type": "markdown",
   "metadata": {},
   "source": [
    "- *Beware* that we at first need to split out the dependent variable first!\n",
    "- Use `drop()` and `loc()` method!"
   ]
  },
  {
   "cell_type": "code",
   "execution_count": 93,
   "metadata": {},
   "outputs": [],
   "source": [
    "X_train, y_train = data.drop(columns=['median_house_value'], axis=1, inplace=False), data['median_house_value'].values"
   ]
  },
  {
   "cell_type": "markdown",
   "metadata": {},
   "source": [
    "- Use `OneHotEncoer` provided by Scikit-Learn package\n",
    "- Select 'ocean_proximity' column only using `[]` or `.COLUMN_NAME` or `loc()` or `iloc()`, and call `fit_transform()` method to `OneHotEncoder`"
   ]
  },
  {
   "cell_type": "code",
   "execution_count": 94,
   "metadata": {
    "scrolled": true
   },
   "outputs": [],
   "source": [
    "from sklearn.preprocessing import OneHotEncoder"
   ]
  },
  {
   "cell_type": "code",
   "execution_count": 95,
   "metadata": {},
   "outputs": [],
   "source": [
    "encoder = OneHotEncoder(sparse=False)\n",
    "\n",
    "encoder.fit(X_train['ocean_proximity'].values.reshape(-1, 1))\n",
    "X_train_cat = encoder.transform(X_train['ocean_proximity'].values.reshape(-1, 1))"
   ]
  },
  {
   "cell_type": "markdown",
   "metadata": {},
   "source": [
    "* CAUTION! for test set, you need to fit on training data first, and SHOULD only transform test set!\n",
    "  - example code snippet)\n",
    "\n",
    "<pre>\n",
    "  encoder.fit(training_data)\n",
    "  training_data = encoder.transform(training_data)\n",
    "  test_data = encoder.transform(test_data)\n",
    "</pre>"
   ]
  },
  {
   "cell_type": "code",
   "execution_count": 96,
   "metadata": {},
   "outputs": [
    {
     "data": {
      "text/plain": [
       "array([[1., 0., 0., 0., 0.],\n",
       "       [0., 1., 0., 0., 0.],\n",
       "       [1., 0., 0., 0., 0.],\n",
       "       ...,\n",
       "       [0., 1., 0., 0., 0.],\n",
       "       [0., 1., 0., 0., 0.],\n",
       "       [0., 0., 0., 0., 1.]])"
      ]
     },
     "execution_count": 96,
     "metadata": {},
     "output_type": "execute_result"
    }
   ],
   "source": [
    "X_train_cat"
   ]
  },
  {
   "cell_type": "code",
   "execution_count": 97,
   "metadata": {},
   "outputs": [
    {
     "data": {
      "text/plain": [
       "(15559, 5)"
      ]
     },
     "execution_count": 97,
     "metadata": {},
     "output_type": "execute_result"
    }
   ],
   "source": [
    "X_train_cat.shape"
   ]
  },
  {
   "cell_type": "markdown",
   "metadata": {},
   "source": [
    "### Now, all data are transformed into numerical values!"
   ]
  },
  {
   "cell_type": "markdown",
   "metadata": {},
   "source": [
    "#### Scale data\n",
    "* Feature scaling means to transform ranges of all **numerical** features to be similar with each other. <br> (it is enough to just one-hot-encode categorical features)\n",
    "* Standard scaling (standardization) is to make feature to have mean 0 and standard deviation 1.\n",
    "  - It is **TOTALLY different** from converting data distribution to Gaussian ditsribution!!!\n",
    "  - Except for models having assumption of Gaussian distributed data, such as Linear Discriminant analysis, Gaussian Mixture models, <br>\n",
    "  it is NOT needed to convert data distribution to be Gaussian.\n",
    "  - It is just shift the range of feature distribution\n",
    "* Feature scaling is especially important for algorithms:\n",
    "  - based on Euclidean distance like K-means clustering, k-NN (different scale distorts distance measure)\n",
    "  - based on gradient-based optimizations like logistic regression, neural networks (different scales distorts loss surface)\n",
    "  - regard scale of features with significance like PCA"
   ]
  },
  {
   "cell_type": "markdown",
   "metadata": {},
   "source": [
    "##### Scale numerical features\n",
    "- Scale numerical features to have mean 0 and standard deviation 1\n",
    "- Use `StandardScaler` provided by Scikit-Learn package\n",
    "- Select numerical feature columns and call `fit_trnasform()` method"
   ]
  },
  {
   "cell_type": "code",
   "execution_count": 98,
   "metadata": {},
   "outputs": [],
   "source": [
    "from sklearn.preprocessing import StandardScaler\n",
    "\n",
    "scalar = StandardScaler()\n",
    "scalar.fit(X_train[num_feat].values)\n",
    "X_train_num = scalar.transform(X_train[num_feat].values)"
   ]
  },
  {
   "cell_type": "code",
   "execution_count": 99,
   "metadata": {},
   "outputs": [
    {
     "data": {
      "text/plain": [
       "(15559, 7)"
      ]
     },
     "execution_count": 99,
     "metadata": {},
     "output_type": "execute_result"
    }
   ],
   "source": [
    "X_train_num.shape"
   ]
  },
  {
   "cell_type": "markdown",
   "metadata": {},
   "source": [
    "##### Finish up data pre-processing\n",
    "- Now, we need to concatenate categorical (one-hot encoded) and numerical (standardized) features!\n",
    "- It can be easily done by `np.concatenate([*arrays], axis=1)` method"
   ]
  },
  {
   "cell_type": "code",
   "execution_count": 100,
   "metadata": {},
   "outputs": [
    {
     "data": {
      "text/plain": [
       "(15559, 12)"
      ]
     },
     "execution_count": 100,
     "metadata": {},
     "output_type": "execute_result"
    }
   ],
   "source": [
    "X_train = np.concatenate([X_train_num, X_train_cat], axis=1)\n",
    "X_train.shape"
   ]
  },
  {
   "cell_type": "markdown",
   "metadata": {},
   "source": [
    "### Don't forget! You should do the same process above on the test set you made in <a href='#Split-training-and-test-data'>here</a>"
   ]
  },
  {
   "cell_type": "markdown",
   "metadata": {},
   "source": [
    "\n",
    "\n",
    "\n"
   ]
  },
  {
   "cell_type": "markdown",
   "metadata": {},
   "source": [
    "### Model training and evaluation\n",
    "* <a href='#Train-model'>Train model</a>\n",
    "* <a href='#Evaluate-model'>Evaluate model</a>"
   ]
  },
  {
   "cell_type": "markdown",
   "metadata": {},
   "source": [
    "#### Train model\n",
    "* Choose an appropriate algorithm for your problem setting\n",
    "* There are tons of ready-made algorithms in here: <a href='https://scikit-learn.org/stable/supervised_learning.html'>Scikit-Learn</a>"
   ]
  },
  {
   "cell_type": "markdown",
   "metadata": {},
   "source": [
    "* To train model, we need to create model instance such as `LinearRegression()` and call `fit()` method by providing independent and dependent variables."
   ]
  },
  {
   "cell_type": "code",
   "execution_count": 101,
   "metadata": {},
   "outputs": [
    {
     "data": {
      "text/plain": [
       "LinearRegression()"
      ]
     },
     "execution_count": 101,
     "metadata": {},
     "output_type": "execute_result"
    }
   ],
   "source": [
    "from sklearn.linear_model import LinearRegression\n",
    "\n",
    "lin_reg = LinearRegression()\n",
    "lin_reg.fit(X_train, y_train)"
   ]
  },
  {
   "cell_type": "markdown",
   "metadata": {},
   "source": [
    "* Performance of the trained model on the training set can easily be found by calling `score()` method (which returns r-squared) or calling another metrics like `mean_squared_error` with result from `predict()` method."
   ]
  },
  {
   "cell_type": "code",
   "execution_count": 102,
   "metadata": {},
   "outputs": [
    {
     "data": {
      "text/plain": [
       "0.593101467384535"
      ]
     },
     "execution_count": 102,
     "metadata": {},
     "output_type": "execute_result"
    }
   ],
   "source": [
    "lin_reg.score(X_train, y_train)"
   ]
  },
  {
   "cell_type": "code",
   "execution_count": 103,
   "metadata": {},
   "outputs": [
    {
     "name": "stdout",
     "output_type": "stream",
     "text": [
      "MAE: 45706.9342, MSE: 3830588071.8046, RMSE: 61891.7448\n"
     ]
    }
   ],
   "source": [
    "from sklearn.metrics import mean_squared_error, mean_absolute_error\n",
    "\n",
    "y_pred_train = lin_reg.predict(X_train)\n",
    "\n",
    "lin_reg_mse = mean_squared_error(y_train, y_pred_train)\n",
    "lin_reg_mae = mean_absolute_error(y_train, y_pred_train)\n",
    "\n",
    "print(f'MAE: {lin_reg_mae:.4f}, MSE: {lin_reg_mse:.4f}, RMSE: {np.sqrt(lin_reg_mse):.4f}')"
   ]
  },
  {
   "cell_type": "markdown",
   "metadata": {},
   "source": [
    "\n",
    "\n",
    "\n"
   ]
  },
  {
   "cell_type": "markdown",
   "metadata": {},
   "source": [
    "\n",
    "\n",
    "\n"
   ]
  },
  {
   "cell_type": "markdown",
   "metadata": {},
   "source": [
    "\n",
    "\n",
    "\n"
   ]
  },
  {
   "cell_type": "markdown",
   "metadata": {},
   "source": [
    "#### Evaluate model\n",
    "* Internal evaluation\n",
    "  - Evaluate the performance of the trained model using training data by simulating training-test split internally.\n",
    "  - Bootstrapping (NOT covered), cross-validation\n",
    "* External evaluation\n",
    "  - Evaluate the performance of the trained model using unseen data (test set)."
   ]
  },
  {
   "cell_type": "markdown",
   "metadata": {},
   "source": [
    "##### Internal evaluation\n",
    "- Can be easily done by `cross_val_score()` method\n",
    "- When passing argument `cv=10`, it executes 10-fold CV"
   ]
  },
  {
   "cell_type": "code",
   "execution_count": 104,
   "metadata": {},
   "outputs": [],
   "source": [
    "from sklearn.model_selection import cross_val_score\n",
    "\n",
    "scores = cross_val_score(LinearRegression(), X_train, y_train, scoring='neg_mean_squared_error', cv=10)\n",
    "lin_reg_rmse_cv_scores = np.sqrt(-scores)"
   ]
  },
  {
   "cell_type": "code",
   "execution_count": 105,
   "metadata": {},
   "outputs": [
    {
     "name": "stdout",
     "output_type": "stream",
     "text": [
      "Scores: [61203.73039232 61187.18482927 61294.30144604 62723.034282\n",
      " 63452.28744925 60635.77317544 61700.98658045 63205.45165825\n",
      " 60066.9957778  64498.76622154],\n",
      "Mean: 61996.8512,\n",
      "Std: 1334.4856\n"
     ]
    }
   ],
   "source": [
    "print(f'Scores: {lin_reg_rmse_cv_scores},\\nMean: {np.mean(lin_reg_rmse_cv_scores):.4f},\\nStd: {np.std(lin_reg_rmse_cv_scores):.4f}')"
   ]
  },
  {
   "cell_type": "markdown",
   "metadata": {},
   "source": [
    "##### External evaluation\n",
    "- After processing <a href='#Split-training-and-test-data'>test set</a> you split above in the same way as training set, measure the performance of the trained model on this test set\n",
    "- Use `predict()` method"
   ]
  },
  {
   "cell_type": "code",
   "execution_count": 106,
   "metadata": {},
   "outputs": [],
   "source": [
    "test = test_set.copy()"
   ]
  },
  {
   "cell_type": "code",
   "execution_count": 107,
   "metadata": {},
   "outputs": [],
   "source": [
    "test = test[test['median_house_value'] < 500000]"
   ]
  },
  {
   "cell_type": "code",
   "execution_count": 108,
   "metadata": {},
   "outputs": [],
   "source": [
    "test['rooms_per_household'] = test['total_rooms'] / test['households']\n",
    "test['bedrooms_per_room'] = test['total_bedrooms'] / test['total_rooms']\n",
    "test['people_per_household'] = test['population'] / test['households']"
   ]
  },
  {
   "cell_type": "code",
   "execution_count": 109,
   "metadata": {},
   "outputs": [],
   "source": [
    "test = test.dropna()"
   ]
  },
  {
   "cell_type": "code",
   "execution_count": 110,
   "metadata": {},
   "outputs": [],
   "source": [
    "test = test.drop(columns=['total_rooms', 'total_bedrooms', 'population', 'households'], axis=1)"
   ]
  },
  {
   "cell_type": "code",
   "execution_count": 111,
   "metadata": {},
   "outputs": [],
   "source": [
    "test = test.drop_duplicates()"
   ]
  },
  {
   "cell_type": "code",
   "execution_count": 112,
   "metadata": {},
   "outputs": [],
   "source": [
    "X_test, y_test = test.drop(columns=['median_house_value'], axis=1, inplace=False), test['median_house_value'].values"
   ]
  },
  {
   "cell_type": "code",
   "execution_count": 113,
   "metadata": {},
   "outputs": [],
   "source": [
    "cat_feat = ['ocean_proximity']\n",
    "num_feat = ['longitude', 'latitude', 'housing_median_age', 'median_income', 'rooms_per_household', 'bedrooms_per_room', 'people_per_household']"
   ]
  },
  {
   "cell_type": "code",
   "execution_count": 114,
   "metadata": {},
   "outputs": [],
   "source": [
    "# encoder is the one you've done fitting in the above using training set!!!\n",
    "X_test_cat = encoder.transform(X_test['ocean_proximity'].values.reshape(-1, 1))"
   ]
  },
  {
   "cell_type": "code",
   "execution_count": 115,
   "metadata": {},
   "outputs": [],
   "source": [
    "# scalar is the one you've done fitting in the above using training set!!!\n",
    "X_test_num = scalar.transform(X_test[num_feat].values)"
   ]
  },
  {
   "cell_type": "code",
   "execution_count": 116,
   "metadata": {},
   "outputs": [],
   "source": [
    "X_test = np.concatenate([X_test_num, X_test_cat], axis=1)"
   ]
  },
  {
   "cell_type": "code",
   "execution_count": 117,
   "metadata": {},
   "outputs": [
    {
     "name": "stdout",
     "output_type": "stream",
     "text": [
      "MAE: 44797.8116, MSE: 3702269197.0979, RMSE: 60846.2751\n"
     ]
    }
   ],
   "source": [
    "y_pred_test = lin_reg.predict(X_test)\n",
    "\n",
    "lin_reg_mse = mean_squared_error(y_test, y_pred_test)\n",
    "lin_reg_mae = mean_absolute_error(y_test, y_pred_test)\n",
    "\n",
    "print(f'MAE: {lin_reg_mae:.4f}, MSE: {lin_reg_mse:.4f}, RMSE: {np.sqrt(lin_reg_mse):.4f}')"
   ]
  },
  {
   "cell_type": "markdown",
   "metadata": {},
   "source": [
    "\n",
    "\n",
    "\n"
   ]
  },
  {
   "cell_type": "markdown",
   "metadata": {},
   "source": [
    "\n",
    "\n",
    "\n"
   ]
  },
  {
   "cell_type": "markdown",
   "metadata": {},
   "source": [
    "\n",
    "\n",
    "\n"
   ]
  }
 ],
 "metadata": {
  "kernelspec": {
   "display_name": "Python 3",
   "language": "python",
   "name": "python3"
  },
  "language_info": {
   "codemirror_mode": {
    "name": "ipython",
    "version": 3
   },
   "file_extension": ".py",
   "mimetype": "text/x-python",
   "name": "python",
   "nbconvert_exporter": "python",
   "pygments_lexer": "ipython3",
   "version": "3.8.3"
  },
  "nav_menu": {
   "height": "279px",
   "width": "309px"
  },
  "toc": {
   "nav_menu": {},
   "number_sections": true,
   "sideBar": true,
   "skip_h1_title": false,
   "toc_cell": false,
   "toc_position": {},
   "toc_section_display": "block",
   "toc_window_display": false
  }
 },
 "nbformat": 4,
 "nbformat_minor": 4
}

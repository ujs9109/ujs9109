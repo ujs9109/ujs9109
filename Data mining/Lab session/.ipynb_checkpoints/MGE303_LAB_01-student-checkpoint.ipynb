{
 "cells": [
  {
   "cell_type": "markdown",
   "metadata": {},
   "source": [
    "# UNIST MGE303 Data Mining\n",
    "## Lab Session 01 | 2021-04-19 (MON)\n",
    "### Kyeongbin Kim (kimkyle@unist.ac.kr)\n",
    "\n",
    "\n",
    "\n",
    "## Supervised Learning (Regression): House Price Prediction"
   ]
  },
  {
   "cell_type": "markdown",
   "metadata": {},
   "source": [
    "**This Jupyter Kernel is based on Seok-Ju Hahn's work** "
   ]
  },
  {
   "cell_type": "markdown",
   "metadata": {},
   "source": [
    "\n",
    "\n",
    "\n"
   ]
  },
  {
   "cell_type": "markdown",
   "metadata": {},
   "source": [
    "### Preparation\n",
    "- Load packages using `import` command and alias command (`as`)\n",
    "- Remember trio: numpy, pandas, matplotlib"
   ]
  },
  {
   "cell_type": "code",
   "execution_count": 2,
   "metadata": {},
   "outputs": [],
   "source": [
    "import numpy as np\n",
    "import pandas as pd\n",
    "import matplotlib.pyplot as plt"
   ]
  },
  {
   "cell_type": "markdown",
   "metadata": {},
   "source": [
    "### Data Munging\n",
    "* <a href='#Load-data'>Load data</a>\n",
    "* <a href='#Handle-data'>Handle data</a>\n",
    "* <a href='#Split-training-and-test-data'>Split training and test data</a>"
   ]
  },
  {
   "cell_type": "markdown",
   "metadata": {},
   "source": [
    "\n",
    "\n",
    "\n"
   ]
  },
  {
   "cell_type": "markdown",
   "metadata": {},
   "source": [
    "\n",
    "\n",
    "\n"
   ]
  },
  {
   "cell_type": "markdown",
   "metadata": {},
   "source": [
    "\n",
    "\n",
    "\n"
   ]
  },
  {
   "cell_type": "markdown",
   "metadata": {},
   "source": [
    "#### Load data\n",
    "* Load data using `read_csv()` method\n",
    "  - Pandas package read data as `DataFrame` attribute"
   ]
  },
  {
   "cell_type": "code",
   "execution_count": 3,
   "metadata": {},
   "outputs": [],
   "source": [
    "df = pd.read_csv('./housing.csv')"
   ]
  },
  {
   "cell_type": "markdown",
   "metadata": {},
   "source": [
    "* Check the first few rows of data using `head()` method"
   ]
  },
  {
   "cell_type": "code",
   "execution_count": 4,
   "metadata": {},
   "outputs": [
    {
     "data": {
      "text/html": [
       "<div>\n",
       "<style scoped>\n",
       "    .dataframe tbody tr th:only-of-type {\n",
       "        vertical-align: middle;\n",
       "    }\n",
       "\n",
       "    .dataframe tbody tr th {\n",
       "        vertical-align: top;\n",
       "    }\n",
       "\n",
       "    .dataframe thead th {\n",
       "        text-align: right;\n",
       "    }\n",
       "</style>\n",
       "<table border=\"1\" class=\"dataframe\">\n",
       "  <thead>\n",
       "    <tr style=\"text-align: right;\">\n",
       "      <th></th>\n",
       "      <th>longitude</th>\n",
       "      <th>latitude</th>\n",
       "      <th>housing_median_age</th>\n",
       "      <th>total_rooms</th>\n",
       "      <th>total_bedrooms</th>\n",
       "      <th>population</th>\n",
       "      <th>households</th>\n",
       "      <th>median_income</th>\n",
       "      <th>median_house_value</th>\n",
       "      <th>ocean_proximity</th>\n",
       "    </tr>\n",
       "  </thead>\n",
       "  <tbody>\n",
       "    <tr>\n",
       "      <th>0</th>\n",
       "      <td>-122.23</td>\n",
       "      <td>37.88</td>\n",
       "      <td>41.0</td>\n",
       "      <td>880.0</td>\n",
       "      <td>129.0</td>\n",
       "      <td>322.0</td>\n",
       "      <td>126.0</td>\n",
       "      <td>8.3252</td>\n",
       "      <td>452600.0</td>\n",
       "      <td>NEAR BAY</td>\n",
       "    </tr>\n",
       "    <tr>\n",
       "      <th>1</th>\n",
       "      <td>-122.22</td>\n",
       "      <td>37.86</td>\n",
       "      <td>21.0</td>\n",
       "      <td>7099.0</td>\n",
       "      <td>1106.0</td>\n",
       "      <td>2401.0</td>\n",
       "      <td>1138.0</td>\n",
       "      <td>8.3014</td>\n",
       "      <td>358500.0</td>\n",
       "      <td>NEAR BAY</td>\n",
       "    </tr>\n",
       "    <tr>\n",
       "      <th>2</th>\n",
       "      <td>-122.24</td>\n",
       "      <td>37.85</td>\n",
       "      <td>52.0</td>\n",
       "      <td>1467.0</td>\n",
       "      <td>190.0</td>\n",
       "      <td>496.0</td>\n",
       "      <td>177.0</td>\n",
       "      <td>7.2574</td>\n",
       "      <td>352100.0</td>\n",
       "      <td>NEAR BAY</td>\n",
       "    </tr>\n",
       "    <tr>\n",
       "      <th>3</th>\n",
       "      <td>-122.25</td>\n",
       "      <td>37.85</td>\n",
       "      <td>52.0</td>\n",
       "      <td>1274.0</td>\n",
       "      <td>235.0</td>\n",
       "      <td>558.0</td>\n",
       "      <td>219.0</td>\n",
       "      <td>5.6431</td>\n",
       "      <td>341300.0</td>\n",
       "      <td>NEAR BAY</td>\n",
       "    </tr>\n",
       "    <tr>\n",
       "      <th>4</th>\n",
       "      <td>-122.25</td>\n",
       "      <td>37.85</td>\n",
       "      <td>52.0</td>\n",
       "      <td>1627.0</td>\n",
       "      <td>280.0</td>\n",
       "      <td>565.0</td>\n",
       "      <td>259.0</td>\n",
       "      <td>3.8462</td>\n",
       "      <td>342200.0</td>\n",
       "      <td>NEAR BAY</td>\n",
       "    </tr>\n",
       "  </tbody>\n",
       "</table>\n",
       "</div>"
      ],
      "text/plain": [
       "   longitude  latitude  housing_median_age  total_rooms  total_bedrooms  \\\n",
       "0    -122.23     37.88                41.0        880.0           129.0   \n",
       "1    -122.22     37.86                21.0       7099.0          1106.0   \n",
       "2    -122.24     37.85                52.0       1467.0           190.0   \n",
       "3    -122.25     37.85                52.0       1274.0           235.0   \n",
       "4    -122.25     37.85                52.0       1627.0           280.0   \n",
       "\n",
       "   population  households  median_income  median_house_value ocean_proximity  \n",
       "0       322.0       126.0         8.3252            452600.0        NEAR BAY  \n",
       "1      2401.0      1138.0         8.3014            358500.0        NEAR BAY  \n",
       "2       496.0       177.0         7.2574            352100.0        NEAR BAY  \n",
       "3       558.0       219.0         5.6431            341300.0        NEAR BAY  \n",
       "4       565.0       259.0         3.8462            342200.0        NEAR BAY  "
      ]
     },
     "execution_count": 4,
     "metadata": {},
     "output_type": "execute_result"
    }
   ],
   "source": [
    "df.head()"
   ]
  },
  {
   "cell_type": "markdown",
   "metadata": {},
   "source": [
    "\n",
    "\n",
    "\n"
   ]
  },
  {
   "cell_type": "markdown",
   "metadata": {},
   "source": [
    "\n",
    "\n",
    "\n"
   ]
  },
  {
   "cell_type": "markdown",
   "metadata": {},
   "source": [
    "\n",
    "\n",
    "\n"
   ]
  },
  {
   "cell_type": "markdown",
   "metadata": {},
   "source": [
    "#### Handle data\n",
    "* Get some parts of data using `iloc[row_index, column_index]` and `loc[row_index_name, column_name]` methods\n",
    "  - `:` means 'all'\n",
    "  - Attaching `.values` returns numpy array, if not it reutrns `pd.Series` attribute"
   ]
  },
  {
   "cell_type": "code",
   "execution_count": 5,
   "metadata": {},
   "outputs": [
    {
     "data": {
      "text/plain": [
       "0       -122.23\n",
       "1       -122.22\n",
       "2       -122.24\n",
       "3       -122.25\n",
       "4       -122.25\n",
       "5       -122.25\n",
       "6       -122.25\n",
       "7       -122.25\n",
       "8       -122.26\n",
       "9       -122.25\n",
       "10      -122.26\n",
       "11      -122.26\n",
       "12      -122.26\n",
       "13      -122.26\n",
       "14      -122.26\n",
       "15      -122.26\n",
       "16      -122.27\n",
       "17      -122.27\n",
       "18      -122.26\n",
       "19      -122.27\n",
       "20      -122.27\n",
       "21      -122.27\n",
       "22      -122.27\n",
       "23      -122.27\n",
       "24      -122.27\n",
       "25      -122.28\n",
       "26      -122.28\n",
       "27      -122.28\n",
       "28      -122.28\n",
       "29      -122.28\n",
       "          ...  \n",
       "20610   -121.56\n",
       "20611   -121.55\n",
       "20612   -121.56\n",
       "20613   -121.55\n",
       "20614   -121.54\n",
       "20615   -121.54\n",
       "20616   -121.53\n",
       "20617   -121.53\n",
       "20618   -121.55\n",
       "20619   -121.56\n",
       "20620   -121.48\n",
       "20621   -121.47\n",
       "20622   -121.44\n",
       "20623   -121.37\n",
       "20624   -121.41\n",
       "20625   -121.52\n",
       "20626   -121.43\n",
       "20627   -121.32\n",
       "20628   -121.48\n",
       "20629   -121.39\n",
       "20630   -121.32\n",
       "20631   -121.40\n",
       "20632   -121.45\n",
       "20633   -121.53\n",
       "20634   -121.56\n",
       "20635   -121.09\n",
       "20636   -121.21\n",
       "20637   -121.22\n",
       "20638   -121.32\n",
       "20639   -121.24\n",
       "Name: longitude, Length: 20640, dtype: float64"
      ]
     },
     "execution_count": 5,
     "metadata": {},
     "output_type": "execute_result"
    }
   ],
   "source": [
    "\"\"\"\n",
    "- Get the first column of data\n",
    "\"\"\"\n",
    "df.iloc[:, 0]"
   ]
  },
  {
   "cell_type": "code",
   "execution_count": 6,
   "metadata": {},
   "outputs": [
    {
     "data": {
      "text/plain": [
       "array([-122.23, -122.22, -122.24, ..., -121.22, -121.32, -121.24])"
      ]
     },
     "execution_count": 6,
     "metadata": {},
     "output_type": "execute_result"
    }
   ],
   "source": [
    "\"\"\"\n",
    "- Get the first column of data attaching `.values`\n",
    "= CAUTION: in Python, index strats at 0\n",
    "\"\"\"\n",
    "df.iloc[:, 0].values"
   ]
  },
  {
   "cell_type": "code",
   "execution_count": 7,
   "metadata": {},
   "outputs": [
    {
     "data": {
      "text/plain": [
       "2202.0"
      ]
     },
     "execution_count": 7,
     "metadata": {},
     "output_type": "execute_result"
    }
   ],
   "source": [
    "\"\"\"\n",
    "- Get the 11th data of 'total_rooms' feature \n",
    "\"\"\"\n",
    "df.loc[10, 'total_rooms']"
   ]
  },
  {
   "cell_type": "markdown",
   "metadata": {},
   "source": [
    "* You can refer a specific column using `[]` notation or `.column_name` notation"
   ]
  },
  {
   "cell_type": "code",
   "execution_count": 8,
   "metadata": {},
   "outputs": [
    {
     "data": {
      "text/plain": [
       "0        37.88\n",
       "1        37.86\n",
       "2        37.85\n",
       "3        37.85\n",
       "4        37.85\n",
       "5        37.85\n",
       "6        37.84\n",
       "7        37.84\n",
       "8        37.84\n",
       "9        37.84\n",
       "10       37.85\n",
       "11       37.85\n",
       "12       37.85\n",
       "13       37.84\n",
       "14       37.85\n",
       "15       37.85\n",
       "16       37.85\n",
       "17       37.85\n",
       "18       37.84\n",
       "19       37.84\n",
       "20       37.85\n",
       "21       37.85\n",
       "22       37.84\n",
       "23       37.84\n",
       "24       37.84\n",
       "25       37.85\n",
       "26       37.85\n",
       "27       37.85\n",
       "28       37.84\n",
       "29       37.84\n",
       "         ...  \n",
       "20610    39.10\n",
       "20611    39.10\n",
       "20612    39.08\n",
       "20613    39.09\n",
       "20614    39.08\n",
       "20615    39.08\n",
       "20616    39.08\n",
       "20617    39.06\n",
       "20618    39.06\n",
       "20619    39.01\n",
       "20620    39.05\n",
       "20621    39.01\n",
       "20622    39.00\n",
       "20623    39.03\n",
       "20624    39.04\n",
       "20625    39.12\n",
       "20626    39.18\n",
       "20627    39.13\n",
       "20628    39.10\n",
       "20629    39.12\n",
       "20630    39.29\n",
       "20631    39.33\n",
       "20632    39.26\n",
       "20633    39.19\n",
       "20634    39.27\n",
       "20635    39.48\n",
       "20636    39.49\n",
       "20637    39.43\n",
       "20638    39.43\n",
       "20639    39.37\n",
       "Name: latitude, Length: 20640, dtype: float64"
      ]
     },
     "execution_count": 8,
     "metadata": {},
     "output_type": "execute_result"
    }
   ],
   "source": [
    "\"\"\"\n",
    "- Get the 'latitude' column\n",
    "\"\"\"\n",
    "df.latitude"
   ]
  },
  {
   "cell_type": "markdown",
   "metadata": {},
   "source": [
    "* Check simple description of data using `info()` method\n",
    "  - Column name\n",
    "  - Column/Row counts\n",
    "  - Data types\n",
    "  - Counts of non-null samples"
   ]
  },
  {
   "cell_type": "code",
   "execution_count": 9,
   "metadata": {},
   "outputs": [
    {
     "name": "stdout",
     "output_type": "stream",
     "text": [
      "<class 'pandas.core.frame.DataFrame'>\n",
      "RangeIndex: 20640 entries, 0 to 20639\n",
      "Data columns (total 10 columns):\n",
      "longitude             20640 non-null float64\n",
      "latitude              20640 non-null float64\n",
      "housing_median_age    20640 non-null float64\n",
      "total_rooms           20640 non-null float64\n",
      "total_bedrooms        20433 non-null float64\n",
      "population            20640 non-null float64\n",
      "households            20640 non-null float64\n",
      "median_income         20640 non-null float64\n",
      "median_house_value    20640 non-null float64\n",
      "ocean_proximity       20640 non-null object\n",
      "dtypes: float64(9), object(1)\n",
      "memory usage: 1.6+ MB\n"
     ]
    }
   ],
   "source": [
    "df.info()"
   ]
  },
  {
   "cell_type": "markdown",
   "metadata": {},
   "source": [
    "* Check a categorical feature using `value_counts()` method"
   ]
  },
  {
   "cell_type": "code",
   "execution_count": 10,
   "metadata": {},
   "outputs": [
    {
     "data": {
      "text/plain": [
       "<1H OCEAN     9136\n",
       "INLAND        6551\n",
       "NEAR OCEAN    2658\n",
       "NEAR BAY      2290\n",
       "ISLAND           5\n",
       "Name: ocean_proximity, dtype: int64"
      ]
     },
     "execution_count": 10,
     "metadata": {},
     "output_type": "execute_result"
    }
   ],
   "source": [
    "df['ocean_proximity'].value_counts()"
   ]
  },
  {
   "cell_type": "markdown",
   "metadata": {},
   "source": [
    "* Check summarized information of numerical features using `describe()` method"
   ]
  },
  {
   "cell_type": "code",
   "execution_count": 11,
   "metadata": {},
   "outputs": [
    {
     "data": {
      "text/html": [
       "<div>\n",
       "<style scoped>\n",
       "    .dataframe tbody tr th:only-of-type {\n",
       "        vertical-align: middle;\n",
       "    }\n",
       "\n",
       "    .dataframe tbody tr th {\n",
       "        vertical-align: top;\n",
       "    }\n",
       "\n",
       "    .dataframe thead th {\n",
       "        text-align: right;\n",
       "    }\n",
       "</style>\n",
       "<table border=\"1\" class=\"dataframe\">\n",
       "  <thead>\n",
       "    <tr style=\"text-align: right;\">\n",
       "      <th></th>\n",
       "      <th>longitude</th>\n",
       "      <th>latitude</th>\n",
       "      <th>housing_median_age</th>\n",
       "      <th>total_rooms</th>\n",
       "      <th>total_bedrooms</th>\n",
       "      <th>population</th>\n",
       "      <th>households</th>\n",
       "      <th>median_income</th>\n",
       "      <th>median_house_value</th>\n",
       "    </tr>\n",
       "  </thead>\n",
       "  <tbody>\n",
       "    <tr>\n",
       "      <th>count</th>\n",
       "      <td>20640.000000</td>\n",
       "      <td>20640.000000</td>\n",
       "      <td>20640.000000</td>\n",
       "      <td>20640.000000</td>\n",
       "      <td>20433.000000</td>\n",
       "      <td>20640.000000</td>\n",
       "      <td>20640.000000</td>\n",
       "      <td>20640.000000</td>\n",
       "      <td>20640.000000</td>\n",
       "    </tr>\n",
       "    <tr>\n",
       "      <th>mean</th>\n",
       "      <td>-119.569704</td>\n",
       "      <td>35.631861</td>\n",
       "      <td>28.639486</td>\n",
       "      <td>2635.763081</td>\n",
       "      <td>537.870553</td>\n",
       "      <td>1425.476744</td>\n",
       "      <td>499.539680</td>\n",
       "      <td>3.870671</td>\n",
       "      <td>206855.816909</td>\n",
       "    </tr>\n",
       "    <tr>\n",
       "      <th>std</th>\n",
       "      <td>2.003532</td>\n",
       "      <td>2.135952</td>\n",
       "      <td>12.585558</td>\n",
       "      <td>2181.615252</td>\n",
       "      <td>421.385070</td>\n",
       "      <td>1132.462122</td>\n",
       "      <td>382.329753</td>\n",
       "      <td>1.899822</td>\n",
       "      <td>115395.615874</td>\n",
       "    </tr>\n",
       "    <tr>\n",
       "      <th>min</th>\n",
       "      <td>-124.350000</td>\n",
       "      <td>32.540000</td>\n",
       "      <td>1.000000</td>\n",
       "      <td>2.000000</td>\n",
       "      <td>1.000000</td>\n",
       "      <td>3.000000</td>\n",
       "      <td>1.000000</td>\n",
       "      <td>0.499900</td>\n",
       "      <td>14999.000000</td>\n",
       "    </tr>\n",
       "    <tr>\n",
       "      <th>25%</th>\n",
       "      <td>-121.800000</td>\n",
       "      <td>33.930000</td>\n",
       "      <td>18.000000</td>\n",
       "      <td>1447.750000</td>\n",
       "      <td>296.000000</td>\n",
       "      <td>787.000000</td>\n",
       "      <td>280.000000</td>\n",
       "      <td>2.563400</td>\n",
       "      <td>119600.000000</td>\n",
       "    </tr>\n",
       "    <tr>\n",
       "      <th>50%</th>\n",
       "      <td>-118.490000</td>\n",
       "      <td>34.260000</td>\n",
       "      <td>29.000000</td>\n",
       "      <td>2127.000000</td>\n",
       "      <td>435.000000</td>\n",
       "      <td>1166.000000</td>\n",
       "      <td>409.000000</td>\n",
       "      <td>3.534800</td>\n",
       "      <td>179700.000000</td>\n",
       "    </tr>\n",
       "    <tr>\n",
       "      <th>75%</th>\n",
       "      <td>-118.010000</td>\n",
       "      <td>37.710000</td>\n",
       "      <td>37.000000</td>\n",
       "      <td>3148.000000</td>\n",
       "      <td>647.000000</td>\n",
       "      <td>1725.000000</td>\n",
       "      <td>605.000000</td>\n",
       "      <td>4.743250</td>\n",
       "      <td>264725.000000</td>\n",
       "    </tr>\n",
       "    <tr>\n",
       "      <th>max</th>\n",
       "      <td>-114.310000</td>\n",
       "      <td>41.950000</td>\n",
       "      <td>52.000000</td>\n",
       "      <td>39320.000000</td>\n",
       "      <td>6445.000000</td>\n",
       "      <td>35682.000000</td>\n",
       "      <td>6082.000000</td>\n",
       "      <td>15.000100</td>\n",
       "      <td>500001.000000</td>\n",
       "    </tr>\n",
       "  </tbody>\n",
       "</table>\n",
       "</div>"
      ],
      "text/plain": [
       "          longitude      latitude  housing_median_age   total_rooms  \\\n",
       "count  20640.000000  20640.000000        20640.000000  20640.000000   \n",
       "mean    -119.569704     35.631861           28.639486   2635.763081   \n",
       "std        2.003532      2.135952           12.585558   2181.615252   \n",
       "min     -124.350000     32.540000            1.000000      2.000000   \n",
       "25%     -121.800000     33.930000           18.000000   1447.750000   \n",
       "50%     -118.490000     34.260000           29.000000   2127.000000   \n",
       "75%     -118.010000     37.710000           37.000000   3148.000000   \n",
       "max     -114.310000     41.950000           52.000000  39320.000000   \n",
       "\n",
       "       total_bedrooms    population    households  median_income  \\\n",
       "count    20433.000000  20640.000000  20640.000000   20640.000000   \n",
       "mean       537.870553   1425.476744    499.539680       3.870671   \n",
       "std        421.385070   1132.462122    382.329753       1.899822   \n",
       "min          1.000000      3.000000      1.000000       0.499900   \n",
       "25%        296.000000    787.000000    280.000000       2.563400   \n",
       "50%        435.000000   1166.000000    409.000000       3.534800   \n",
       "75%        647.000000   1725.000000    605.000000       4.743250   \n",
       "max       6445.000000  35682.000000   6082.000000      15.000100   \n",
       "\n",
       "       median_house_value  \n",
       "count        20640.000000  \n",
       "mean        206855.816909  \n",
       "std         115395.615874  \n",
       "min          14999.000000  \n",
       "25%         119600.000000  \n",
       "50%         179700.000000  \n",
       "75%         264725.000000  \n",
       "max         500001.000000  "
      ]
     },
     "execution_count": 11,
     "metadata": {},
     "output_type": "execute_result"
    }
   ],
   "source": [
    "df.describe()"
   ]
  },
  {
   "cell_type": "markdown",
   "metadata": {},
   "source": [
    "* Plot histogram of each column to check sanity of the data\n",
    "  - Attach `hist()` method to your dataframe"
   ]
  },
  {
   "cell_type": "code",
   "execution_count": 12,
   "metadata": {},
   "outputs": [
    {
     "data": {
      "image/png": "[encoded data removed]",
      "text/plain": [
       "<matplotlib.figure.Figure at 0x1371e1e6278>"
      ]
     },
     "metadata": {
      "needs_background": "light"
     },
     "output_type": "display_data"
    }
   ],
   "source": [
    "df.hist(bins=50, figsize=(20, 15))\n",
    "plt.show()"
   ]
  },
  {
   "cell_type": "markdown",
   "metadata": {},
   "source": [
    "##### What things can you find in the above histograms?\n",
    "- 'median_income(중위 소득)' variable is not represented in dollar. (See horizontal axis)\n",
    "- Maximum values of 'housing_median_age(중위 주택 연도)' and 'median_house_value(중위 주택 가격)' variables are strange.\n",
    "  - It is intentionally set to be limited by data collector.\n",
    "  - So, you don't have to care, but for other dataset, you should detect and ask this kinds of facts to data engineers.\n",
    "- Scales (value range) of predictors are different from each other.\n",
    "  - It is to be handled in data pre-processing stage."
   ]
  },
  {
   "cell_type": "markdown",
   "metadata": {},
   "source": [
    "\n",
    "\n",
    "\n"
   ]
  },
  {
   "cell_type": "markdown",
   "metadata": {},
   "source": [
    "\n",
    "\n",
    "\n"
   ]
  },
  {
   "cell_type": "markdown",
   "metadata": {},
   "source": [
    "\n",
    "\n",
    "\n"
   ]
  },
  {
   "cell_type": "markdown",
   "metadata": {},
   "source": [
    "#### Split training and test data\n",
    "- Remember, you **MUST** split test data first for simulating unseen data\n",
    "- Use `train_test_split()` method in scikit-learn package\n",
    "- If you use test set on training your models, it underestimates generalization error, which induces __data snooping bias__."
   ]
  },
  {
   "cell_type": "code",
   "execution_count": 13,
   "metadata": {},
   "outputs": [],
   "source": [
    "# import method\n",
    "from sklearn.model_selection import train_test_split"
   ]
  },
  {
   "cell_type": "code",
   "execution_count": 14,
   "metadata": {},
   "outputs": [],
   "source": [
    "# set `random_state` for reproduciblity\n",
    "training_set, test_set = train_test_split(df, test_size=0.2, random_state=202040) "
   ]
  },
  {
   "cell_type": "markdown",
   "metadata": {},
   "source": [
    "- Check sample counts of training and test set using `len()` method"
   ]
  },
  {
   "cell_type": "code",
   "execution_count": 15,
   "metadata": {},
   "outputs": [
    {
     "name": "stdout",
     "output_type": "stream",
     "text": [
      "Training samples: 16512, Test samples: 4128\n"
     ]
    }
   ],
   "source": [
    "TR_LENGTH = len(training_set)\n",
    "TE_LENGTH = len(test_set)\n",
    "\n",
    "print(f'Training samples: {TR_LENGTH}, Test samples: {TE_LENGTH}')"
   ]
  },
  {
   "cell_type": "markdown",
   "metadata": {},
   "source": [
    "\n",
    "\n",
    "\n"
   ]
  },
  {
   "cell_type": "markdown",
   "metadata": {},
   "source": [
    "\n",
    "\n",
    "\n"
   ]
  },
  {
   "cell_type": "markdown",
   "metadata": {},
   "source": [
    "\n",
    "\n",
    "\n"
   ]
  },
  {
   "cell_type": "markdown",
   "metadata": {},
   "source": [
    "### Exploratory Data Analysis (EDA)"
   ]
  },
  {
   "cell_type": "code",
   "execution_count": 16,
   "metadata": {},
   "outputs": [],
   "source": [
    "# copy data for preventing damage in raw training data\n",
    "data = training_set.copy()"
   ]
  },
  {
   "cell_type": "markdown",
   "metadata": {},
   "source": [
    "* Plot scatter-plot of your training data for indicating house location\n",
    "  - Attach `plot(kind='scatter', x='', y='')` method to your dataframe\n",
    "  - You can add `alpha` argument for effective representation of scatter density"
   ]
  },
  {
   "cell_type": "code",
   "execution_count": 17,
   "metadata": {},
   "outputs": [
    {
     "data": {
      "image/png": "[encoded data removed]",
      "text/plain": [
       "<matplotlib.figure.Figure at 0x13722d34a90>"
      ]
     },
     "metadata": {
      "needs_background": "light"
     },
     "output_type": "display_data"
    }
   ],
   "source": [
    "ax = data.plot(kind='scatter', x='longitude', y='latitude', alpha=0.1)\n",
    "ax.set(xlabel='Longitude', ylabel='Latitude')\n",
    "plt.show()"
   ]
  },
  {
   "cell_type": "markdown",
   "metadata": {},
   "source": [
    "* Calculate Pearson's r correlation coefficient among predictors\n",
    "  - Attach `corr()` method to dataframe"
   ]
  },
  {
   "cell_type": "code",
   "execution_count": 18,
   "metadata": {},
   "outputs": [
    {
     "data": {
      "text/html": [
       "<div>\n",
       "<style scoped>\n",
       "    .dataframe tbody tr th:only-of-type {\n",
       "        vertical-align: middle;\n",
       "    }\n",
       "\n",
       "    .dataframe tbody tr th {\n",
       "        vertical-align: top;\n",
       "    }\n",
       "\n",
       "    .dataframe thead th {\n",
       "        text-align: right;\n",
       "    }\n",
       "</style>\n",
       "<table border=\"1\" class=\"dataframe\">\n",
       "  <thead>\n",
       "    <tr style=\"text-align: right;\">\n",
       "      <th></th>\n",
       "      <th>longitude</th>\n",
       "      <th>latitude</th>\n",
       "      <th>housing_median_age</th>\n",
       "      <th>total_rooms</th>\n",
       "      <th>total_bedrooms</th>\n",
       "      <th>population</th>\n",
       "      <th>households</th>\n",
       "      <th>median_income</th>\n",
       "      <th>median_house_value</th>\n",
       "    </tr>\n",
       "  </thead>\n",
       "  <tbody>\n",
       "    <tr>\n",
       "      <th>longitude</th>\n",
       "      <td>1.000000</td>\n",
       "      <td>-0.924726</td>\n",
       "      <td>-0.103263</td>\n",
       "      <td>0.049015</td>\n",
       "      <td>0.072546</td>\n",
       "      <td>0.102086</td>\n",
       "      <td>0.058918</td>\n",
       "      <td>-0.014598</td>\n",
       "      <td>-0.047471</td>\n",
       "    </tr>\n",
       "    <tr>\n",
       "      <th>latitude</th>\n",
       "      <td>-0.924726</td>\n",
       "      <td>1.000000</td>\n",
       "      <td>0.005275</td>\n",
       "      <td>-0.043288</td>\n",
       "      <td>-0.072183</td>\n",
       "      <td>-0.112571</td>\n",
       "      <td>-0.076660</td>\n",
       "      <td>-0.080461</td>\n",
       "      <td>-0.142119</td>\n",
       "    </tr>\n",
       "    <tr>\n",
       "      <th>housing_median_age</th>\n",
       "      <td>-0.103263</td>\n",
       "      <td>0.005275</td>\n",
       "      <td>1.000000</td>\n",
       "      <td>-0.360107</td>\n",
       "      <td>-0.320407</td>\n",
       "      <td>-0.293105</td>\n",
       "      <td>-0.302444</td>\n",
       "      <td>-0.116998</td>\n",
       "      <td>0.108591</td>\n",
       "    </tr>\n",
       "    <tr>\n",
       "      <th>total_rooms</th>\n",
       "      <td>0.049015</td>\n",
       "      <td>-0.043288</td>\n",
       "      <td>-0.360107</td>\n",
       "      <td>1.000000</td>\n",
       "      <td>0.931133</td>\n",
       "      <td>0.855019</td>\n",
       "      <td>0.920570</td>\n",
       "      <td>0.199310</td>\n",
       "      <td>0.133397</td>\n",
       "    </tr>\n",
       "    <tr>\n",
       "      <th>total_bedrooms</th>\n",
       "      <td>0.072546</td>\n",
       "      <td>-0.072183</td>\n",
       "      <td>-0.320407</td>\n",
       "      <td>0.931133</td>\n",
       "      <td>1.000000</td>\n",
       "      <td>0.876469</td>\n",
       "      <td>0.980907</td>\n",
       "      <td>-0.007292</td>\n",
       "      <td>0.046944</td>\n",
       "    </tr>\n",
       "    <tr>\n",
       "      <th>population</th>\n",
       "      <td>0.102086</td>\n",
       "      <td>-0.112571</td>\n",
       "      <td>-0.293105</td>\n",
       "      <td>0.855019</td>\n",
       "      <td>0.876469</td>\n",
       "      <td>1.000000</td>\n",
       "      <td>0.904495</td>\n",
       "      <td>0.005575</td>\n",
       "      <td>-0.026485</td>\n",
       "    </tr>\n",
       "    <tr>\n",
       "      <th>households</th>\n",
       "      <td>0.058918</td>\n",
       "      <td>-0.076660</td>\n",
       "      <td>-0.302444</td>\n",
       "      <td>0.920570</td>\n",
       "      <td>0.980907</td>\n",
       "      <td>0.904495</td>\n",
       "      <td>1.000000</td>\n",
       "      <td>0.013392</td>\n",
       "      <td>0.062730</td>\n",
       "    </tr>\n",
       "    <tr>\n",
       "      <th>median_income</th>\n",
       "      <td>-0.014598</td>\n",
       "      <td>-0.080461</td>\n",
       "      <td>-0.116998</td>\n",
       "      <td>0.199310</td>\n",
       "      <td>-0.007292</td>\n",
       "      <td>0.005575</td>\n",
       "      <td>0.013392</td>\n",
       "      <td>1.000000</td>\n",
       "      <td>0.687874</td>\n",
       "    </tr>\n",
       "    <tr>\n",
       "      <th>median_house_value</th>\n",
       "      <td>-0.047471</td>\n",
       "      <td>-0.142119</td>\n",
       "      <td>0.108591</td>\n",
       "      <td>0.133397</td>\n",
       "      <td>0.046944</td>\n",
       "      <td>-0.026485</td>\n",
       "      <td>0.062730</td>\n",
       "      <td>0.687874</td>\n",
       "      <td>1.000000</td>\n",
       "    </tr>\n",
       "  </tbody>\n",
       "</table>\n",
       "</div>"
      ],
      "text/plain": [
       "                    longitude  latitude  housing_median_age  total_rooms  \\\n",
       "longitude            1.000000 -0.924726           -0.103263     0.049015   \n",
       "latitude            -0.924726  1.000000            0.005275    -0.043288   \n",
       "housing_median_age  -0.103263  0.005275            1.000000    -0.360107   \n",
       "total_rooms          0.049015 -0.043288           -0.360107     1.000000   \n",
       "total_bedrooms       0.072546 -0.072183           -0.320407     0.931133   \n",
       "population           0.102086 -0.112571           -0.293105     0.855019   \n",
       "households           0.058918 -0.076660           -0.302444     0.920570   \n",
       "median_income       -0.014598 -0.080461           -0.116998     0.199310   \n",
       "median_house_value  -0.047471 -0.142119            0.108591     0.133397   \n",
       "\n",
       "                    total_bedrooms  population  households  median_income  \\\n",
       "longitude                 0.072546    0.102086    0.058918      -0.014598   \n",
       "latitude                 -0.072183   -0.112571   -0.076660      -0.080461   \n",
       "housing_median_age       -0.320407   -0.293105   -0.302444      -0.116998   \n",
       "total_rooms               0.931133    0.855019    0.920570       0.199310   \n",
       "total_bedrooms            1.000000    0.876469    0.980907      -0.007292   \n",
       "population                0.876469    1.000000    0.904495       0.005575   \n",
       "households                0.980907    0.904495    1.000000       0.013392   \n",
       "median_income            -0.007292    0.005575    0.013392       1.000000   \n",
       "median_house_value        0.046944   -0.026485    0.062730       0.687874   \n",
       "\n",
       "                    median_house_value  \n",
       "longitude                    -0.047471  \n",
       "latitude                     -0.142119  \n",
       "housing_median_age            0.108591  \n",
       "total_rooms                   0.133397  \n",
       "total_bedrooms                0.046944  \n",
       "population                   -0.026485  \n",
       "households                    0.062730  \n",
       "median_income                 0.687874  \n",
       "median_house_value            1.000000  "
      ]
     },
     "execution_count": 18,
     "metadata": {},
     "output_type": "execute_result"
    }
   ],
   "source": [
    "correlation_matrix = data.corr()\n",
    "correlation_matrix"
   ]
  },
  {
   "cell_type": "markdown",
   "metadata": {},
   "source": [
    "* Inspect which variable is highly correlated with house value\n",
    "  - Attach `sort_values(ascending=False)` method to correlation matrix you made, after referring the 'median_house_value' column"
   ]
  },
  {
   "cell_type": "code",
   "execution_count": 19,
   "metadata": {
    "scrolled": true
   },
   "outputs": [
    {
     "data": {
      "text/plain": [
       "median_house_value    1.000000\n",
       "median_income         0.687874\n",
       "total_rooms           0.133397\n",
       "housing_median_age    0.108591\n",
       "households            0.062730\n",
       "total_bedrooms        0.046944\n",
       "population           -0.026485\n",
       "longitude            -0.047471\n",
       "latitude             -0.142119\n",
       "Name: median_house_value, dtype: float64"
      ]
     },
     "execution_count": 19,
     "metadata": {},
     "output_type": "execute_result"
    }
   ],
   "source": [
    "correlation_matrix['median_house_value'].sort_values(ascending=False)"
   ]
  },
  {
   "cell_type": "markdown",
   "metadata": {},
   "source": [
    "* Seems like 'median_income' is highly correalted with house price\n",
    "  - let us see scatter plot again"
   ]
  },
  {
   "cell_type": "code",
   "execution_count": 20,
   "metadata": {},
   "outputs": [
    {
     "data": {
      "image/png": "[encoded data removed]",
      "text/plain": [
       "<matplotlib.figure.Figure at 0x1371e1c9ef0>"
      ]
     },
     "metadata": {
      "needs_background": "light"
     },
     "output_type": "display_data"
    }
   ],
   "source": [
    "data.plot(kind='scatter', x='median_income', y='median_house_value', alpha=0.1)\n",
    "plt.show()"
   ]
  },
  {
   "cell_type": "markdown",
   "metadata": {},
   "source": [
    "* Yes, it seems better to remove the uppermost lines (due to intentional limit by data engineers).\n",
    "* You can filter out samples to be remained by providing conditions in `[]` notation."
   ]
  },
  {
   "cell_type": "code",
   "execution_count": 21,
   "metadata": {},
   "outputs": [],
   "source": [
    "data = data[data['median_house_value'] < 500000]"
   ]
  },
  {
   "cell_type": "code",
   "execution_count": 22,
   "metadata": {},
   "outputs": [
    {
     "name": "stdout",
     "output_type": "stream",
     "text": [
      "<class 'pandas.core.frame.DataFrame'>\n",
      "Int64Index: 15717 entries, 5386 to 2585\n",
      "Data columns (total 10 columns):\n",
      "longitude             15717 non-null float64\n",
      "latitude              15717 non-null float64\n",
      "housing_median_age    15717 non-null float64\n",
      "total_rooms           15717 non-null float64\n",
      "total_bedrooms        15559 non-null float64\n",
      "population            15717 non-null float64\n",
      "households            15717 non-null float64\n",
      "median_income         15717 non-null float64\n",
      "median_house_value    15717 non-null float64\n",
      "ocean_proximity       15717 non-null object\n",
      "dtypes: float64(9), object(1)\n",
      "memory usage: 1.3+ MB\n"
     ]
    }
   ],
   "source": [
    "data.info()"
   ]
  },
  {
   "cell_type": "markdown",
   "metadata": {},
   "source": [
    "* You can do more!\n",
    "  - <u>Create new features</u> by combining existing predictors\n",
    "  - This kind of work can strengthen our hypothesis (if it is done in a sophisticated manner) \n",
    "\n",
    "* For example, it is better to know the number of rooms per household rather than 'total_rooms'.\n",
    "* Same logic can be applied for 'total_bedrooms' and 'population'\n",
    "  - Let us make new features: 'rooms_per_household', 'bedrooms_per_room', 'people_per_household'"
   ]
  },
  {
   "cell_type": "code",
   "execution_count": 23,
   "metadata": {},
   "outputs": [],
   "source": [
    "data['rooms_per_household'] = data['total_rooms'] / data['households']\n",
    "data['bedrooms_per_room'] = data['total_bedrooms'] / data['total_rooms']\n",
    "data['people_per_household'] = data['population'] / data['households']"
   ]
  },
  {
   "cell_type": "code",
   "execution_count": 24,
   "metadata": {},
   "outputs": [
    {
     "data": {
      "text/plain": [
       "median_house_value      1.000000\n",
       "median_income           0.645514\n",
       "total_rooms             0.142905\n",
       "rooms_per_household     0.112020\n",
       "households              0.091778\n",
       "total_bedrooms          0.071951\n",
       "housing_median_age      0.070114\n",
       "population              0.011031\n",
       "people_per_household   -0.019586\n",
       "longitude              -0.048110\n",
       "latitude               -0.146159\n",
       "bedrooms_per_room      -0.222653\n",
       "Name: median_house_value, dtype: float64"
      ]
     },
     "execution_count": 24,
     "metadata": {},
     "output_type": "execute_result"
    }
   ],
   "source": [
    "# Check correlation matrix again for additional features\n",
    "correlation_matrix = data.corr()\n",
    "correlation_matrix['median_house_value'].sort_values(ascending=False)"
   ]
  },
  {
   "cell_type": "markdown",
   "metadata": {},
   "source": [
    "\n",
    "\n",
    "\n"
   ]
  },
  {
   "cell_type": "markdown",
   "metadata": {},
   "source": [
    "\n",
    "\n",
    "\n"
   ]
  },
  {
   "cell_type": "markdown",
   "metadata": {},
   "source": [
    "\n",
    "\n",
    "\n"
   ]
  },
  {
   "cell_type": "markdown",
   "metadata": {},
   "source": [
    "### Data Pre-processing\n",
    "* <a href='#Cleanse-data'>Cleanse data</a>\n",
    "* <a href='#Scale-data'>Scale data</a>"
   ]
  },
  {
   "cell_type": "markdown",
   "metadata": {},
   "source": [
    "#### Cleanse data\n",
    "* Handle missing values\n",
    "  - Just remove rows with missing values\n",
    "  - Impute missing values using mean, median, or imputation algorithms (NOT covered today)\n",
    "  - Collect data again\n",
    "* Drop unncessary columns\n",
    "* Remove duplicated samples\n",
    "* Convert categorical data into numerical representation (encoding)"
   ]
  },
  {
   "cell_type": "markdown",
   "metadata": {},
   "source": [
    "##### Handle missing values\n",
    "- Remove rows with missing value\n",
    "- Attach `dropna()` to the dataframe"
   ]
  },
  {
   "cell_type": "code",
   "execution_count": 25,
   "metadata": {},
   "outputs": [
    {
     "name": "stdout",
     "output_type": "stream",
     "text": [
      "<class 'pandas.core.frame.DataFrame'>\n",
      "Int64Index: 15717 entries, 5386 to 2585\n",
      "Data columns (total 13 columns):\n",
      "longitude               15717 non-null float64\n",
      "latitude                15717 non-null float64\n",
      "housing_median_age      15717 non-null float64\n",
      "total_rooms             15717 non-null float64\n",
      "total_bedrooms          15559 non-null float64\n",
      "population              15717 non-null float64\n",
      "households              15717 non-null float64\n",
      "median_income           15717 non-null float64\n",
      "median_house_value      15717 non-null float64\n",
      "ocean_proximity         15717 non-null object\n",
      "rooms_per_household     15717 non-null float64\n",
      "bedrooms_per_room       15559 non-null float64\n",
      "people_per_household    15717 non-null float64\n",
      "dtypes: float64(12), object(1)\n",
      "memory usage: 1.7+ MB\n"
     ]
    }
   ],
   "source": [
    "# We have missing data in 'total_bedrooms' and 'bedrooms_per_room' features\n",
    "data.info()"
   ]
  },
  {
   "cell_type": "code",
   "execution_count": 26,
   "metadata": {},
   "outputs": [],
   "source": [
    "data = data.dropna()"
   ]
  },
  {
   "cell_type": "code",
   "execution_count": 27,
   "metadata": {},
   "outputs": [
    {
     "name": "stdout",
     "output_type": "stream",
     "text": [
      "<class 'pandas.core.frame.DataFrame'>\n",
      "Int64Index: 15559 entries, 5386 to 2585\n",
      "Data columns (total 13 columns):\n",
      "longitude               15559 non-null float64\n",
      "latitude                15559 non-null float64\n",
      "housing_median_age      15559 non-null float64\n",
      "total_rooms             15559 non-null float64\n",
      "total_bedrooms          15559 non-null float64\n",
      "population              15559 non-null float64\n",
      "households              15559 non-null float64\n",
      "median_income           15559 non-null float64\n",
      "median_house_value      15559 non-null float64\n",
      "ocean_proximity         15559 non-null object\n",
      "rooms_per_household     15559 non-null float64\n",
      "bedrooms_per_room       15559 non-null float64\n",
      "people_per_household    15559 non-null float64\n",
      "dtypes: float64(12), object(1)\n",
      "memory usage: 1.7+ MB\n"
     ]
    }
   ],
   "source": [
    "data.info()"
   ]
  },
  {
   "cell_type": "markdown",
   "metadata": {},
   "source": [
    "##### Drop unncessary columns\n",
    "- As we made new features ('rooms_per_household', 'bedrooms_per_room', 'people_per_household'), let us remove features used for making three predictors\n",
    "- Attach `drop(columns=['COLUMN_NAME'], axis=1)` to the dataframe"
   ]
  },
  {
   "cell_type": "code",
   "execution_count": 28,
   "metadata": {},
   "outputs": [],
   "source": [
    "data = data.drop(columns=['total_rooms', 'total_bedrooms', 'population', 'households'], axis=1)"
   ]
  },
  {
   "cell_type": "code",
   "execution_count": 29,
   "metadata": {},
   "outputs": [
    {
     "name": "stdout",
     "output_type": "stream",
     "text": [
      "<class 'pandas.core.frame.DataFrame'>\n",
      "Int64Index: 15559 entries, 5386 to 2585\n",
      "Data columns (total 9 columns):\n",
      "longitude               15559 non-null float64\n",
      "latitude                15559 non-null float64\n",
      "housing_median_age      15559 non-null float64\n",
      "median_income           15559 non-null float64\n",
      "median_house_value      15559 non-null float64\n",
      "ocean_proximity         15559 non-null object\n",
      "rooms_per_household     15559 non-null float64\n",
      "bedrooms_per_room       15559 non-null float64\n",
      "people_per_household    15559 non-null float64\n",
      "dtypes: float64(8), object(1)\n",
      "memory usage: 1.2+ MB\n"
     ]
    }
   ],
   "source": [
    "data.info()"
   ]
  },
  {
   "cell_type": "code",
   "execution_count": 30,
   "metadata": {},
   "outputs": [
    {
     "data": {
      "text/plain": [
       "(15559, 9)"
      ]
     },
     "execution_count": 30,
     "metadata": {},
     "output_type": "execute_result"
    }
   ],
   "source": [
    "data.shape"
   ]
  },
  {
   "cell_type": "markdown",
   "metadata": {},
   "source": [
    "##### Drop duplicated samples\n",
    "- Attach `drop_duplicates()` to the dataframe"
   ]
  },
  {
   "cell_type": "code",
   "execution_count": 31,
   "metadata": {},
   "outputs": [
    {
     "data": {
      "text/plain": [
       "(15559, 9)"
      ]
     },
     "execution_count": 31,
     "metadata": {},
     "output_type": "execute_result"
    }
   ],
   "source": [
    "data = data.drop_duplicates()\n",
    "data.shape"
   ]
  },
  {
   "cell_type": "markdown",
   "metadata": {},
   "source": [
    "##### Encode cateogrical feature\n",
    "- Convert categorical feature represented in string format into numerical representation ('ocean_proximity' feature)"
   ]
  },
  {
   "cell_type": "code",
   "execution_count": 32,
   "metadata": {},
   "outputs": [],
   "source": [
    "# let us first separate numerical and categorical columns\n",
    "cat_feat = ['ocean_proximity']\n",
    "num_feat = ['longitude', 'latitude', 'housing_median_age', 'median_income', 'rooms_per_household', 'bedrooms_per_room', 'people_per_household']"
   ]
  },
  {
   "cell_type": "markdown",
   "metadata": {},
   "source": [
    "- *Beware* that we at first need to split out the dependent variable first!\n",
    "- Use `drop()` and `loc()` method!"
   ]
  },
  {
   "cell_type": "code",
   "execution_count": 33,
   "metadata": {},
   "outputs": [],
   "source": [
    "X_train, y_train = data.drop(columns=['median_house_value'], axis=1, inplace=False), data['median_house_value'].values"
   ]
  },
  {
   "cell_type": "markdown",
   "metadata": {},
   "source": [
    "- Use `OneHotEncoer` provided by Scikit-Learn package\n",
    "- Select 'ocean_proximity' column only using `[]` or `.COLUMN_NAME` or `loc()` or `iloc()`, and call `fit_transform()` method to `OneHotEncoder`"
   ]
  },
  {
   "cell_type": "code",
   "execution_count": 34,
   "metadata": {
    "scrolled": true
   },
   "outputs": [],
   "source": [
    "from sklearn.preprocessing import OneHotEncoder"
   ]
  },
  {
   "cell_type": "code",
   "execution_count": 35,
   "metadata": {},
   "outputs": [],
   "source": [
    "encoder = OneHotEncoder(sparse=False)\n",
    "\n",
    "encoder.fit(X_train['ocean_proximity'].values.reshape(-1, 1))\n",
    "X_train_cat = encoder.transform(X_train['ocean_proximity'].values.reshape(-1, 1))"
   ]
  },
  {
   "cell_type": "markdown",
   "metadata": {},
   "source": [
    "* CAUTION! for test set, you need to fit on training data first, and SHOULD only transform test set!\n",
    "  - example code snippet)\n",
    "\n",
    "<pre>\n",
    "  encoder.fit(training_data)\n",
    "  training_data = encoder.transform(training_data)\n",
    "  test_data = encoder.transform(test_data)\n",
    "</pre>"
   ]
  },
  {
   "cell_type": "code",
   "execution_count": 36,
   "metadata": {},
   "outputs": [
    {
     "data": {
      "text/plain": [
       "array([[1., 0., 0., 0., 0.],\n",
       "       [0., 1., 0., 0., 0.],\n",
       "       [1., 0., 0., 0., 0.],\n",
       "       ...,\n",
       "       [0., 1., 0., 0., 0.],\n",
       "       [0., 1., 0., 0., 0.],\n",
       "       [0., 0., 0., 0., 1.]])"
      ]
     },
     "execution_count": 36,
     "metadata": {},
     "output_type": "execute_result"
    }
   ],
   "source": [
    "X_train_cat"
   ]
  },
  {
   "cell_type": "code",
   "execution_count": 37,
   "metadata": {},
   "outputs": [
    {
     "data": {
      "text/plain": [
       "(15559, 5)"
      ]
     },
     "execution_count": 37,
     "metadata": {},
     "output_type": "execute_result"
    }
   ],
   "source": [
    "X_train_cat.shape"
   ]
  },
  {
   "cell_type": "markdown",
   "metadata": {},
   "source": [
    "### Now, all data are transformed into numerical values!"
   ]
  },
  {
   "cell_type": "markdown",
   "metadata": {},
   "source": [
    "#### Scale data\n",
    "* Feature scaling means to transform ranges of all **numerical** features to be similar with each other. <br> (it is enough to just one-hot-encode categorical features)\n",
    "* Standard scaling (standardization) is to make feature to have mean 0 and standard deviation 1.\n",
    "  - It is **TOTALLY different** from converting data distribution to Gaussian ditsribution!!!\n",
    "  - Except for models having assumption of Gaussian distributed data, such as Linear Discriminant analysis, Gaussian Mixture models, <br>\n",
    "  it is NOT needed to convert data distribution to be Gaussian.\n",
    "  - It is just shift the range of feature distribution\n",
    "* Feature scaling is especially important for algorithms:\n",
    "  - based on Euclidean distance like K-means clustering, k-NN (different scale distorts distance measure)\n",
    "  - based on gradient-based optimizations like logistic regression, neural networks (different scales distorts loss surface)\n",
    "  - regard scale of features with significance like PCA"
   ]
  },
  {
   "cell_type": "markdown",
   "metadata": {},
   "source": [
    "##### Scale numerical features\n",
    "- Scale numerical features to have mean 0 and standard deviation 1\n",
    "- Use `StandardScaler` provided by Scikit-Learn package\n",
    "- Select numerical feature columns and call `fit_trnasform()` method"
   ]
  },
  {
   "cell_type": "code",
   "execution_count": 38,
   "metadata": {},
   "outputs": [],
   "source": [
    "from sklearn.preprocessing import StandardScaler\n",
    "\n",
    "scalar = StandardScaler()\n",
    "scalar.fit(X_train[num_feat].values)\n",
    "X_train_num = scalar.transform(X_train[num_feat].values)"
   ]
  },
  {
   "cell_type": "code",
   "execution_count": 39,
   "metadata": {},
   "outputs": [
    {
     "data": {
      "text/plain": [
       "(15559, 7)"
      ]
     },
     "execution_count": 39,
     "metadata": {},
     "output_type": "execute_result"
    }
   ],
   "source": [
    "X_train_num.shape"
   ]
  },
  {
   "cell_type": "markdown",
   "metadata": {},
   "source": [
    "##### Finish up data pre-processing\n",
    "- Now, we need to concatenate categorical (one-hot encoded) and numerical (standardized) features!\n",
    "- It can be easily done by `np.concatenate([*arrays], axis=1)` method"
   ]
  },
  {
   "cell_type": "code",
   "execution_count": 40,
   "metadata": {},
   "outputs": [
    {
     "data": {
      "text/plain": [
       "(15559, 12)"
      ]
     },
     "execution_count": 40,
     "metadata": {},
     "output_type": "execute_result"
    }
   ],
   "source": [
    "X_train = np.concatenate([X_train_num, X_train_cat], axis=1)\n",
    "X_train.shape"
   ]
  },
  {
   "cell_type": "markdown",
   "metadata": {},
   "source": [
    "### Don't forget! You should do the same process above on the test set you made in <a href='#Split-training-and-test-data'>here</a>"
   ]
  },
  {
   "cell_type": "markdown",
   "metadata": {},
   "source": [
    "\n",
    "\n",
    "\n"
   ]
  },
  {
   "cell_type": "markdown",
   "metadata": {},
   "source": [
    "### Model training and evaluation\n",
    "* <a href='#Train-model'>Train model</a>\n",
    "* <a href='#Evaluate-model'>Evaluate model</a>"
   ]
  },
  {
   "cell_type": "markdown",
   "metadata": {},
   "source": [
    "#### Train model\n",
    "* Choose an appropriate algorithm for your problem setting\n",
    "* There are tons of ready-made algorithms in here: <a href='https://scikit-learn.org/stable/supervised_learning.html'>Scikit-Learn</a>"
   ]
  },
  {
   "cell_type": "markdown",
   "metadata": {},
   "source": [
    "* To train model, we need to create model instance such as `LinearRegression()` and call `fit()` method by providing independent and dependent variables."
   ]
  },
  {
   "cell_type": "code",
   "execution_count": 41,
   "metadata": {},
   "outputs": [
    {
     "data": {
      "text/plain": [
       "LinearRegression(copy_X=True, fit_intercept=True, n_jobs=None, normalize=False)"
      ]
     },
     "execution_count": 41,
     "metadata": {},
     "output_type": "execute_result"
    }
   ],
   "source": [
    "from sklearn.linear_model import LinearRegression\n",
    "\n",
    "lin_reg = LinearRegression()\n",
    "lin_reg.fit(X_train, y_train)"
   ]
  },
  {
   "cell_type": "markdown",
   "metadata": {},
   "source": [
    "* Performance of the trained model on the training set can easily be found by calling `score()` method (which returns r-squared) or calling another metrics like `mean_squared_error` with result from `predict()` method."
   ]
  },
  {
   "cell_type": "code",
   "execution_count": 42,
   "metadata": {},
   "outputs": [
    {
     "data": {
      "text/plain": [
       "0.593101467384535"
      ]
     },
     "execution_count": 42,
     "metadata": {},
     "output_type": "execute_result"
    }
   ],
   "source": [
    "lin_reg.score(X_train, y_train)"
   ]
  },
  {
   "cell_type": "code",
   "execution_count": 43,
   "metadata": {},
   "outputs": [
    {
     "name": "stdout",
     "output_type": "stream",
     "text": [
      "MAE: 45706.9342, MSE: 3830588071.8046, RMSE: 61891.7448\n"
     ]
    }
   ],
   "source": [
    "from sklearn.metrics import mean_squared_error, mean_absolute_error\n",
    "\n",
    "y_pred_train = lin_reg.predict(X_train)\n",
    "\n",
    "lin_reg_mse = mean_squared_error(y_train, y_pred_train)\n",
    "lin_reg_mae = mean_absolute_error(y_train, y_pred_train)\n",
    "\n",
    "print(f'MAE: {lin_reg_mae:.4f}, MSE: {lin_reg_mse:.4f}, RMSE: {np.sqrt(lin_reg_mse):.4f}')"
   ]
  },
  {
   "cell_type": "markdown",
   "metadata": {},
   "source": [
    "\n",
    "\n",
    "\n"
   ]
  },
  {
   "cell_type": "markdown",
   "metadata": {},
   "source": [
    "\n",
    "\n",
    "\n"
   ]
  },
  {
   "cell_type": "markdown",
   "metadata": {},
   "source": [
    "\n",
    "\n",
    "\n"
   ]
  },
  {
   "cell_type": "markdown",
   "metadata": {},
   "source": [
    "#### Evaluate model\n",
    "* Internal evaluation\n",
    "  - Evaluate the performance of the trained model using training data by simulating training-test split internally.\n",
    "  - Bootstrapping (NOT covered), cross-validation\n",
    "* External evaluation\n",
    "  - Evaluate the performance of the trained model using unseen data (test set)."
   ]
  },
  {
   "cell_type": "markdown",
   "metadata": {},
   "source": [
    "##### Internal evaluation\n",
    "- Can be easily done by `cross_val_score()` method\n",
    "- When passing argument `cv=10`, it executes 10-fold CV"
   ]
  },
  {
   "cell_type": "code",
   "execution_count": 44,
   "metadata": {},
   "outputs": [],
   "source": [
    "from sklearn.model_selection import cross_val_score\n",
    "\n",
    "scores = cross_val_score(LinearRegression(), X_train, y_train, scoring='neg_mean_squared_error', cv=10)\n",
    "lin_reg_rmse_cv_scores = np.sqrt(-scores)"
   ]
  },
  {
   "cell_type": "code",
   "execution_count": 45,
   "metadata": {},
   "outputs": [
    {
     "name": "stdout",
     "output_type": "stream",
     "text": [
      "Scores: [61203.73039232 61180.33985536 61294.30144604 62723.034282\n",
      " 63452.28744925 60635.77317544 61700.98658045 63205.45165825\n",
      " 59973.44540365 64486.14094213],\n",
      "Mean: 61985.5491,\n",
      "Std: 1346.2981\n"
     ]
    }
   ],
   "source": [
    "print(f'Scores: {lin_reg_rmse_cv_scores},\\nMean: {np.mean(lin_reg_rmse_cv_scores):.4f},\\nStd: {np.std(lin_reg_rmse_cv_scores):.4f}')"
   ]
  },
  {
   "cell_type": "markdown",
   "metadata": {},
   "source": [
    "##### External evaluation\n",
    "- After processing <a href='#Split-training-and-test-data'>test set</a> you split above in the same way as training set, measure the performance of the trained model on this test set\n",
    "- Use `predict()` method"
   ]
  },
  {
   "cell_type": "code",
   "execution_count": 46,
   "metadata": {},
   "outputs": [],
   "source": [
    "test = test_set.copy()"
   ]
  },
  {
   "cell_type": "code",
   "execution_count": 47,
   "metadata": {},
   "outputs": [],
   "source": [
    "test = test[test['median_house_value'] < 500000]"
   ]
  },
  {
   "cell_type": "code",
   "execution_count": 48,
   "metadata": {},
   "outputs": [],
   "source": [
    "test['rooms_per_household'] = test['total_rooms'] / test['households']\n",
    "test['bedrooms_per_room'] = test['total_bedrooms'] / test['total_rooms']\n",
    "test['people_per_household'] = test['population'] / test['households']"
   ]
  },
  {
   "cell_type": "code",
   "execution_count": 49,
   "metadata": {},
   "outputs": [],
   "source": [
    "test = test.dropna()"
   ]
  },
  {
   "cell_type": "code",
   "execution_count": 50,
   "metadata": {},
   "outputs": [],
   "source": [
    "test = test.drop(columns=['total_rooms', 'total_bedrooms', 'population', 'households'], axis=1)"
   ]
  },
  {
   "cell_type": "code",
   "execution_count": 51,
   "metadata": {},
   "outputs": [],
   "source": [
    "test = test.drop_duplicates()"
   ]
  },
  {
   "cell_type": "code",
   "execution_count": 52,
   "metadata": {},
   "outputs": [],
   "source": [
    "X_test, y_test = test.drop(columns=['median_house_value'], axis=1, inplace=False), test['median_house_value'].values"
   ]
  },
  {
   "cell_type": "code",
   "execution_count": 53,
   "metadata": {},
   "outputs": [],
   "source": [
    "cat_feat = ['ocean_proximity']\n",
    "num_feat = ['longitude', 'latitude', 'housing_median_age', 'median_income', 'rooms_per_household', 'bedrooms_per_room', 'people_per_household']"
   ]
  },
  {
   "cell_type": "code",
   "execution_count": 54,
   "metadata": {},
   "outputs": [],
   "source": [
    "# encoder is the one you've done fitting in the above using training set!!!\n",
    "X_test_cat = encoder.transform(X_test['ocean_proximity'].values.reshape(-1, 1))"
   ]
  },
  {
   "cell_type": "code",
   "execution_count": 56,
   "metadata": {},
   "outputs": [],
   "source": [
    "# scalar is the one you've done fitting in the above using training set!!!\n",
    "X_test_num = scalar.transform(X_test[num_feat].values)"
   ]
  },
  {
   "cell_type": "code",
   "execution_count": 57,
   "metadata": {},
   "outputs": [],
   "source": [
    "X_test = np.concatenate([X_test_num, X_test_cat], axis=1)"
   ]
  },
  {
   "cell_type": "code",
   "execution_count": 58,
   "metadata": {},
   "outputs": [
    {
     "name": "stdout",
     "output_type": "stream",
     "text": [
      "MAE: 44797.8116, MSE: 3702269197.0979, RMSE: 60846.2751\n"
     ]
    }
   ],
   "source": [
    "y_pred_test = lin_reg.predict(X_test)\n",
    "\n",
    "lin_reg_mse = mean_squared_error(y_test, y_pred_test)\n",
    "lin_reg_mae = mean_absolute_error(y_test, y_pred_test)\n",
    "\n",
    "print(f'MAE: {lin_reg_mae:.4f}, MSE: {lin_reg_mse:.4f}, RMSE: {np.sqrt(lin_reg_mse):.4f}')"
   ]
  },
  {
   "cell_type": "markdown",
   "metadata": {},
   "source": [
    "\n",
    "\n",
    "\n"
   ]
  },
  {
   "cell_type": "markdown",
   "metadata": {},
   "source": [
    "\n",
    "\n",
    "\n"
   ]
  },
  {
   "cell_type": "markdown",
   "metadata": {},
   "source": [
    "\n",
    "\n",
    "\n"
   ]
  }
 ],
 "metadata": {
  "kernelspec": {
   "display_name": "Python 3",
   "language": "python",
   "name": "python3"
  },
  "language_info": {
   "codemirror_mode": {
    "name": "ipython",
    "version": 3
   },
   "file_extension": ".py",
   "mimetype": "text/x-python",
   "name": "python",
   "nbconvert_exporter": "python",
   "pygments_lexer": "ipython3",
   "version": "3.6.10"
  },
  "nav_menu": {
   "height": "279px",
   "width": "309px"
  },
  "toc": {
   "nav_menu": {},
   "number_sections": true,
   "sideBar": true,
   "skip_h1_title": false,
   "toc_cell": false,
   "toc_position": {},
   "toc_section_display": "block",
   "toc_window_display": false
  }
 },
 "nbformat": 4,
 "nbformat_minor": 4
}

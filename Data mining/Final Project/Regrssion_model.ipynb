{
 "cells": [
  {
   "cell_type": "code",
   "execution_count": 8,
   "metadata": {},
   "outputs": [],
   "source": [
    "import pandas as pd\n",
    "import numpy as np\n",
    "import matplotlib.pyplot as plt \n",
    "import seaborn as sns"
   ]
  },
  {
   "cell_type": "markdown",
   "metadata": {},
   "source": [
    "I choose the $\\textbf{regrssion model}$ as TermProject.\n",
    "\n",
    "* So, First, open the Regrssion's csv file. And then, see what is our dependent variable and independent variables.\n",
    "\n",
    "\n",
    "**I put one code (which is not working) at the below (Evaluating Decision Tree area) on purpose** because I want to show you the memory limitation issue\n"
   ]
  },
  {
   "cell_type": "code",
   "execution_count": 11,
   "metadata": {
    "scrolled": true
   },
   "outputs": [
    {
     "data": {
      "text/html": [
       "<div>\n",
       "<style scoped>\n",
       "    .dataframe tbody tr th:only-of-type {\n",
       "        vertical-align: middle;\n",
       "    }\n",
       "\n",
       "    .dataframe tbody tr th {\n",
       "        vertical-align: top;\n",
       "    }\n",
       "\n",
       "    .dataframe thead th {\n",
       "        text-align: right;\n",
       "    }\n",
       "</style>\n",
       "<table border=\"1\" class=\"dataframe\">\n",
       "  <thead>\n",
       "    <tr style=\"text-align: right;\">\n",
       "      <th></th>\n",
       "      <th>Unnamed: 0</th>\n",
       "      <th>Store</th>\n",
       "      <th>DayOfWeek</th>\n",
       "      <th>Date</th>\n",
       "      <th>Sales</th>\n",
       "      <th>Customers</th>\n",
       "      <th>Open</th>\n",
       "      <th>Promo</th>\n",
       "      <th>StateHoliday</th>\n",
       "      <th>SchoolHoliday</th>\n",
       "    </tr>\n",
       "  </thead>\n",
       "  <tbody>\n",
       "    <tr>\n",
       "      <th>0</th>\n",
       "      <td>0</td>\n",
       "      <td>1</td>\n",
       "      <td>5</td>\n",
       "      <td>2015-07-31</td>\n",
       "      <td>5263.0</td>\n",
       "      <td>NaN</td>\n",
       "      <td>1</td>\n",
       "      <td>1</td>\n",
       "      <td>0</td>\n",
       "      <td>1</td>\n",
       "    </tr>\n",
       "    <tr>\n",
       "      <th>1</th>\n",
       "      <td>1</td>\n",
       "      <td>2</td>\n",
       "      <td>5</td>\n",
       "      <td>2015-07-31</td>\n",
       "      <td>6064.0</td>\n",
       "      <td>625.0</td>\n",
       "      <td>1</td>\n",
       "      <td>1</td>\n",
       "      <td>0</td>\n",
       "      <td>1</td>\n",
       "    </tr>\n",
       "    <tr>\n",
       "      <th>2</th>\n",
       "      <td>2</td>\n",
       "      <td>3</td>\n",
       "      <td>5</td>\n",
       "      <td>2015-07-31</td>\n",
       "      <td>8314.0</td>\n",
       "      <td>821.0</td>\n",
       "      <td>1</td>\n",
       "      <td>1</td>\n",
       "      <td>0</td>\n",
       "      <td>1</td>\n",
       "    </tr>\n",
       "    <tr>\n",
       "      <th>3</th>\n",
       "      <td>3</td>\n",
       "      <td>4</td>\n",
       "      <td>5</td>\n",
       "      <td>2015-07-31</td>\n",
       "      <td>13995.0</td>\n",
       "      <td>1498.0</td>\n",
       "      <td>1</td>\n",
       "      <td>1</td>\n",
       "      <td>0</td>\n",
       "      <td>1</td>\n",
       "    </tr>\n",
       "    <tr>\n",
       "      <th>4</th>\n",
       "      <td>4</td>\n",
       "      <td>5</td>\n",
       "      <td>5</td>\n",
       "      <td>2015-07-31</td>\n",
       "      <td>4822.0</td>\n",
       "      <td>559.0</td>\n",
       "      <td>1</td>\n",
       "      <td>1</td>\n",
       "      <td>0</td>\n",
       "      <td>1</td>\n",
       "    </tr>\n",
       "  </tbody>\n",
       "</table>\n",
       "</div>"
      ],
      "text/plain": [
       "   Unnamed: 0  Store  DayOfWeek        Date    Sales  Customers  Open  Promo  \\\n",
       "0           0      1          5  2015-07-31   5263.0        NaN     1      1   \n",
       "1           1      2          5  2015-07-31   6064.0      625.0     1      1   \n",
       "2           2      3          5  2015-07-31   8314.0      821.0     1      1   \n",
       "3           3      4          5  2015-07-31  13995.0     1498.0     1      1   \n",
       "4           4      5          5  2015-07-31   4822.0      559.0     1      1   \n",
       "\n",
       "  StateHoliday  SchoolHoliday  \n",
       "0            0              1  \n",
       "1            0              1  \n",
       "2            0              1  \n",
       "3            0              1  \n",
       "4            0              1  "
      ]
     },
     "execution_count": 11,
     "metadata": {},
     "output_type": "execute_result"
    }
   ],
   "source": [
    "data = pd.read_csv(\"Regression_Rossman.csv\")\n",
    "data.head(5)"
   ]
  },
  {
   "cell_type": "markdown",
   "metadata": {},
   "source": [
    "#### Information of each Features\n",
    "- ID : unique Stor ID\n",
    "- Customers : number of customers who visited the store that day\n",
    "- Open : An indicator varable for whether the store was open or not\n",
    "- StateHoliday : An indicator variable for whether the store going through a promotion.\n",
    "- Promo : Indicator variable whether a store is running a promotion on that day\n",
    "- School Holiday : indicates if the store was affected by the closure of public schools."
   ]
  },
  {
   "cell_type": "markdown",
   "metadata": {},
   "source": [
    "#### Main Purpose\n",
    "* From the independent varialbes, we want to predict the Sales.\n",
    "* What is the meaningful value of independent value? (how importantly affect the Sales depending on independent variables X)\n",
    "* How can we handle the non-numeric variables? (how can we transform in order to interpret as regression)\n",
    "* How can we interpret the result? "
   ]
  },
  {
   "cell_type": "markdown",
   "metadata": {},
   "source": [
    "## My first hypothesis\n",
    "* 1) **Sales** will be very closely relationship with seasonal date (such as **holiday, weekend **) \n",
    " - therefore, in order to analyize this, we have to modify \"Date\" variable into any specific form that we can handle.\n",
    "* 2)  **Sales** will also be very closely relationship with number of customers.\n",
    "\n",
    "* 3)  **Sales** will not have close relationship with \"Day of week\"."
   ]
  },
  {
   "cell_type": "markdown",
   "metadata": {},
   "source": [
    "#### (Just option) change the order\n",
    "* since, $\\textbf{(Sales)}$ is our depedent variable $\\rightarrow$ I change the order at the rightmost side."
   ]
  },
  {
   "cell_type": "code",
   "execution_count": 3,
   "metadata": {
    "scrolled": false
   },
   "outputs": [
    {
     "data": {
      "text/html": [
       "<div>\n",
       "<style scoped>\n",
       "    .dataframe tbody tr th:only-of-type {\n",
       "        vertical-align: middle;\n",
       "    }\n",
       "\n",
       "    .dataframe tbody tr th {\n",
       "        vertical-align: top;\n",
       "    }\n",
       "\n",
       "    .dataframe thead th {\n",
       "        text-align: right;\n",
       "    }\n",
       "</style>\n",
       "<table border=\"1\" class=\"dataframe\">\n",
       "  <thead>\n",
       "    <tr style=\"text-align: right;\">\n",
       "      <th></th>\n",
       "      <th>Unnamed: 0</th>\n",
       "      <th>Store</th>\n",
       "      <th>DayOfWeek</th>\n",
       "      <th>Date</th>\n",
       "      <th>Customers</th>\n",
       "      <th>Open</th>\n",
       "      <th>Promo</th>\n",
       "      <th>StateHoliday</th>\n",
       "      <th>SchoolHoliday</th>\n",
       "      <th>Sales</th>\n",
       "    </tr>\n",
       "  </thead>\n",
       "  <tbody>\n",
       "    <tr>\n",
       "      <th>0</th>\n",
       "      <td>0</td>\n",
       "      <td>1</td>\n",
       "      <td>5</td>\n",
       "      <td>2015-07-31</td>\n",
       "      <td>NaN</td>\n",
       "      <td>1</td>\n",
       "      <td>1</td>\n",
       "      <td>0</td>\n",
       "      <td>1</td>\n",
       "      <td>5263.0</td>\n",
       "    </tr>\n",
       "    <tr>\n",
       "      <th>1</th>\n",
       "      <td>1</td>\n",
       "      <td>2</td>\n",
       "      <td>5</td>\n",
       "      <td>2015-07-31</td>\n",
       "      <td>625.0</td>\n",
       "      <td>1</td>\n",
       "      <td>1</td>\n",
       "      <td>0</td>\n",
       "      <td>1</td>\n",
       "      <td>6064.0</td>\n",
       "    </tr>\n",
       "    <tr>\n",
       "      <th>2</th>\n",
       "      <td>2</td>\n",
       "      <td>3</td>\n",
       "      <td>5</td>\n",
       "      <td>2015-07-31</td>\n",
       "      <td>821.0</td>\n",
       "      <td>1</td>\n",
       "      <td>1</td>\n",
       "      <td>0</td>\n",
       "      <td>1</td>\n",
       "      <td>8314.0</td>\n",
       "    </tr>\n",
       "    <tr>\n",
       "      <th>3</th>\n",
       "      <td>3</td>\n",
       "      <td>4</td>\n",
       "      <td>5</td>\n",
       "      <td>2015-07-31</td>\n",
       "      <td>1498.0</td>\n",
       "      <td>1</td>\n",
       "      <td>1</td>\n",
       "      <td>0</td>\n",
       "      <td>1</td>\n",
       "      <td>13995.0</td>\n",
       "    </tr>\n",
       "    <tr>\n",
       "      <th>4</th>\n",
       "      <td>4</td>\n",
       "      <td>5</td>\n",
       "      <td>5</td>\n",
       "      <td>2015-07-31</td>\n",
       "      <td>559.0</td>\n",
       "      <td>1</td>\n",
       "      <td>1</td>\n",
       "      <td>0</td>\n",
       "      <td>1</td>\n",
       "      <td>4822.0</td>\n",
       "    </tr>\n",
       "    <tr>\n",
       "      <th>5</th>\n",
       "      <td>5</td>\n",
       "      <td>6</td>\n",
       "      <td>5</td>\n",
       "      <td>2015-07-31</td>\n",
       "      <td>589.0</td>\n",
       "      <td>1</td>\n",
       "      <td>1</td>\n",
       "      <td>0</td>\n",
       "      <td>1</td>\n",
       "      <td>5651.0</td>\n",
       "    </tr>\n",
       "    <tr>\n",
       "      <th>6</th>\n",
       "      <td>6</td>\n",
       "      <td>7</td>\n",
       "      <td>5</td>\n",
       "      <td>2015-07-31</td>\n",
       "      <td>1414.0</td>\n",
       "      <td>1</td>\n",
       "      <td>1</td>\n",
       "      <td>0</td>\n",
       "      <td>1</td>\n",
       "      <td>15344.0</td>\n",
       "    </tr>\n",
       "    <tr>\n",
       "      <th>7</th>\n",
       "      <td>7</td>\n",
       "      <td>8</td>\n",
       "      <td>5</td>\n",
       "      <td>2015-07-31</td>\n",
       "      <td>833.0</td>\n",
       "      <td>1</td>\n",
       "      <td>1</td>\n",
       "      <td>0</td>\n",
       "      <td>1</td>\n",
       "      <td>8492.0</td>\n",
       "    </tr>\n",
       "    <tr>\n",
       "      <th>8</th>\n",
       "      <td>8</td>\n",
       "      <td>9</td>\n",
       "      <td>5</td>\n",
       "      <td>2015-07-31</td>\n",
       "      <td>687.0</td>\n",
       "      <td>1</td>\n",
       "      <td>1</td>\n",
       "      <td>0</td>\n",
       "      <td>1</td>\n",
       "      <td>8565.0</td>\n",
       "    </tr>\n",
       "    <tr>\n",
       "      <th>9</th>\n",
       "      <td>9</td>\n",
       "      <td>10</td>\n",
       "      <td>5</td>\n",
       "      <td>2015-07-31</td>\n",
       "      <td>681.0</td>\n",
       "      <td>1</td>\n",
       "      <td>1</td>\n",
       "      <td>0</td>\n",
       "      <td>1</td>\n",
       "      <td>7185.0</td>\n",
       "    </tr>\n",
       "  </tbody>\n",
       "</table>\n",
       "</div>"
      ],
      "text/plain": [
       "   Unnamed: 0  Store  DayOfWeek        Date  Customers  Open  Promo  \\\n",
       "0           0      1          5  2015-07-31        NaN     1      1   \n",
       "1           1      2          5  2015-07-31      625.0     1      1   \n",
       "2           2      3          5  2015-07-31      821.0     1      1   \n",
       "3           3      4          5  2015-07-31     1498.0     1      1   \n",
       "4           4      5          5  2015-07-31      559.0     1      1   \n",
       "5           5      6          5  2015-07-31      589.0     1      1   \n",
       "6           6      7          5  2015-07-31     1414.0     1      1   \n",
       "7           7      8          5  2015-07-31      833.0     1      1   \n",
       "8           8      9          5  2015-07-31      687.0     1      1   \n",
       "9           9     10          5  2015-07-31      681.0     1      1   \n",
       "\n",
       "  StateHoliday  SchoolHoliday    Sales  \n",
       "0            0              1   5263.0  \n",
       "1            0              1   6064.0  \n",
       "2            0              1   8314.0  \n",
       "3            0              1  13995.0  \n",
       "4            0              1   4822.0  \n",
       "5            0              1   5651.0  \n",
       "6            0              1  15344.0  \n",
       "7            0              1   8492.0  \n",
       "8            0              1   8565.0  \n",
       "9            0              1   7185.0  "
      ]
     },
     "execution_count": 3,
     "metadata": {},
     "output_type": "execute_result"
    }
   ],
   "source": [
    "Sales = data.iloc[:,4]\n",
    "data = data.drop(['Sales'], axis = 1)\n",
    "data[\"Sales\"] = Sales\n",
    "data.head(10)"
   ]
  },
  {
   "cell_type": "markdown",
   "metadata": {},
   "source": [
    "* Check simple description of data using `info()` method\n",
    "  - Column name\n",
    "  - Column/Row counts\n",
    "  - Data types\n",
    "  - Counts of non-null samples"
   ]
  },
  {
   "cell_type": "code",
   "execution_count": 5,
   "metadata": {
    "scrolled": false
   },
   "outputs": [
    {
     "name": "stdout",
     "output_type": "stream",
     "text": [
      "<class 'pandas.core.frame.DataFrame'>\n",
      "RangeIndex: 53738 entries, 0 to 53737\n",
      "Data columns (total 10 columns):\n",
      " #   Column         Non-Null Count  Dtype  \n",
      "---  ------         --------------  -----  \n",
      " 0   Unnamed: 0     53738 non-null  int64  \n",
      " 1   Store          53738 non-null  int64  \n",
      " 2   DayOfWeek      53738 non-null  int64  \n",
      " 3   Date           53738 non-null  object \n",
      " 4   Customers      53567 non-null  float64\n",
      " 5   Open           53738 non-null  int64  \n",
      " 6   Promo          53738 non-null  int64  \n",
      " 7   StateHoliday   53738 non-null  object \n",
      " 8   SchoolHoliday  53738 non-null  int64  \n",
      " 9   Sales          53733 non-null  float64\n",
      "dtypes: float64(2), int64(6), object(2)\n",
      "memory usage: 4.1+ MB\n"
     ]
    }
   ],
   "source": [
    "data.info()"
   ]
  },
  {
   "cell_type": "code",
   "execution_count": 4,
   "metadata": {
    "scrolled": true
   },
   "outputs": [
    {
     "data": {
      "text/plain": [
       "(53738, 10)"
      ]
     },
     "execution_count": 4,
     "metadata": {},
     "output_type": "execute_result"
    }
   ],
   "source": [
    "data.shape"
   ]
  },
  {
   "cell_type": "markdown",
   "metadata": {},
   "source": [
    "* As we can see above result, there are some null_values. at $\\textbf{Customers } and \\textbf{ Sales}$."
   ]
  },
  {
   "cell_type": "code",
   "execution_count": 5,
   "metadata": {},
   "outputs": [
    {
     "data": {
      "text/plain": [
       "Unnamed: 0         0\n",
       "Store              0\n",
       "DayOfWeek          0\n",
       "Date               0\n",
       "Customers        171\n",
       "Open               0\n",
       "Promo              0\n",
       "StateHoliday       0\n",
       "SchoolHoliday      0\n",
       "Sales              5\n",
       "dtype: int64"
      ]
     },
     "execution_count": 5,
     "metadata": {},
     "output_type": "execute_result"
    }
   ],
   "source": [
    "data.isnull().sum()"
   ]
  },
  {
   "cell_type": "markdown",
   "metadata": {},
   "source": [
    "* Only 5 data is missing on Sales data.\n",
    "* But, 171 data of Customers shows null_data.\n",
    "- So, **how we can handle this Customers is important as I think.**\n",
    " - Two ways\n",
    "    - (1) just deleting 171 rows\n",
    "    - (2) using such as mean, median or something, we replace null data into certain point.\n",
    "    \n",
    "We will handle later, at the pre-processing part."
   ]
  },
  {
   "cell_type": "markdown",
   "metadata": {},
   "source": [
    "### data.describe() and see the histogram\n",
    "- since, there exist null_data. So, at this point, I just delete immediately (임시적으로), to make the general intuition of each feature.\n",
    "- If so, we just drop 171 row data."
   ]
  },
  {
   "cell_type": "code",
   "execution_count": 6,
   "metadata": {},
   "outputs": [
    {
     "name": "stdout",
     "output_type": "stream",
     "text": [
      "(53562, 10)\n"
     ]
    }
   ],
   "source": [
    "data_imm = data.dropna()\n",
    "print(data_imm.shape)"
   ]
  },
  {
   "cell_type": "code",
   "execution_count": 7,
   "metadata": {},
   "outputs": [
    {
     "data": {
      "text/html": [
       "<div>\n",
       "<style scoped>\n",
       "    .dataframe tbody tr th:only-of-type {\n",
       "        vertical-align: middle;\n",
       "    }\n",
       "\n",
       "    .dataframe tbody tr th {\n",
       "        vertical-align: top;\n",
       "    }\n",
       "\n",
       "    .dataframe thead th {\n",
       "        text-align: right;\n",
       "    }\n",
       "</style>\n",
       "<table border=\"1\" class=\"dataframe\">\n",
       "  <thead>\n",
       "    <tr style=\"text-align: right;\">\n",
       "      <th></th>\n",
       "      <th>Unnamed: 0</th>\n",
       "      <th>Store</th>\n",
       "      <th>DayOfWeek</th>\n",
       "      <th>Customers</th>\n",
       "      <th>Open</th>\n",
       "      <th>Promo</th>\n",
       "      <th>SchoolHoliday</th>\n",
       "      <th>Sales</th>\n",
       "    </tr>\n",
       "  </thead>\n",
       "  <tbody>\n",
       "    <tr>\n",
       "      <th>count</th>\n",
       "      <td>53562.000000</td>\n",
       "      <td>53562.000000</td>\n",
       "      <td>53562.000000</td>\n",
       "      <td>53562.000000</td>\n",
       "      <td>53562.000000</td>\n",
       "      <td>53562.000000</td>\n",
       "      <td>53562.000000</td>\n",
       "      <td>53562.000000</td>\n",
       "    </tr>\n",
       "    <tr>\n",
       "      <th>mean</th>\n",
       "      <td>26867.554012</td>\n",
       "      <td>29.753426</td>\n",
       "      <td>3.999067</td>\n",
       "      <td>578.373026</td>\n",
       "      <td>0.826145</td>\n",
       "      <td>0.381464</td>\n",
       "      <td>0.176039</td>\n",
       "      <td>5501.139016</td>\n",
       "    </tr>\n",
       "    <tr>\n",
       "      <th>std</th>\n",
       "      <td>15509.864484</td>\n",
       "      <td>17.056625</td>\n",
       "      <td>1.998515</td>\n",
       "      <td>366.996563</td>\n",
       "      <td>0.378988</td>\n",
       "      <td>0.485751</td>\n",
       "      <td>0.380857</td>\n",
       "      <td>3442.701887</td>\n",
       "    </tr>\n",
       "    <tr>\n",
       "      <th>min</th>\n",
       "      <td>1.000000</td>\n",
       "      <td>1.000000</td>\n",
       "      <td>1.000000</td>\n",
       "      <td>0.000000</td>\n",
       "      <td>0.000000</td>\n",
       "      <td>0.000000</td>\n",
       "      <td>0.000000</td>\n",
       "      <td>0.000000</td>\n",
       "    </tr>\n",
       "    <tr>\n",
       "      <th>25%</th>\n",
       "      <td>13434.250000</td>\n",
       "      <td>15.000000</td>\n",
       "      <td>2.000000</td>\n",
       "      <td>396.250000</td>\n",
       "      <td>1.000000</td>\n",
       "      <td>0.000000</td>\n",
       "      <td>0.000000</td>\n",
       "      <td>3732.250000</td>\n",
       "    </tr>\n",
       "    <tr>\n",
       "      <th>50%</th>\n",
       "      <td>26870.500000</td>\n",
       "      <td>30.000000</td>\n",
       "      <td>4.000000</td>\n",
       "      <td>582.000000</td>\n",
       "      <td>1.000000</td>\n",
       "      <td>0.000000</td>\n",
       "      <td>0.000000</td>\n",
       "      <td>5637.000000</td>\n",
       "    </tr>\n",
       "    <tr>\n",
       "      <th>75%</th>\n",
       "      <td>40293.750000</td>\n",
       "      <td>44.000000</td>\n",
       "      <td>6.000000</td>\n",
       "      <td>790.000000</td>\n",
       "      <td>1.000000</td>\n",
       "      <td>1.000000</td>\n",
       "      <td>0.000000</td>\n",
       "      <td>7631.000000</td>\n",
       "    </tr>\n",
       "    <tr>\n",
       "      <th>max</th>\n",
       "      <td>53737.000000</td>\n",
       "      <td>59.000000</td>\n",
       "      <td>7.000000</td>\n",
       "      <td>2849.000000</td>\n",
       "      <td>1.000000</td>\n",
       "      <td>1.000000</td>\n",
       "      <td>1.000000</td>\n",
       "      <td>38037.000000</td>\n",
       "    </tr>\n",
       "  </tbody>\n",
       "</table>\n",
       "</div>"
      ],
      "text/plain": [
       "         Unnamed: 0         Store     DayOfWeek     Customers          Open  \\\n",
       "count  53562.000000  53562.000000  53562.000000  53562.000000  53562.000000   \n",
       "mean   26867.554012     29.753426      3.999067    578.373026      0.826145   \n",
       "std    15509.864484     17.056625      1.998515    366.996563      0.378988   \n",
       "min        1.000000      1.000000      1.000000      0.000000      0.000000   \n",
       "25%    13434.250000     15.000000      2.000000    396.250000      1.000000   \n",
       "50%    26870.500000     30.000000      4.000000    582.000000      1.000000   \n",
       "75%    40293.750000     44.000000      6.000000    790.000000      1.000000   \n",
       "max    53737.000000     59.000000      7.000000   2849.000000      1.000000   \n",
       "\n",
       "              Promo  SchoolHoliday         Sales  \n",
       "count  53562.000000   53562.000000  53562.000000  \n",
       "mean       0.381464       0.176039   5501.139016  \n",
       "std        0.485751       0.380857   3442.701887  \n",
       "min        0.000000       0.000000      0.000000  \n",
       "25%        0.000000       0.000000   3732.250000  \n",
       "50%        0.000000       0.000000   5637.000000  \n",
       "75%        1.000000       0.000000   7631.000000  \n",
       "max        1.000000       1.000000  38037.000000  "
      ]
     },
     "execution_count": 7,
     "metadata": {},
     "output_type": "execute_result"
    }
   ],
   "source": [
    "data_imm.describe()"
   ]
  },
  {
   "cell_type": "code",
   "execution_count": 8,
   "metadata": {},
   "outputs": [
    {
     "data": {
      "image/png": "[encoded data removed]",
      "text/plain": [
       "<Figure size 1440x1080 with 9 Axes>"
      ]
     },
     "metadata": {
      "needs_background": "light"
     },
     "output_type": "display_data"
    }
   ],
   "source": [
    "data_imm.hist(bins=100, figsize=(20, 15))\n",
    "plt.show()"
   ]
  },
  {
   "cell_type": "markdown",
   "metadata": {},
   "source": [
    "### Intuitions of each features.\n",
    "- **Unnamed** (located on [3:2]) shows no meaningful data. Since it shows from 0 to 53736. Just # of data.\n",
    "- **Store** (located on [3:1]) shows  splitting two groups about 750 and 950. (separting into two group)\n",
    "- **DayofWeek** (located on [1:2]) doesn't show any meaningful. Just balanced.\n",
    "- **Customer** (located on [1:1]) shows left skewed data. (many data densely located on left side)\n",
    "- **Open** (located on [1:3]) shows the relationship between open or not. So, Open(=1)'s distribution is much larger.\n",
    "- **Promo** (located on [2:1]) shows the relationship between Promo or not. Promo(=1) value is somewhat large. So, we have to think about this.\n",
    "- **Sales** (located on [2:2]) also shows the left skewed data. (many data densely located on left side). Also, Sales(=0) values are quiet large.\n",
    "\n"
   ]
  },
  {
   "cell_type": "markdown",
   "metadata": {},
   "source": [
    "##### More detaily describe certain features\n",
    "- Store\n",
    "- Date"
   ]
  },
  {
   "cell_type": "markdown",
   "metadata": {},
   "source": [
    "### Store"
   ]
  },
  {
   "cell_type": "code",
   "execution_count": 9,
   "metadata": {
    "scrolled": true
   },
   "outputs": [
    {
     "data": {
      "text/plain": [
       "Text(0.5, 1.0, '# of transaction at each Store')"
      ]
     },
     "execution_count": 9,
     "metadata": {},
     "output_type": "execute_result"
    },
    {
     "data": {
      "image/png": "[encoded data removed]",
      "text/plain": [
       "<Figure size 432x288 with 1 Axes>"
      ]
     },
     "metadata": {
      "needs_background": "light"
     },
     "output_type": "display_data"
    }
   ],
   "source": [
    "plt.scatter(data_imm[\"Store\"].value_counts().index, data_imm[\"Store\"].value_counts().values)\n",
    "plt.xlabel(\"Store's ID\")\n",
    "plt.ylabel(\"#of transaction at that Store\")\n",
    "plt.title(\"# of transaction at each Store\")"
   ]
  },
  {
   "cell_type": "markdown",
   "metadata": {},
   "source": [
    "- Stores transaction data is very separable. Because it has very thick gap between (750,925).\n",
    "- So, I just groupfy to check the ratio between two group."
   ]
  },
  {
   "cell_type": "code",
   "execution_count": 10,
   "metadata": {
    "scrolled": true
   },
   "outputs": [
    {
     "data": {
      "text/plain": [
       "([<matplotlib.axis.XTick at 0x16372c13610>,\n",
       "  <matplotlib.axis.XTick at 0x16372c135e0>],\n",
       " [Text(0, 0, '>=850'), Text(0, 0, '<850')])"
      ]
     },
     "execution_count": 10,
     "metadata": {},
     "output_type": "execute_result"
    },
    {
     "data": {
      "image/png": "[encoded data removed]",
      "text/plain": [
       "<Figure size 432x288 with 1 Axes>"
      ]
     },
     "metadata": {
      "needs_background": "light"
     },
     "output_type": "display_data"
    }
   ],
   "source": [
    "A = data_imm[\"Store\"].value_counts()>800\n",
    "B = data_imm[\"Store\"].value_counts()<800\n",
    "A = A.sum()\n",
    "B = B.sum()\n",
    "plt.bar([0,1],[A,B], width = 0.5)\n",
    "plt.xticks([0,1], [\">=850\",\"<850\"])\n"
   ]
  },
  {
   "cell_type": "markdown",
   "metadata": {},
   "source": [
    "### date"
   ]
  },
  {
   "cell_type": "code",
   "execution_count": 11,
   "metadata": {
    "scrolled": true
   },
   "outputs": [
    {
     "data": {
      "text/plain": [
       "2015-02-15    59\n",
       "2013-02-20    59\n",
       "2013-12-31    59\n",
       "2014-01-29    59\n",
       "2013-12-16    59\n",
       "              ..\n",
       "2014-09-09    48\n",
       "2014-08-05    48\n",
       "2014-10-08    47\n",
       "2014-09-16    47\n",
       "2014-08-02    45\n",
       "Name: Date, Length: 942, dtype: int64"
      ]
     },
     "execution_count": 11,
     "metadata": {},
     "output_type": "execute_result"
    }
   ],
   "source": [
    "data_imm[\"Date\"].value_counts()"
   ]
  },
  {
   "cell_type": "markdown",
   "metadata": {},
   "source": [
    "- #of transaction at that date shows not significantly different. \n",
    "- Max = 59, min = 46\n",
    "\n",
    "\n",
    "#### Let's more detaily dig in to each cases. "
   ]
  },
  {
   "cell_type": "code",
   "execution_count": 12,
   "metadata": {
    "scrolled": true
   },
   "outputs": [
    {
     "name": "stdout",
     "output_type": "stream",
     "text": [
      "46  : 0\n",
      "47  : 2\n",
      "48  : 17\n",
      "49  : 164\n",
      "50  : 0\n",
      "51  : 0\n",
      "52  : 0\n",
      "53  : 0\n",
      "54  : 0\n",
      "55  : 0\n",
      "56  : 1\n",
      "57  : 16\n",
      "58  : 116\n",
      "59  : 625\n"
     ]
    }
   ],
   "source": [
    "B = []\n",
    "c = []\n",
    "for i in range(46,60):\n",
    "    A = data_imm[\"Date\"].value_counts() == i \n",
    "    A.sum()\n",
    "    B.append(A.sum())\n",
    "    c.append(i)\n",
    "    print(\"%s  :\"%i, A.sum())\n"
   ]
  },
  {
   "cell_type": "code",
   "execution_count": 13,
   "metadata": {
    "scrolled": true
   },
   "outputs": [
    {
     "data": {
      "text/plain": [
       "<BarContainer object of 14 artists>"
      ]
     },
     "execution_count": 13,
     "metadata": {},
     "output_type": "execute_result"
    },
    {
     "data": {
      "image/png": "[encoded data removed]",
      "text/plain": [
       "<Figure size 432x288 with 1 Axes>"
      ]
     },
     "metadata": {
      "needs_background": "light"
     },
     "output_type": "display_data"
    }
   ],
   "source": [
    "plt.bar(c,B)"
   ]
  },
  {
   "cell_type": "markdown",
   "metadata": {},
   "source": [
    "- large amount of data are densely located on over than 57 cases.\n",
    "- Also, like above case of Store, we can also separete into two group."
   ]
  },
  {
   "cell_type": "code",
   "execution_count": 14,
   "metadata": {
    "scrolled": true
   },
   "outputs": [
    {
     "data": {
      "text/plain": [
       "([<matplotlib.axis.XTick at 0x163730c89a0>,\n",
       "  <matplotlib.axis.XTick at 0x163730c8970>],\n",
       " [Text(0, 0, '>54'), Text(0, 0, '<54')])"
      ]
     },
     "execution_count": 14,
     "metadata": {},
     "output_type": "execute_result"
    },
    {
     "data": {
      "image/png": "[encoded data removed]",
      "text/plain": [
       "<Figure size 432x288 with 1 Axes>"
      ]
     },
     "metadata": {
      "needs_background": "light"
     },
     "output_type": "display_data"
    }
   ],
   "source": [
    "A = data_imm[\"Date\"].value_counts()>54\n",
    "B = data_imm[\"Date\"].value_counts()<54\n",
    "A = A.sum()\n",
    "B = B.sum()\n",
    "plt.bar([0,1],[A,B], width = 0.5)\n",
    "plt.xticks([0,1], [\">54\",\"<54\"])"
   ]
  },
  {
   "cell_type": "markdown",
   "metadata": {},
   "source": [
    "* This means that ***(#of transaction at certain day)*** is largely located on over than 54.\n",
    "- The balacned between this ratio is much skewer than *Store*"
   ]
  },
  {
   "cell_type": "markdown",
   "metadata": {},
   "source": [
    "#### correlation between each sample"
   ]
  },
  {
   "cell_type": "code",
   "execution_count": 15,
   "metadata": {
    "scrolled": true
   },
   "outputs": [
    {
     "data": {
      "text/plain": [
       "Text(0.5, 1.0, 'Correlation')"
      ]
     },
     "execution_count": 15,
     "metadata": {},
     "output_type": "execute_result"
    },
    {
     "data": {
      "image/png": "[encoded data removed]",
      "text/plain": [
       "<Figure size 1152x432 with 2 Axes>"
      ]
     },
     "metadata": {
      "needs_background": "light"
     },
     "output_type": "display_data"
    }
   ],
   "source": [
    "plt.figure(figsize=(16, 6))\n",
    "heatmap = sns.heatmap(data.corr(), vmin=-1, vmax=1, annot=True)  \n",
    "heatmap.set_title('Correlation',  pad=12)"
   ]
  },
  {
   "cell_type": "code",
   "execution_count": 16,
   "metadata": {},
   "outputs": [
    {
     "data": {
      "text/plain": [
       "Sales            1.000000\n",
       "Customers        0.919535\n",
       "Open             0.732648\n",
       "Promo            0.509810\n",
       "SchoolHoliday    0.101986\n",
       "Store           -0.000265\n",
       "Unnamed: 0      -0.041817\n",
       "DayOfWeek       -0.516496\n",
       "Name: Sales, dtype: float64"
      ]
     },
     "execution_count": 16,
     "metadata": {},
     "output_type": "execute_result"
    }
   ],
   "source": [
    "data.corr()['Sales'].sort_values(ascending=False)"
   ]
  },
  {
   "cell_type": "markdown",
   "metadata": {},
   "source": [
    "##### meaning\n",
    "- I doesn't do the pre-processing such as $\\textbf{(DayofWeek,SchoolHoliay, Store) ...etc}$.\n",
    "- So, this doesn't guarantee the signiicant result.\n",
    "- But **customers & Sales** relation shows very high affected each other.\n",
    "- Also, ***Sales & Promo or Sales & Open*** shows somewhat relation between each other.\n",
    "  - I think that, even thought it is not numeric, just nominal data, 0 means nothing, 1 means meaningful data. "
   ]
  },
  {
   "cell_type": "markdown",
   "metadata": {},
   "source": [
    "## Split training and test data"
   ]
  },
  {
   "cell_type": "markdown",
   "metadata": {},
   "source": [
    "- Remember, you **MUST** split test data first for simulating unseen data\n",
    "- Use `train_test_split()` method in scikit-learn package\n",
    "- If you use test set on training your models, it underestimates generalization error, which induces __data snooping bias__."
   ]
  },
  {
   "cell_type": "markdown",
   "metadata": {},
   "source": [
    "* setting random state = 0\n",
    "* test ratio = 0.2 $\\rightarrow$ test: train = (0.2 : 0.8)"
   ]
  },
  {
   "cell_type": "code",
   "execution_count": 152,
   "metadata": {
    "scrolled": true
   },
   "outputs": [],
   "source": [
    "# import method\n",
    "from sklearn.model_selection import train_test_split\n",
    "x_train,x_test, y_train, y_test = train_test_split( data.iloc[:,:-1],data.iloc[:,-1], test_size=0.2, random_state=0)"
   ]
  },
  {
   "cell_type": "markdown",
   "metadata": {},
   "source": [
    "- check whether, train and test is well defined "
   ]
  },
  {
   "cell_type": "code",
   "execution_count": 153,
   "metadata": {
    "scrolled": false
   },
   "outputs": [
    {
     "name": "stdout",
     "output_type": "stream",
     "text": [
      "Original total data number: 53738\n",
      "\n",
      "Training samples: 42990, Test samples: 42990\n",
      "Training samples: 10748, Test samples: 10748\n"
     ]
    }
   ],
   "source": [
    "lenx_train = len(x_train)\n",
    "leny_train = len(y_train)\n",
    "lenx_test  = len(x_test)\n",
    "leny_test = len(y_test)\n",
    "\n",
    "print(f'Original total data number:', len(data))\n",
    "print()\n",
    "print(f'Training samples: {lenx_train}, Test samples: {leny_train}')\n",
    "print(f'Training samples: {lenx_test}, Test samples: {leny_test}')"
   ]
  },
  {
   "cell_type": "markdown",
   "metadata": {},
   "source": [
    "  - we check that we separate **x_train, y_train, x_test, y_test well**.\n",
    "\n",
    "\n",
    "* Then, From the x_train data, we dig in Exploratory data analysis in order to get some intuition of this problem."
   ]
  },
  {
   "cell_type": "markdown",
   "metadata": {},
   "source": [
    "## Exploratory Data Analysis (EDA)"
   ]
  },
  {
   "cell_type": "markdown",
   "metadata": {},
   "source": [
    "#### before we do,\n",
    "\n",
    "The reason why we do EDA at this step is, we should first divide into **train_data and test_data**.\n",
    "- we just focus on x_train data at EDA step.\n",
    "- we plot many kinds of chart to see the relationship\n",
    "- at this step, there can be some modifying step. (make new independent varible that is mixed with original independent variables)\n",
    "  - So, to maintain original data, we copy the training data at first.\n",
    "    - if modified new variable show good performance, then we modifed also into x_train, x_test sample."
   ]
  },
  {
   "cell_type": "code",
   "execution_count": 154,
   "metadata": {},
   "outputs": [],
   "source": [
    "Train, Test = train_test_split( data, test_size=0.2, random_state=0)\n",
    "Train_EDA = Train.copy().dropna()\n",
    "Test_EDA = Test.copy().dropna()\n"
   ]
  },
  {
   "cell_type": "markdown",
   "metadata": {},
   "source": [
    "- to analyze, first we drop the NaN values. with using dropna()"
   ]
  },
  {
   "cell_type": "markdown",
   "metadata": {},
   "source": [
    "### 1st) Sales with Customers"
   ]
  },
  {
   "cell_type": "code",
   "execution_count": 155,
   "metadata": {
    "scrolled": false
   },
   "outputs": [
    {
     "data": {
      "image/png": "[encoded data removed]",
      "text/plain": [
       "<Figure size 432x288 with 1 Axes>"
      ]
     },
     "metadata": {
      "needs_background": "light"
     },
     "output_type": "display_data"
    }
   ],
   "source": [
    "plt.scatter( x = Train_EDA[\"Customers\"], y = Train_EDA[\"Sales\"])\n",
    "plt.xlabel(\"# of Customers\")\n",
    "plt.ylabel(\"Sales\")\n",
    "plt.title(\"Customers vs Sales\", fontsize = 13 )\n",
    "plt.show()"
   ]
  },
  {
   "cell_type": "markdown",
   "metadata": {},
   "source": [
    "- With , linear regression graph"
   ]
  },
  {
   "cell_type": "code",
   "execution_count": 156,
   "metadata": {
    "scrolled": false
   },
   "outputs": [
    {
     "data": {
      "image/png": "[encoded data removed]",
      "text/plain": [
       "<Figure size 432x288 with 1 Axes>"
      ]
     },
     "metadata": {
      "needs_background": "light"
     },
     "output_type": "display_data"
    }
   ],
   "source": [
    "X = Train_EDA[\"Customers\"].values.reshape(-1,1)\n",
    "y = Train_EDA[\"Sales\"].values.reshape(-1,1)\n",
    "from sklearn import linear_model\n",
    "model = linear_model.LinearRegression()\n",
    "model.fit(X,y)\n",
    "x = np.arange(0,3000, 500)\n",
    "y = float(model.intercept_) + x*float(model.coef_)\n",
    "plt.plot(x,y, 'r')\n",
    "plt.scatter( x = Train_EDA[\"Customers\"], y = Train_EDA[\"Sales\"])\n",
    "plt.xlabel(\"# of Customers\")\n",
    "plt.ylabel(\"Sales\")\n",
    "plt.title(\"Customers vs Sales\", fontsize = 13 )\n",
    "plt.show()"
   ]
  },
  {
   "cell_type": "markdown",
   "metadata": {},
   "source": [
    "- Even though, scatter points shows thick shape, we can generally say **it has positive relationship between Customers & Sales.**\n",
    " - That is, the more customers, the larger Sales."
   ]
  },
  {
   "cell_type": "markdown",
   "metadata": {},
   "source": [
    "### 2nd step) Sales & Open"
   ]
  },
  {
   "cell_type": "code",
   "execution_count": 157,
   "metadata": {
    "scrolled": false
   },
   "outputs": [
    {
     "data": {
      "text/html": [
       "<div>\n",
       "<style scoped>\n",
       "    .dataframe tbody tr th:only-of-type {\n",
       "        vertical-align: middle;\n",
       "    }\n",
       "\n",
       "    .dataframe tbody tr th {\n",
       "        vertical-align: top;\n",
       "    }\n",
       "\n",
       "    .dataframe thead th {\n",
       "        text-align: right;\n",
       "    }\n",
       "</style>\n",
       "<table border=\"1\" class=\"dataframe\">\n",
       "  <thead>\n",
       "    <tr style=\"text-align: right;\">\n",
       "      <th></th>\n",
       "      <th>Unnamed: 0</th>\n",
       "      <th>Store</th>\n",
       "      <th>DayOfWeek</th>\n",
       "      <th>Date</th>\n",
       "      <th>Customers</th>\n",
       "      <th>Open</th>\n",
       "      <th>Promo</th>\n",
       "      <th>StateHoliday</th>\n",
       "      <th>SchoolHoliday</th>\n",
       "      <th>Sales</th>\n",
       "    </tr>\n",
       "  </thead>\n",
       "  <tbody>\n",
       "    <tr>\n",
       "      <th>38149</th>\n",
       "      <td>38149</td>\n",
       "      <td>47</td>\n",
       "      <td>7</td>\n",
       "      <td>2013-09-22</td>\n",
       "      <td>0.0</td>\n",
       "      <td>0</td>\n",
       "      <td>0</td>\n",
       "      <td>0</td>\n",
       "      <td>0</td>\n",
       "      <td>0.0</td>\n",
       "    </tr>\n",
       "    <tr>\n",
       "      <th>1589</th>\n",
       "      <td>1589</td>\n",
       "      <td>56</td>\n",
       "      <td>7</td>\n",
       "      <td>2015-07-05</td>\n",
       "      <td>0.0</td>\n",
       "      <td>0</td>\n",
       "      <td>0</td>\n",
       "      <td>0</td>\n",
       "      <td>0</td>\n",
       "      <td>0.0</td>\n",
       "    </tr>\n",
       "    <tr>\n",
       "      <th>44313</th>\n",
       "      <td>44313</td>\n",
       "      <td>16</td>\n",
       "      <td>7</td>\n",
       "      <td>2013-06-09</td>\n",
       "      <td>0.0</td>\n",
       "      <td>0</td>\n",
       "      <td>0</td>\n",
       "      <td>0</td>\n",
       "      <td>0</td>\n",
       "      <td>0.0</td>\n",
       "    </tr>\n",
       "    <tr>\n",
       "      <th>17480</th>\n",
       "      <td>17480</td>\n",
       "      <td>27</td>\n",
       "      <td>7</td>\n",
       "      <td>2014-09-21</td>\n",
       "      <td>0.0</td>\n",
       "      <td>0</td>\n",
       "      <td>0</td>\n",
       "      <td>0</td>\n",
       "      <td>0</td>\n",
       "      <td>0.0</td>\n",
       "    </tr>\n",
       "    <tr>\n",
       "      <th>46129</th>\n",
       "      <td>46129</td>\n",
       "      <td>3</td>\n",
       "      <td>4</td>\n",
       "      <td>2013-05-09</td>\n",
       "      <td>0.0</td>\n",
       "      <td>0</td>\n",
       "      <td>0</td>\n",
       "      <td>a</td>\n",
       "      <td>0</td>\n",
       "      <td>0.0</td>\n",
       "    </tr>\n",
       "    <tr>\n",
       "      <th>...</th>\n",
       "      <td>...</td>\n",
       "      <td>...</td>\n",
       "      <td>...</td>\n",
       "      <td>...</td>\n",
       "      <td>...</td>\n",
       "      <td>...</td>\n",
       "      <td>...</td>\n",
       "      <td>...</td>\n",
       "      <td>...</td>\n",
       "      <td>...</td>\n",
       "    </tr>\n",
       "    <tr>\n",
       "      <th>51374</th>\n",
       "      <td>51374</td>\n",
       "      <td>56</td>\n",
       "      <td>7</td>\n",
       "      <td>2013-02-10</td>\n",
       "      <td>0.0</td>\n",
       "      <td>0</td>\n",
       "      <td>0</td>\n",
       "      <td>0</td>\n",
       "      <td>0</td>\n",
       "      <td>0.0</td>\n",
       "    </tr>\n",
       "    <tr>\n",
       "      <th>43095</th>\n",
       "      <td>43095</td>\n",
       "      <td>37</td>\n",
       "      <td>7</td>\n",
       "      <td>2013-06-30</td>\n",
       "      <td>0.0</td>\n",
       "      <td>0</td>\n",
       "      <td>0</td>\n",
       "      <td>0</td>\n",
       "      <td>0</td>\n",
       "      <td>0.0</td>\n",
       "    </tr>\n",
       "    <tr>\n",
       "      <th>48600</th>\n",
       "      <td>48600</td>\n",
       "      <td>55</td>\n",
       "      <td>5</td>\n",
       "      <td>2013-03-29</td>\n",
       "      <td>0.0</td>\n",
       "      <td>0</td>\n",
       "      <td>1</td>\n",
       "      <td>b</td>\n",
       "      <td>1</td>\n",
       "      <td>0.0</td>\n",
       "    </tr>\n",
       "    <tr>\n",
       "      <th>15430</th>\n",
       "      <td>15430</td>\n",
       "      <td>37</td>\n",
       "      <td>7</td>\n",
       "      <td>2014-11-02</td>\n",
       "      <td>0.0</td>\n",
       "      <td>0</td>\n",
       "      <td>0</td>\n",
       "      <td>0</td>\n",
       "      <td>0</td>\n",
       "      <td>0.0</td>\n",
       "    </tr>\n",
       "    <tr>\n",
       "      <th>21243</th>\n",
       "      <td>21243</td>\n",
       "      <td>15</td>\n",
       "      <td>7</td>\n",
       "      <td>2014-07-06</td>\n",
       "      <td>0.0</td>\n",
       "      <td>0</td>\n",
       "      <td>0</td>\n",
       "      <td>0</td>\n",
       "      <td>0</td>\n",
       "      <td>0.0</td>\n",
       "    </tr>\n",
       "  </tbody>\n",
       "</table>\n",
       "<p>7445 rows × 10 columns</p>\n",
       "</div>"
      ],
      "text/plain": [
       "       Unnamed: 0  Store  DayOfWeek        Date  Customers  Open  Promo  \\\n",
       "38149       38149     47          7  2013-09-22        0.0     0      0   \n",
       "1589         1589     56          7  2015-07-05        0.0     0      0   \n",
       "44313       44313     16          7  2013-06-09        0.0     0      0   \n",
       "17480       17480     27          7  2014-09-21        0.0     0      0   \n",
       "46129       46129      3          4  2013-05-09        0.0     0      0   \n",
       "...           ...    ...        ...         ...        ...   ...    ...   \n",
       "51374       51374     56          7  2013-02-10        0.0     0      0   \n",
       "43095       43095     37          7  2013-06-30        0.0     0      0   \n",
       "48600       48600     55          5  2013-03-29        0.0     0      1   \n",
       "15430       15430     37          7  2014-11-02        0.0     0      0   \n",
       "21243       21243     15          7  2014-07-06        0.0     0      0   \n",
       "\n",
       "      StateHoliday  SchoolHoliday  Sales  \n",
       "38149            0              0    0.0  \n",
       "1589             0              0    0.0  \n",
       "44313            0              0    0.0  \n",
       "17480            0              0    0.0  \n",
       "46129            a              0    0.0  \n",
       "...            ...            ...    ...  \n",
       "51374            0              0    0.0  \n",
       "43095            0              0    0.0  \n",
       "48600            b              1    0.0  \n",
       "15430            0              0    0.0  \n",
       "21243            0              0    0.0  \n",
       "\n",
       "[7445 rows x 10 columns]"
      ]
     },
     "execution_count": 157,
     "metadata": {},
     "output_type": "execute_result"
    }
   ],
   "source": [
    "Train_EDA[Train_EDA[\"Open\"]==0]"
   ]
  },
  {
   "cell_type": "code",
   "execution_count": 158,
   "metadata": {
    "scrolled": true
   },
   "outputs": [
    {
     "data": {
      "text/plain": [
       "<matplotlib.collections.PathCollection at 0x16371b6d070>"
      ]
     },
     "execution_count": 158,
     "metadata": {},
     "output_type": "execute_result"
    },
    {
     "data": {
      "image/png": "[encoded data removed]",
      "text/plain": [
       "<Figure size 432x288 with 1 Axes>"
      ]
     },
     "metadata": {
      "needs_background": "light"
     },
     "output_type": "display_data"
    }
   ],
   "source": [
    "plt.scatter(Train_EDA[Train_EDA[\"Open\"] ==0][\"Open\"], y = Train_EDA[Train_EDA[\"Open\"] ==0][\"Sales\"])"
   ]
  },
  {
   "cell_type": "markdown",
   "metadata": {},
   "source": [
    "- Of course, if the store is closed, **Sales = 0.**\n"
   ]
  },
  {
   "cell_type": "code",
   "execution_count": 159,
   "metadata": {
    "scrolled": true
   },
   "outputs": [
    {
     "data": {
      "text/plain": [
       "<matplotlib.collections.PathCollection at 0x1631bad3760>"
      ]
     },
     "execution_count": 159,
     "metadata": {},
     "output_type": "execute_result"
    },
    {
     "data": {
      "image/png": "[encoded data removed]",
      "text/plain": [
       "<Figure size 432x288 with 1 Axes>"
      ]
     },
     "metadata": {
      "needs_background": "light"
     },
     "output_type": "display_data"
    }
   ],
   "source": [
    "plt.scatter(Train_EDA[Train_EDA[\"Open\"] ==1][\"Open\"], y = Train_EDA[Train_EDA[\"Open\"] ==1][\"Sales\"])"
   ]
  },
  {
   "cell_type": "markdown",
   "metadata": {},
   "source": [
    "- Of course, we cannot analyze only with **Sales & (Open ==1)**"
   ]
  },
  {
   "cell_type": "code",
   "execution_count": 160,
   "metadata": {
    "scrolled": true
   },
   "outputs": [
    {
     "data": {
      "text/plain": [
       "<matplotlib.axes._subplots.AxesSubplot at 0x1631baff0d0>"
      ]
     },
     "execution_count": 160,
     "metadata": {},
     "output_type": "execute_result"
    },
    {
     "data": {
      "image/png": "[encoded data removed]",
      "text/plain": [
       "<Figure size 432x288 with 1 Axes>"
      ]
     },
     "metadata": {
      "needs_background": "light"
     },
     "output_type": "display_data"
    }
   ],
   "source": [
    "A = [\"Close\", \"Open\"]\n",
    "B = [Train_EDA[Train_EDA[\"Open\"]==0].shape[0],Train_EDA[Train_EDA[\"Open\"]==1].shape[0]]\n",
    "sns.barplot(x = A, y = B,)\n",
    "#plt.barh(y= A, width = B)"
   ]
  },
  {
   "cell_type": "markdown",
   "metadata": {},
   "source": [
    "- This is the ratio between Close & Open.\n",
    " - The ratio is about **Close : Open = 1:5** "
   ]
  },
  {
   "cell_type": "markdown",
   "metadata": {},
   "source": [
    "#### Conclusion on Sales & Open\n",
    "- Close (Open ==0) shows very strict prediction value. If Open =0 , then Sales must be 0.\n",
    "- But, in case of (Open =1) Case, we cannot predict Sales. Because, all of the independent variable (Open) is 1, while dependent variable Sales is varied."
   ]
  },
  {
   "cell_type": "code",
   "execution_count": 161,
   "metadata": {
    "scrolled": true
   },
   "outputs": [
    {
     "data": {
      "text/html": [
       "<div>\n",
       "<style scoped>\n",
       "    .dataframe tbody tr th:only-of-type {\n",
       "        vertical-align: middle;\n",
       "    }\n",
       "\n",
       "    .dataframe tbody tr th {\n",
       "        vertical-align: top;\n",
       "    }\n",
       "\n",
       "    .dataframe thead th {\n",
       "        text-align: right;\n",
       "    }\n",
       "</style>\n",
       "<table border=\"1\" class=\"dataframe\">\n",
       "  <thead>\n",
       "    <tr style=\"text-align: right;\">\n",
       "      <th></th>\n",
       "      <th>Unnamed: 0</th>\n",
       "      <th>Store</th>\n",
       "      <th>DayOfWeek</th>\n",
       "      <th>Date</th>\n",
       "      <th>Customers</th>\n",
       "      <th>Open</th>\n",
       "      <th>Promo</th>\n",
       "      <th>StateHoliday</th>\n",
       "      <th>SchoolHoliday</th>\n",
       "      <th>Sales</th>\n",
       "    </tr>\n",
       "  </thead>\n",
       "  <tbody>\n",
       "    <tr>\n",
       "      <th>0</th>\n",
       "      <td>0</td>\n",
       "      <td>1</td>\n",
       "      <td>5</td>\n",
       "      <td>2015-07-31</td>\n",
       "      <td>NaN</td>\n",
       "      <td>1</td>\n",
       "      <td>1</td>\n",
       "      <td>0</td>\n",
       "      <td>1</td>\n",
       "      <td>5263.0</td>\n",
       "    </tr>\n",
       "    <tr>\n",
       "      <th>1</th>\n",
       "      <td>1</td>\n",
       "      <td>2</td>\n",
       "      <td>5</td>\n",
       "      <td>2015-07-31</td>\n",
       "      <td>625.0</td>\n",
       "      <td>1</td>\n",
       "      <td>1</td>\n",
       "      <td>0</td>\n",
       "      <td>1</td>\n",
       "      <td>6064.0</td>\n",
       "    </tr>\n",
       "    <tr>\n",
       "      <th>2</th>\n",
       "      <td>2</td>\n",
       "      <td>3</td>\n",
       "      <td>5</td>\n",
       "      <td>2015-07-31</td>\n",
       "      <td>821.0</td>\n",
       "      <td>1</td>\n",
       "      <td>1</td>\n",
       "      <td>0</td>\n",
       "      <td>1</td>\n",
       "      <td>8314.0</td>\n",
       "    </tr>\n",
       "    <tr>\n",
       "      <th>3</th>\n",
       "      <td>3</td>\n",
       "      <td>4</td>\n",
       "      <td>5</td>\n",
       "      <td>2015-07-31</td>\n",
       "      <td>1498.0</td>\n",
       "      <td>1</td>\n",
       "      <td>1</td>\n",
       "      <td>0</td>\n",
       "      <td>1</td>\n",
       "      <td>13995.0</td>\n",
       "    </tr>\n",
       "    <tr>\n",
       "      <th>4</th>\n",
       "      <td>4</td>\n",
       "      <td>5</td>\n",
       "      <td>5</td>\n",
       "      <td>2015-07-31</td>\n",
       "      <td>559.0</td>\n",
       "      <td>1</td>\n",
       "      <td>1</td>\n",
       "      <td>0</td>\n",
       "      <td>1</td>\n",
       "      <td>4822.0</td>\n",
       "    </tr>\n",
       "    <tr>\n",
       "      <th>...</th>\n",
       "      <td>...</td>\n",
       "      <td>...</td>\n",
       "      <td>...</td>\n",
       "      <td>...</td>\n",
       "      <td>...</td>\n",
       "      <td>...</td>\n",
       "      <td>...</td>\n",
       "      <td>...</td>\n",
       "      <td>...</td>\n",
       "      <td>...</td>\n",
       "    </tr>\n",
       "    <tr>\n",
       "      <th>53733</th>\n",
       "      <td>53733</td>\n",
       "      <td>55</td>\n",
       "      <td>2</td>\n",
       "      <td>2013-01-01</td>\n",
       "      <td>0.0</td>\n",
       "      <td>0</td>\n",
       "      <td>0</td>\n",
       "      <td>a</td>\n",
       "      <td>1</td>\n",
       "      <td>0.0</td>\n",
       "    </tr>\n",
       "    <tr>\n",
       "      <th>53734</th>\n",
       "      <td>53734</td>\n",
       "      <td>56</td>\n",
       "      <td>2</td>\n",
       "      <td>2013-01-01</td>\n",
       "      <td>0.0</td>\n",
       "      <td>0</td>\n",
       "      <td>0</td>\n",
       "      <td>a</td>\n",
       "      <td>1</td>\n",
       "      <td>0.0</td>\n",
       "    </tr>\n",
       "    <tr>\n",
       "      <th>53735</th>\n",
       "      <td>53735</td>\n",
       "      <td>57</td>\n",
       "      <td>2</td>\n",
       "      <td>2013-01-01</td>\n",
       "      <td>0.0</td>\n",
       "      <td>0</td>\n",
       "      <td>0</td>\n",
       "      <td>a</td>\n",
       "      <td>1</td>\n",
       "      <td>0.0</td>\n",
       "    </tr>\n",
       "    <tr>\n",
       "      <th>53736</th>\n",
       "      <td>53736</td>\n",
       "      <td>58</td>\n",
       "      <td>2</td>\n",
       "      <td>2013-01-01</td>\n",
       "      <td>0.0</td>\n",
       "      <td>0</td>\n",
       "      <td>0</td>\n",
       "      <td>a</td>\n",
       "      <td>1</td>\n",
       "      <td>0.0</td>\n",
       "    </tr>\n",
       "    <tr>\n",
       "      <th>53737</th>\n",
       "      <td>53737</td>\n",
       "      <td>59</td>\n",
       "      <td>2</td>\n",
       "      <td>2013-01-01</td>\n",
       "      <td>0.0</td>\n",
       "      <td>0</td>\n",
       "      <td>0</td>\n",
       "      <td>a</td>\n",
       "      <td>1</td>\n",
       "      <td>0.0</td>\n",
       "    </tr>\n",
       "  </tbody>\n",
       "</table>\n",
       "<p>53738 rows × 10 columns</p>\n",
       "</div>"
      ],
      "text/plain": [
       "       Unnamed: 0  Store  DayOfWeek        Date  Customers  Open  Promo  \\\n",
       "0               0      1          5  2015-07-31        NaN     1      1   \n",
       "1               1      2          5  2015-07-31      625.0     1      1   \n",
       "2               2      3          5  2015-07-31      821.0     1      1   \n",
       "3               3      4          5  2015-07-31     1498.0     1      1   \n",
       "4               4      5          5  2015-07-31      559.0     1      1   \n",
       "...           ...    ...        ...         ...        ...   ...    ...   \n",
       "53733       53733     55          2  2013-01-01        0.0     0      0   \n",
       "53734       53734     56          2  2013-01-01        0.0     0      0   \n",
       "53735       53735     57          2  2013-01-01        0.0     0      0   \n",
       "53736       53736     58          2  2013-01-01        0.0     0      0   \n",
       "53737       53737     59          2  2013-01-01        0.0     0      0   \n",
       "\n",
       "      StateHoliday  SchoolHoliday    Sales  \n",
       "0                0              1   5263.0  \n",
       "1                0              1   6064.0  \n",
       "2                0              1   8314.0  \n",
       "3                0              1  13995.0  \n",
       "4                0              1   4822.0  \n",
       "...            ...            ...      ...  \n",
       "53733            a              1      0.0  \n",
       "53734            a              1      0.0  \n",
       "53735            a              1      0.0  \n",
       "53736            a              1      0.0  \n",
       "53737            a              1      0.0  \n",
       "\n",
       "[53738 rows x 10 columns]"
      ]
     },
     "execution_count": 161,
     "metadata": {},
     "output_type": "execute_result"
    }
   ],
   "source": [
    "data"
   ]
  },
  {
   "cell_type": "code",
   "execution_count": 162,
   "metadata": {
    "scrolled": true
   },
   "outputs": [
    {
     "data": {
      "image/png": "[encoded data removed]",
      "text/plain": [
       "<Figure size 504x360 with 1 Axes>"
      ]
     },
     "metadata": {
      "needs_background": "light"
     },
     "output_type": "display_data"
    }
   ],
   "source": [
    "A = []\n",
    "B = []\n",
    "for i in range(1,8):\n",
    "    A.append(Train_EDA[Train_EDA[\"DayOfWeek\"]==i].shape[0])\n",
    "    B.append(i)\n",
    "    \n",
    "plt.figure(figsize = (7,5))\n",
    "\n",
    "plt.barh(B, A, alpha=0.5,)\n",
    "\n",
    "plt.xlabel('# of transaction')\n",
    "plt.ylabel(\"Day of week\")\n",
    "plt.title('# of Transaction at each week' , fontsize = 13, fontweight='bold')\n",
    "\n",
    "plt.show()\n",
    "\n"
   ]
  },
  {
   "cell_type": "code",
   "execution_count": 163,
   "metadata": {},
   "outputs": [
    {
     "data": {
      "image/png": "[encoded data removed]",
      "text/plain": [
       "<Figure size 432x288 with 1 Axes>"
      ]
     },
     "metadata": {},
     "output_type": "display_data"
    }
   ],
   "source": [
    "plt.pie(A, labels=B, autopct='%.1f%%', explode=[0.05,0.05,0.05,0.05,0.05,0.05,0.05])\n",
    "plt.show()"
   ]
  },
  {
   "cell_type": "markdown",
   "metadata": {},
   "source": [
    "- #of transaction at \"Day of week\" doesn't show significant different values.\n",
    "\n",
    "- Then, how about, Sales between DayofWeek?"
   ]
  },
  {
   "cell_type": "code",
   "execution_count": 164,
   "metadata": {},
   "outputs": [
    {
     "data": {
      "text/plain": [
       "<matplotlib.collections.PathCollection at 0x1631ba40100>"
      ]
     },
     "execution_count": 164,
     "metadata": {},
     "output_type": "execute_result"
    },
    {
     "data": {
      "image/png": "[encoded data removed]",
      "text/plain": [
       "<Figure size 432x288 with 1 Axes>"
      ]
     },
     "metadata": {
      "needs_background": "light"
     },
     "output_type": "display_data"
    }
   ],
   "source": [
    "plt.scatter(x = Train_EDA[\"DayOfWeek\"], y = Train_EDA[\"Sales\"])"
   ]
  },
  {
   "cell_type": "code",
   "execution_count": 165,
   "metadata": {},
   "outputs": [],
   "source": [
    "A = []\n",
    "for i in range(1,8):\n",
    "    A.append(Train_EDA[Train_EDA[\"DayOfWeek\"] ==i]['Sales'])"
   ]
  },
  {
   "cell_type": "code",
   "execution_count": 166,
   "metadata": {
    "scrolled": true
   },
   "outputs": [
    {
     "data": {
      "image/png": "[encoded data removed]",
      "text/plain": [
       "<Figure size 432x288 with 1 Axes>"
      ]
     },
     "metadata": {
      "needs_background": "light"
     },
     "output_type": "display_data"
    }
   ],
   "source": [
    "plt.boxplot(A)\n",
    "plt.title(\"Box plot at each Dayof Week\",  fontsize = 13, fontweight='bold')\n",
    "plt.show()"
   ]
  },
  {
   "cell_type": "code",
   "execution_count": 167,
   "metadata": {},
   "outputs": [
    {
     "data": {
      "text/plain": [
       "0    6116\n",
       "Name: Open, dtype: int64"
      ]
     },
     "execution_count": 167,
     "metadata": {},
     "output_type": "execute_result"
    }
   ],
   "source": [
    "Train_EDA[Train_EDA[\"DayOfWeek\"] ==7][\"Open\"].value_counts()\n"
   ]
  },
  {
   "cell_type": "markdown",
   "metadata": {},
   "source": [
    "#### Conclusion\n",
    "- At each Day of week, it shows very similiar shape. That is, It seems no difference depending on Day of week.\n",
    "- Week 7 shows only 0 Sales values. Because, On Week 7, The Store doesn't open at all. (only 6116 for closing value)"
   ]
  },
  {
   "cell_type": "markdown",
   "metadata": {},
   "source": [
    "### 4rd step) Sales & StateHoliday"
   ]
  },
  {
   "cell_type": "code",
   "execution_count": 168,
   "metadata": {
    "scrolled": true
   },
   "outputs": [
    {
     "data": {
      "text/plain": [
       "['c', 'a', '0', 'b']"
      ]
     },
     "execution_count": 168,
     "metadata": {},
     "output_type": "execute_result"
    }
   ],
   "source": [
    "list(set(Train[\"StateHoliday\"]))"
   ]
  },
  {
   "cell_type": "code",
   "execution_count": 169,
   "metadata": {},
   "outputs": [],
   "source": [
    "t = ['0','a','b','c']"
   ]
  },
  {
   "cell_type": "code",
   "execution_count": 170,
   "metadata": {
    "scrolled": true
   },
   "outputs": [
    {
     "data": {
      "text/plain": [
       "<BarContainer object of 4 artists>"
      ]
     },
     "execution_count": 170,
     "metadata": {},
     "output_type": "execute_result"
    },
    {
     "data": {
      "image/png": "[encoded data removed]",
      "text/plain": [
       "<Figure size 432x288 with 1 Axes>"
      ]
     },
     "metadata": {
      "needs_background": "light"
     },
     "output_type": "display_data"
    }
   ],
   "source": [
    "plt.bar(x = t, height =  Train_EDA[\"StateHoliday\"].value_counts())"
   ]
  },
  {
   "cell_type": "markdown",
   "metadata": {},
   "source": [
    "- There seems '0' values (=None) is largely located. \n",
    "- left ones (public (=a), Easter (=b), Christmas(=c) ) are similar. \n",
    "- Then, link with mean Sales."
   ]
  },
  {
   "cell_type": "code",
   "execution_count": 171,
   "metadata": {},
   "outputs": [
    {
     "data": {
      "text/plain": [
       "0    282\n",
       "Name: Open, dtype: int64"
      ]
     },
     "execution_count": 171,
     "metadata": {},
     "output_type": "execute_result"
    }
   ],
   "source": [
    "Train_EDA[Train_EDA[\"StateHoliday\"]== 'b'][\"Open\"].value_counts()"
   ]
  },
  {
   "cell_type": "code",
   "execution_count": 172,
   "metadata": {
    "scrolled": true
   },
   "outputs": [
    {
     "data": {
      "text/plain": [
       "Text(0, 0.5, 'Sales')"
      ]
     },
     "execution_count": 172,
     "metadata": {},
     "output_type": "execute_result"
    },
    {
     "data": {
      "image/png": "[encoded data removed]",
      "text/plain": [
       "<Figure size 432x288 with 1 Axes>"
      ]
     },
     "metadata": {
      "needs_background": "light"
     },
     "output_type": "display_data"
    }
   ],
   "source": [
    "A = ['0','a','b','c']\n",
    "B = []\n",
    "for i in A:\n",
    "    B.append(Train_EDA[Train_EDA[\"StateHoliday\"]== i][\"Sales\"].mean())\n",
    "    \n",
    "\n",
    "plt.bar(x = A, height = B)\n",
    "plt.title(\"Sale mean depending on StateHoliday\", fontsize = 13, fontweight='bold')\n",
    "plt.xlabel(\"StateHoliday\")\n",
    "plt.ylabel(\"Sales\")"
   ]
  },
  {
   "cell_type": "code",
   "execution_count": 173,
   "metadata": {},
   "outputs": [
    {
     "data": {
      "text/plain": [
       "Text(0, 0.5, 'Sales')"
      ]
     },
     "execution_count": 173,
     "metadata": {},
     "output_type": "execute_result"
    },
    {
     "data": {
      "image/png": "[encoded data removed]",
      "text/plain": [
       "<Figure size 432x288 with 1 Axes>"
      ]
     },
     "metadata": {
      "needs_background": "light"
     },
     "output_type": "display_data"
    }
   ],
   "source": [
    "plt.scatter(x= Train_EDA[\"StateHoliday\"], y = Train_EDA[\"Sales\"])\n",
    "plt.title(\"Sale Scatter depending on StateHoliday\",fontsize = 13, fontweight='bold' )\n",
    "plt.xlabel(\"StateHoliday\")\n",
    "plt.ylabel(\"Sales\")"
   ]
  },
  {
   "cell_type": "markdown",
   "metadata": {},
   "source": [
    "#### conclusion\n",
    "- First of all, type (b & c) doesn't have any Sales value. (only 0) \n",
    " - Because, on Easter & christmas, The Store doesn't open. (All of the Open value = 0)\n",
    "- \n",
    "- **So we have to compare between '0' and 'a'**\n",
    "- **'0'(none) value**\n",
    " - shows much larger mean value than 'a'\n",
    " - Also, when we see scatter plot, its scatter point located much larger than 'a'.\n",
    " \n",
    " **'a'(public) value**\n",
    " - shows much lower mean value than 'a'\n",
    " - Also, when we see scatter plot, its scatter point located much lower than 'a'."
   ]
  },
  {
   "cell_type": "code",
   "execution_count": 174,
   "metadata": {
    "scrolled": true
   },
   "outputs": [
    {
     "data": {
      "text/plain": [
       "Text(0.5, 0, 'Mean Sales')"
      ]
     },
     "execution_count": 174,
     "metadata": {},
     "output_type": "execute_result"
    },
    {
     "data": {
      "image/png": "[encoded data removed]",
      "text/plain": [
       "<Figure size 432x288 with 1 Axes>"
      ]
     },
     "metadata": {
      "needs_background": "light"
     },
     "output_type": "display_data"
    }
   ],
   "source": [
    "B = Train_EDA[Train_EDA[\"StateHoliday\"]=='a']\n",
    "B = B[B[\"Open\"]==1].Sales.mean()\n",
    "A = Train_EDA[Train_EDA[\"StateHoliday\"]=='0']\n",
    "A = A[A[\"Open\"]==1].Sales.mean()\n",
    "C = [A,B,0,0]\n",
    "E = ['0','a','b','c']\n",
    "\n",
    "plt.barh(y = E, width = C)\n",
    "plt.title(\"Mean Sales depending on StateHoliday (only in case of Open)\")\n",
    "plt.ylabel(\"Stateholiday\")\n",
    "plt.xlabel(\"Mean Sales\")"
   ]
  },
  {
   "cell_type": "markdown",
   "metadata": {},
   "source": [
    "**cf) just considering open case**\n",
    "- if we just consider Open case,\n",
    "- 'a' and '0' 's mean value is very similiar each other.\n",
    "- about 5700 and 6300. \n",
    "- That is, if we just consider Mean value in case of Open\n",
    " - Their difference shows not much different.\n",
    " - Of course, '0' case is larger.\n"
   ]
  },
  {
   "cell_type": "markdown",
   "metadata": {},
   "source": [
    "### 5rd step) Sales & Promo"
   ]
  },
  {
   "cell_type": "code",
   "execution_count": 175,
   "metadata": {},
   "outputs": [],
   "source": [
    "A= Train_EDA[Train_EDA[\"Promo\"]==0]\n",
    "\n",
    "a = [A[\"Open\"].value_counts()[0], A[\"Open\"].value_counts()[1]]\n",
    "\n",
    "B = Train_EDA[Train_EDA[\"Promo\"]==1]\n",
    "b = [B[\"Open\"].value_counts()[0], B[\"Open\"].value_counts()[1]]\n",
    "c = list(set(Train_EDA[\"Promo\"]))"
   ]
  },
  {
   "cell_type": "code",
   "execution_count": 176,
   "metadata": {
    "scrolled": true
   },
   "outputs": [
    {
     "data": {
      "image/png": "[encoded data removed]",
      "text/plain": [
       "<Figure size 432x288 with 2 Axes>"
      ]
     },
     "metadata": {
      "needs_background": "light"
     },
     "output_type": "display_data"
    }
   ],
   "source": [
    "ax1 = plt.subplot(121)\n",
    "graph1 = sns.barplot(c,a)\n",
    "plt.xlabel(\"Open\")\n",
    "plt.ylabel(\"Sales\")\n",
    "plt.title(\"Non-Promo\")\n",
    "\n",
    "ax2 = plt.subplot(122)\n",
    "graph2 = sns.barplot(c,b)\n",
    "plt.xlabel(\"Open\")\n",
    "plt.ylabel(\"Sales\")\n",
    "plt.title(\"Promo\")\n",
    "\n",
    "plt.tight_layout()\n",
    "plt.show()"
   ]
  },
  {
   "cell_type": "markdown",
   "metadata": {},
   "source": [
    "- If there exists a promo, The store have high probability to open their store. \n",
    " - It means that if promo exists, The store have some Sales value.\n",
    " \n",
    "- Then, **compare with Sales**.\n",
    " - Compare with Non-promo & Promo without considering Close\n",
    " - Compare with Non-Promo & Promo only with Opening case (because, when closed, there is no Sales)"
   ]
  },
  {
   "cell_type": "code",
   "execution_count": 177,
   "metadata": {
    "scrolled": false
   },
   "outputs": [
    {
     "data": {
      "image/png": "[encoded data removed]",
      "text/plain": [
       "<Figure size 432x288 with 1 Axes>"
      ]
     },
     "metadata": {
      "needs_background": "light"
     },
     "output_type": "display_data"
    }
   ],
   "source": [
    "a = [A[\"Sales\"], B[\"Sales\"]]\n",
    "\n",
    "plt.boxplot(a)\n",
    "plt.title(\"Box plot at Promotion\",  fontsize = 13, fontweight='bold')\n",
    "plt.xlabel(\"Non-Promo & Promo\")\n",
    "plt.ylabel(\"Sales\")\n",
    "plt.show()"
   ]
  },
  {
   "cell_type": "code",
   "execution_count": 178,
   "metadata": {
    "scrolled": true
   },
   "outputs": [
    {
     "data": {
      "image/png": "[encoded data removed]",
      "text/plain": [
       "<Figure size 432x288 with 1 Axes>"
      ]
     },
     "metadata": {
      "needs_background": "light"
     },
     "output_type": "display_data"
    }
   ],
   "source": [
    "b = [A[A[\"Open\"] ==1][\"Sales\"], [B[B[\"Open\"] ==1][\"Sales\"]]]\n",
    "\n",
    "plt.boxplot(b)\n",
    "plt.title(\"Box plot at promotion\",  fontsize = 13, fontweight='bold')\n",
    "plt.xlabel(\"Non-Promo & Promo\")\n",
    "plt.ylabel(\"Sales\")\n",
    "plt.show()"
   ]
  },
  {
   "cell_type": "markdown",
   "metadata": {},
   "source": [
    "#### Conclusion\n",
    "- Promo season shows much larger Sales than Non-Promo\n",
    " - 7700 (Promo) vs 4700(Non-Promo)\n",
    "- Not that much difference between two cases\n",
    " - Especially, Promo case, doesn't affect with close case\n",
    "  - Reason is Promo's close case is very low\n",
    "  - other case, Non-Promo's close case is somewhat larger, So, it is affected."
   ]
  },
  {
   "cell_type": "markdown",
   "metadata": {},
   "source": [
    "### 6rd step) Sales & data (Last One)"
   ]
  },
  {
   "cell_type": "code",
   "execution_count": 179,
   "metadata": {
    "scrolled": false
   },
   "outputs": [
    {
     "data": {
      "text/plain": [
       "Text(0.5, 1.0, 'Transcation number per Year')"
      ]
     },
     "execution_count": 179,
     "metadata": {},
     "output_type": "execute_result"
    },
    {
     "data": {
      "image/png": "[encoded data removed]",
      "text/plain": [
       "<Figure size 432x288 with 1 Axes>"
      ]
     },
     "metadata": {
      "needs_background": "light"
     },
     "output_type": "display_data"
    }
   ],
   "source": [
    "# year by year\n",
    "d_2013 = Train_EDA[Train_EDA[\"Date\"].str.contains(\"2013\")]\n",
    "d_2014 = Train_EDA[Train_EDA[\"Date\"].str.contains(\"2014\")]\n",
    "d_2015 = Train_EDA[Train_EDA[\"Date\"].str.contains(\"2015\")]\n",
    "\n",
    "A = [len(d_2013), len(d_2014), len(d_2015)]\n",
    "B = [2013,2014,2015]\n",
    "plt.barh(y = B, width = A, color = 'g', height = 0.8)\n",
    "plt.xlabel(\"# of transcation at year\")\n",
    "plt.ylabel(\"Year\")\n",
    "plt.title(\"Transcation number per Year\", fontsize = 13, fontweight='bold')"
   ]
  },
  {
   "cell_type": "markdown",
   "metadata": {},
   "source": [
    "- When we first look at this graph, It seems lie Year on 2015 has very fewer. \n",
    "- Or, when the time pass on, the number of Transaction is lower.\n",
    "- But, '2015' only have until July data.\n",
    "- So, if we use mean of each '2013' and '2014' data. Then edited graph will be followed"
   ]
  },
  {
   "cell_type": "code",
   "execution_count": 180,
   "metadata": {
    "scrolled": true
   },
   "outputs": [
    {
     "data": {
      "text/plain": [
       "Text(0.5, 1.0, 'Adusted version')"
      ]
     },
     "execution_count": 180,
     "metadata": {},
     "output_type": "execute_result"
    },
    {
     "data": {
      "image/png": "[encoded data removed]",
      "text/plain": [
       "<Figure size 432x288 with 1 Axes>"
      ]
     },
     "metadata": {
      "needs_background": "light"
     },
     "output_type": "display_data"
    }
   ],
   "source": [
    "# here is considering 2015's 7~12 month data using mean value of 2013 and 2014\n",
    "a = ['08','09','10','11','12']\n",
    "b = 0\n",
    "for i in a:\n",
    "    b += len(Train_EDA[Train_EDA[\"Date\"].str.contains('2013-%s'%i)])\n",
    "    b += len(Train_EDA[Train_EDA[\"Date\"].str.contains('2014-%s'%i)])\n",
    "b = b/2\n",
    "\n",
    "A = [len(d_2013), len(d_2014), len(d_2015)+b]\n",
    "B = [2013,2014,2015]\n",
    "plt.barh(y = B, width = A, color = 'g', height = 0.8)\n",
    "plt.xlabel(\"# of transcation at year\")\n",
    "plt.ylabel(\"Year\")\n",
    "plt.title(\"Adusted version\", fontsize = 13, fontweight='bold')"
   ]
  },
  {
   "cell_type": "markdown",
   "metadata": {},
   "source": [
    "- So, we cannot declar that year data have some meaningful insight.\n",
    "- How about month data? (**day by day is very hard to analyze**)\n",
    " - Change object type into int64 type\n",
    " - how can I solve the issue when we deal with December to January (ex) 201312 -> 201401)\n",
    "   - gap is not 1 , but 79\n",
    "   - just making from starting 201301 at 1, and then increase by 1.\n",
    "   - ex) 201312  => 12, 201401 => 13 \n",
    "  "
   ]
  },
  {
   "cell_type": "code",
   "execution_count": 181,
   "metadata": {
    "scrolled": true
   },
   "outputs": [
    {
     "data": {
      "image/png": "[encoded data removed]",
      "text/plain": [
       "<Figure size 432x288 with 1 Axes>"
      ]
     },
     "metadata": {
      "needs_background": "light"
     },
     "output_type": "display_data"
    }
   ],
   "source": [
    "A = Train_EDA.copy()\n",
    "A[\"Date\"] = A[\"Date\"].str.replace(\"-\", \"\")\n",
    "\n",
    "a = [\"2013\", \"2014\", \"2015\"]\n",
    "b = [\"01\",\"02\",\"03\", \"04\",\"05\",\"06\",\"07\",\"08\",\"09\",\"10\",\"11\",\"12\"]\n",
    "c = []\n",
    "d = []\n",
    "e = 0\n",
    "for i in a:\n",
    "    for j in b:\n",
    "        c.append(A[A[\"Date\"].str.contains(i+j)].Sales.mean())\n",
    "        e += 1\n",
    "        d.append(e)\n",
    "            \n",
    "plt.plot(d,c)\n",
    "plt.plot(d,c, \"ro\")\n",
    "plt.xlabel(\"month\")\n",
    "plt.ylabel(\"mean of Sales\")\n",
    "plt.title(\"Mean sales depending on month\", fontsize = 13, fontweight='bold')\n",
    "plt.xticks([1, 7, 13, 19, 25,31,37])\n",
    "plt.show()"
   ]
  },
  {
   "cell_type": "markdown",
   "metadata": {},
   "source": [
    "- It shows that depending on month, the graph very swing a lot.\n",
    "- Especially on December, it has much higher Sales value.\n",
    "- Also, On January, it decreased huge amount.\n",
    "- \n",
    "- Also, 2015 has no data from 8th month. So hard to predict."
   ]
  },
  {
   "cell_type": "code",
   "execution_count": 182,
   "metadata": {
    "scrolled": true
   },
   "outputs": [
    {
     "data": {
      "image/png": "[encoded data removed]",
      "text/plain": [
       "<Figure size 432x288 with 3 Axes>"
      ]
     },
     "metadata": {
      "needs_background": "light"
     },
     "output_type": "display_data"
    }
   ],
   "source": [
    "z = []\n",
    "x = []\n",
    "c = []\n",
    "for j in b:\n",
    "    z.append(A[A[\"Date\"].str.contains('2013'+j)].Sales.mean())\n",
    "    x.append(A[A[\"Date\"].str.contains('2014'+j)].Sales.mean())\n",
    "    c.append(A[A[\"Date\"].str.contains('2015'+j)].Sales.mean())\n",
    "\n",
    "\n",
    "ax1 = plt.subplot(131)\n",
    "graph1 = plt.bar(b,z)\n",
    "plt.xlabel(\"Month\")\n",
    "plt.ylabel(\"Sales\")\n",
    "plt.xticks([\"01\", \"06\",\"12\"])\n",
    "plt.title(\"2013\")\n",
    "\n",
    "ax2 = plt.subplot(132)\n",
    "graph2 = plt.bar(b,x)\n",
    "plt.xlabel(\"Month\")\n",
    "plt.ylabel(\"Sales\")\n",
    "plt.xticks([\"01\", \"06\",\"12\"])\n",
    "plt.title(\"2014\")\n",
    "\n",
    "ax3 = plt.subplot(133)\n",
    "graph2 = plt.bar(b,c)\n",
    "plt.xlabel(\"Month\")\n",
    "plt.ylabel(\"Sales\")\n",
    "plt.xticks([\"01\", \"06\"])\n",
    "plt.title(\"2015\")\n",
    "\n",
    "plt.tight_layout()\n",
    "plt.show()"
   ]
  },
  {
   "cell_type": "markdown",
   "metadata": {},
   "source": [
    "- with viewing subplot,\n",
    " - depending on month shows similiar\n",
    " - Also, on 2015, the mean Sales value seems higher certain degree.\n",
    "    - So, 2015's next transaction will be much higher than others."
   ]
  },
  {
   "cell_type": "markdown",
   "metadata": {},
   "source": [
    "## Data Pre-processing"
   ]
  },
  {
   "cell_type": "markdown",
   "metadata": {},
   "source": [
    "As I mentioned before, there is a **null** data, (missing data). \n",
    "- **Customers = 171**, **Sales = 5**\n",
    "- we have to handle this one to get more good data.\n",
    "- I will compare each of them, and check the accuracy.\n",
    "- \n",
    "\n",
    "**I do several ways of pre-processing in order to compare with each other.** such that\n",
    "  - how about replacing into certain values (mean value or mode, weighted value)?\n",
    "  - how about just drop that row data and then analyze just having all independent and dependent dataset?"
   ]
  },
  {
   "cell_type": "code",
   "execution_count": 183,
   "metadata": {},
   "outputs": [],
   "source": [
    "## 1's approach, just drop all of the null data.\n",
    "data_1st = data.dropna()"
   ]
  },
  {
   "cell_type": "markdown",
   "metadata": {},
   "source": [
    "- 1st approach) just drop"
   ]
  },
  {
   "cell_type": "code",
   "execution_count": 184,
   "metadata": {},
   "outputs": [
    {
     "data": {
      "text/plain": [
       "LinearRegression()"
      ]
     },
     "execution_count": 184,
     "metadata": {},
     "output_type": "execute_result"
    }
   ],
   "source": [
    "X = Train_EDA[\"Customers\"].values.reshape(-1,1)\n",
    "y = Train_EDA[\"Sales\"].values.reshape(-1,1)\n",
    "from sklearn import linear_model\n",
    "model = linear_model.LinearRegression()\n",
    "model.fit(X,y)"
   ]
  },
  {
   "cell_type": "code",
   "execution_count": 185,
   "metadata": {},
   "outputs": [],
   "source": [
    "## 2nd approach, drop only  Customers & deal with missing value on Sales\n",
    "data_2nd = data.copy()\n",
    "null_Customers = data_2nd[data_2nd[\"Customers\"].isnull() ==True][\"Customers\"].index\n",
    "data_2nd = data_2nd.drop(axis = 0 , index = null_Customers)\n",
    "data_2nd [\"Date\"] =data_2nd[\"Date\"].str.replace(\"-\", \"\")\n",
    "data_2nd = data_2nd.reset_index(drop = True)\n",
    "\n",
    "index = list(data_2nd[data_2nd[\"Sales\"].isnull() ==True].index)\n",
    "Customers = list(data_2nd[data_2nd[\"Sales\"].isnull() ==True][\"Customers\"])\n",
    "\n",
    "mean = []    \n",
    "for i in Customers:\n",
    "     mean.append(int(float(model.intercept_) + i*float(model.coef_)))\n",
    "for i in range(len(index)):\n",
    "    z = index[i]\n",
    "    x = mean[i]\n",
    "    data_2nd.iloc[z,-1] = x\n",
    "\n"
   ]
  },
  {
   "cell_type": "markdown",
   "metadata": {},
   "source": [
    "- 2nd approach) \n",
    "  - drop customers\n",
    "  - data which has no Sales value will have some positive Sales value, because data[\"Open\"] ==1\n",
    "  - I just replace each data, into that certain Customer's mean value.\n",
    "  - Using linear regression model\n",
    "     "
   ]
  },
  {
   "cell_type": "code",
   "execution_count": 186,
   "metadata": {},
   "outputs": [],
   "source": [
    "## 3rd approach, guess and replace the missing values on Customers & Sales & Open\n",
    "# replace Sales\n",
    "data_3rd = data.copy()\n",
    "data_3rd = data_3rd.reset_index(drop = True)    \n",
    "data_3rd [\"Date\"] =data_3rd[\"Date\"].str.replace(\"-\", \"\")\n",
    "index = list(data_3rd[data_3rd[\"Sales\"].isnull() ==True].index)\n",
    "Customers = list(data_3rd[data_3rd[\"Sales\"].isnull() ==True][\"Customers\"])\n",
    "\n",
    "mean = []    \n",
    "for i in Customers:\n",
    "     mean.append(int(float(model.intercept_) + i*float(model.coef_)))\n",
    "for i in range(len(index)):\n",
    "    z = index[i]\n",
    "    x = mean[i]\n",
    "    data_3rd.iloc[z,-1] = x\n",
    "\n",
    "\n",
    "# replace Customers with considering Promo & month\n",
    "S = data_3rd[data_3rd[\"Open\"] ==1]\n",
    "A = S[S[\"Promo\"] ==True]\n",
    "B = S[S[\"Promo\"] == False]\n",
    "\n",
    "\n",
    "index = list(A[A[\"Customers\"].isnull() ==True].index)\n",
    "month = list(A[A[\"Customers\"].isnull() ==True][\"Date\"])\n",
    "for i in range(len(month)):\n",
    "    month[i] = month[i][:6]  \n",
    "    \n",
    "mean = []    \n",
    "for i in month:\n",
    "    mean.append(round(A[A[\"Date\"].str.contains(i)].Sales.mean()))\n",
    "for i in range(len(index)):\n",
    "    z = index[i]\n",
    "    x = mean[i]\n",
    "    data_3rd.iloc[z,4] = x\n",
    "\n",
    "        \n",
    "B[B[\"Sales\"].isnull() ==True]\n",
    "index = list(B[B[\"Customers\"].isnull() ==True].index)\n",
    "month = list(B[B[\"Customers\"].isnull() ==True][\"Date\"])\n",
    "for i in range(len(month)):\n",
    "    month[i] = month[i][:6]  \n",
    "    \n",
    "mean = []    \n",
    "for i in month:\n",
    "    mean.append(round(B[B[\"Date\"].str.contains(i)].Sales.mean()))\n",
    "for i in range(len(index)):\n",
    "    z = index[i]\n",
    "    x = mean[i]\n",
    "    data_3rd.iloc[z,4] = x"
   ]
  },
  {
   "cell_type": "markdown",
   "metadata": {},
   "source": [
    "- 3rd approach) \n",
    "  - data which has no Customer value will have some positive value, because data[\"Open] ==1 \n",
    "    - So, I just replace with 2 independent variables. (Promo & month's mean)\n",
    "     - i) No promo 's month mean Customer\n",
    "     - ii) Yes promo 's month mean Customer\n",
    "\n",
    "  - data which has no Sales value will have some positive Sales value, because data[\"Open\"] ==1\n",
    "  - I just replace each data, into that certain month's mean value.\n",
    "     - ex) if data = 201305 => I use 201305's mean Sale value."
   ]
  },
  {
   "cell_type": "markdown",
   "metadata": {},
   "source": [
    "**Drop duplication**"
   ]
  },
  {
   "cell_type": "code",
   "execution_count": 187,
   "metadata": {},
   "outputs": [],
   "source": [
    "data_1st = data_1st.drop_duplicates()\n",
    "data_2nd = data_2nd.drop_duplicates()\n",
    "data_3rd = data_3rd.drop_duplicates()"
   ]
  },
  {
   "cell_type": "code",
   "execution_count": null,
   "metadata": {},
   "outputs": [],
   "source": []
  },
  {
   "cell_type": "markdown",
   "metadata": {},
   "source": [
    "**Drop unecessary independent variables**\n",
    " - **Unnamed** :0 has no information, but only means that #of data\n",
    " - Store:  can have certain information, but this is not numerical meaning. (**have to convert**)\n",
    " - DayofWeek : can have certain information, but this is not numerical meaning (**have to convert**)\n",
    " - Date : calander have to be changed. (**have to convert**)\n",
    " - StateHoliday : can have certain information, but this is not numerical meaning (**have to convert**)\n",
    " - **SchoolHoliday** : doesn't have a meaning result. So, Promo & StateHoliday is enough."
   ]
  },
  {
   "cell_type": "code",
   "execution_count": 188,
   "metadata": {},
   "outputs": [],
   "source": [
    "data_1st = data_1st.drop([\"Unnamed: 0\",\"SchoolHoliday\"], axis = 1)\n",
    "data_2nd = data_2nd.drop([\"Unnamed: 0\",\"SchoolHoliday\"], axis = 1)\n",
    "data_3rd = data_3rd.drop([\"Unnamed: 0\",\"SchoolHoliday\"], axis = 1)"
   ]
  },
  {
   "cell_type": "markdown",
   "metadata": {},
   "source": [
    "**Encode cateogrical feature**\n",
    "- Convert categorical features into numerical representation (Store, DayOfWeek, Promo, StateHoliday, SchoolHoliday)\n",
    "- Using one-hot encoding\n",
    " - Before we do, Date have yyyy-mm-dd data.\n",
    "   - So, this is too large to use one-hot.\n",
    "   - I just trim the day and use only yyyy-mm. \n",
    "   - Then, we only have 201301 ~ 201507 (total 38 categorical data)"
   ]
  },
  {
   "cell_type": "code",
   "execution_count": 189,
   "metadata": {
    "scrolled": true
   },
   "outputs": [],
   "source": [
    "data_1st[\"Date\"] =data_1st[\"Date\"].str.replace(\"-\", \"\").astype(\"int64\")\n",
    "data_1st[\"Date\"] = data_1st[\"Date\"]//100\n",
    "\n",
    "data_2nd[\"Date\"] =data_2nd[\"Date\"].str.replace(\"-\", \"\").astype(\"int64\")\n",
    "data_2nd[\"Date\"] = data_2nd[\"Date\"]//100\n",
    "\n",
    "data_3rd[\"Date\"] =data_3rd[\"Date\"].str.replace(\"-\", \"\").astype(\"int64\")\n",
    "data_3rd[\"Date\"] = data_3rd[\"Date\"]//100"
   ]
  },
  {
   "cell_type": "code",
   "execution_count": 190,
   "metadata": {
    "scrolled": true
   },
   "outputs": [
    {
     "data": {
      "text/html": [
       "<div>\n",
       "<style scoped>\n",
       "    .dataframe tbody tr th:only-of-type {\n",
       "        vertical-align: middle;\n",
       "    }\n",
       "\n",
       "    .dataframe tbody tr th {\n",
       "        vertical-align: top;\n",
       "    }\n",
       "\n",
       "    .dataframe thead th {\n",
       "        text-align: right;\n",
       "    }\n",
       "</style>\n",
       "<table border=\"1\" class=\"dataframe\">\n",
       "  <thead>\n",
       "    <tr style=\"text-align: right;\">\n",
       "      <th></th>\n",
       "      <th>Store</th>\n",
       "      <th>DayOfWeek</th>\n",
       "      <th>Date</th>\n",
       "      <th>Customers</th>\n",
       "      <th>Open</th>\n",
       "      <th>Promo</th>\n",
       "      <th>StateHoliday</th>\n",
       "      <th>Sales</th>\n",
       "    </tr>\n",
       "  </thead>\n",
       "  <tbody>\n",
       "    <tr>\n",
       "      <th>0</th>\n",
       "      <td>1</td>\n",
       "      <td>5</td>\n",
       "      <td>201507</td>\n",
       "      <td>7830.0</td>\n",
       "      <td>1</td>\n",
       "      <td>1</td>\n",
       "      <td>0</td>\n",
       "      <td>5263.0</td>\n",
       "    </tr>\n",
       "    <tr>\n",
       "      <th>1</th>\n",
       "      <td>2</td>\n",
       "      <td>5</td>\n",
       "      <td>201507</td>\n",
       "      <td>625.0</td>\n",
       "      <td>1</td>\n",
       "      <td>1</td>\n",
       "      <td>0</td>\n",
       "      <td>6064.0</td>\n",
       "    </tr>\n",
       "    <tr>\n",
       "      <th>2</th>\n",
       "      <td>3</td>\n",
       "      <td>5</td>\n",
       "      <td>201507</td>\n",
       "      <td>821.0</td>\n",
       "      <td>1</td>\n",
       "      <td>1</td>\n",
       "      <td>0</td>\n",
       "      <td>8314.0</td>\n",
       "    </tr>\n",
       "    <tr>\n",
       "      <th>3</th>\n",
       "      <td>4</td>\n",
       "      <td>5</td>\n",
       "      <td>201507</td>\n",
       "      <td>1498.0</td>\n",
       "      <td>1</td>\n",
       "      <td>1</td>\n",
       "      <td>0</td>\n",
       "      <td>13995.0</td>\n",
       "    </tr>\n",
       "    <tr>\n",
       "      <th>4</th>\n",
       "      <td>5</td>\n",
       "      <td>5</td>\n",
       "      <td>201507</td>\n",
       "      <td>559.0</td>\n",
       "      <td>1</td>\n",
       "      <td>1</td>\n",
       "      <td>0</td>\n",
       "      <td>4822.0</td>\n",
       "    </tr>\n",
       "  </tbody>\n",
       "</table>\n",
       "</div>"
      ],
      "text/plain": [
       "   Store  DayOfWeek    Date  Customers  Open  Promo StateHoliday    Sales\n",
       "0      1          5  201507     7830.0     1      1            0   5263.0\n",
       "1      2          5  201507      625.0     1      1            0   6064.0\n",
       "2      3          5  201507      821.0     1      1            0   8314.0\n",
       "3      4          5  201507     1498.0     1      1            0  13995.0\n",
       "4      5          5  201507      559.0     1      1            0   4822.0"
      ]
     },
     "execution_count": 190,
     "metadata": {},
     "output_type": "execute_result"
    }
   ],
   "source": [
    "data_3rd.head(5)"
   ]
  },
  {
   "cell_type": "markdown",
   "metadata": {},
   "source": [
    "- We can see that Date is changed into \"int64\" with only year & month\n",
    "- Then, we just divide into categorical and num\n",
    "  - And then, using one-hot encoding"
   ]
  },
  {
   "cell_type": "code",
   "execution_count": 191,
   "metadata": {},
   "outputs": [],
   "source": [
    "# let us first separate numerical and categorical columns\n",
    "cat_feat = ['Store', \"DayOfWeek\", \"Date\",\"Promo\",\"StateHoliday\"]\n",
    "num_feat = ['Customers', 'Open']\n",
    "\n",
    "# divide into dependent variable and independent variables\n",
    "\n",
    "X1, y1 = data_1st.iloc[:,:-1], data_1st.iloc[:,-1]\n",
    "X2, y2 = data_2nd.iloc[:,:-1], data_2nd.iloc[:,-1]\n",
    "X3, y3 = data_3rd.iloc[:,:-1], data_3rd.iloc[:,-1]\n"
   ]
  },
  {
   "cell_type": "markdown",
   "metadata": {},
   "source": [
    "**Using One-hot encoding** (on Cat-feat)\n",
    "\n",
    "- **After do the data processing, I will divide the Test and Train again**"
   ]
  },
  {
   "cell_type": "code",
   "execution_count": 192,
   "metadata": {},
   "outputs": [],
   "source": [
    "from sklearn.preprocessing import OneHotEncoder\n",
    "encoder = OneHotEncoder(sparse=False)\n",
    "\n",
    "## X1_train One-hot encoding and concatenate\n",
    "encoder.fit(data_1st['Store'].values.reshape(-1, 1))\n",
    "X1_cat1 = encoder.transform(data_1st['Store'].values.reshape(-1, 1))\n",
    "encoder.fit(data_1st['DayOfWeek'].values.reshape(-1, 1))\n",
    "X1_cat2 = encoder.transform(data_1st['DayOfWeek'].values.reshape(-1, 1))\n",
    "encoder.fit(data_1st['Date'].values.reshape(-1, 1))\n",
    "X1_cat3 = encoder.transform(data_1st['Date'].values.reshape(-1, 1))\n",
    "encoder.fit(data_1st['Promo'].values.reshape(-1, 1))\n",
    "X1_cat4 = encoder.transform(data_1st['Promo'].values.reshape(-1, 1))\n",
    "encoder.fit(data_1st['StateHoliday'].values.reshape(-1, 1))\n",
    "X1_cat5 = encoder.transform(data_1st['StateHoliday'].values.reshape(-1, 1))\n",
    "X1_cat = np.concatenate([X1_cat1, X1_cat2, X1_cat3, X1_cat4, X1_cat5], axis=1)\n",
    "\n",
    "## X2_train One-hot encoding and concatenate\n",
    "encoder.fit(data_2nd['Store'].values.reshape(-1, 1))\n",
    "X2_cat1 = encoder.transform(data_2nd['Store'].values.reshape(-1, 1))\n",
    "encoder.fit(data_2nd['DayOfWeek'].values.reshape(-1, 1))\n",
    "X2_cat2 = encoder.transform(data_2nd['DayOfWeek'].values.reshape(-1, 1))\n",
    "encoder.fit(data_2nd['Date'].values.reshape(-1, 1))\n",
    "X2_cat3 = encoder.transform(data_2nd['Date'].values.reshape(-1, 1))\n",
    "encoder.fit(data_2nd['Promo'].values.reshape(-1, 1))\n",
    "X2_cat4 = encoder.transform(data_2nd['Promo'].values.reshape(-1, 1))\n",
    "encoder.fit(data_2nd['StateHoliday'].values.reshape(-1, 1))\n",
    "X2_cat5 = encoder.transform(data_2nd['StateHoliday'].values.reshape(-1, 1))\n",
    "X2_cat = np.concatenate([X2_cat1, X2_cat2, X2_cat3, X2_cat4, X2_cat5], axis=1)\n",
    "\n",
    "## X3_train One-hot encoding and concatenate\n",
    "encoder.fit(data_3rd['Store'].values.reshape(-1, 1))\n",
    "X3_cat1 = encoder.transform(data_3rd['Store'].values.reshape(-1, 1))\n",
    "encoder.fit(data_3rd['DayOfWeek'].values.reshape(-1, 1))\n",
    "X3_cat2 = encoder.transform(data_3rd['DayOfWeek'].values.reshape(-1, 1))\n",
    "encoder.fit(data_3rd['Date'].values.reshape(-1, 1))\n",
    "X3_cat3 = encoder.transform(data_3rd['Date'].values.reshape(-1, 1))\n",
    "encoder.fit(data_3rd['Promo'].values.reshape(-1, 1))\n",
    "X3_cat4 = encoder.transform(data_3rd['Promo'].values.reshape(-1, 1))\n",
    "encoder.fit(data_3rd['StateHoliday'].values.reshape(-1, 1))\n",
    "X3_cat5 = encoder.transform(data_3rd['StateHoliday'].values.reshape(-1, 1))\n",
    "X3_cat = np.concatenate([X3_cat1, X3_cat2, X3_cat3, X3_cat4, X3_cat5], axis=1)"
   ]
  },
  {
   "cell_type": "code",
   "execution_count": 193,
   "metadata": {
    "scrolled": true
   },
   "outputs": [
    {
     "data": {
      "text/plain": [
       "array([[0., 1., 0., ..., 0., 0., 0.],\n",
       "       [0., 0., 1., ..., 0., 0., 0.],\n",
       "       [0., 0., 0., ..., 0., 0., 0.],\n",
       "       ...,\n",
       "       [0., 0., 0., ..., 1., 0., 0.],\n",
       "       [0., 0., 0., ..., 1., 0., 0.],\n",
       "       [0., 0., 0., ..., 1., 0., 0.]])"
      ]
     },
     "execution_count": 193,
     "metadata": {},
     "output_type": "execute_result"
    }
   ],
   "source": [
    "X1_cat"
   ]
  },
  {
   "cell_type": "markdown",
   "metadata": {},
   "source": [
    "Using **One-hot Encoding** and concatenate all of the values."
   ]
  },
  {
   "cell_type": "markdown",
   "metadata": {},
   "source": [
    "##### Scale numerical features\n",
    "- Scale numerical features to have mean 0 and standard deviation 1\n",
    "- Use `StandardScaler` provided by Scikit-Learn package\n",
    "- Select numerical feature columns and call `fit_trnasform()` method\n",
    "- This is why, we have to reduce the skewed size issue.\n",
    "- we will use the **sklearn.preprocessing , StandardScaler**"
   ]
  },
  {
   "cell_type": "code",
   "execution_count": 194,
   "metadata": {},
   "outputs": [],
   "source": [
    "from sklearn.preprocessing import StandardScaler\n",
    "\n",
    "scalar1 = StandardScaler()\n",
    "scalar1.fit(X1[num_feat].values)\n",
    "X1_num = scalar1.transform(X1[num_feat].values)\n",
    "\n",
    "scalar2 = StandardScaler()\n",
    "scalar2.fit(X2[num_feat].values)\n",
    "X2_num = scalar2.transform(X2[num_feat].values)\n",
    "\n",
    "scalar3 = StandardScaler()\n",
    "scalar3.fit(X3[num_feat].values)\n",
    "X3_num = scalar3.transform(X3[num_feat].values)"
   ]
  },
  {
   "cell_type": "markdown",
   "metadata": {},
   "source": [
    "##### Finish up data pre-processing\n"
   ]
  },
  {
   "cell_type": "code",
   "execution_count": 195,
   "metadata": {
    "scrolled": true
   },
   "outputs": [
    {
     "name": "stdout",
     "output_type": "stream",
     "text": [
      "X1's shape :  (53562, 105)\n",
      "X2's shape :  (53567, 105)\n",
      "X3's shape :  (53738, 105)\n"
     ]
    }
   ],
   "source": [
    "X11 = np.concatenate([X1_num, X1_cat], axis=1)\n",
    "X22 = np.concatenate([X2_num, X2_cat], axis=1)\n",
    "X33 = np.concatenate([X3_num, X3_cat], axis=1)\n",
    "\n",
    "print(\"X1's shape : \", X11.shape)\n",
    "print(\"X2's shape : \", X22.shape)\n",
    "print(\"X3's shape : \", X33.shape)"
   ]
  },
  {
   "cell_type": "markdown",
   "metadata": {},
   "source": [
    "- Divide Test, Train set again.\n",
    "  - Because, I frequently re-design our data.\n",
    "  - Also, It might have the same data split form. ([previous Train data & Test data] and [This Train & Test data] will be same)\n",
    "  - Of course, It is fine with two ways of processing procedure\n",
    "    - First split , Second preprocessing\n",
    "    - First Preprocessing, Second Split"
   ]
  },
  {
   "cell_type": "code",
   "execution_count": 196,
   "metadata": {
    "scrolled": true
   },
   "outputs": [
    {
     "name": "stdout",
     "output_type": "stream",
     "text": [
      "X1_train's number :  42849\n",
      "X1_test's number  :  10713\n",
      "y1_train's number :  42849\n",
      "y1_test's number  :  10713\n",
      "\n",
      "X2_train's number :  42853\n",
      "X2_test's number  :  10714\n",
      "y2_train's number :  42853\n",
      "y2_test's number  :  10714\n",
      "\n",
      "X3_train's number :  42990\n",
      "X3_test's number  :  10748\n",
      "y3_train's number :  42990\n",
      "y3_test's number  :  10748\n"
     ]
    }
   ],
   "source": [
    "#Separate data_1st\n",
    "X1_train,X1_test = train_test_split( X11, test_size=0.2, random_state=0)\n",
    "y1_train,y1_test = train_test_split( y1, test_size=0.2, random_state=0)\n",
    "\n",
    "#Separate data_2nd\n",
    "\n",
    "X2_train,X2_test = train_test_split( X22, test_size=0.2, random_state=0)\n",
    "y2_train,y2_test = train_test_split( y2, test_size=0.2, random_state=0)\n",
    "\n",
    "#Separate data_3rd\n",
    "X3_train,X3_test = train_test_split( X33, test_size=0.2, random_state=0)\n",
    "y3_train,y3_test = train_test_split( y3, test_size=0.2, random_state=0)\n",
    "\n",
    "print(\"X1_train's number : \", len(X1_train))\n",
    "print(\"X1_test's number  : \",len( X1_test))\n",
    "print(\"y1_train's number : \", len(y1_train))\n",
    "print(\"y1_test's number  : \",len( y1_test))\n",
    "print()\n",
    "print(\"X2_train's number : \", len(X2_train))\n",
    "print(\"X2_test's number  : \",len( X2_test))\n",
    "print(\"y2_train's number : \", len(y2_train))\n",
    "print(\"y2_test's number  : \",len( y2_test))\n",
    "print()\n",
    "print(\"X3_train's number : \", len(X3_train))\n",
    "print(\"X3_test's number  : \",len( X3_test))\n",
    "print(\"y3_train's number : \", len(y3_train))\n",
    "print(\"y3_test's number  : \",len( y3_test))"
   ]
  },
  {
   "cell_type": "markdown",
   "metadata": {},
   "source": [
    "## Model training and evaluation"
   ]
  },
  {
   "cell_type": "markdown",
   "metadata": {},
   "source": [
    "### Model training and evaluation\n",
    "* Train model\n",
    "* Evaluate model"
   ]
  },
  {
   "cell_type": "markdown",
   "metadata": {},
   "source": [
    "Three types of checking my model\n",
    " - i) **Linear Regression** \n",
    "   - Simple linear Regrssion \n",
    "   - Multiple linear Regrssion\n",
    " - ii) **Decesion Tree**\n",
    " - iii) **Random Forest**"
   ]
  },
  {
   "cell_type": "markdown",
   "metadata": {},
   "source": [
    "#### Step i-1) Simple linear Regrssion\n",
    " - I want to analyze only one independent variable with one dependent variable.\n",
    " - Using one variable that has biggest value on **Corr with \"Sales\" value.**"
   ]
  },
  {
   "cell_type": "code",
   "execution_count": 197,
   "metadata": {
    "scrolled": false
   },
   "outputs": [
    {
     "data": {
      "text/html": [
       "<div>\n",
       "<style scoped>\n",
       "    .dataframe tbody tr th:only-of-type {\n",
       "        vertical-align: middle;\n",
       "    }\n",
       "\n",
       "    .dataframe tbody tr th {\n",
       "        vertical-align: top;\n",
       "    }\n",
       "\n",
       "    .dataframe thead th {\n",
       "        text-align: right;\n",
       "    }\n",
       "</style>\n",
       "<table border=\"1\" class=\"dataframe\">\n",
       "  <thead>\n",
       "    <tr style=\"text-align: right;\">\n",
       "      <th></th>\n",
       "      <th>Unnamed: 0</th>\n",
       "      <th>Store</th>\n",
       "      <th>DayOfWeek</th>\n",
       "      <th>Customers</th>\n",
       "      <th>Open</th>\n",
       "      <th>Promo</th>\n",
       "      <th>SchoolHoliday</th>\n",
       "      <th>Sales</th>\n",
       "    </tr>\n",
       "  </thead>\n",
       "  <tbody>\n",
       "    <tr>\n",
       "      <th>Unnamed: 0</th>\n",
       "      <td>1.000000</td>\n",
       "      <td>0.010117</td>\n",
       "      <td>-0.000214</td>\n",
       "      <td>-0.005060</td>\n",
       "      <td>0.002863</td>\n",
       "      <td>-0.016742</td>\n",
       "      <td>-0.007531</td>\n",
       "      <td>-0.041817</td>\n",
       "    </tr>\n",
       "    <tr>\n",
       "      <th>Store</th>\n",
       "      <td>0.010117</td>\n",
       "      <td>1.000000</td>\n",
       "      <td>0.000105</td>\n",
       "      <td>-0.113237</td>\n",
       "      <td>-0.002115</td>\n",
       "      <td>-0.000607</td>\n",
       "      <td>-0.004402</td>\n",
       "      <td>-0.000265</td>\n",
       "    </tr>\n",
       "    <tr>\n",
       "      <th>DayOfWeek</th>\n",
       "      <td>-0.000214</td>\n",
       "      <td>0.000105</td>\n",
       "      <td>1.000000</td>\n",
       "      <td>-0.481872</td>\n",
       "      <td>-0.538554</td>\n",
       "      <td>-0.392924</td>\n",
       "      <td>-0.217590</td>\n",
       "      <td>-0.516496</td>\n",
       "    </tr>\n",
       "    <tr>\n",
       "      <th>Customers</th>\n",
       "      <td>-0.005060</td>\n",
       "      <td>-0.113237</td>\n",
       "      <td>-0.481872</td>\n",
       "      <td>1.000000</td>\n",
       "      <td>0.722951</td>\n",
       "      <td>0.397463</td>\n",
       "      <td>0.095240</td>\n",
       "      <td>0.919535</td>\n",
       "    </tr>\n",
       "    <tr>\n",
       "      <th>Open</th>\n",
       "      <td>0.002863</td>\n",
       "      <td>-0.002115</td>\n",
       "      <td>-0.538554</td>\n",
       "      <td>0.722951</td>\n",
       "      <td>1.000000</td>\n",
       "      <td>0.301657</td>\n",
       "      <td>0.096597</td>\n",
       "      <td>0.732648</td>\n",
       "    </tr>\n",
       "    <tr>\n",
       "      <th>Promo</th>\n",
       "      <td>-0.016742</td>\n",
       "      <td>-0.000607</td>\n",
       "      <td>-0.392924</td>\n",
       "      <td>0.397463</td>\n",
       "      <td>0.301657</td>\n",
       "      <td>1.000000</td>\n",
       "      <td>0.071751</td>\n",
       "      <td>0.509810</td>\n",
       "    </tr>\n",
       "    <tr>\n",
       "      <th>SchoolHoliday</th>\n",
       "      <td>-0.007531</td>\n",
       "      <td>-0.004402</td>\n",
       "      <td>-0.217590</td>\n",
       "      <td>0.095240</td>\n",
       "      <td>0.096597</td>\n",
       "      <td>0.071751</td>\n",
       "      <td>1.000000</td>\n",
       "      <td>0.101986</td>\n",
       "    </tr>\n",
       "    <tr>\n",
       "      <th>Sales</th>\n",
       "      <td>-0.041817</td>\n",
       "      <td>-0.000265</td>\n",
       "      <td>-0.516496</td>\n",
       "      <td>0.919535</td>\n",
       "      <td>0.732648</td>\n",
       "      <td>0.509810</td>\n",
       "      <td>0.101986</td>\n",
       "      <td>1.000000</td>\n",
       "    </tr>\n",
       "  </tbody>\n",
       "</table>\n",
       "</div>"
      ],
      "text/plain": [
       "               Unnamed: 0     Store  DayOfWeek  Customers      Open     Promo  \\\n",
       "Unnamed: 0       1.000000  0.010117  -0.000214  -0.005060  0.002863 -0.016742   \n",
       "Store            0.010117  1.000000   0.000105  -0.113237 -0.002115 -0.000607   \n",
       "DayOfWeek       -0.000214  0.000105   1.000000  -0.481872 -0.538554 -0.392924   \n",
       "Customers       -0.005060 -0.113237  -0.481872   1.000000  0.722951  0.397463   \n",
       "Open             0.002863 -0.002115  -0.538554   0.722951  1.000000  0.301657   \n",
       "Promo           -0.016742 -0.000607  -0.392924   0.397463  0.301657  1.000000   \n",
       "SchoolHoliday   -0.007531 -0.004402  -0.217590   0.095240  0.096597  0.071751   \n",
       "Sales           -0.041817 -0.000265  -0.516496   0.919535  0.732648  0.509810   \n",
       "\n",
       "               SchoolHoliday     Sales  \n",
       "Unnamed: 0         -0.007531 -0.041817  \n",
       "Store              -0.004402 -0.000265  \n",
       "DayOfWeek          -0.217590 -0.516496  \n",
       "Customers           0.095240  0.919535  \n",
       "Open                0.096597  0.732648  \n",
       "Promo               0.071751  0.509810  \n",
       "SchoolHoliday       1.000000  0.101986  \n",
       "Sales               0.101986  1.000000  "
      ]
     },
     "execution_count": 197,
     "metadata": {},
     "output_type": "execute_result"
    }
   ],
   "source": [
    "data.corr()"
   ]
  },
  {
   "cell_type": "code",
   "execution_count": 198,
   "metadata": {
    "scrolled": false
   },
   "outputs": [
    {
     "data": {
      "text/plain": [
       "Sales            1.000000\n",
       "Customers        0.919535\n",
       "Open             0.732648\n",
       "Promo            0.509810\n",
       "SchoolHoliday    0.101986\n",
       "Store           -0.000265\n",
       "Unnamed: 0      -0.041817\n",
       "DayOfWeek       -0.516496\n",
       "Name: Sales, dtype: float64"
      ]
     },
     "execution_count": 198,
     "metadata": {},
     "output_type": "execute_result"
    }
   ],
   "source": [
    "data.corr()['Sales'].sort_values(ascending=False)"
   ]
  },
  {
   "cell_type": "markdown",
   "metadata": {},
   "source": [
    "##### So, I want to set \"Customers\" value, which has 0.92 positive relationship between Sales."
   ]
  },
  {
   "cell_type": "code",
   "execution_count": 199,
   "metadata": {},
   "outputs": [
    {
     "data": {
      "text/plain": [
       "array([[ 7435.],\n",
       "       [ 3011.],\n",
       "       [ 8362.],\n",
       "       ...,\n",
       "       [ 4459.],\n",
       "       [ 5295.],\n",
       "       [19593.]])"
      ]
     },
     "execution_count": 199,
     "metadata": {},
     "output_type": "execute_result"
    }
   ],
   "source": [
    "y1_train.values.reshape(-1, 1)"
   ]
  },
  {
   "cell_type": "code",
   "execution_count": 200,
   "metadata": {
    "scrolled": false
   },
   "outputs": [
    {
     "name": "stdout",
     "output_type": "stream",
     "text": [
      "Data_1st's output : \n",
      "MAE: 1005.3623, MSE: 1847870.7104, RMSE: 1359.3641\n",
      "\n",
      "Data_2nd's output : \n",
      "MAE: 1005.8306, MSE: 1838287.7783, RMSE: 1355.8347\n",
      "\n",
      "Data_3rd's output : \n",
      "MAE: 1611.9577, MSE: 6325333.7545, RMSE: 2515.0216\n",
      "\n"
     ]
    }
   ],
   "source": [
    "from sklearn.linear_model import LinearRegression\n",
    "from sklearn.metrics import mean_squared_error, mean_absolute_error\n",
    "\n",
    "# for data_1st\n",
    "x1 = X1_train[:,0].reshape(-1, 1)\n",
    "y11 = y1_train.values.reshape(-1, 1)\n",
    "lin_reg1 = LinearRegression()\n",
    "lin_reg1.fit(x1, y11)\n",
    "lin_reg1.score(x1, y11)\n",
    "y1_pred_train = lin_reg1.predict(x1)\n",
    "lin_reg_mse1 = mean_squared_error(y11, y1_pred_train)\n",
    "lin_reg_mae1 = mean_absolute_error(y11, y1_pred_train)\n",
    "print(\"Data_1st's output : \")\n",
    "print(f'MAE: {lin_reg_mae1:.4f}, MSE: {lin_reg_mse1:.4f}, RMSE: {np.sqrt(lin_reg_mse1):.4f}')\n",
    "print()\n",
    "\n",
    "x2 = X2_train[:,0].reshape(-1, 1)\n",
    "y22 = y2_train.values.reshape(-1, 1)\n",
    "lin_reg2 = LinearRegression()\n",
    "lin_reg2.fit(x2, y22)\n",
    "lin_reg2.score(x2, y22)\n",
    "y2_pred_train = lin_reg2.predict(x2)\n",
    "lin_reg_mse2 = mean_squared_error(y22, y2_pred_train)\n",
    "lin_reg_mae2 = mean_absolute_error(y22, y2_pred_train)\n",
    "print(\"Data_2nd's output : \")\n",
    "print(f'MAE: {lin_reg_mae2:.4f}, MSE: {lin_reg_mse2:.4f}, RMSE: {np.sqrt(lin_reg_mse2):.4f}')\n",
    "print()\n",
    "\n",
    "x3 = X3_train[:,0].reshape(-1, 1)\n",
    "y33 = y3_train.values.reshape(-1, 1)\n",
    "lin_reg3 = LinearRegression()\n",
    "lin_reg3.fit(x3, y33)\n",
    "lin_reg3.score(x3, y33)\n",
    "y3_pred_train = lin_reg3.predict(x3)\n",
    "lin_reg_mse3 = mean_squared_error(y33, y3_pred_train)\n",
    "lin_reg_mae3 = mean_absolute_error(y33, y3_pred_train)\n",
    "print(\"Data_3rd's output : \")\n",
    "print(f'MAE: {lin_reg_mae3:.4f}, MSE: {lin_reg_mse3:.4f}, RMSE: {np.sqrt(lin_reg_mse3):.4f}')\n",
    "print()"
   ]
  },
  {
   "cell_type": "code",
   "execution_count": 201,
   "metadata": {
    "scrolled": true
   },
   "outputs": [
    {
     "data": {
      "image/png": "[encoded data removed]",
      "text/plain": [
       "<Figure size 432x288 with 3 Axes>"
      ]
     },
     "metadata": {
      "needs_background": "light"
     },
     "output_type": "display_data"
    },
    {
     "data": {
      "text/plain": [
       "<Figure size 3960x1440 with 0 Axes>"
      ]
     },
     "metadata": {},
     "output_type": "display_data"
    }
   ],
   "source": [
    "\n",
    "b = [\"Null\", \" Half\", \" Replace\"]\n",
    "z = [lin_reg_mae1,lin_reg_mae2,lin_reg_mae3]\n",
    "x= [lin_reg_mse1,lin_reg_mse2,lin_reg_mse3]\n",
    "c= [np.sqrt(lin_reg_mse1), np.sqrt(lin_reg_mse2),np.sqrt(lin_reg_mse3)]\n",
    "\n",
    "ax1 = plt.subplot(131)\n",
    "graph1 = plt.bar(b,z)\n",
    "plt.title(\"MAE\")\n",
    "\n",
    "ax2 = plt.subplot(132)\n",
    "graph2 = plt.bar(b,x)\n",
    "plt.title(\"MSE\")\n",
    "\n",
    "ax3 = plt.subplot(133)\n",
    "graph2 = plt.bar(b,c)\n",
    "plt.title(\"RMSE\")\n",
    "plt.figure(figsize = (55,20))\n",
    "plt.tight_layout()\n",
    "plt.show()"
   ]
  },
  {
   "cell_type": "markdown",
   "metadata": {},
   "source": [
    "**At each Training case**, \n",
    " - Just drop the null data, shows minimum value.\n",
    " - Also, replace only 5 null Sales data also shows similar output.\n",
    " - But, replace about 171 data on \"Sales\" shows even poor output data."
   ]
  },
  {
   "cell_type": "code",
   "execution_count": 202,
   "metadata": {
    "scrolled": false
   },
   "outputs": [
    {
     "name": "stdout",
     "output_type": "stream",
     "text": [
      "Data_1st's output : \n",
      "MAE: 992.6283, MSE: 1761656.6099, RMSE: 1327.2741\n",
      "Data_2nd's output : \n",
      "MAE: 997.2559, MSE: 1799331.7486, RMSE: 1341.3917\n",
      "Data_3rd's output : \n",
      "MAE: 1610.4178, MSE: 6310866.3235, RMSE: 2512.1438\n"
     ]
    }
   ],
   "source": [
    "x11 = X1_test[:,0].reshape(-1, 1)\n",
    "x22 = X2_test[:,0].reshape(-1, 1)\n",
    "x33 = X3_test[:,0].reshape(-1, 1)\n",
    "\n",
    "y1_pred_test = lin_reg1.predict(x11)\n",
    "lin_reg_mse1 = mean_squared_error(y1_test.values.reshape(-1,1), y1_pred_test)\n",
    "lin_reg_mae1 = mean_absolute_error(y1_test.values.reshape(-1,1), y1_pred_test)\n",
    "\n",
    "y2_pred_test = lin_reg2.predict(x22)\n",
    "lin_reg_mse2 = mean_squared_error(y2_test.values.reshape(-1,1), y2_pred_test)\n",
    "lin_reg_mae2 = mean_absolute_error(y2_test.values.reshape(-1,1), y2_pred_test)\n",
    "\n",
    "y3_pred_test = lin_reg3.predict(x33)\n",
    "lin_reg_mse3 = mean_squared_error(y3_test.values.reshape(-1,1), y3_pred_test)\n",
    "lin_reg_mae3 = mean_absolute_error(y3_test.values.reshape(-1,1), y3_pred_test)\n",
    "\n",
    "print(\"Data_1st's output : \")\n",
    "print(f'MAE: {lin_reg_mae1:.4f}, MSE: {lin_reg_mse1:.4f}, RMSE: {np.sqrt(lin_reg_mse1):.4f}')\n",
    "print(\"Data_2nd's output : \")\n",
    "print(f'MAE: {lin_reg_mae2:.4f}, MSE: {lin_reg_mse2:.4f}, RMSE: {np.sqrt(lin_reg_mse2):.4f}')\n",
    "print(\"Data_3rd's output : \")\n",
    "print(f'MAE: {lin_reg_mae3:.4f}, MSE: {lin_reg_mse3:.4f}, RMSE: {np.sqrt(lin_reg_mse3):.4f}')"
   ]
  },
  {
   "cell_type": "code",
   "execution_count": 203,
   "metadata": {},
   "outputs": [
    {
     "data": {
      "image/png": "[encoded data removed]",
      "text/plain": [
       "<Figure size 432x288 with 3 Axes>"
      ]
     },
     "metadata": {
      "needs_background": "light"
     },
     "output_type": "display_data"
    },
    {
     "data": {
      "text/plain": [
       "<Figure size 3960x1440 with 0 Axes>"
      ]
     },
     "metadata": {},
     "output_type": "display_data"
    }
   ],
   "source": [
    "\n",
    "b = [\"Null\", \" Half\", \" Replace\"]\n",
    "z = [lin_reg_mae1,lin_reg_mae2,lin_reg_mae3]\n",
    "x= [lin_reg_mse1,lin_reg_mse2,lin_reg_mse3]\n",
    "c= [np.sqrt(lin_reg_mse1), np.sqrt(lin_reg_mse2),np.sqrt(lin_reg_mse3)]\n",
    "\n",
    "ax1 = plt.subplot(131)\n",
    "graph1 = plt.bar(b,z)\n",
    "plt.title(\"MAE\")\n",
    "\n",
    "ax2 = plt.subplot(132)\n",
    "graph2 = plt.bar(b,x)\n",
    "plt.title(\"MSE\")\n",
    "\n",
    "ax3 = plt.subplot(133)\n",
    "graph2 = plt.bar(b,c)\n",
    "plt.title(\"RMSE\")\n",
    "plt.figure(figsize = (55,20))\n",
    "plt.tight_layout()\n",
    "plt.show()"
   ]
  },
  {
   "cell_type": "markdown",
   "metadata": {},
   "source": [
    "**At each Testing case**, \n",
    " - Just drop the null data, shows minimum value.\n",
    " - Also, replace only 5 null Sales data also shows similar output.\n",
    " - But, replace about 171 data on \"Sales\" shows even poor output data.\n",
    " \n",
    "So, It shows same performance on Training and Testing.\n",
    "\n",
    "But, even better output than Training. "
   ]
  },
  {
   "cell_type": "markdown",
   "metadata": {},
   "source": [
    "**Step i-2) Multiple linear regression**"
   ]
  },
  {
   "cell_type": "code",
   "execution_count": 204,
   "metadata": {},
   "outputs": [
    {
     "name": "stdout",
     "output_type": "stream",
     "text": [
      "Data_1st's output : \n",
      "MAE: 507.7394, MSE: 527592.3246, RMSE: 726.3555\n",
      "\n",
      "Data_2nd's output : \n",
      "MAE: 507.7717, MSE: 525738.3603, RMSE: 725.0782\n",
      "\n",
      "Data_3rd's output : \n",
      "MAE: 936.1607, MSE: 1743363.8893, RMSE: 1320.3651\n",
      "\n"
     ]
    }
   ],
   "source": [
    "\n",
    "# for data_1st\n",
    "\n",
    "lin_reg1 = LinearRegression()\n",
    "lin_reg1.fit(X1_train, y11)\n",
    "lin_reg1.score(X1_train, y11)\n",
    "y1_pred_train = lin_reg1.predict(X1_train)\n",
    "lin_reg_mse1 = mean_squared_error(y11, y1_pred_train)\n",
    "lin_reg_mae1 = mean_absolute_error(y11, y1_pred_train)\n",
    "print(\"Data_1st's output : \")\n",
    "print(f'MAE: {lin_reg_mae1:.4f}, MSE: {lin_reg_mse1:.4f}, RMSE: {np.sqrt(lin_reg_mse1):.4f}')\n",
    "print()\n",
    "\n",
    "\n",
    "lin_reg2 = LinearRegression()\n",
    "lin_reg2.fit(X2_train, y22)\n",
    "lin_reg2.score(X2_train, y22)\n",
    "y2_pred_train = lin_reg2.predict(X2_train)\n",
    "lin_reg_mse2 = mean_squared_error(y22, y2_pred_train)\n",
    "lin_reg_mae2 = mean_absolute_error(y22, y2_pred_train)\n",
    "print(\"Data_2nd's output : \")\n",
    "print(f'MAE: {lin_reg_mae2:.4f}, MSE: {lin_reg_mse2:.4f}, RMSE: {np.sqrt(lin_reg_mse2):.4f}')\n",
    "print()\n",
    "\n",
    "lin_reg3 = LinearRegression()\n",
    "lin_reg3.fit(X3_train, y33)\n",
    "lin_reg3.score(X3_train, y33)\n",
    "y3_pred_train = lin_reg3.predict(X3_train)\n",
    "lin_reg_mse3 = mean_squared_error(y33, y3_pred_train)\n",
    "lin_reg_mae3 = mean_absolute_error(y33, y3_pred_train)\n",
    "print(\"Data_3rd's output : \")\n",
    "print(f'MAE: {lin_reg_mae3:.4f}, MSE: {lin_reg_mse3:.4f}, RMSE: {np.sqrt(lin_reg_mse3):.4f}')\n",
    "print()"
   ]
  },
  {
   "cell_type": "code",
   "execution_count": 205,
   "metadata": {},
   "outputs": [
    {
     "data": {
      "image/png": "[encoded data removed]",
      "text/plain": [
       "<Figure size 432x288 with 3 Axes>"
      ]
     },
     "metadata": {
      "needs_background": "light"
     },
     "output_type": "display_data"
    },
    {
     "data": {
      "text/plain": [
       "<Figure size 3960x1440 with 0 Axes>"
      ]
     },
     "metadata": {},
     "output_type": "display_data"
    }
   ],
   "source": [
    "\n",
    "b = [\"Null\", \" Half\", \" Replace\"]\n",
    "z = [lin_reg_mae1,lin_reg_mae2,lin_reg_mae3]\n",
    "x= [lin_reg_mse1,lin_reg_mse2,lin_reg_mse3]\n",
    "c= [np.sqrt(lin_reg_mse1), np.sqrt(lin_reg_mse2),np.sqrt(lin_reg_mse3)]\n",
    "\n",
    "ax1 = plt.subplot(131)\n",
    "graph1 = plt.bar(b,z)\n",
    "plt.title(\"MAE\")\n",
    "\n",
    "ax2 = plt.subplot(132)\n",
    "graph2 = plt.bar(b,x)\n",
    "plt.title(\"MSE\")\n",
    "\n",
    "ax3 = plt.subplot(133)\n",
    "graph2 = plt.bar(b,c)\n",
    "plt.title(\"RMSE\")\n",
    "plt.figure(figsize = (55,20))\n",
    "plt.tight_layout()\n",
    "plt.show()"
   ]
  },
  {
   "cell_type": "markdown",
   "metadata": {},
   "source": [
    "**At each Training case**, \n",
    "\n",
    "Again\n",
    " - Just drop the null data, shows minimum value.\n",
    " - Also, replace only 5 null Sales data also shows similar output.\n",
    " - But, replace about 171 data on \"Sales\" shows even poor output data.\n",
    " - **Much smaller than just only one independent variable (Customers)**\n",
    " - about **1005 $\\rightarrow$ 507**"
   ]
  },
  {
   "cell_type": "code",
   "execution_count": 206,
   "metadata": {},
   "outputs": [
    {
     "name": "stdout",
     "output_type": "stream",
     "text": [
      "Data_1st's output : \n",
      "MAE: 507.9246, MSE: 504440.9103, RMSE: 710.2400\n",
      "Data_2nd's output : \n",
      "MAE: 505.0273, MSE: 513213.1241, RMSE: 716.3889\n",
      "Data_3rd's output : \n",
      "MAE: 947.6926, MSE: 1806704.1034, RMSE: 1344.1369\n"
     ]
    }
   ],
   "source": [
    "\n",
    "\n",
    "y1_pred_test = lin_reg1.predict(X1_test)\n",
    "lin_reg_mse1 = mean_squared_error(y1_test.values.reshape(-1,1), y1_pred_test)\n",
    "lin_reg_mae1 = mean_absolute_error(y1_test.values.reshape(-1,1), y1_pred_test)\n",
    "\n",
    "y2_pred_test = lin_reg2.predict(X2_test)\n",
    "lin_reg_mse2 = mean_squared_error(y2_test.values.reshape(-1,1), y2_pred_test)\n",
    "lin_reg_mae2 = mean_absolute_error(y2_test.values.reshape(-1,1), y2_pred_test)\n",
    "\n",
    "y3_pred_test = lin_reg3.predict(X3_test)\n",
    "lin_reg_mse3 = mean_squared_error(y3_test.values.reshape(-1,1), y3_pred_test)\n",
    "lin_reg_mae3 = mean_absolute_error(y3_test.values.reshape(-1,1), y3_pred_test)\n",
    "\n",
    "print(\"Data_1st's output : \")\n",
    "print(f'MAE: {lin_reg_mae1:.4f}, MSE: {lin_reg_mse1:.4f}, RMSE: {np.sqrt(lin_reg_mse1):.4f}')\n",
    "print(\"Data_2nd's output : \")\n",
    "print(f'MAE: {lin_reg_mae2:.4f}, MSE: {lin_reg_mse2:.4f}, RMSE: {np.sqrt(lin_reg_mse2):.4f}')\n",
    "print(\"Data_3rd's output : \")\n",
    "print(f'MAE: {lin_reg_mae3:.4f}, MSE: {lin_reg_mse3:.4f}, RMSE: {np.sqrt(lin_reg_mse3):.4f}')"
   ]
  },
  {
   "cell_type": "code",
   "execution_count": 207,
   "metadata": {},
   "outputs": [
    {
     "data": {
      "image/png": "[encoded data removed]",
      "text/plain": [
       "<Figure size 432x288 with 3 Axes>"
      ]
     },
     "metadata": {
      "needs_background": "light"
     },
     "output_type": "display_data"
    },
    {
     "data": {
      "text/plain": [
       "<Figure size 3960x1440 with 0 Axes>"
      ]
     },
     "metadata": {},
     "output_type": "display_data"
    }
   ],
   "source": [
    "\n",
    "b = [\"Null\", \" Half\", \" Replace\"]\n",
    "z = [lin_reg_mae1,lin_reg_mae2,lin_reg_mae3]\n",
    "x= [lin_reg_mse1,lin_reg_mse2,lin_reg_mse3]\n",
    "c= [np.sqrt(lin_reg_mse1), np.sqrt(lin_reg_mse2),np.sqrt(lin_reg_mse3)]\n",
    "\n",
    "ax1 = plt.subplot(131)\n",
    "graph1 = plt.bar(b,z)\n",
    "plt.title(\"MAE\")\n",
    "\n",
    "ax2 = plt.subplot(132)\n",
    "graph2 = plt.bar(b,x)\n",
    "plt.title(\"MSE\")\n",
    "\n",
    "ax3 = plt.subplot(133)\n",
    "graph2 = plt.bar(b,c)\n",
    "plt.title(\"RMSE\")\n",
    "plt.figure(figsize = (55,20))\n",
    "plt.tight_layout()\n",
    "plt.show()"
   ]
  },
  {
   "cell_type": "markdown",
   "metadata": {},
   "source": [
    "**At each Testing case**, \n",
    " - Just drop the null data, shows minimum value.\n",
    " - Also, replace only 5 null Sales data also shows similar output.\n",
    " - But, replace about 171 data on \"Sales\" shows even poor output data.\n",
    " \n",
    "So, It shows same performance on Training and Testing.\n",
    "\n",
    "But, the difference between **Train  & Test is somewhat more similiar each other**."
   ]
  },
  {
   "cell_type": "markdown",
   "metadata": {},
   "source": [
    "### Step ii) Decision Tree"
   ]
  },
  {
   "cell_type": "code",
   "execution_count": 208,
   "metadata": {},
   "outputs": [],
   "source": [
    "from sklearn.tree import DecisionTreeClassifier\n",
    "from sklearn.metrics import accuracy_score"
   ]
  },
  {
   "cell_type": "code",
   "execution_count": 209,
   "metadata": {
    "scrolled": true
   },
   "outputs": [
    {
     "ename": "MemoryError",
     "evalue": "could not allocate 10312744960 bytes",
     "output_type": "error",
     "traceback": [
      "\u001b[1;31m---------------------------------------------------------------------------\u001b[0m",
      "\u001b[1;31mMemoryError\u001b[0m                               Traceback (most recent call last)",
      "\u001b[1;32m<ipython-input-209-d1cf3491ea8b>\u001b[0m in \u001b[0;36m<module>\u001b[1;34m\u001b[0m\n\u001b[0;32m      4\u001b[0m \u001b[1;33m\u001b[0m\u001b[0m\n\u001b[0;32m      5\u001b[0m \u001b[1;31m# Train Decision Tree Classifer\u001b[0m\u001b[1;33m\u001b[0m\u001b[1;33m\u001b[0m\u001b[1;33m\u001b[0m\u001b[0m\n\u001b[1;32m----> 6\u001b[1;33m \u001b[0mclf\u001b[0m \u001b[1;33m=\u001b[0m \u001b[0mclf\u001b[0m\u001b[1;33m.\u001b[0m\u001b[0mfit\u001b[0m\u001b[1;33m(\u001b[0m\u001b[0mX1_train\u001b[0m\u001b[1;33m,\u001b[0m\u001b[0my1_train\u001b[0m\u001b[1;33m)\u001b[0m\u001b[1;33m\u001b[0m\u001b[1;33m\u001b[0m\u001b[0m\n\u001b[0m\u001b[0;32m      7\u001b[0m \u001b[1;31m#Predict the response for test dataset\u001b[0m\u001b[1;33m\u001b[0m\u001b[1;33m\u001b[0m\u001b[1;33m\u001b[0m\u001b[0m\n\u001b[0;32m      8\u001b[0m \u001b[0my_pred\u001b[0m \u001b[1;33m=\u001b[0m \u001b[0mclf\u001b[0m\u001b[1;33m.\u001b[0m\u001b[0mpredict\u001b[0m\u001b[1;33m(\u001b[0m\u001b[0mx1_train\u001b[0m\u001b[1;33m)\u001b[0m\u001b[1;33m\u001b[0m\u001b[1;33m\u001b[0m\u001b[0m\n",
      "\u001b[1;32mA:\\anaconda3\\lib\\site-packages\\sklearn\\tree\\_classes.py\u001b[0m in \u001b[0;36mfit\u001b[1;34m(self, X, y, sample_weight, check_input, X_idx_sorted)\u001b[0m\n\u001b[0;32m    888\u001b[0m         \"\"\"\n\u001b[0;32m    889\u001b[0m \u001b[1;33m\u001b[0m\u001b[0m\n\u001b[1;32m--> 890\u001b[1;33m         super().fit(\n\u001b[0m\u001b[0;32m    891\u001b[0m             \u001b[0mX\u001b[0m\u001b[1;33m,\u001b[0m \u001b[0my\u001b[0m\u001b[1;33m,\u001b[0m\u001b[1;33m\u001b[0m\u001b[1;33m\u001b[0m\u001b[0m\n\u001b[0;32m    892\u001b[0m             \u001b[0msample_weight\u001b[0m\u001b[1;33m=\u001b[0m\u001b[0msample_weight\u001b[0m\u001b[1;33m,\u001b[0m\u001b[1;33m\u001b[0m\u001b[1;33m\u001b[0m\u001b[0m\n",
      "\u001b[1;32mA:\\anaconda3\\lib\\site-packages\\sklearn\\tree\\_classes.py\u001b[0m in \u001b[0;36mfit\u001b[1;34m(self, X, y, sample_weight, check_input, X_idx_sorted)\u001b[0m\n\u001b[0;32m    373\u001b[0m                                            min_impurity_split)\n\u001b[0;32m    374\u001b[0m \u001b[1;33m\u001b[0m\u001b[0m\n\u001b[1;32m--> 375\u001b[1;33m         \u001b[0mbuilder\u001b[0m\u001b[1;33m.\u001b[0m\u001b[0mbuild\u001b[0m\u001b[1;33m(\u001b[0m\u001b[0mself\u001b[0m\u001b[1;33m.\u001b[0m\u001b[0mtree_\u001b[0m\u001b[1;33m,\u001b[0m \u001b[0mX\u001b[0m\u001b[1;33m,\u001b[0m \u001b[0my\u001b[0m\u001b[1;33m,\u001b[0m \u001b[0msample_weight\u001b[0m\u001b[1;33m,\u001b[0m \u001b[0mX_idx_sorted\u001b[0m\u001b[1;33m)\u001b[0m\u001b[1;33m\u001b[0m\u001b[1;33m\u001b[0m\u001b[0m\n\u001b[0m\u001b[0;32m    376\u001b[0m \u001b[1;33m\u001b[0m\u001b[0m\n\u001b[0;32m    377\u001b[0m         \u001b[1;32mif\u001b[0m \u001b[0mself\u001b[0m\u001b[1;33m.\u001b[0m\u001b[0mn_outputs_\u001b[0m \u001b[1;33m==\u001b[0m \u001b[1;36m1\u001b[0m \u001b[1;32mand\u001b[0m \u001b[0mis_classifier\u001b[0m\u001b[1;33m(\u001b[0m\u001b[0mself\u001b[0m\u001b[1;33m)\u001b[0m\u001b[1;33m:\u001b[0m\u001b[1;33m\u001b[0m\u001b[1;33m\u001b[0m\u001b[0m\n",
      "\u001b[1;32msklearn\\tree\\_tree.pyx\u001b[0m in \u001b[0;36msklearn.tree._tree.DepthFirstTreeBuilder.build\u001b[1;34m()\u001b[0m\n",
      "\u001b[1;32msklearn\\tree\\_tree.pyx\u001b[0m in \u001b[0;36msklearn.tree._tree.DepthFirstTreeBuilder.build\u001b[1;34m()\u001b[0m\n",
      "\u001b[1;32msklearn\\tree\\_tree.pyx\u001b[0m in \u001b[0;36msklearn.tree._tree.Tree._add_node\u001b[1;34m()\u001b[0m\n",
      "\u001b[1;32msklearn\\tree\\_tree.pyx\u001b[0m in \u001b[0;36msklearn.tree._tree.Tree._resize_c\u001b[1;34m()\u001b[0m\n",
      "\u001b[1;32msklearn\\tree\\_utils.pyx\u001b[0m in \u001b[0;36msklearn.tree._utils.safe_realloc\u001b[1;34m()\u001b[0m\n",
      "\u001b[1;31mMemoryError\u001b[0m: could not allocate 10312744960 bytes"
     ]
    }
   ],
   "source": [
    "# Create Decision Tree classifer object\n",
    "\n",
    "clf = DecisionTreeClassifier()\n",
    "\n",
    "# Train Decision Tree Classifer\n",
    "clf = clf.fit(X1_train,y1_train)\n",
    "#Predict the response for test dataset\n",
    "y_pred = clf.predict(x1_train)"
   ]
  },
  {
   "cell_type": "markdown",
   "metadata": {},
   "source": [
    "### important issue (above memory error)\n",
    "- if I use all of the independent variables, there has some memory issues\n",
    " - (Could not allocate 5156372480 bytes)\n",
    " \n",
    "- So, I choose to delete some independent variables which cannot shows significant result.\n",
    "  - Try to delete\n",
    "    - **Store, DayOfWeek**\n",
    "  - Try to trim\n",
    "    - Date : only set December data 1, others 0. (Because only december shows some big number)\n",
    "    - StateHoliday : only separate two (0 and ('a','b','c'))\n",
    "  "
   ]
  },
  {
   "cell_type": "code",
   "execution_count": 210,
   "metadata": {
    "scrolled": false
   },
   "outputs": [],
   "source": [
    "# deleting other independent variables\n",
    "feature = [\"Date\", \"Customers\", \"Open\", \"Promo\", \"StateHoliday\"]\n",
    "\n",
    "X1 = X1[feature]\n",
    "X1[\"Date\"] = X1[\"Date\"]%100\n",
    "for i in range(len(X1)):\n",
    "    if X1.iloc[i,0] != 12:\n",
    "        X1.iloc[i,0] = 0\n",
    "    if X1.iloc[i,0] == 12:\n",
    "        X1.iloc[i,0] = 1\n",
    "        \n",
    "    if X1.iloc[i,-1] == 'a':\n",
    "        X1.iloc[i,-1] = 1\n",
    "    if X1.iloc[i,-1] == 'b':\n",
    "        X1.iloc[i,-1] = 1\n",
    "    if X1.iloc[i,-1] == 'c':\n",
    "        X1.iloc[i,-1] = 1    \n",
    "## trim our independent data on StateHoliday & data\n",
    "        \n",
    "        \n",
    "X2 = X2[feature]\n",
    "X2[\"Date\"] = X2[\"Date\"]%100\n",
    "for i in range(len(X2)):\n",
    "    if X2.iloc[i,0] !=12:\n",
    "        X2.iloc[i,0] = 0\n",
    "    if X2.iloc[i,0] ==12:\n",
    "        X2.iloc[i,0] = 1\n",
    "    if X2.iloc[i,-1] == 'a':\n",
    "        X2.iloc[i,-1] = 1\n",
    "    if X2.iloc[i,-1] == 'b':\n",
    "        X2.iloc[i,-1] = 1\n",
    "    if X2.iloc[i,-1] == 'c':\n",
    "        X2.iloc[i,-1] = 1    \n",
    "        \n",
    "## trim our independent data on StateHoliday & data        \n",
    "X3 = X3[feature]\n",
    "X3[\"Date\"] = X3[\"Date\"]%100\n",
    "for i in range(len(X3)):\n",
    "    if X3.iloc[i,0] !=12:\n",
    "        X3.iloc[i,0] = 0\n",
    "    if X3.iloc[i,0] ==12:\n",
    "        X3.iloc[i,0] = 1\n",
    "    if X3.iloc[i,-1] == 'a':\n",
    "        X3.iloc[i,-1] = 1\n",
    "    if X3.iloc[i,-1] == 'b':\n",
    "        X3.iloc[i,-1] = 1\n",
    "    if X3.iloc[i,-1] == 'c':\n",
    "        X3.iloc[i,-1] = 1    \n",
    "        \n",
    "## trim our independent data on StateHoliday & data        "
   ]
  },
  {
   "cell_type": "code",
   "execution_count": 211,
   "metadata": {},
   "outputs": [],
   "source": [
    "#Separate data_1st\n",
    "X1_train,X1_test = train_test_split( X1, test_size=0.3, random_state=0)\n",
    "y1_train,y1_test = train_test_split( y1, test_size=0.3, random_state=0)\n",
    "\n",
    "#Separate data_2nd\n",
    "\n",
    "X2_train,X2_test = train_test_split( X2, test_size=0.3, random_state=0)\n",
    "y2_train,y2_test = train_test_split( y2, test_size=0.3, random_state=0)\n",
    "\n",
    "#Separate data_3rd\n",
    "X3_train,X3_test = train_test_split( X3, test_size=0.3, random_state=0)\n",
    "y3_train,y3_test = train_test_split( y3, test_size=0.3, random_state=0)"
   ]
  },
  {
   "cell_type": "markdown",
   "metadata": {},
   "source": [
    "- Since, I trim our data, Separate once again.\n",
    " - At this time, Training data is too large to learn\n",
    "    - So, I set large value test_size = 0.3 instead of 0.2"
   ]
  },
  {
   "cell_type": "markdown",
   "metadata": {},
   "source": [
    "#### Training model"
   ]
  },
  {
   "cell_type": "code",
   "execution_count": 212,
   "metadata": {},
   "outputs": [],
   "source": [
    "# Create Decision Tree classifer object\n",
    "\n",
    "clf1 = DecisionTreeClassifier()\n",
    "clf1 = clf1.fit(X1_train,y1_train)\n",
    "y_pred1 = clf1.predict(X1_train)\n",
    "\n",
    "clf2 = DecisionTreeClassifier()\n",
    "clf2 = clf2.fit(X2_train,y2_train)\n",
    "y_pred2 = clf2.predict(X2_train)\n",
    "\n",
    "clf3 = DecisionTreeClassifier()\n",
    "clf3 = clf3.fit(X3_train,y3_train)\n",
    "y_pred3 = clf3.predict(X3_train)"
   ]
  },
  {
   "cell_type": "code",
   "execution_count": 216,
   "metadata": {
    "scrolled": false
   },
   "outputs": [
    {
     "data": {
      "image/png": "[encoded data removed]",
      "text/plain": [
       "<Figure size 432x288 with 3 Axes>"
      ]
     },
     "metadata": {
      "needs_background": "light"
     },
     "output_type": "display_data"
    }
   ],
   "source": [
    "A = range(len(y_pred1))\n",
    "B = y_pred1-y1_train\n",
    "ax1 = plt.subplot(131)\n",
    "graph1 = plt.plot(A,  B, color='black', marker='*')\n",
    "plt.title(\"Difference between prediction and Acutal (1st approach)\", fontsize = 13, fontweight='bold')\n",
    "plt.xlabel(\"n's data\")\n",
    "plt.ylabel(\"Prediction-Actual\")\n",
    "plt.yticks([-10000,-7500,-5000,-2500,0,2500,5000,7500,10000])\n",
    "\n",
    "A = range(len(y_pred2))\n",
    "B = y_pred2-y2_train\n",
    "ax2 = plt.subplot(132)\n",
    "graph2 =  plt.plot(A,  B, color='black', marker='*')\n",
    "plt.title(\"Difference between prediction and Acutal (2nd approach)\", fontsize = 13, fontweight='bold')\n",
    "plt.xlabel(\"n's data\")\n",
    "plt.ylabel(\"Prediction-Actual\")\n",
    "plt.yticks([-10000,-7500,-5000,-2500,0,2500,5000,7500,10000])\n",
    "\n",
    "A = range(len(y_pred3))\n",
    "B = y_pred3-y3_train\n",
    "ax3 = plt.subplot(133)\n",
    "graph2 = plt.plot(A,  B, color='black', marker='*')\n",
    "plt.title(\"Difference between prediction and Acutal (3rd approach)\", fontsize = 13, fontweight='bold')\n",
    "plt.xlabel(\"n's data\")\n",
    "plt.ylabel(\"Prediction-Actual\")\n",
    "plt.yticks([-10000,-7500,-5000,-2500,0,2500,5000,7500,10000])\n",
    "\n",
    "\n",
    "plt.subplots_adjust(left=0.125,\n",
    "                    bottom=0.1, \n",
    "                    right=3.0, \n",
    "                    top=0.9, \n",
    "                    wspace=0.2, \n",
    "                    hspace=0.35)\n",
    "\n",
    "plt.show()"
   ]
  },
  {
   "cell_type": "markdown",
   "metadata": {},
   "source": [
    "**This is the scatter plot, which shows the difference between actual and real value(Training model).**\n",
    " - Because, since the Sales value have 0~ 30000 values. \n",
    "   -  => Even though, we predict certain value, its standard deviation might be high.\n",
    " - It shows that\n",
    "   - First one is very narrow $\\rightarrow$ it have much big variance & difference.\n",
    "   - Second & third is very thick $\\rightarrow$ it has most appropriate model among them.\n",
    "     - But Three models are very similar each other. even Outliers.\n",
    "     - So, it might have no difference meaningfully."
   ]
  },
  {
   "cell_type": "code",
   "execution_count": 217,
   "metadata": {
    "scrolled": true
   },
   "outputs": [
    {
     "data": {
      "text/plain": [
       "Text(0.5, 1.0, 'Compare the Accuracy')"
      ]
     },
     "execution_count": 217,
     "metadata": {},
     "output_type": "execute_result"
    },
    {
     "data": {
      "image/png": "[encoded data removed]",
      "text/plain": [
       "<Figure size 432x288 with 1 Axes>"
      ]
     },
     "metadata": {
      "needs_background": "light"
     },
     "output_type": "display_data"
    }
   ],
   "source": [
    "A = [accuracy_score(y1_train, y_pred1),accuracy_score(y2_train, y_pred2) ,accuracy_score(y3_train, y_pred3)]\n",
    "B = [\"df1\", \"df2\", \"df3\"]\n",
    "plt.barh(y = B, width = A, color = [\"black\", \"blue\", \"green\"])\n",
    "plt.xlabel(\"Accuracy\")\n",
    "plt.ylabel(\"sample data\")\n",
    "plt.title(\"Compare the Accuracy\")"
   ]
  },
  {
   "cell_type": "code",
   "execution_count": 218,
   "metadata": {},
   "outputs": [
    {
     "name": "stdout",
     "output_type": "stream",
     "text": [
      "Data_1st's Accuracy: 0.2789320673192329\n",
      "Data_2nd's Accuracy: 0.2796031576701515\n",
      "Data_3rd's Accuracy: 0.27831242024670355\n"
     ]
    }
   ],
   "source": [
    "print(\"Data_1st's Accuracy:\",accuracy_score(y1_train, y_pred1))\n",
    "print(\"Data_2nd's Accuracy:\",accuracy_score(y2_train, y_pred2))\n",
    "print(\"Data_3rd's Accuracy:\",accuracy_score(y3_train, y_pred3))"
   ]
  },
  {
   "cell_type": "markdown",
   "metadata": {},
   "source": [
    "**At each Training case**, \n",
    " - second case (drop null Customers & replace Sales value) shows at most highest value.\n",
    "   - But, it is meaningless.\n",
    "  - All of three shows 30% accuracy.\n",
    "  - It's too low"
   ]
  },
  {
   "cell_type": "code",
   "execution_count": 230,
   "metadata": {
    "scrolled": true
   },
   "outputs": [],
   "source": [
    "y_pred1 = clf1.predict(X1_test)\n",
    "y_pred2 = clf1.predict(X2_test)\n",
    "y_pred3 = clf1.predict(X3_test)"
   ]
  },
  {
   "cell_type": "code",
   "execution_count": 220,
   "metadata": {},
   "outputs": [
    {
     "name": "stderr",
     "output_type": "stream",
     "text": [
      "<ipython-input-220-c42a5ff36aec>:27: UserWarning: Tight layout not applied. tight_layout cannot make axes width small enough to accommodate all axes decorations\n",
      "  plt.tight_layout()\n"
     ]
    },
    {
     "data": {
      "image/png": "[encoded data removed]",
      "text/plain": [
       "<Figure size 432x288 with 3 Axes>"
      ]
     },
     "metadata": {
      "needs_background": "light"
     },
     "output_type": "display_data"
    }
   ],
   "source": [
    "A = range(len(y_pred1))\n",
    "B = y_pred1-y1_test\n",
    "ax1 = plt.subplot(131)\n",
    "graph1 = plt.plot(A,  B, color='black', marker='*')\n",
    "plt.title(\"Difference between prediction and Acutal (1st approach)\", fontsize = 13, fontweight='bold')\n",
    "plt.xlabel(\"n's data\")\n",
    "plt.ylabel(\"Prediction-Actual\")\n",
    "plt.yticks([-10000,-7500,-5000,-2500,0,2500,5000,7500,10000])\n",
    "\n",
    "A = range(len(y_pred2))\n",
    "B = y_pred2-y2_test\n",
    "ax2 = plt.subplot(132)\n",
    "graph2 =  plt.plot(A,  B, color='black', marker='*')\n",
    "plt.title(\"Difference between prediction and Acutal (2nd approach)\", fontsize = 13, fontweight='bold')\n",
    "plt.xlabel(\"n's data\")\n",
    "plt.ylabel(\"Prediction-Actual\")\n",
    "plt.yticks([-10000,-7500,-5000,-2500,0,2500,5000,7500,10000])\n",
    "\n",
    "A = range(len(y_pred3))\n",
    "B = y_pred3-y3_test\n",
    "ax3 = plt.subplot(133)\n",
    "graph2 = plt.plot(A,  B, color='black', marker='*')\n",
    "plt.title(\"Difference between prediction and Acutal (3rd approach)\", fontsize = 13, fontweight='bold')\n",
    "plt.xlabel(\"n's data\")\n",
    "plt.ylabel(\"Prediction-Actual\")\n",
    "plt.yticks([-10000,-7500,-5000,-2500,0,2500,5000,7500,10000])\n",
    "plt.tight_layout()\n",
    "\n",
    "plt.subplots_adjust(left=0.125,\n",
    "                    bottom=0.1, \n",
    "                    right=3.0, \n",
    "                    top=0.9, \n",
    "                    wspace=0.2, \n",
    "                    hspace=0.35)\n",
    "\n",
    "plt.show()"
   ]
  },
  {
   "cell_type": "markdown",
   "metadata": {},
   "source": [
    "**This is the scatter plot, which shows the difference between actual and real value.**\n",
    " - Because, since the Sales value have 0~ 30000 values. \n",
    " - Even though, we predict certain value, its standard deviation might be high.\n",
    " - It shows that\n",
    "   - First one is very narrow $\\rightarrow$ it have much big variance & difference.\n",
    "   - Second one is very thick $\\rightarrow$ it has most appropriate model among them.\n",
    "   - Third one is narrower $\\rightarrow$ it is poor than 1st one. \n",
    "     - because, it has much outlier values than 1st one.\n",
    "     - So it's bad."
   ]
  },
  {
   "cell_type": "code",
   "execution_count": 221,
   "metadata": {
    "scrolled": true
   },
   "outputs": [
    {
     "data": {
      "text/plain": [
       "Text(0.5, 1.0, 'Compare the Accuracy')"
      ]
     },
     "execution_count": 221,
     "metadata": {},
     "output_type": "execute_result"
    },
    {
     "data": {
      "image/png": "[encoded data removed]",
      "text/plain": [
       "<Figure size 432x288 with 1 Axes>"
      ]
     },
     "metadata": {
      "needs_background": "light"
     },
     "output_type": "display_data"
    }
   ],
   "source": [
    "A = [accuracy_score(y1_test, y_pred1),accuracy_score(y2_test, y_pred2) ,accuracy_score(y3_test, y_pred3)]\n",
    "B = [\"df1\", \"df2\", \"df3\"]\n",
    "plt.barh(y = B, width = A, color = [\"black\", \"blue\", \"green\"])\n",
    "plt.xlabel(\"Accuracy\")\n",
    "plt.ylabel(\"sample data\")\n",
    "plt.title(\"Compare the Accuracy\")"
   ]
  },
  {
   "cell_type": "code",
   "execution_count": 222,
   "metadata": {
    "scrolled": true
   },
   "outputs": [
    {
     "name": "stdout",
     "output_type": "stream",
     "text": [
      "Data_1st's Accuracy: 0.17455971124525485\n",
      "Data_2nd's Accuracy: 0.2427975857133968\n",
      "Data_3rd's Accuracy: 0.24922466195261134\n"
     ]
    }
   ],
   "source": [
    "print(\"Data_1st's Accuracy:\",accuracy_score(y1_test, y_pred1))\n",
    "print(\"Data_2nd's Accuracy:\",accuracy_score(y2_test, y_pred2))\n",
    "print(\"Data_3rd's Accuracy:\",accuracy_score(y3_test, y_pred3))"
   ]
  },
  {
   "cell_type": "markdown",
   "metadata": {},
   "source": [
    "**At each Testing case**, \n",
    " - Just drop the null data, shows minimum accuracy.\n",
    " - 2nd & 3rd data's accuracy is 0.07% point higher than 1st data.\n",
    " - So, Rather than just dropping null data, replacing value can be much better at Decision Tree.\n",
    " \n",
    "So, It shows **poor performance on Testing than Training.**\n",
    "\n",
    "I think that It also affected by **overfitting**.\n"
   ]
  },
  {
   "cell_type": "markdown",
   "metadata": {},
   "source": [
    "### Step iii) Random Forest\n",
    " - with many trials, Random Forest also suffer from memory allocation.\n",
    " - So, it was very sorry to reduce the size such as n_estimators and max_depth.\n",
    "     - So, I tried to set n = 10, max_depth = 5\n",
    "     - Even, I tried to wait to check Not only Train but also Test.\n",
    "     - But, Train sample has too large value. So, this is very hard to find.\n",
    "       - **So, at this time, I only do the test output**."
   ]
  },
  {
   "cell_type": "code",
   "execution_count": 223,
   "metadata": {
    "scrolled": true
   },
   "outputs": [],
   "source": [
    "from sklearn.ensemble import RandomForestClassifier\n",
    "#data_1st\n",
    "rf = RandomForestClassifier(n_estimators=10, max_depth=5,random_state=0)\n",
    "rf.fit(X1_train,y1_train)\n",
    "predict1 = rf.predict(X1_test)\n",
    "\n",
    "#data_2nd\n",
    "rf = RandomForestClassifier(n_estimators=10, max_depth=5,random_state=0)\n",
    "rf.fit(X2_train,y2_train)\n",
    "predict2 = rf.predict(X2_test)\n",
    "\n",
    "##data_3rd\n",
    "rf = RandomForestClassifier(n_estimators=10, max_depth=5,random_state=0)\n",
    "rf.fit(X3_train,y3_train)\n",
    "predict3 = rf.predict(X3_test)"
   ]
  },
  {
   "cell_type": "code",
   "execution_count": 224,
   "metadata": {
    "scrolled": false
   },
   "outputs": [
    {
     "name": "stderr",
     "output_type": "stream",
     "text": [
      "<ipython-input-224-77f133b03030>:27: UserWarning: Tight layout not applied. tight_layout cannot make axes width small enough to accommodate all axes decorations\n",
      "  plt.tight_layout()\n"
     ]
    },
    {
     "data": {
      "image/png": "[encoded data removed]",
      "text/plain": [
       "<Figure size 432x288 with 3 Axes>"
      ]
     },
     "metadata": {
      "needs_background": "light"
     },
     "output_type": "display_data"
    }
   ],
   "source": [
    "A = range(len(predict1))\n",
    "B = y_pred1-y1_test\n",
    "ax1 = plt.subplot(131)\n",
    "graph1 = plt.plot(A,  B, color='black', marker='*')\n",
    "plt.title(\"Difference between prediction and Acutal (1st approach)\", fontsize = 13, fontweight='bold')\n",
    "plt.xlabel(\"n's data\")\n",
    "plt.ylabel(\"Prediction-Actual\")\n",
    "plt.yticks([-10000,-7500,-5000,-2500,0,2500,5000,7500,10000])\n",
    "\n",
    "A = range(len(predict2))\n",
    "B = y_pred2-y2_test\n",
    "ax2 = plt.subplot(132)\n",
    "graph2 =  plt.plot(A,  B, color='black', marker='*')\n",
    "plt.title(\"Difference between prediction and Acutal (2nd approach)\", fontsize = 13, fontweight='bold')\n",
    "plt.xlabel(\"n's data\")\n",
    "plt.ylabel(\"Prediction-Actual\")\n",
    "plt.yticks([-10000,-7500,-5000,-2500,0,2500,5000,7500,10000])\n",
    "\n",
    "A = range(len(predict3))\n",
    "B = y_pred3-y3_test\n",
    "ax3 = plt.subplot(133)\n",
    "graph2 = plt.plot(A,  B, color='black', marker='*')\n",
    "plt.title(\"Difference between prediction and Acutal (3rd approach)\", fontsize = 13, fontweight='bold')\n",
    "plt.xlabel(\"n's data\")\n",
    "plt.ylabel(\"Prediction-Actual\")\n",
    "plt.yticks([-10000,-7500,-5000,-2500,0,2500,5000,7500,10000])\n",
    "plt.tight_layout()\n",
    "\n",
    "plt.subplots_adjust(left=0.125,\n",
    "                    bottom=0.1, \n",
    "                    right=3.0, \n",
    "                    top=0.9, \n",
    "                    wspace=0.2, \n",
    "                    hspace=0.35)\n",
    "\n",
    "plt.show()"
   ]
  },
  {
   "cell_type": "markdown",
   "metadata": {},
   "source": [
    " - Because I fix the yticks, the thicker the better.\n",
    " \n",
    "     - First and thrid is somewhat narrow shape. (Bad)\n",
    "     - Second is thick (Good) \n",
    " - But, Thrid one has much more outlier samples than 1st. \n",
    " - So, Thrid one is worst. Second one is best among 3 dataset."
   ]
  },
  {
   "cell_type": "code",
   "execution_count": 225,
   "metadata": {},
   "outputs": [
    {
     "data": {
      "text/plain": [
       "Text(0.5, 1.0, 'Compare the Accuracy')"
      ]
     },
     "execution_count": 225,
     "metadata": {},
     "output_type": "execute_result"
    },
    {
     "data": {
      "image/png": "[encoded data removed]",
      "text/plain": [
       "<Figure size 432x288 with 1 Axes>"
      ]
     },
     "metadata": {
      "needs_background": "light"
     },
     "output_type": "display_data"
    }
   ],
   "source": [
    "A = [accuracy_score(y1_test, predict1),accuracy_score(y2_test,predict2) ,accuracy_score(y3_test, predict3)]\n",
    "B = [\"df1\", \"df2\", \"df3\"]\n",
    "plt.barh(y = B, width = A, color = [\"black\", \"blue\", \"green\"])\n",
    "plt.xlabel(\"Accuracy\")\n",
    "plt.ylabel(\"sample data\")\n",
    "plt.title(\"Compare the Accuracy\")"
   ]
  },
  {
   "cell_type": "code",
   "execution_count": 226,
   "metadata": {},
   "outputs": [
    {
     "name": "stdout",
     "output_type": "stream",
     "text": [
      "Data_1st's Accuracy: 0.17487086937581678\n",
      "Data_2nd's Accuracy: 0.1736046294567855\n",
      "Data_3rd's Accuracy: 0.17634288549807717\n"
     ]
    }
   ],
   "source": [
    "print(\"Data_1st's Accuracy:\",accuracy_score(y1_test, predict1))\n",
    "print(\"Data_2nd's Accuracy:\",accuracy_score(y2_test, predict2))\n",
    "print(\"Data_3rd's Accuracy:\",accuracy_score(y3_test, predict3))"
   ]
  },
  {
   "cell_type": "markdown",
   "metadata": {},
   "source": [
    "**At each Testing case**\n",
    " - 2nd case,  shows minimum accuracy. (drop Customers's null data and  replace Sales's null data)\n",
    " -  3rd data's accuracy is 0.03% point higher than 2nd data.\n",
    " \n",
    "However, It is much lower than just decision Tree.\n",
    "The reason is like below\n",
    "- because of the memory issue, I have to trim a lot\n",
    "- also, n_estimated and max_depth is too small\n",
    "\n",
    "So, if I have good computer (that has much big memory allocation), I would have much more result....\n"
   ]
  },
  {
   "cell_type": "markdown",
   "metadata": {},
   "source": [
    "## Post analysis"
   ]
  },
  {
   "cell_type": "markdown",
   "metadata": {},
   "source": [
    "## Insight\n",
    " - 1) There have a definite indicator, which is \"Open\".\n",
    "    -  Of course, it is just common thing.\n",
    "    - however, through data-analyze, Its independent variable is quite important.\n",
    " - 2) There have also strong positive relationship with \"#of Customers\"\n",
    "    - naturally, the more Customers, the higher Sales.\n",
    "    - It has 0.91 corr() with Sales value.\n",
    " - 3) Also other factor, Promo have some meaningful insight, but SchoolHoliday is somewhat low.\n",
    " - 4) **Especially Date** will have some special meaning. But I couldn't find enough.\n",
    "     - I only find that on December, the Sales are somewhat higher than other month.\n",
    "     -  Other months have some fluctuated patterns, but I couldn't say that ones.\n",
    "     - Also, on 2015 years, Its Sales value is somewhat larger.\n",
    "     - Thinking about other possibility\n",
    "         - certain day, (such as beginning days (1 - 5th day) or ending days (25 - 31)) have some meaning\n",
    "         - certain event (that cannot be seen this data) ex) GDP or Olympics such like that.\n",
    " - 5) StateHoliday also have some points. (but I couldn't use this at Decision Tree and Random Forest because of memory)\n",
    "    - among '0','a','b','c'\n",
    "        - only '0' and 'a' have some Sales value.\n",
    "        - Also, '0' 's Sales value is much higher than 'a' value.\n",
    " - 6) Store have no meaningful data (I think it might have some intuition...)\n",
    "     - But, some certain Store have slightly larger Sales distribution.\n",
    "     - However, #of Transaction at each Store is somewhat similiar.\n",
    "         \n",
    "**My feeling**         \n",
    "First time, when I see this one, It looks simple.\n",
    "But, in data-preprocessing (how to handle the null data & how to change non-ordinal data into Categorical within memory allocation), Is very hard.\n",
    "\n",
    "So, I'm very sorry for this issue and If I have a good time to use GPU or any other good environment, I want to try this one again.\n",
    "\n"
   ]
  },
  {
   "cell_type": "markdown",
   "metadata": {},
   "source": [
    "Thank you! :)"
   ]
  }
 ],
 "metadata": {
  "kernelspec": {
   "display_name": "Python 3",
   "language": "python",
   "name": "python3"
  },
  "language_info": {
   "codemirror_mode": {
    "name": "ipython",
    "version": 3
   },
   "file_extension": ".py",
   "mimetype": "text/x-python",
   "name": "python",
   "nbconvert_exporter": "python",
   "pygments_lexer": "ipython3",
   "version": "3.8.3"
  }
 },
 "nbformat": 4,
 "nbformat_minor": 4
}

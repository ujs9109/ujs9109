{
 "cells": [
  {
   "cell_type": "markdown",
   "metadata": {},
   "source": [
    "# IE30301-Data mining Assignment 3 \n",
    "\n",
    "\n",
    "                                                           20171355 유재상\n"
   ]
  },
  {
   "cell_type": "markdown",
   "metadata": {},
   "source": [
    "## **Exercise 1**"
   ]
  },
  {
   "cell_type": "markdown",
   "metadata": {},
   "source": [
    "### **1.1** \n",
    "What is the difference between \"Likelihood\" and \"probability\" ? [5 pts]"
   ]
  },
  {
   "cell_type": "markdown",
   "metadata": {},
   "source": [
    "**Probability** aim to find the change of someting given a sample distribution of the data. Also, probability attaches to possible results. For more detail, possible results are mutaully exclusive and exhaustive. \n",
    "\n",
    "**Likelihood** aim to find the best distribution of the data given a particular value of some features or sitautions in the data. Also, likelihood attaches to hypothesis. For more detail, it doesn't mutually exclusive and doesn't exhaustive. "
   ]
  },
  {
   "cell_type": "markdown",
   "metadata": {},
   "source": [
    "### **1.2** \n",
    "What is the difference between \"Sampling\" and \"Resampling\"? What advantage does \"Resampling\" have? [5 pts]"
   ]
  },
  {
   "cell_type": "markdown",
   "metadata": {},
   "source": [
    "* Sampling is kinds of gathering observations with the intent of estimating a population variable. That is, it is a technique of selecting individual members or a subset of the population to make statistical inference from whole data and estimate characteristics.\n",
    "\n",
    "* Re-sampling is a method, using a data sample to improve the accuracy and quantify the uncertainty of a population paramter. given the dataset, by using its data with repeated several times, it can improve the situation of imbalanced situation. (statistical procedueres that reuse the sample data for the purpose)\n",
    "\n",
    "So, advantage of Resampling is that it can alleviate the imbalanced data problem, so it can increase the accuracy of model. That is, it can effectively estimate the model parameters from repeated several times of samples. such as K-fold corss validation, Bootstrap."
   ]
  },
  {
   "cell_type": "markdown",
   "metadata": {},
   "source": [
    "## **Exercise 2**"
   ]
  },
  {
   "cell_type": "markdown",
   "metadata": {},
   "source": [
    "The following table is the outcome of the logistic regression model for an iris flower being\n",
    "species Versicolor versus species Virginica. ($Y$ = 1 for Versicolor, $Y$ = 0 for Virginica) [15 pts]"
   ]
  },
  {
   "cell_type": "raw",
   "metadata": {},
   "source": [
    "variable    Intercept    Length of Sepals    Width of Sepals    Length of petals    Width of Petals\n",
    "\n",
    "Estimated     42.6          -0.0003                6.7                 -9.4               -18.3\n",
    "Coefficient"
   ]
  },
  {
   "cell_type": "markdown",
   "metadata": {},
   "source": [
    "### **2.2** \n",
    "Interpret the effect of **length of sepals** on the relative risks of an iris-flower being species Versi-color versus species Virginica. Fill up the $A,B,C$ in the below interpretation of the outcome\n",
    "and select the appropriate word for $D$.[5 pts]\n"
   ]
  },
  {
   "cell_type": "markdown",
   "metadata": {},
   "source": [
    "As we learn at the **logistic regression model**, we introduce the **Odds**, and **Odds Ratio**. \n",
    "\n",
    "where, \n",
    "\n",
    "$$Odds = \\frac{P(Y=1)}{1-P(Y=1)}, \\qquad \\frac{Odds(X+1)}{Odds(X)} = e^\\beta$$\n"
   ]
  },
  {
   "cell_type": "markdown",
   "metadata": {},
   "source": [
    "Therefore, if we want to interpret the effect of **length of sepals**, we insert the $\\beta$ value, (Length of Sepals = -0.0003).\n",
    "\n",
    "Then,\n",
    "\n",
    "$$\\frac{Odds(X+1)}{Odds(X)}= e^\\beta = e^{-0.0003} = 0.9997$$"
   ]
  },
  {
   "cell_type": "markdown",
   "metadata": {},
   "source": [
    "Therefore, since $\\beta$ <0, the odds and probability decrease as X increase ($e^\\beta$ = 0.9997 <1)\n",
    "\n",
    "In conclusion, \n",
    "\n",
    "i) denominator has larger value than numerator. That is, Virginica ($Y$ = 0) has more probable than Versicolor ($Y$ = 1). \n",
    "\n",
    "ii)Also, when the **length of sepals** increase, the odds and probability decrease.\n",
    "\n",
    "$\\\\\n",
    "\\\\\n",
    "$\n",
    "\n",
    "\n",
    "\n",
    "**Answer :**\n",
    "\n",
    "**Species Virginica($Y$ = 0) is 1.0003 ( = $\\frac{1}{0.9997}$) times more probable than Species Versicolor when the length of sepals Increase.**"
   ]
  },
  {
   "cell_type": "markdown",
   "metadata": {},
   "source": [
    "### **2.1** \n",
    "What is the predicted class for the following new data $x_1$ and $x_2$? You should provide the\n",
    "probability of \n",
    "\n",
    "$P(Y_1 = 1|x_1)$, $P(Y_1 = 0|x_2)$, $P(Y_2 = 1|x_1)$, $P(Y_2 = 0|x_2)$. [10 pts]\n"
   ]
  },
  {
   "cell_type": "raw",
   "metadata": {},
   "source": [
    "                x1     6.4     3.1     4.3     1.3\n",
    "                x2     6.9     3.0     3.9     1.4"
   ]
  },
  {
   "cell_type": "markdown",
   "metadata": {},
   "source": [
    "From **logistic regression model**, we can get \n",
    "\n",
    "$$P(Y = 1) = \\frac{exp(X\\beta)}{1+exp(X\\beta)}, \\qquad P(Y = 0) = \\frac{1}{1+exp(X\\beta)} = 1-P(Y = 1)$$\n",
    "\n",
    "So, from our given $\\beta$ values,\n",
    "\n",
    "$$X\\beta = 42.6 + (-0.0003)x_{i1} + (6.7)x_{i2} + (-9.4)x_{i3} + (-18.3)x_{i4}$$\n",
    "\n",
    "And more detail with each x1 and x2,\n",
    "\n",
    "$$ i)\\quad X_1\\beta = 42.6 + (-0.0003)*(6.4) + (6.7)*(3.1) + (-9.4)*(4.3) + (-18.3)*(1.3) =  \\textbf{- 0.84192} $$\n",
    "$$ i)\\quad X_2\\beta = 42.6 + (-0.0003)*(6.9) + (6.7)*(3.0) + (-9.4)*(3.9) + (-18.3)*(1.4) =  \\textbf{ 0.41793} $$"
   ]
  },
  {
   "cell_type": "markdown",
   "metadata": {},
   "source": [
    "So, from our given $\\beta$ values and given data sets x1 & x2, we can caluate 4 different possibilities.\n",
    "\n",
    "1st) $P(Y_1 = 1|x_1)$\n",
    "\n",
    "$$P(Y_1 = 1|x_1) = \\frac{exp(X_1\\beta)}{1+exp(X_1\\beta)} = \\frac{e^{-0.84192}}{1+e^{-0.84192}} = \\textbf{0.30113} $$\n",
    "\n",
    "2nd) $P(Y_1 = 0|x_1)$\n",
    "$$P(Y_1 = 0|x_1) = 1- P(Y_1 = 1|x_1) = 1-0.30113 = \\textbf{0.69887}$$\n",
    "\n",
    "3rd) $P(Y_2 = 1|x_2)$\n",
    "$$P(Y_2 = 1|x_2) = \\frac{exp(X_2\\beta)}{1+exp(X_2\\beta)} = \\frac{e^{0.41793}}{1+e^{0.41793}} = \\textbf{0.6030} $$\n",
    "\n",
    "4th) $P(Y_2 = 0|x_2)$\n",
    "$$P(Y_2 = 0|x_2) = 1- P(Y_2 = 1|x_2) = 1-0.6030 = \\textbf{0.3970}$$"
   ]
  },
  {
   "cell_type": "markdown",
   "metadata": {},
   "source": [
    "Logistic regression usually set criteria value as 0.5. Also, comparing with P(Y = 1) and P(Y = 0), we can induce\n",
    "\n",
    "i) in case of x1, \n",
    "\n",
    "$P(Y_1 = 0|x_1)$ > $P(Y_1 = 1|x_1)$. Also, $P(Y_1 = 0|x_1)$ > 0.5. \n",
    "\n",
    "**So, we predict x1 is Virginica ( Y = 0)**\n",
    "\n",
    "** **\n",
    "i) in case of x2, \n",
    "\n",
    "$P(Y_2 = 1|x_2)$ > $P(Y_2 = 0|x_2)$. Also, $P(Y_2 = 1|x_2)$ > 0.5. \n",
    "\n",
    "**So, we predict x2 is Versicolor ( Y = 1)**\n"
   ]
  },
  {
   "cell_type": "markdown",
   "metadata": {},
   "source": [
    "## **Exercise 3**"
   ]
  },
  {
   "cell_type": "markdown",
   "metadata": {},
   "source": [
    "Suppose we have a kernel function for arbitary vectors $x, z \\in \\mathbb{R}^2$, which is defined as $K(x,z) = (x^Tz)^2$. [15pts]"
   ]
  },
  {
   "cell_type": "markdown",
   "metadata": {},
   "source": [
    "### **3.1** \n",
    "We know that the given kernel function can be decomposed into the inner product of some\n",
    "transformation function $\\phi$(⋅); $K(x, z)$ = $\\phi$($x)^T$$\\phi$($z$)\n",
    "\n",
    "\n",
    "\n",
    "For $x$ = ($x_1, x_2$), $z$ = ($z_1, z_2$), find the transformation funtion $\\phi$(⋅)[5 pts]\n"
   ]
  },
  {
   "cell_type": "markdown",
   "metadata": {},
   "source": [
    "We set $K(x,z) = (x^Tz)^2$\n",
    "$$ \\Rightarrow (x^Tz)^2 = (\n",
    "\\left\\lceil\n",
    "\\begin{matrix}\n",
    "x_1 & x_2 \\\\ \n",
    "\\end{matrix}\n",
    "\\right\\rceil\n",
    "\\left\\lceil\n",
    "\\begin{matrix}\n",
    "z_1   \\\\ \n",
    "z_2   \\\\\n",
    "\\end{matrix}\n",
    "\\right\\rceil\n",
    ")^2\n",
    "= (x_1z_1 + x_2z_2)^2\n",
    "= x_1^2z_1^2 +2x_1x_2z_1z_2+x_2^2z_2^2\n",
    "$$"
   ]
  },
  {
   "cell_type": "markdown",
   "metadata": {},
   "source": [
    "$$\\Rightarrow K(x,z) = (x^Tz)^2 = x_1^2z_1^2 +2x_1x_2z_1z_2+x_2^2z_2^2 = \\phi(x)^T\\phi(z)$$"
   ]
  },
  {
   "cell_type": "markdown",
   "metadata": {},
   "source": [
    "Therefore, we have to divide, $x_1^2z_1^2 +2x_1x_2z_1z_2+x_2^2z_2^2$ into each  $\\phi(x) , \\phi(z)$"
   ]
  },
  {
   "cell_type": "markdown",
   "metadata": {},
   "source": [
    "we can easily set each $\\phi$ into (3 $\\times$ 1) vector form, ($\\because, \\phi(x)^T\\phi(z)$ is scalar)\n",
    "\n",
    "that is, \n"
   ]
  },
  {
   "cell_type": "markdown",
   "metadata": {},
   "source": [
    "$$ \\phi(x)^T\\phi(z) = \n",
    "\\left\\lceil\n",
    "\\begin{matrix}\n",
    "x_1^2 & \\sqrt{2}x_1x_2 & x_2^2  \\\\ \n",
    "\\end{matrix}\n",
    "\\right\\rceil\n",
    "\\left\\lceil\n",
    "\\begin{matrix}\n",
    "z_1^2 \\\\\n",
    "\\sqrt{2}z_1z_2 \\\\\n",
    "z_2^2  \\\\ \n",
    "\\end{matrix}\n",
    "\\right\\rceil\n",
    "= x_1^2z_1^2 +2x_1x_2z_1z_2+x_2^2z_2^2 = K(x,z)\n",
    "$$"
   ]
  },
  {
   "cell_type": "markdown",
   "metadata": {},
   "source": [
    "So, \n",
    "$$ \\phi(x) = \n",
    "\\left\\lceil\n",
    "\\begin{matrix}\n",
    "x_1^2 \\\\\n",
    "\\sqrt{2}x_1x_2 \\\\\n",
    "x_2^2  \\\\ \n",
    "\\end{matrix}\n",
    "\\right\\rceil\n",
    ",\\qquad\n",
    "\\phi(z) = \n",
    "\\left\\lceil\n",
    "\\begin{matrix}\n",
    "z_1^2 \\\\\n",
    "\\sqrt{2}z_1z_2 \\\\\n",
    "z_2^2  \\\\ \n",
    "\\end{matrix}\n",
    "\\right\\rceil\n",
    "$$"
   ]
  },
  {
   "cell_type": "markdown",
   "metadata": {},
   "source": [
    "### **3.2** \n",
    "For given vectors $x_1$ = (1, 2), $x_2$ = (4, 3), $x_3$ = (2, 0), Find the transformation of each vector using\n",
    "the transformation function you derived **in 3.1** [5 pts]\n"
   ]
  },
  {
   "cell_type": "markdown",
   "metadata": {},
   "source": [
    "Since we get the equation $\\phi(x)$ on the above **3.1**, it is very easy, just insert each $x_1$ and $x_2$ into formation.\n"
   ]
  },
  {
   "cell_type": "markdown",
   "metadata": {},
   "source": [
    "in case of $x_1$) \n",
    "\n",
    "$$ \\phi(x_1) = \n",
    "\\left\\lceil\n",
    "\\begin{matrix}\n",
    "1^2 \\\\\n",
    "\\sqrt{2}(1\\times2) \\\\\n",
    "2^2  \\\\ \n",
    "\\end{matrix}\n",
    "\\right\\rceil =\n",
    "\\left\\lceil \n",
    "\\begin{matrix}\n",
    "1 \\\\\n",
    "2\\sqrt{2} \\\\\n",
    "4  \\\\ \n",
    "\\end{matrix}\n",
    "\\right\\rceil\n",
    "$$\n",
    "\n",
    "in case of $x_2$) \n",
    "\n",
    "$$ \\phi(x_2) = \n",
    "\\left\\lceil\n",
    "\\begin{matrix}\n",
    "4^2 \\\\\n",
    "\\sqrt{2}(4\\times3) \\\\\n",
    "3^2  \\\\ \n",
    "\\end{matrix}\n",
    "\\right\\rceil =\n",
    "\\left\\lceil \n",
    "\\begin{matrix}\n",
    "16 \\\\\n",
    "12\\sqrt{2} \\\\\n",
    "9  \\\\ \n",
    "\\end{matrix}\n",
    "\\right\\rceil\n",
    "$$\n",
    "\n",
    "in case of $x_3$) \n",
    "\n",
    "$$ \\phi(x_3) = \n",
    "\\left\\lceil\n",
    "\\begin{matrix}\n",
    "2^2 \\\\\n",
    "\\sqrt{2}(2\\times0) \\\\\n",
    "0^2  \\\\ \n",
    "\\end{matrix}\n",
    "\\right\\rceil =\n",
    "\\left\\lceil \n",
    "\\begin{matrix}\n",
    "4 \\\\\n",
    "0 \\\\\n",
    "0  \\\\ \n",
    "\\end{matrix}\n",
    "\\right\\rceil\n",
    "$$"
   ]
  },
  {
   "cell_type": "markdown",
   "metadata": {},
   "source": [
    "### **3.3** \n",
    "Construct a kernel matrix $\\textbf{K}$ using $x_1$ = (1, 2), $x_2$ = (4, 3), $x_3$ = (2, 0) [5 pts]\n"
   ]
  },
  {
   "cell_type": "markdown",
   "metadata": {},
   "source": [
    "First of all, the reason we have to do step is, we want to make our data samples into higher dimensional feature space to train better.\n",
    "\n",
    "And as you see one of the Kernel $K(x,z) = \\phi(x)^T\\phi(z)$ at the above **3.1**\n",
    "$$ \\\\\n",
    "\\\\\n",
    "$$\n",
    "\n",
    "At this time, we want to build more generalized version of kernel matrix $\\textbf{K}$ \n",
    "\n",
    "$$ \\textbf{K} = \n",
    "\\left\\lceil\n",
    "\\begin{matrix}\n",
    "K(x1,x1) & K(x1,x2) & K(x1,x3) \\\\\n",
    "K(x2,x1) & K(x2,x2) & K(x2,x3) \\\\\n",
    "K(x3,x1) & K(x3,x2) & K(x3,x3) \\\\\n",
    "\\end{matrix}\n",
    "\\right\\rceil =\n",
    "\\left\\lceil \n",
    "\\begin{matrix}\n",
    "\\phi(x_1)^T\\phi(x_1) & \\phi(x_1)^T\\phi(x_2) & \\phi(x_1)^T\\phi(x_3) \\\\ \n",
    "\\phi(x_2)^T\\phi(x_1) & \\phi(x_2)^T\\phi(x_2) & \\phi(x_2)^T\\phi(x_3) \\\\ \n",
    "\\phi(x_3)^T\\phi(x_1) & \\phi(x_3)^T\\phi(x_2) & \\phi(x_3)^T\\phi(x_3) \\\\ \n",
    "\\end{matrix}\n",
    "\\right\\rceil\n",
    "$$\n",
    "\n",
    "And we know each of $\\phi(x_1), \\phi(x_2), \\phi(x_3)$ from **3.2**\n",
    "we just insert each value on to matrix form"
   ]
  },
  {
   "cell_type": "markdown",
   "metadata": {},
   "source": [
    "$\n",
    "\\phi(x_1)^T\\phi(x_1) = (1^2 + (2\\sqrt{2})^2 +4^2) = 25  \\\\\n",
    "\\phi(x_2)^T\\phi(x_2) = (16^2 + (12\\sqrt{2})^2 +9^2) = 625 \\\\\n",
    "\\phi(x_3)^T\\phi(x_3) = (4^2 + 0^2 + 0^2) = 16 \\\\\n",
    "$\n",
    "\n",
    "$\n",
    "\\phi(x_1)^T\\phi(x_2) = \\phi(x_2)^T\\phi(x_1) = (1*16 +2\\sqrt{2}*12\\sqrt{2} + 4*9 ) = 100 \\\\\n",
    "\\phi(x_1)^T\\phi(x_3) = \\phi(x_3)^T\\phi(x_1) = (1*4 +2\\sqrt{2}*0 + 4*0 ) = 4 \\\\\n",
    "\\phi(x_2)^T\\phi(x_3) = \\phi(x_3)^T\\phi(x_2) = (16*4 +12\\sqrt{2}*0 + 4*0 ) = 64 \\\\\n",
    "$\n",
    "\n",
    "Therefore, the final kernel matrix $\\textbf{K}$ is, \n",
    "\n",
    "$$ \\textbf{K} = \n",
    "\\left\\lceil\n",
    "\\begin{matrix}\n",
    "25 & 100 & 4 \\\\\n",
    "100 & 625 & 64 \\\\\n",
    "4 & 64 & 16 \\\\\n",
    "\\end{matrix}\n",
    "\\right\\rceil \n",
    "$$"
   ]
  },
  {
   "cell_type": "markdown",
   "metadata": {},
   "source": [
    "## **Exercise 4**"
   ]
  },
  {
   "cell_type": "markdown",
   "metadata": {},
   "source": [
    "Suppose you have the following data with three features and binary label, and we want to\n",
    "predict the label using the **Naïve Bayes classifier**. \n",
    "\n",
    "Please write the intermediate calculation\n",
    "process to get full marks. [15 pts]"
   ]
  },
  {
   "cell_type": "raw",
   "metadata": {},
   "source": [
    "     X1     X2     X3     y\n",
    "     a      b      b      A\n",
    "     b      b      a      B\n",
    "     b      b      b      B\n",
    "     a      a      a      B\n",
    "     b      a      b      A\n",
    "     b      a      a      A\n",
    "     a      b      a      A"
   ]
  },
  {
   "cell_type": "markdown",
   "metadata": {},
   "source": [
    "### **4.1** \n",
    "Calculate $P(y= A|X1 = a , X2 = b)$ [5pts]"
   ]
  },
  {
   "cell_type": "markdown",
   "metadata": {},
   "source": [
    "If we just calculate the P(y = A) given (X1 = a, X2 = b). \n",
    "Among 7 samples, satisfying (X1 = a, X2 = b) has 2 samples. \n",
    "\n",
    "And this two samples have target varialbe (y = A). So we can say $P(y= A|X1 = a , X2 = b)$ = 1\n",
    "\n",
    "**But, we want to predict the label using the naive Bayes classifier**\n",
    "\n",
    "That is, we want to assume that all of the variables are **conditionally independent**.\n"
   ]
  },
  {
   "cell_type": "markdown",
   "metadata": {},
   "source": [
    "Also, from bayes theorem, we can re-formulate the equation like, \n",
    "\n",
    "$$P(y= A|X1 = a , X2 = b) = \\frac{P(X1 = a, X2 = b |y=A)P(y=A)}{P(X1 = a, X2 = b)}$$"
   ]
  },
  {
   "cell_type": "markdown",
   "metadata": {},
   "source": [
    "And from conditionally independent characteristics, we can deal with,\n",
    "$$ P(A, B) = P(A) \\times P(B) \\\\\n",
    " P(A,B|C) = P(A|C) \\times P(B|C)\n",
    " $$"
   ]
  },
  {
   "cell_type": "markdown",
   "metadata": {},
   "source": [
    "So, if we redesign the **bayes theorem** into **naive bayes classifier** \n",
    "\n",
    "$$P(y= A|X1 = a , X2 = b) = \\frac{P(X1 = a, X2 = b |y=A)P(y=A)}{P(X1 = a, X2 = b)} \\approx \\frac{[P(X1=a|y=A)\\cdot P(X2=b|y=A)]P(y=A)}{P(X1 = a)P(X2 = b)} $$"
   ]
  },
  {
   "cell_type": "markdown",
   "metadata": {},
   "source": [
    " "
   ]
  },
  {
   "cell_type": "markdown",
   "metadata": {},
   "source": [
    "i) P(X1 = a) = $\\frac{3}{7}$\n",
    "\n",
    "ii) P(X2 = b) = $\\frac{4}{7}$\n",
    "\n",
    "iii) p(y = A) = $\\frac{4}{7}$\n",
    "\n",
    "iv) P(X1 = a| y =A) = $\\frac{1}{2}$\n",
    "\n",
    "v) P(X2 = b| y =A) = $\\frac{1}{2}$"
   ]
  },
  {
   "cell_type": "markdown",
   "metadata": {},
   "source": [
    "**Therefore**\n",
    "$$\\frac{[P(X1=a|y=A)\\cdot P(X2=b|y=A)]P(y=A)}{P(X1 = a)P(X2 = b)} = \\frac{\\frac{1}{2}\\cdot \\frac{1}{2} \\cdot \\frac{4}{7}}{\\frac{3}{7}\\cdot \\frac{4}{7}} = \\frac{7}{12}$$"
   ]
  },
  {
   "cell_type": "markdown",
   "metadata": {},
   "source": [
    "**In conclusion**\n",
    "\n",
    "by naive bayes classifier, \n",
    "$$P(y= A|X1 = a , X2 = b) \\approx \\frac{7}{12}$$"
   ]
  },
  {
   "cell_type": "markdown",
   "metadata": {},
   "source": [
    "### **4.2** \n",
    "You are given new data where the features are $X1 = a, X2= b, X3 = b$. \n",
    "\n",
    "What is the probability\n",
    "of this new data being assigned to Class $A$ and Class $B$? [10 pts]"
   ]
  },
  {
   "cell_type": "markdown",
   "metadata": {},
   "source": [
    "We have to compare the possibility between \n",
    "\n",
    "i) $P(y= A|X1 = a , X2 = b, x3 = b) $\n",
    "\n",
    "ii)$ P(y= B|X1 = a , X2 = b, X3 = c)$"
   ]
  },
  {
   "cell_type": "markdown",
   "metadata": {},
   "source": [
    "with the similiar way of **4.1**, with bayes rule and naive bayes classifier, we can approximately calculate each possibility\n"
   ]
  },
  {
   "cell_type": "markdown",
   "metadata": {},
   "source": [
    " "
   ]
  },
  {
   "cell_type": "markdown",
   "metadata": {},
   "source": [
    "**case 1)**  $P(y= A|X1 = a , X2 = b, x3 = b) $\n",
    "\n",
    "$P(y= A|X1 = a , X2 = b, X3 = b) = \\frac{P(X1 = a, X2 = b, X3 = b |y=A)P(y=A)}{P(X1 = a, X2 = b, X3 = b)} \\approx \\frac{[P(X1=a|y=A)\\cdot P(X2=b|y=A) \\cdot P(X3=b|y=A)] P(y=A)}{P(X1 = a)P(X2 = b)P(X3 = b)} $"
   ]
  },
  {
   "cell_type": "markdown",
   "metadata": {},
   "source": [
    "And, each possibility is like below\n",
    "\n",
    "i) P(X1 = a) = $\\frac{3}{7}$\n",
    "\n",
    "ii) P(X2 = b) = $\\frac{4}{7}$\n",
    "\n",
    "iii) P(X3 = b) = $\\frac{3}{7}$\n",
    "\n",
    "iv) p(y = A) = $\\frac{4}{7}$\n",
    "\n",
    "v) P(X1 = a| y =A) = $\\frac{1}{2}$\n",
    "\n",
    "vi) P(X2 = b| y =A) = $\\frac{1}{2}$\n",
    "\n",
    "vii) P(X3 = b| y =A) = $\\frac{1}{2}$"
   ]
  },
  {
   "cell_type": "markdown",
   "metadata": {},
   "source": [
    "**Therefore**\n",
    "$$\\frac{[P(X1=a|y=A)\\cdot P(X2=b|y=A) \\cdot P(X3=b|y=A)]P(y=A)}{P(X1 = a)P(X2 = b)P(X3 = b)} = \\frac{\\frac{1}{2}\\cdot \\frac{1}{2} \\cdot \\frac{1}{2} \\cdot \\frac{4}{7}}{\\frac{3}{7}\\cdot \\frac{4}{7} \\cdot \\frac{3}{7}} = \\frac{49}{72}$$"
   ]
  },
  {
   "cell_type": "markdown",
   "metadata": {},
   "source": [
    " "
   ]
  },
  {
   "cell_type": "markdown",
   "metadata": {},
   "source": [
    "**case 2)**  $P(y= B|X1 = a , X2 = b, x3 = b) $\n",
    "\n",
    "$P(y= B|X1 = a , X2 = b, X3 = b) = \\frac{P(X1 = a, X2 = b, X3 = b |y=B)P(y=B)}{P(X1 = a, X2 = b, X3 = b)} \\approx \\frac{[P(X1=a|y=B)\\cdot P(X2=b|y=B) \\cdot P(X3=b|y=B)] P(y=B)}{P(X1 = a)P(X2 = b)P(X3 = b)} $"
   ]
  },
  {
   "cell_type": "markdown",
   "metadata": {},
   "source": [
    " "
   ]
  },
  {
   "cell_type": "markdown",
   "metadata": {},
   "source": [
    "And, each possibility is like below\n",
    "\n",
    "i) P(X1 = a) = $\\frac{3}{7}$\n",
    "\n",
    "ii) P(X2 = b) = $\\frac{4}{7}$\n",
    "\n",
    "iii) P(X3 = b) = $\\frac{3}{7}$\n",
    "\n",
    "iv) p(y = B) = $\\frac{3}{7}$\n",
    "\n",
    "v) P(X1 = a| y =B) = $\\frac{1}{3}$\n",
    "\n",
    "vi) P(X2 = b| y =B) = $\\frac{2}{3}$\n",
    "\n",
    "vii) P(X3 = b| y =B) = $\\frac{1}{3}$"
   ]
  },
  {
   "cell_type": "markdown",
   "metadata": {},
   "source": [
    "**Therefore**\n",
    "$$\\frac{[P(X1=a|y=B)\\cdot P(X2=b|y=B) \\cdot P(X3=b|y=B)]P(y=B)}{P(X1 = a)P(X2 = b)P(X3 = b)} = \\frac{\\frac{1}{3}\\cdot \\frac{2}{3} \\cdot \\frac{1}{3} \\cdot \\frac{3}{7}}{\\frac{3}{7}\\cdot \\frac{4}{7} \\cdot \\frac{3}{7}} = \\frac{49}{162}$$"
   ]
  },
  {
   "cell_type": "markdown",
   "metadata": {},
   "source": [
    "In conclusion, given (X1 = a, X2 = b, X3 = b) \n",
    "\n",
    "the probability of P(y = A) = $\\frac{49}{72}$\n",
    "\n",
    "the probability of P(y = B) = $\\frac{49}{162}$\n",
    "\n",
    "\n",
    "**So, (predicting y is A) is much higher than (preciting y is B). So, naive classifier will classify y = A given (X1 = a, X2 = b, X3 = b) data**"
   ]
  },
  {
   "cell_type": "markdown",
   "metadata": {},
   "source": [
    "## **Exercise 5**\n"
   ]
  },
  {
   "cell_type": "markdown",
   "metadata": {},
   "source": [
    "Suppose you are the teaching assistant(TA) of the Data Mining Course. The final exam is\n",
    "coming soon, and the professor asked you to make one question for the Final exam. As the\n",
    "TA, you wanted to check if the students have a solid understanding of the topic \"SVM.\" Make\n",
    "a question that checks the concepts and theory you have learned on \"SVM\" with the below\n",
    "considerations. Provide the solution to your question as well. [15 pts]\n",
    "\n",
    "1. The total score of the final exam is 100 points. The portion of this question you are\n",
    "making is 10 points.\n",
    "\n",
    "2. The question should not be so easy nor so hard. You want the answer rate to be around\n",
    "4 ∼ 60%\n",
    "\n",
    "3. Students who have studied the lecture note should be able to answer this question\n",
    "without much difficulty\n",
    "\n",
    "To evaluate this question, all 4 TAs will grade this question together, and the median high\n",
    "score will be given as your score to this question. The grading will be based on\n",
    "\n",
    "1. Completeness of the question. Is the question understandable and doable?\n",
    "2. Does the question well satisfy the above considerations?\n",
    "3. Does it well tests the understanding of the topic"
   ]
  },
  {
   "cell_type": "markdown",
   "metadata": {},
   "source": [
    " "
   ]
  },
  {
   "cell_type": "markdown",
   "metadata": {},
   "source": [
    "Background) I separate into 2 sub questions in order to check whether students understood the concept of SVM, generally or not. \n",
    "\n",
    "**Linear SVM**\n",
    "\n",
    "1st) Given the dataset, whether studesnts can distinguish Supports vectors, plot SVM and show margin-area. [2pts]\n",
    "\n",
    "2nd) Given W and b, calculate the margin, and prove that margin is not affected by b. (intercept) [3pts]\n",
    "\n",
    "\n",
    "\n",
    "**Non-Linear SVM**\n",
    "\n",
    "1st) show us example in case of Non-Linear SVM  [1pts]\n",
    "\n",
    "2nd) what is the main concept of dealing Non-Linear SVM (with concept of $\\phi$) [2pts]\n",
    "\n",
    "3rd) with the answer of 2nd) why using kernel $K(x_i,x_j)$ is preferred than $\\phi(x_i)^T \\phi(x_j)$ [2pts]"
   ]
  },
  {
   "cell_type": "markdown",
   "metadata": {},
   "source": [
    " "
   ]
  },
  {
   "cell_type": "markdown",
   "metadata": {},
   "source": [
    "To be more specific, "
   ]
  },
  {
   "cell_type": "markdown",
   "metadata": {},
   "source": [
    "Question part 1) **Linear SVM**\n",
    "\n",
    "Here are the data samples"
   ]
  },
  {
   "cell_type": "raw",
   "metadata": {},
   "source": [
    "           X1        X2     target(class)\n",
    "           2         4           0\n",
    "           1         6           0\n",
    "           2         8           0\n",
    "           3         10          0\n",
    "           4         1           1\n",
    "           4         2           1 \n",
    "           6         4           1\n",
    "           10        4           1        "
   ]
  },
  {
   "cell_type": "markdown",
   "metadata": {},
   "source": [
    "1-1) Given these data, (1) plot the each point, (2) find the support vectors, (3) estimate the margin area."
   ]
  },
  {
   "cell_type": "markdown",
   "metadata": {},
   "source": [
    "1-1 Answer) "
   ]
  },
  {
   "cell_type": "code",
   "execution_count": 101,
   "metadata": {
    "scrolled": true
   },
   "outputs": [
    {
     "data": {
      "text/plain": [
       "[<matplotlib.lines.Line2D at 0x21bcba85ca0>]"
      ]
     },
     "execution_count": 101,
     "metadata": {},
     "output_type": "execute_result"
    },
    {
     "data": {
      "image/png": "[encoded data removed]",
      "text/plain": [
       "<Figure size 432x288 with 1 Axes>"
      ]
     },
     "metadata": {
      "needs_background": "light"
     },
     "output_type": "display_data"
    }
   ],
   "source": [
    "import numpy as np\n",
    "from sklearn import svm\n",
    "from sklearn.datasets.samples_generator import make_blobs\n",
    "X = [[3,4],[2,7],[3,9],[4,10],[5,1],[5,2],[7,4],[10,4]]\n",
    "y = [0,0,0,0,1,1,1,1]\n",
    "\n",
    "clf = svm.SVC(kernel='linear')\n",
    "clf.fit(X, y)\n",
    "\n",
    "class0_x1 = [3,2,3,4]\n",
    "class0_x2 = [4,7,9,10]\n",
    "class1_x1 = [5,5,7,10]\n",
    "class1_x2 = [1,2,4,4]\n",
    "\n",
    "plt.scatter(class0_x1, class0_x2, marker ='*')\n",
    "plt.scatter(class1_x1, class1_x2, marker ='o', color = 'red')\n",
    "\n",
    "a = range(1,10)\n",
    "b = [(num-1) for num in a]\n",
    "plt.plot(a,b)\n",
    "\n",
    "a = range(1,10)\n",
    "b = [(num-3) for num in a]\n",
    "plt.plot(a,b)\n",
    "\n",
    "a = range(1,10)\n",
    "b = [(num+1) for num in a]\n",
    "plt.plot(a,b)"
   ]
  },
  {
   "cell_type": "markdown",
   "metadata": {},
   "source": [
    "This is the plotting each point, and drawing three region\n",
    "$W^Tx+b = 0, \\quad W^Tx+b = -1, \\quad W^Tx+b = 1$"
   ]
  },
  {
   "cell_type": "markdown",
   "metadata": {},
   "source": [
    "(1) plotting is easy. I will just skip with only showing above graph.\n",
    "\n",
    "(2) finding each support vectors are total (3,4) , (5,2), (7,4). (passsing the green and oragne line)\n",
    "\n",
    "(3) Margin is the area, between green line and orange line"
   ]
  },
  {
   "cell_type": "markdown",
   "metadata": {},
   "source": [
    "### 1-2) "
   ]
  },
  {
   "cell_type": "code",
   "execution_count": 106,
   "metadata": {
    "scrolled": false
   },
   "outputs": [
    {
     "name": "stdout",
     "output_type": "stream",
     "text": [
      "[[ 0.5 -0.5]]\n",
      "[-0.5]\n"
     ]
    }
   ],
   "source": [
    "print(clf.coef_)\n",
    "print(clf.intercept_)"
   ]
  },
  {
   "cell_type": "markdown",
   "metadata": {},
   "source": [
    "Let's set above example's **w = [0.5, -0.5] , b = -0.5** show margin is not affected by b and calculate the M (margin)."
   ]
  },
  {
   "cell_type": "markdown",
   "metadata": {},
   "source": [
    "1-2 Answer)\n",
    "\n",
    "What we know is, \n",
    "\n",
    " $$ \\textbf{green line} = w^Tx^+ +b = 1$$\n",
    " $$ \\textbf{orange line} = w^Tx^- +b = -1$$"
   ]
  },
  {
   "cell_type": "markdown",
   "metadata": {},
   "source": [
    "1st step) Let's set $x^+ = x^- +\\lambda w$\n",
    "\n",
    "Then, $$w^Tx^+ +b = 1 \\Rightarrow w^T(x^- +\\lambda w) +b = 1 \\Rightarrow w^Tx^- + \\lambda w^Tw +b = 1$$"
   ]
  },
  {
   "cell_type": "markdown",
   "metadata": {},
   "source": [
    "Since, $w^Tx^- +b = -1$\n",
    "$$ w^Tx^- + \\lambda w^Tw +b = 1 \\Rightarrow  \\lambda w^Tw  = 2 $$\n",
    "$$ \\therefore \\lambda = \\frac{2}{w^Tw}$$"
   ]
  },
  {
   "cell_type": "markdown",
   "metadata": {},
   "source": [
    "2nd step) Margin = distance between $x^+$ and $x^-$\n",
    "\n",
    "Therefore \n",
    "\n",
    "$$\\text{distance}(x^+,x^-) = ||x^+ -x^-||_2 =|| x^- +\\lambda w + -x^-||_2 = ||\\lambda w||_2 $$"
   ]
  },
  {
   "cell_type": "markdown",
   "metadata": {},
   "source": [
    "$\\lambda $ is scalar and w is matrix\n",
    "$$\\therefore \\sqrt{(\\lambda w)^2} = \\lambda \\sqrt{w^Tw}$$"
   ]
  },
  {
   "cell_type": "markdown",
   "metadata": {},
   "source": [
    "since, we get $\\lambda = \\frac{2}{w^Tw}$ from 1st step)\n",
    "$$ \\text{margin} = \\lambda \\sqrt{w^Tw} = \\frac{2}{w^Tw}\\sqrt{w^Tw} = \\frac{2}{\\sqrt{w^Tw}} = \\frac{2}{||w||_2}$$"
   ]
  },
  {
   "cell_type": "markdown",
   "metadata": {},
   "source": [
    "For this reason, we can say that margin is not affected by intercept (b).\n",
    "\n",
    "And, with w = [0.5, -0.5], \n",
    "$$ \\text{margin} = \\frac{2}{\\sqrt{0.5^2 +0.5^2}} =2\\sqrt{2} = 2.8284$$"
   ]
  },
  {
   "cell_type": "markdown",
   "metadata": {},
   "source": [
    " "
   ]
  },
  {
   "cell_type": "markdown",
   "metadata": {},
   "source": [
    "Question part 2) **Non-Linear SVM**"
   ]
  },
  {
   "cell_type": "markdown",
   "metadata": {},
   "source": [
    "### 2-1) show us example in case of Non-Linear SVM [1pts]\n",
    "\n",
    "2-1 Answer)   recommend examples are such as "
   ]
  },
  {
   "cell_type": "markdown",
   "metadata": {},
   "source": [
    " i) **XOR case** (detecting y given x1, x2 but this cannot be explained by just one linear vector line) "
   ]
  },
  {
   "cell_type": "raw",
   "metadata": {},
   "source": [
    "            x1 x2  y\n",
    "            0  0  0\n",
    "            0  1  1\n",
    "            1  0  1\n",
    "            1  1  0"
   ]
  },
  {
   "cell_type": "code",
   "execution_count": 154,
   "metadata": {},
   "outputs": [
    {
     "data": {
      "text/plain": [
       "Text(0.5, 1.0, 'XOR')"
      ]
     },
     "execution_count": 154,
     "metadata": {},
     "output_type": "execute_result"
    },
    {
     "data": {
      "image/png": "[encoded data removed]",
      "text/plain": [
       "<Figure size 216x216 with 1 Axes>"
      ]
     },
     "metadata": {
      "needs_background": "light"
     },
     "output_type": "display_data"
    }
   ],
   "source": [
    "# case of XOR\n",
    "x1 = [0,1]\n",
    "x2 = [0,1]\n",
    "x11 = [0,1]\n",
    "x22 = [1,0]\n",
    "plt.scatter(x1,x2,marker = '*' )\n",
    "plt.scatter(x11,x22, marker ='o', color = 'red')\n",
    "plt.rcParams[\"figure.figsize\"] = (14,4)\n",
    "plt.title(\"XOR\")\n"
   ]
  },
  {
   "cell_type": "markdown",
   "metadata": {},
   "source": [
    "ii) **Detecting inner circle point or outer circle point** \n",
    "\n",
    "    Because circle is round shape, it cannot be explained by just only one linear vector line)"
   ]
  },
  {
   "cell_type": "code",
   "execution_count": 152,
   "metadata": {},
   "outputs": [
    {
     "data": {
      "image/png": "[encoded data removed]",
      "text/plain": [
       "<Figure size 216x216 with 1 Axes>"
      ]
     },
     "metadata": {
      "needs_background": "light"
     },
     "output_type": "display_data"
    }
   ],
   "source": [
    "import numpy as np\n",
    "\n",
    "from PIL import Image\n",
    "\n",
    "import matplotlib.pyplot as plt\n",
    "%matplotlib inline\n",
    "image_pil = Image.open('1.png')\n",
    "image = np.array(image_pil)\n",
    "plt.rcParams[\"figure.figsize\"] = (3,3)\n",
    "plt.imshow(image)\n",
    "plt.show()"
   ]
  },
  {
   "cell_type": "markdown",
   "metadata": {},
   "source": [
    "iii) **except these, If student's cases are also satisfied, it could be answer.**"
   ]
  },
  {
   "cell_type": "markdown",
   "metadata": {},
   "source": [
    "### 2nd) what is the main concept (technique) of dealing Non-Linear SVM (with concept of  𝜙 ) [2pts]\n"
   ]
  },
  {
   "cell_type": "markdown",
   "metadata": {},
   "source": [
    "2-2 Answer) First of all, Non-linear SVM doesn't have any solution to separate each class with only one \"Support Vector line\". Therefore, in order to solve this issue, we re-design our data into higher dimension. That is, the original input space can always be mapped to some higher-dimentional feature space which can separate the dependent variable.\n",
    "\n",
    "At this step, we use the term of $\\phi : x \\rightarrow \\phi(x)$. If so, we can get any one single support vector plane (line) that can separte our training set. "
   ]
  },
  {
   "cell_type": "code",
   "execution_count": 157,
   "metadata": {},
   "outputs": [
    {
     "data": {
      "image/png": "[encoded data removed]",
      "text/plain": [
       "<Figure size 360x720 with 1 Axes>"
      ]
     },
     "metadata": {
      "needs_background": "light"
     },
     "output_type": "display_data"
    }
   ],
   "source": [
    "image_pil = Image.open('2.png')\n",
    "image = np.array(image_pil)\n",
    "plt.rcParams[\"figure.figsize\"] = (5,10)\n",
    "plt.imshow(image)\n",
    "plt.show()"
   ]
  },
  {
   "cell_type": "markdown",
   "metadata": {},
   "source": [
    "### 2-3)  why using kernel function  $K(x_i,x_j)$  is preferred than  $\\phi(x_i)^T\\phi(x_j)$, and suggest popular examples of kernel function [2pts]"
   ]
  },
  {
   "cell_type": "markdown",
   "metadata": {},
   "source": [
    "2-3 Answer) From **Exercise 3.2)**, we experienced how to get $\\phi$ and calculate $\\phi(x_i)^T\\phi(x_j)$ to get $K$ (kernel)\n",
    "\n",
    "From this experience, there have some trouble of using $\\phi(x_i)^T\\phi(x_j)$ than Kenel function.\n",
    "\n",
    "**i) complexity to calculate**\n",
    "\n",
    "$\\quad$When we want to calculate kernel from $\\phi$, we have to calculate each $\\phi$ values, after that, we also have to multiply each other again to get $\\phi(x_i)^T\\phi(x_j)$. At this step, the caculating number (calculating process's complexity) is much larger than just using kernel function $K(x_i,x_j)$\n",
    "\n",
    "**ii) finding $\\phi$ could be hard**\n",
    "\n",
    "$\\quad$ **Exercise 3.2** give us very simple form, So in other cases (much difficult or high dimensional), it is difficult to find $\\phi$ function. So, just using the given popular Kernel function can be good choice. \n",
    " \n",
    " such as, \n",
    " \n",
    " $\\quad$i) linear $K(x_i, x_j) = x_i^Tx_j$\n",
    " \n",
    " $\\quad$ii) polynomial of power p : $K(x_i, x_j) = (1+x_i^Tx_j)^p$\n",
    " \n",
    " $\\quad$iii) Gaussian : $K(x_i, x_j) = exp(-\\frac{||x_i-x_j||^2}{2\\sigma^2})$\n",
    " \n",
    " $\\quad$iv) Sigmoid : $K(x_i, x_j) = tanh(\\beta_0x_i^Tx_j + \\beta_1)$"
   ]
  }
 ],
 "metadata": {
  "kernelspec": {
   "display_name": "Python 3",
   "language": "python",
   "name": "python3"
  },
  "language_info": {
   "codemirror_mode": {
    "name": "ipython",
    "version": 3
   },
   "file_extension": ".py",
   "mimetype": "text/x-python",
   "name": "python",
   "nbconvert_exporter": "python",
   "pygments_lexer": "ipython3",
   "version": "3.8.3"
  }
 },
 "nbformat": 4,
 "nbformat_minor": 4
}

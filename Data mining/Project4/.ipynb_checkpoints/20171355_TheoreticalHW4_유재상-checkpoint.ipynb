{
 "cells": [
  {
   "cell_type": "markdown",
   "metadata": {},
   "source": [
    "# IE30301-Data mining Assignment 3 \n",
    "\n",
    "\n",
    "                                                           20171355 유재상\n"
   ]
  },
  {
   "cell_type": "markdown",
   "metadata": {},
   "source": [
    "## **Exercise 1**"
   ]
  },
  {
   "cell_type": "markdown",
   "metadata": {},
   "source": [
    "### **1.1** \n",
    "What is the difference between \"Likelihood\" and \"probability\" ? [5 pts]"
   ]
  },
  {
   "cell_type": "markdown",
   "metadata": {},
   "source": [
    "**Probability** aim to find the change of someting given a sample distribution of the data. Also, probability attaches to possible results. For more detail, possible results are mutaully exclusive and exhaustive. \n",
    "\n",
    "**Likelihood** aim to find the best distribution of the data given a particular value of some features or sitautions in the data. Also, likelihood attaches to hypothesis. For more detail, it doesn't mutually exclusive and doesn't exhaustive. "
   ]
  },
  {
   "cell_type": "markdown",
   "metadata": {},
   "source": [
    "### **1.2** \n",
    "What is the difference between \"Sampling\" and \"Resampling\"? What advantage does \"Resampling\" have? [5 pts]"
   ]
  },
  {
   "cell_type": "code",
   "execution_count": null,
   "metadata": {},
   "outputs": [],
   "source": []
  },
  {
   "cell_type": "markdown",
   "metadata": {},
   "source": [
    "## **Exercise 2**"
   ]
  },
  {
   "cell_type": "markdown",
   "metadata": {},
   "source": [
    "The following table is the outcome of the logistic regression model for an iris flower being\n",
    "species Versicolor versus species Virginica. ($Y$ = 1 for Versicolor, $Y$ = 0 for Virginica) [15 pts]"
   ]
  },
  {
   "cell_type": "raw",
   "metadata": {},
   "source": [
    "variable    Intercept    Length of Sepals    Width of Sepals    Length of petals    Width of Petals\n",
    "\n",
    "Estimated     42.6          -0.0003                6.7                 -9.4               -18.3\n",
    "Coefficient"
   ]
  },
  {
   "cell_type": "markdown",
   "metadata": {},
   "source": [
    "### **2.2** \n",
    "Interpret the effect of **length of sepals** on the relative risks of an iris-flower being species Versi-color versus species Virginica. Fill up the $A,B,C$ in the below interpretation of the outcome\n",
    "and select the appropriate word for $D$.[5 pts]\n"
   ]
  },
  {
   "cell_type": "markdown",
   "metadata": {},
   "source": [
    "As we learn at the **logistic regression model**, we introduce the **Odds**, and **Odds Ratio**. \n",
    "\n",
    "where, \n",
    "\n",
    "$$Odds = \\frac{P(Y=1)}{1-P(Y=1)}, \\qquad \\frac{Odds(X+1)}{Odds(X)} = e^\\beta$$\n"
   ]
  },
  {
   "cell_type": "markdown",
   "metadata": {},
   "source": [
    "Therefore, if we want to interpret the effect of **length of sepals**, we insert the $\\beta$ value, (Length of Sepals = -0.0003).\n",
    "\n",
    "Then,\n",
    "\n",
    "$$\\frac{Odds(X+1)}{Odds(X)}= e^\\beta = e^{-0.0003} = 0.9997$$"
   ]
  },
  {
   "cell_type": "markdown",
   "metadata": {},
   "source": [
    "Therefore, since $\\beta$ <0, the odds and probability decrease as X increase ($e^\\beta$ = 0.9997 <1)\n",
    "\n",
    "In conclusion, \n",
    "\n",
    "i) denominator has larger value than numerator. That is, Virginica ($Y$ = 0) has more probable than Versicolor ($Y$ = 1). \n",
    "\n",
    "ii)Also, when the **length of sepals** increase, the odds and probability decrease.\n",
    "\n",
    "$\\\\\n",
    "\\\\\n",
    "$\n",
    "\n",
    "\n",
    "\n",
    "**Answer :**\n",
    "\n",
    "**Species Virginica($Y$ = 0) is 1.0003 ( = $\\frac{1}{0.9997}$) times more probable than Species Versicolor when the length of sepals Increase.**"
   ]
  },
  {
   "cell_type": "markdown",
   "metadata": {},
   "source": [
    "### **2.1** \n",
    "What is the predicted class for the following new data $x_1$ and $x_2$? You should provide the\n",
    "probability of \n",
    "\n",
    "$P(Y_1 = 1|x_1)$, $P(Y_1 = 0|x_2)$, $P(Y_2 = 1|x_1)$, $P(Y_2 = 0|x_2)$. [10 pts]\n"
   ]
  },
  {
   "cell_type": "raw",
   "metadata": {},
   "source": [
    "                x1     6.4     3.1     4.3     1.3\n",
    "                x2     6.9     3.0     3.9     1.4"
   ]
  },
  {
   "cell_type": "markdown",
   "metadata": {},
   "source": [
    "From **logistic regression model**, we can get \n",
    "\n",
    "$$P(Y = 1) = \\frac{exp(X\\beta)}{1+exp(X\\beta)}, \\qquad P(Y = 0) = \\frac{1}{1+exp(X\\beta)} = 1-P(Y = 1)$$\n",
    "\n",
    "So, from our given $\\beta$ values,\n",
    "\n",
    "$$X\\beta = 42.6 + (-0.0003)x_{i1} + (6.7)x_{i2} + (-9.4)x_{i3} + (-18.3)x_{i4}$$\n",
    "\n",
    "And more detail with each x1 and x2,\n",
    "\n",
    "$$ i)\\quad X_1\\beta = 42.6 + (-0.0003)*(6.4) + (6.7)*(3.1) + (-9.4)*(4.3) + (-18.3)*(1.3) =  \\textbf{- 0.84192} $$\n",
    "$$ i)\\quad X_2\\beta = 42.6 + (-0.0003)*(6.9) + (6.7)*(3.0) + (-9.4)*(3.9) + (-18.3)*(1.4) =  \\textbf{ 0.41793} $$"
   ]
  },
  {
   "cell_type": "markdown",
   "metadata": {},
   "source": [
    "So, from our given $\\beta$ values and given data sets x1 & x2, we can caluate 4 different possibilities.\n",
    "\n",
    "1st) $P(Y_1 = 1|x_1)$\n",
    "\n",
    "$$P(Y_1 = 1|x_1) = \\frac{exp(X_1\\beta)}{1+exp(X_1\\beta)} = \\frac{e^{-0.84192}}{1+e^{-0.84192}} = \\textbf{0.30113} $$\n",
    "\n",
    "2nd) $P(Y_1 = 0|x_1)$\n",
    "$$P(Y_1 = 0|x_1) = 1- P(Y_1 = 1|x_1) = 1-0.30113 = \\textbf{0.69887}$$\n",
    "\n",
    "3rd) $P(Y_2 = 1|x_2)$\n",
    "$$P(Y_2 = 1|x_2) = \\frac{exp(X_2\\beta)}{1+exp(X_2\\beta)} = \\frac{e^{0.41793}}{1+e^{0.41793}} = \\textbf{0.6030} $$\n",
    "\n",
    "4th) $P(Y_2 = 0|x_2)$\n",
    "$$P(Y_2 = 0|x_2) = 1- P(Y_2 = 1|x_2) = 1-0.6030 = \\textbf{0.3970}$$"
   ]
  },
  {
   "cell_type": "markdown",
   "metadata": {},
   "source": [
    "Logistic regression usually set criteria value as 0.5. Also, comparing with P(Y = 1) and P(Y = 0), we can induce\n",
    "\n",
    "i) in case of x1, \n",
    "\n",
    "$P(Y_1 = 0|x_1)$ > $P(Y_1 = 1|x_1)$. Also, $P(Y_1 = 0|x_1)$ > 0.5. \n",
    "\n",
    "**So, we predict x1 is Virginica ( Y = 0)**\n",
    "\n",
    "** **\n",
    "i) in case of x2, \n",
    "\n",
    "$P(Y_2 = 1|x_2)$ > $P(Y_2 = 0|x_2)$. Also, $P(Y_2 = 1|x_2)$ > 0.5. \n",
    "\n",
    "**So, we predict x2 is Versicolor ( Y = 1)**\n"
   ]
  },
  {
   "cell_type": "markdown",
   "metadata": {},
   "source": [
    "## **Exercise 3**"
   ]
  },
  {
   "cell_type": "markdown",
   "metadata": {},
   "source": [
    "### **3.1** \n",
    "We know that the given kernel function can be decomposed into the inner product of some\n",
    "transformation function $\\phi$(⋅); $K(x, z)$ = $\\phi$($z$)\n",
    "\n",
    "\n",
    "\n",
    "For $x$ = ($x_1, x_2$), $z$ = ($z_1, z_2$), find the transformation funtion $\\phi$(⋅)[5 pts]\n"
   ]
  },
  {
   "cell_type": "markdown",
   "metadata": {},
   "source": [
    "### **3.2** \n",
    "For given vectors $x_1$ = (1, 2), $x_2$ = (4, 3), $x_3$ = (2, 0), Find the transformation of each vector using\n",
    "the transformation function you derived **in 3.1** [5 pts]\n"
   ]
  },
  {
   "cell_type": "markdown",
   "metadata": {},
   "source": [
    "### **3.3** \n",
    "Construct a kernel matrix $K$ using $x_1$ = (1, 2), $x_2$ = (4, 3), $x_3$ = (2, 0) [5 pts]\n"
   ]
  },
  {
   "cell_type": "markdown",
   "metadata": {},
   "source": [
    "## **Exercise 4**"
   ]
  },
  {
   "cell_type": "markdown",
   "metadata": {},
   "source": [
    "Suppose you have the following data with three features and binary label, and we want to\n",
    "predict the label using the Naïve Bayes classifier. Please write the intermediate calculation\n",
    "process to get full marks. [15 pts]"
   ]
  },
  {
   "cell_type": "raw",
   "metadata": {},
   "source": [
    "     X1     X2     X3     y\n",
    "     a      b      b      A\n",
    "     b      b      a      B\n",
    "     b      b      b      B\n",
    "     a      a      a      B\n",
    "     b      a      b      A\n",
    "     b      a      a      A\n",
    "     a      b      a      A"
   ]
  },
  {
   "cell_type": "markdown",
   "metadata": {},
   "source": [
    "### **4.1** \n",
    "Calculate $P(y= A|X1 = a , X2 = b)$ [5pts]"
   ]
  },
  {
   "cell_type": "markdown",
   "metadata": {},
   "source": [
    "### **4.2** \n",
    "You are given new data where the features are $X1 = a, X2= b, X3 = b$. \n",
    "\n",
    "What is the probability\n",
    "of this new data being assigned to Class $A$ and Class $B$? [10 pts]"
   ]
  },
  {
   "cell_type": "markdown",
   "metadata": {},
   "source": [
    "## **Exercise 5**\n"
   ]
  },
  {
   "cell_type": "markdown",
   "metadata": {},
   "source": [
    "Suppose you are the teaching assistant(TA) of the Data Mining Course. The final exam is\n",
    "coming soon, and the professor asked you to make one question for the Final exam. As the\n",
    "TA, you wanted to check if the students have a solid understanding of the topic \"SVM.\" Make\n",
    "a question that checks the concepts and theory you have learned on \"SVM\" with the below\n",
    "considerations. Provide the solution to your question as well. [15 pts]\n",
    "\n",
    "1. The total score of the final exam is 100 points. The portion of this question you are\n",
    "making is 10 points.\n",
    "\n",
    "2. The question should not be so easy nor so hard. You want the answer rate to be around\n",
    "4 ∼ 60%\n",
    "\n",
    "3. Students who have studied the lecture note should be able to answer this question\n",
    "without much dificulty\n",
    "\n",
    "To evaluate this question, all 4 TAs will grade this question together, and the median high\n",
    "score will be given as your score to this question. The grading will be based on\n",
    "\n",
    "1. Completeness of the question. Is the question understandable and doable?\n",
    "2. Does the question well satisfy the above considerations?\n",
    "3. Does it well tests the understanding of the topic"
   ]
  }
 ],
 "metadata": {
  "kernelspec": {
   "display_name": "Python 3",
   "language": "python",
   "name": "python3"
  },
  "language_info": {
   "codemirror_mode": {
    "name": "ipython",
    "version": 3
   },
   "file_extension": ".py",
   "mimetype": "text/x-python",
   "name": "python",
   "nbconvert_exporter": "python",
   "pygments_lexer": "ipython3",
   "version": "3.8.3"
  }
 },
 "nbformat": 4,
 "nbformat_minor": 4
}

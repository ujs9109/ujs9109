{
 "cells": [
  {
   "cell_type": "markdown",
   "metadata": {},
   "source": [
    "### Import Packages\n",
    "\n",
    "- It is not allowed for you to use packages other than the specified packages below"
   ]
  },
  {
   "cell_type": "code",
   "execution_count": 1,
   "metadata": {},
   "outputs": [],
   "source": [
    "import pandas as pd\n",
    "import numpy as np\n",
    "import matplotlib.pyplot as plt\n",
    "\n",
    "from sklearn.decomposition import PCA\n",
    "from sklearn.linear_model import LogisticRegression\n",
    "\n",
    "from sklearn.preprocessing import StandardScaler\n",
    "from sklearn.model_selection import train_test_split\n",
    "from sklearn.metrics import accuracy_score"
   ]
  },
  {
   "cell_type": "markdown",
   "metadata": {},
   "source": [
    "## Task 1. Logistic Regression [15 points]"
   ]
  },
  {
   "cell_type": "markdown",
   "metadata": {},
   "source": [
    "#### 1.1 Load Dataset [1 point]"
   ]
  },
  {
   "cell_type": "markdown",
   "metadata": {},
   "source": [
    "- Load the csv file,'final_shuffled_breast_cancer100.csv' as `df`\n"
   ]
  },
  {
   "cell_type": "code",
   "execution_count": 2,
   "metadata": {},
   "outputs": [],
   "source": [
    "# Load the csv file,'final_shuffled_breast_cancer100.csv' as df\n",
    "df = pd.read_csv(\"final_shuffled_breast_cancer100.csv\")"
   ]
  },
  {
   "cell_type": "markdown",
   "metadata": {},
   "source": [
    "#### 1.2 Split the independent variable set and the target variable set [2 points]\n",
    "- Assign `X` to the independent variable dataset\n",
    "- Assign `y` to the target variable dataset"
   ]
  },
  {
   "cell_type": "code",
   "execution_count": 74,
   "metadata": {
    "scrolled": true
   },
   "outputs": [],
   "source": [
    "X = df.iloc[:,0:-1]\n",
    "y = df.iloc[:,-1:]"
   ]
  },
  {
   "cell_type": "markdown",
   "metadata": {},
   "source": [
    "#### 1.3 Split Dataset into the train & testset [2 points]\n",
    "** When you use scikit-learn method to split the train & test set : \n",
    "- the `random_state` value has to be zero.\n",
    "- the ratio of train set and test set is as follows : 75% train set / 25% test set\n",
    "- Assign the variable names as follow : `X_train`, `X_test`, `y_train`, `y_test`"
   ]
  },
  {
   "cell_type": "code",
   "execution_count": 75,
   "metadata": {},
   "outputs": [],
   "source": [
    "X_train, X_test, y_train, y_test = train_test_split(X, y, test_size=0.25, random_state=0)"
   ]
  },
  {
   "cell_type": "markdown",
   "metadata": {},
   "source": [
    "#### 1.4 Standirdize the dataset by \"StandardScaler\" method of scikit-learn [4 points]\n",
    "- Use the method as the default state\n",
    "- Fit the `StandardScaler` on your training data only, then standardize both training and test sets using that scaler. The reason we fit a scaler on training set is to avoid possible information leakage from the test dataset. Test dataset should always remain \"Unseen\" until the testing phase. Thus, we should always scale using the training set."
   ]
  },
  {
   "cell_type": "code",
   "execution_count": 84,
   "metadata": {},
   "outputs": [],
   "source": [
    "scaler  = StandardScaler()\n",
    "scaler.fit(X_train)\n",
    "X_train_edit = scaler.transform(X_train)\n",
    "X_test_edit = scaler.transform(X_test)"
   ]
  },
  {
   "cell_type": "markdown",
   "metadata": {},
   "source": [
    "#### 1.5 Load and train a logistic regression model by scikit-learn. [2 points]\n",
    "- Intercept term should be included for training\n",
    "- Assign LogisticRegression as `model`"
   ]
  },
  {
   "cell_type": "code",
   "execution_count": 100,
   "metadata": {},
   "outputs": [],
   "source": [
    "# in order to remove the error (warning term)\n",
    "y_edit = y_train.values.ravel()\n",
    "model = LogisticRegression(fit_intercept = True).fit(X_train_edit, y_edit)"
   ]
  },
  {
   "cell_type": "code",
   "execution_count": 86,
   "metadata": {
    "scrolled": true
   },
   "outputs": [
    {
     "name": "stderr",
     "output_type": "stream",
     "text": [
      "A:\\anaconda3\\lib\\site-packages\\sklearn\\utils\\validation.py:73: DataConversionWarning: A column-vector y was passed when a 1d array was expected. Please change the shape of y to (n_samples, ), for example using ravel().\n",
      "  return f(**kwargs)\n"
     ]
    }
   ],
   "source": [
    "#model = LogisticRegression(fit_intercept = True).fit(X_train_edit, y_train)\n"
   ]
  },
  {
   "cell_type": "markdown",
   "metadata": {},
   "source": [
    "#### 1.6. Print the coefficient & intercept of your model [2 points]"
   ]
  },
  {
   "cell_type": "code",
   "execution_count": 101,
   "metadata": {},
   "outputs": [
    {
     "name": "stdout",
     "output_type": "stream",
     "text": [
      "model intercept :  [0.13838155]\n"
     ]
    }
   ],
   "source": [
    "print(\"model intercept : \" , model.intercept_)"
   ]
  },
  {
   "cell_type": "code",
   "execution_count": 102,
   "metadata": {},
   "outputs": [
    {
     "name": "stdout",
     "output_type": "stream",
     "text": [
      "model coef :  [[-0.63330582 -0.38463901 -0.62188958 -0.58284847 -0.0124785  -0.22911522\n",
      "  -0.36758627 -0.49012322  0.30941314  0.01812234 -0.23837422  0.4929945\n",
      "  -0.19928741 -0.31225956  0.33192808 -0.01874974  0.03158852  0.19551406\n",
      "   0.19597145 -0.02103781 -0.68210684 -0.5961599  -0.63460298 -0.57103766\n",
      "  -0.3021311  -0.44437018 -0.51058829 -0.4010555  -0.36812328 -0.44266915]]\n"
     ]
    }
   ],
   "source": [
    "print(\"model coef : \", model.coef_)"
   ]
  },
  {
   "cell_type": "markdown",
   "metadata": {},
   "source": [
    "#### 1.7 Predict and evaluate the model on your test set [2 points]"
   ]
  },
  {
   "cell_type": "markdown",
   "metadata": {},
   "source": [
    "[1 point]\n",
    "- Predict class labels of the test set using the trained model (Deterministic Label)\n",
    "- Print the predicted labels of test set and assign it to `y_pred`"
   ]
  },
  {
   "cell_type": "code",
   "execution_count": 108,
   "metadata": {},
   "outputs": [
    {
     "data": {
      "text/plain": [
       "array([1., 0., 0., 0., 1., 0., 0., 0., 1., 0., 0., 1., 0., 0., 0., 1., 0.,\n",
       "       0., 0., 1., 0., 1., 1., 1., 0.])"
      ]
     },
     "execution_count": 108,
     "metadata": {},
     "output_type": "execute_result"
    }
   ],
   "source": [
    "# print the predicted labels of test set\n",
    "y_pred = model.predict(X_test_edit)\n",
    "y_pred"
   ]
  },
  {
   "cell_type": "markdown",
   "metadata": {},
   "source": [
    "[1 point]\n",
    "- Evaluate the trained model using 'accuracy_score' metric on the test set.\n",
    "(Evaluate how well the predicted label of the test set matches the actual correct answer value.)\n",
    "- Print the accuracy score value\n",
    "(the 'accuracy_score' method has been already imported.)"
   ]
  },
  {
   "cell_type": "code",
   "execution_count": 110,
   "metadata": {},
   "outputs": [
    {
     "name": "stdout",
     "output_type": "stream",
     "text": [
      "0.92\n"
     ]
    }
   ],
   "source": [
    "# print the accuracy score on your test set\n",
    "print(accuracy_score(y_test,y_pred))"
   ]
  },
  {
   "cell_type": "markdown",
   "metadata": {},
   "source": [
    "## Task 2. PCA [15 points]"
   ]
  },
  {
   "cell_type": "markdown",
   "metadata": {},
   "source": [
    "#### 2.1 Load PCA instance and reduce the dimension of train and test set [5 points] \n",
    "\n",
    "- Load the `PCA` model as the default state\n",
    "- Reuse the train set standardized with the `StandardScaler` as the input data of the PCA.\n",
    "- You should fit the PCA instance by the standardized train set. \n",
    "- Transform(train) your train data and test data by principal components created by train set.\n",
    "\n",
    "- Reduce dimensions of train and test set from 30 to 2 dimensions"
   ]
  },
  {
   "cell_type": "code",
   "execution_count": 170,
   "metadata": {
    "scrolled": true
   },
   "outputs": [
    {
     "data": {
      "text/html": [
       "<div>\n",
       "<style scoped>\n",
       "    .dataframe tbody tr th:only-of-type {\n",
       "        vertical-align: middle;\n",
       "    }\n",
       "\n",
       "    .dataframe tbody tr th {\n",
       "        vertical-align: top;\n",
       "    }\n",
       "\n",
       "    .dataframe thead th {\n",
       "        text-align: right;\n",
       "    }\n",
       "</style>\n",
       "<table border=\"1\" class=\"dataframe\">\n",
       "  <thead>\n",
       "    <tr style=\"text-align: right;\">\n",
       "      <th></th>\n",
       "      <th>PC 1</th>\n",
       "      <th>PC 2</th>\n",
       "    </tr>\n",
       "  </thead>\n",
       "  <tbody>\n",
       "    <tr>\n",
       "      <th>0</th>\n",
       "      <td>-2.043178</td>\n",
       "      <td>1.666872</td>\n",
       "    </tr>\n",
       "    <tr>\n",
       "      <th>1</th>\n",
       "      <td>0.661519</td>\n",
       "      <td>-2.379477</td>\n",
       "    </tr>\n",
       "    <tr>\n",
       "      <th>2</th>\n",
       "      <td>-0.712937</td>\n",
       "      <td>-0.521633</td>\n",
       "    </tr>\n",
       "    <tr>\n",
       "      <th>3</th>\n",
       "      <td>1.043996</td>\n",
       "      <td>-1.418637</td>\n",
       "    </tr>\n",
       "    <tr>\n",
       "      <th>4</th>\n",
       "      <td>-1.588475</td>\n",
       "      <td>-1.128172</td>\n",
       "    </tr>\n",
       "    <tr>\n",
       "      <th>...</th>\n",
       "      <td>...</td>\n",
       "      <td>...</td>\n",
       "    </tr>\n",
       "    <tr>\n",
       "      <th>70</th>\n",
       "      <td>1.587700</td>\n",
       "      <td>0.007327</td>\n",
       "    </tr>\n",
       "    <tr>\n",
       "      <th>71</th>\n",
       "      <td>8.941313</td>\n",
       "      <td>-4.395210</td>\n",
       "    </tr>\n",
       "    <tr>\n",
       "      <th>72</th>\n",
       "      <td>4.403722</td>\n",
       "      <td>-0.104917</td>\n",
       "    </tr>\n",
       "    <tr>\n",
       "      <th>73</th>\n",
       "      <td>-3.418668</td>\n",
       "      <td>0.518502</td>\n",
       "    </tr>\n",
       "    <tr>\n",
       "      <th>74</th>\n",
       "      <td>-3.210144</td>\n",
       "      <td>-1.607566</td>\n",
       "    </tr>\n",
       "  </tbody>\n",
       "</table>\n",
       "<p>75 rows × 2 columns</p>\n",
       "</div>"
      ],
      "text/plain": [
       "        PC 1      PC 2\n",
       "0  -2.043178  1.666872\n",
       "1   0.661519 -2.379477\n",
       "2  -0.712937 -0.521633\n",
       "3   1.043996 -1.418637\n",
       "4  -1.588475 -1.128172\n",
       "..       ...       ...\n",
       "70  1.587700  0.007327\n",
       "71  8.941313 -4.395210\n",
       "72  4.403722 -0.104917\n",
       "73 -3.418668  0.518502\n",
       "74 -3.210144 -1.607566\n",
       "\n",
       "[75 rows x 2 columns]"
      ]
     },
     "execution_count": 170,
     "metadata": {},
     "output_type": "execute_result"
    }
   ],
   "source": [
    "# fit your PCA model with your train set, and transform both train & test set by the fitted PCA\n",
    "\n",
    "#Load the PCA model as the default state \n",
    "\n",
    "PCA_model = PCA(n_components = 2 )\n",
    "PCA_model.fit(X_train_edit)\n",
    "PCA_model_PC_train = PCA_model.transform(X_train_edit)\n",
    "PCA_model_PC_test = PCA_model.transform(X_test_edit)\n",
    "\n",
    "PCA_df = pd.DataFrame(data = PCA_model_PC_train\n",
    "             , columns = ['PC 1', 'PC 2'])\n",
    "PCA_df \n"
   ]
  },
  {
   "cell_type": "markdown",
   "metadata": {},
   "source": [
    "#### 2.2 Return the percentage of variance explained by the selected components. [3 points]"
   ]
  },
  {
   "cell_type": "code",
   "execution_count": 171,
   "metadata": {},
   "outputs": [
    {
     "data": {
      "text/plain": [
       "array([0.49263364, 0.19922127])"
      ]
     },
     "execution_count": 171,
     "metadata": {},
     "output_type": "execute_result"
    }
   ],
   "source": [
    "PCA_model.explained_variance_ratio_"
   ]
  },
  {
   "cell_type": "code",
   "execution_count": 172,
   "metadata": {},
   "outputs": [
    {
     "name": "stdout",
     "output_type": "stream",
     "text": [
      "First component  : 49.26336382920345 %\n",
      "Second component : 19.922126966275574 %\n"
     ]
    }
   ],
   "source": [
    "print(\"First component  : \" +str(PCA_model.explained_variance_ratio_[0]*100) +\" %\")\n",
    "print(\"Second component : \"+ str(PCA_model.explained_variance_ratio_[1]*100) +\" %\")"
   ]
  },
  {
   "cell_type": "markdown",
   "metadata": {},
   "source": [
    "#### 2.3 Return the accumulated  sum of percentage of variance explained by the selected components, which you calculated in Task #2.2. [2 points]"
   ]
  },
  {
   "cell_type": "code",
   "execution_count": 128,
   "metadata": {},
   "outputs": [
    {
     "name": "stdout",
     "output_type": "stream",
     "text": [
      "69.18549079547903%\n"
     ]
    }
   ],
   "source": [
    "print(str(sum(PCA_model.explained_variance_ratio_)*100) + \"%\")"
   ]
  },
  {
   "cell_type": "markdown",
   "metadata": {},
   "source": [
    "#### 2.4 Plot graph [5 points]\n",
    "- Plot the dimensionally reduced \"train data points\" using the `matplotlib.pyplot` library\n",
    "- The meaning of dependent variable is such as: \n",
    "-    1 : positive (breast cancer)\n",
    "-    0 : negative (breast cancer)\n",
    "- For label 1 and label 0, plot those labels by assigning different colors or symbols.\n",
    "- Refer to the below pictures as examples (There is no need to exactly imitate the image below.)\n",
    "- Recommend to use `plt.scatter` function (You are allowed to use another function as well.)"
   ]
  },
  {
   "attachments": {
    "image.png": {
     "image/png": "[encoded data removed]"
    }
   },
   "cell_type": "markdown",
   "metadata": {},
   "source": [
    "![image.png](attachment:image.png)"
   ]
  },
  {
   "attachments": {
    "image.png": {
     "image/png": "[encoded data removed]"
    }
   },
   "cell_type": "markdown",
   "metadata": {},
   "source": [
    "![image.png](attachment:image.png)\n"
   ]
  },
  {
   "cell_type": "markdown",
   "metadata": {},
   "source": [
    "### [Hints]\n",
    "\n",
    "##### [step 1] Make a DataFrame consisting of three columns such as 'PC1', 'PC2', 'dependent variable' which have already been made on Task No. 2.1\n",
    "\n",
    "##### [step 2] Divide the previously created data frame into TWO DataFrames \n",
    "- A DataFrame containing only data corresponding to 'dependent variable 0'. (including 'PC1', 'PC2', 'dependent variable 0')  \n",
    "- A DataFrame containing only data corresponding to 'dependent variable 1'. (including 'PC1', 'PC2', 'dependent variable 1')\n",
    "\n",
    "##### [step 3] Draw a Scatter plot showing the PC SCOREs with different colors depending on the dependent variable.\n",
    "- Use `plt.scatter' function\n",
    "- Refer to the content:\n",
    "https://pythonspot.com/matplotlib-scatterplot/\n"
   ]
  },
  {
   "cell_type": "code",
   "execution_count": 183,
   "metadata": {
    "scrolled": false
   },
   "outputs": [
    {
     "data": {
      "text/html": [
       "<div>\n",
       "<style scoped>\n",
       "    .dataframe tbody tr th:only-of-type {\n",
       "        vertical-align: middle;\n",
       "    }\n",
       "\n",
       "    .dataframe tbody tr th {\n",
       "        vertical-align: top;\n",
       "    }\n",
       "\n",
       "    .dataframe thead th {\n",
       "        text-align: right;\n",
       "    }\n",
       "</style>\n",
       "<table border=\"1\" class=\"dataframe\">\n",
       "  <thead>\n",
       "    <tr style=\"text-align: right;\">\n",
       "      <th></th>\n",
       "      <th>PC 1</th>\n",
       "      <th>PC 2</th>\n",
       "      <th>target</th>\n",
       "    </tr>\n",
       "  </thead>\n",
       "  <tbody>\n",
       "    <tr>\n",
       "      <th>0</th>\n",
       "      <td>-2.043178</td>\n",
       "      <td>1.666872</td>\n",
       "      <td>1.0</td>\n",
       "    </tr>\n",
       "    <tr>\n",
       "      <th>1</th>\n",
       "      <td>0.661519</td>\n",
       "      <td>-2.379477</td>\n",
       "      <td>0.0</td>\n",
       "    </tr>\n",
       "    <tr>\n",
       "      <th>2</th>\n",
       "      <td>-0.712937</td>\n",
       "      <td>-0.521633</td>\n",
       "      <td>0.0</td>\n",
       "    </tr>\n",
       "    <tr>\n",
       "      <th>3</th>\n",
       "      <td>1.043996</td>\n",
       "      <td>-1.418637</td>\n",
       "      <td>0.0</td>\n",
       "    </tr>\n",
       "    <tr>\n",
       "      <th>4</th>\n",
       "      <td>-1.588475</td>\n",
       "      <td>-1.128172</td>\n",
       "      <td>1.0</td>\n",
       "    </tr>\n",
       "    <tr>\n",
       "      <th>...</th>\n",
       "      <td>...</td>\n",
       "      <td>...</td>\n",
       "      <td>...</td>\n",
       "    </tr>\n",
       "    <tr>\n",
       "      <th>70</th>\n",
       "      <td>1.587700</td>\n",
       "      <td>0.007327</td>\n",
       "      <td>0.0</td>\n",
       "    </tr>\n",
       "    <tr>\n",
       "      <th>71</th>\n",
       "      <td>8.941313</td>\n",
       "      <td>-4.395210</td>\n",
       "      <td>0.0</td>\n",
       "    </tr>\n",
       "    <tr>\n",
       "      <th>72</th>\n",
       "      <td>4.403722</td>\n",
       "      <td>-0.104917</td>\n",
       "      <td>0.0</td>\n",
       "    </tr>\n",
       "    <tr>\n",
       "      <th>73</th>\n",
       "      <td>-3.418668</td>\n",
       "      <td>0.518502</td>\n",
       "      <td>1.0</td>\n",
       "    </tr>\n",
       "    <tr>\n",
       "      <th>74</th>\n",
       "      <td>-3.210144</td>\n",
       "      <td>-1.607566</td>\n",
       "      <td>1.0</td>\n",
       "    </tr>\n",
       "  </tbody>\n",
       "</table>\n",
       "<p>75 rows × 3 columns</p>\n",
       "</div>"
      ],
      "text/plain": [
       "        PC 1      PC 2  target\n",
       "0  -2.043178  1.666872     1.0\n",
       "1   0.661519 -2.379477     0.0\n",
       "2  -0.712937 -0.521633     0.0\n",
       "3   1.043996 -1.418637     0.0\n",
       "4  -1.588475 -1.128172     1.0\n",
       "..       ...       ...     ...\n",
       "70  1.587700  0.007327     0.0\n",
       "71  8.941313 -4.395210     0.0\n",
       "72  4.403722 -0.104917     0.0\n",
       "73 -3.418668  0.518502     1.0\n",
       "74 -3.210144 -1.607566     1.0\n",
       "\n",
       "[75 rows x 3 columns]"
      ]
     },
     "execution_count": 183,
     "metadata": {},
     "output_type": "execute_result"
    }
   ],
   "source": [
    "PCA_df['target'] = y_edit\n",
    "PCA_df"
   ]
  },
  {
   "cell_type": "code",
   "execution_count": 227,
   "metadata": {},
   "outputs": [
    {
     "data": {
      "image/png": "[encoded data removed]",
      "text/plain": [
       "<Figure size 432x288 with 1 Axes>"
      ]
     },
     "metadata": {
      "needs_background": "light"
     },
     "output_type": "display_data"
    }
   ],
   "source": [
    "First_x11 = PCA_df[PCA_df[\"target\"] ==0][\"PC 1\"]\n",
    "First_x12 = PCA_df[PCA_df[\"target\"] ==0][\"PC 2\"]\n",
    "\n",
    "First_x21 = PCA_df[PCA_df[\"target\"] ==1][\"PC 1\"]\n",
    "First_x22 = PCA_df[PCA_df[\"target\"] ==1][\"PC 2\"]\n",
    "\n",
    "\n",
    "plt.scatter(x = First_x11,y = First_x12, c = 'b',marker = \"x\" , label = \"negative\")\n",
    "plt.scatter(x = First_x21,y = First_x22, c = 'r', label = \"positive\")\n",
    "plt.legend()\n",
    "plt.show()"
   ]
  },
  {
   "cell_type": "markdown",
   "metadata": {},
   "source": [
    "## Task 3. Train and test another Logistic Regression model after PCA [10 points]"
   ]
  },
  {
   "cell_type": "markdown",
   "metadata": {},
   "source": [
    "#### 3.1 Load another logistic regression model [5 points]\n",
    "- Load the logistic regression model as `model2`\n",
    "- Train the model by the dimensionally reduced train set by PCA before"
   ]
  },
  {
   "cell_type": "code",
   "execution_count": 238,
   "metadata": {},
   "outputs": [],
   "source": [
    "y_edit = y_train.values.ravel()\n",
    "model2 = LogisticRegression(fit_intercept = True).fit(PCA_model_PC_train, y_edit)"
   ]
  },
  {
   "cell_type": "code",
   "execution_count": 239,
   "metadata": {},
   "outputs": [
    {
     "name": "stdout",
     "output_type": "stream",
     "text": [
      "model intercept :  [-0.2022097]\n",
      "model coef :  [[-1.56537426  1.0493995 ]]\n"
     ]
    }
   ],
   "source": [
    "print(\"model intercept : \" , model2.intercept_)\n",
    "print(\"model coef : \", model2.coef_)"
   ]
  },
  {
   "cell_type": "markdown",
   "metadata": {},
   "source": [
    "#### 3.2 Predict and evaluate the model on your test set¶ [3 points]\n",
    "- Predict class labels of test set by using the trained model (Not probabilities) [2 points]\n",
    "- Print the predicted labels of test set "
   ]
  },
  {
   "cell_type": "code",
   "execution_count": 244,
   "metadata": {
    "scrolled": true
   },
   "outputs": [
    {
     "data": {
      "text/plain": [
       "array([1., 0., 0., 1., 1., 0., 0., 0., 1., 0., 0., 1., 0., 0., 0., 1., 0.,\n",
       "       0., 0., 1., 0., 1., 1., 1., 0.])"
      ]
     },
     "execution_count": 244,
     "metadata": {},
     "output_type": "execute_result"
    }
   ],
   "source": [
    "# print the predicted labels of test set [2 points]\n",
    "y_pred2 = model2.predict(PCA_model_PC_test)\n",
    "y_pred2"
   ]
  },
  {
   "cell_type": "markdown",
   "metadata": {},
   "source": [
    "- Evaluate the trained model using 'accuracy_score' metric. (the 'accuracy_score' method has been already imported.) [1 points]\n",
    "- Print the accuracy score value\n"
   ]
  },
  {
   "cell_type": "code",
   "execution_count": 247,
   "metadata": {
    "scrolled": true
   },
   "outputs": [
    {
     "name": "stdout",
     "output_type": "stream",
     "text": [
      "0.96\n"
     ]
    }
   ],
   "source": [
    "# print the accuracy score on your test set [1 points]\n",
    "print(accuracy_score(y_test,y_pred2))"
   ]
  },
  {
   "cell_type": "markdown",
   "metadata": {},
   "source": [
    "#### 3.3 Analysis\n",
    "- Compare the `accuracy_score` of the logistic regression model that you trained **first**(`model`) with the `accuracy_score` of the logical regression model that you trained newly **after reducing its dimension by PCA technique**(`model2`), and describe why you think the result is different. (Please describe your answer in 2-3 sentences) [2 points]"
   ]
  },
  {
   "cell_type": "code",
   "execution_count": 252,
   "metadata": {
    "scrolled": true
   },
   "outputs": [
    {
     "name": "stdout",
     "output_type": "stream",
     "text": [
      "First model  :  0.92\n",
      "Second model :  0.96\n"
     ]
    }
   ],
   "source": [
    "print(\"First model  : \" ,accuracy_score(y_test,y_pred))\n",
    "print(\"Second model : \",accuracy_score(y_test,y_pred2))"
   ]
  },
  {
   "cell_type": "markdown",
   "metadata": {},
   "source": [
    "AS we can see above result, second model (with CPA) is more accurate. I think that the reason for this differnce comes from 'transforming'. To be more specific, when we transform the original axes into new axes, **we remove the correlation between independent variables**. So, we can predict dependent varible with **linearly independent varaibles (=X)** and it brings better output.\n",
    "\n",
    "cf) However, setting the number of new axes is important. accurancy can be varied according to the number of new independent variables."
   ]
  },
  {
   "cell_type": "markdown",
   "metadata": {},
   "source": []
  }
 ],
 "metadata": {
  "kernelspec": {
   "display_name": "Python 3",
   "language": "python",
   "name": "python3"
  },
  "language_info": {
   "codemirror_mode": {
    "name": "ipython",
    "version": 3
   },
   "file_extension": ".py",
   "mimetype": "text/x-python",
   "name": "python",
   "nbconvert_exporter": "python",
   "pygments_lexer": "ipython3",
   "version": "3.8.3"
  }
 },
 "nbformat": 4,
 "nbformat_minor": 4
}

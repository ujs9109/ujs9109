{
 "cells": [
  {
   "cell_type": "markdown",
   "metadata": {},
   "source": [
    "# IE30301 DataMining Programming HW1"
   ]
  },
  {
   "cell_type": "markdown",
   "metadata": {},
   "source": [
    "Type your name and student ID here. Do not share this Jupyter Script online.\n",
    "### NAME: 유재상\n",
    "### Student Number: 20171355"
   ]
  },
  {
   "cell_type": "markdown",
   "metadata": {},
   "source": [
    "---"
   ]
  },
  {
   "cell_type": "markdown",
   "metadata": {},
   "source": [
    "### Import Packages\n",
    "- Do not use packages specified other than below\n",
    "- However, it is not nessasary to use all the packages below \n",
    "- For task 1.6, you need to use the package 'statsmodel.api'\n",
    "- Both packages('sklearn.linear_model' and 'statsmodels.api') can be used to load linear regression model"
   ]
  },
  {
   "cell_type": "code",
   "execution_count": 1,
   "metadata": {},
   "outputs": [],
   "source": [
    "import numpy as np\n",
    "import pandas as pd \n",
    "import matplotlib.pyplot as plt \n",
    "from sklearn import linear_model\n",
    "import statsmodels.api as sm \n",
    "from sklearn.model_selection import train_test_split"
   ]
  },
  {
   "cell_type": "markdown",
   "metadata": {},
   "source": [
    "## Task 1. Multiple linear regression [15 points]"
   ]
  },
  {
   "cell_type": "markdown",
   "metadata": {},
   "source": [
    "#### 1.1 Load Dataset [1 points]"
   ]
  },
  {
   "cell_type": "code",
   "execution_count": 2,
   "metadata": {},
   "outputs": [],
   "source": [
    "data = pd.read_csv(\"diabetes.csv\")"
   ]
  },
  {
   "cell_type": "markdown",
   "metadata": {},
   "source": [
    "#### 1.2 Split Dataset into the train & test set [1 points]\n",
    "- You have to use the specified random seed when dividing the dataset using the function 'train_test_split'\n",
    "- The specified random seed value is 0\n",
    "- The ratio of train set and test set is as follows: 70% train set / 30% test set"
   ]
  },
  {
   "cell_type": "code",
   "execution_count": 42,
   "metadata": {},
   "outputs": [],
   "source": [
    "x_train,x_test, y_train, y_test = train_test_split( data.iloc[:,:10],data.iloc[:,10:], test_size=0.3, random_state=0)"
   ]
  },
  {
   "cell_type": "markdown",
   "metadata": {},
   "source": [
    "#### 1.3 Load model and train the model [2 points]\n",
    "- Intercept term should be included for training"
   ]
  },
  {
   "cell_type": "code",
   "execution_count": 43,
   "metadata": {},
   "outputs": [
    {
     "name": "stdout",
     "output_type": "stream",
     "text": [
      "model intercept :  [153.71914541]\n",
      "\n",
      "model coef :  [[ -52.46990775 -193.51064552  579.4827762   272.46404234 -504.72401371\n",
      "   241.68441866  -69.73618783   86.62018451  721.95580222   26.77887028]]\n"
     ]
    }
   ],
   "source": [
    "model = linear_model.LinearRegression()\n",
    "model.fit(x_train, y_train)\n",
    "\n",
    "print(\"model intercept : \" , model.intercept_)\n",
    "print()\n",
    "print(\"model coef : \", model.coef_)"
   ]
  },
  {
   "cell_type": "markdown",
   "metadata": {},
   "source": [
    "#### 1.4 Predict and evaluate the model [4 points]\n",
    "\n",
    "- Predict target y using the trained model\n",
    "- Evaluate the trained model using the two metrics (*it is not allowed to use packages for this task)\n",
    "    1. mean squared error(MSE)\n",
    "    2. R2 score\n",
    "- Calculated scores should be placed in the specified cell"
   ]
  },
  {
   "cell_type": "code",
   "execution_count": 44,
   "metadata": {
    "scrolled": true
   },
   "outputs": [
    {
     "data": {
      "text/plain": [
       "array([[239.6785766 ],\n",
       "       [250.53141737],\n",
       "       [164.84805461],\n",
       "       [120.27678545],\n",
       "       [181.73395543],\n",
       "       [262.21230671],\n",
       "       [112.23276599],\n",
       "       [191.94646405],\n",
       "       [151.50037962],\n",
       "       [236.97547898],\n",
       "       [172.17106886],\n",
       "       [181.76776675],\n",
       "       [112.11718447],\n",
       "       [ 93.10535397],\n",
       "       [242.61551546],\n",
       "       [ 91.18854011],\n",
       "       [153.66210217],\n",
       "       [ 64.67732159],\n",
       "       [ 99.36843868],\n",
       "       [212.25939578],\n",
       "       [197.03895856],\n",
       "       [162.46443162],\n",
       "       [164.14281795],\n",
       "       [157.73824133],\n",
       "       [207.25537379],\n",
       "       [170.20342369],\n",
       "       [111.97456707],\n",
       "       [ 82.77243482],\n",
       "       [186.91705702],\n",
       "       [164.72179002],\n",
       "       [175.37310208],\n",
       "       [ 82.34780886],\n",
       "       [144.28954965],\n",
       "       [149.22361436],\n",
       "       [144.09115907],\n",
       "       [194.25825855],\n",
       "       [166.52462404],\n",
       "       [188.10488874],\n",
       "       [126.97750787],\n",
       "       [205.91826796],\n",
       "       [ 85.53348753],\n",
       "       [167.78356048],\n",
       "       [147.74549209],\n",
       "       [183.84581135],\n",
       "       [177.14794619],\n",
       "       [ 71.92344074],\n",
       "       [139.84126287],\n",
       "       [139.03021418],\n",
       "       [125.12177811],\n",
       "       [231.42294135],\n",
       "       [163.79584007],\n",
       "       [ 78.92939231],\n",
       "       [151.43859067],\n",
       "       [159.59729648],\n",
       "       [237.28907635],\n",
       "       [176.12271938],\n",
       "       [191.69740342],\n",
       "       [118.93503631],\n",
       "       [131.10139145],\n",
       "       [174.80265252],\n",
       "       [216.57324581],\n",
       "       [169.87858747],\n",
       "       [156.38305845],\n",
       "       [113.57344508],\n",
       "       [261.96459935],\n",
       "       [155.5688548 ],\n",
       "       [ 84.32840048],\n",
       "       [228.12498242],\n",
       "       [208.51229775],\n",
       "       [ 46.19025943],\n",
       "       [ 76.55977912],\n",
       "       [133.97092372],\n",
       "       [108.91547153],\n",
       "       [143.46905811],\n",
       "       [134.31324118],\n",
       "       [190.25053507],\n",
       "       [103.86529131],\n",
       "       [203.62660531],\n",
       "       [222.35301212],\n",
       "       [189.44972403],\n",
       "       [148.80957207],\n",
       "       [210.15484759],\n",
       "       [ 46.69167831],\n",
       "       [208.0703178 ],\n",
       "       [ 82.2849209 ],\n",
       "       [ 94.17772368],\n",
       "       [147.58659275],\n",
       "       [197.16861909],\n",
       "       [133.35711356],\n",
       "       [148.69237763],\n",
       "       [ 98.63749215],\n",
       "       [125.15022037],\n",
       "       [ 84.58243456],\n",
       "       [153.18312111],\n",
       "       [123.59604696],\n",
       "       [104.1937366 ],\n",
       "       [237.72305796],\n",
       "       [224.13995865],\n",
       "       [129.89494832],\n",
       "       [166.37194524],\n",
       "       [193.26747468],\n",
       "       [112.19398008],\n",
       "       [208.54905555],\n",
       "       [ 84.2206551 ],\n",
       "       [217.62552861],\n",
       "       [112.38375349],\n",
       "       [225.37453456],\n",
       "       [270.15021337],\n",
       "       [115.82962894],\n",
       "       [115.82859442],\n",
       "       [196.13824099],\n",
       "       [121.02331185],\n",
       "       [175.04883143],\n",
       "       [103.77034839],\n",
       "       [ 98.52799319],\n",
       "       [224.83511832],\n",
       "       [237.98041164],\n",
       "       [115.5341465 ],\n",
       "       [294.28289566],\n",
       "       [115.71236099],\n",
       "       [131.16053877],\n",
       "       [115.42422204],\n",
       "       [ 66.90331418],\n",
       "       [245.86735403],\n",
       "       [102.70400111],\n",
       "       [123.62547679],\n",
       "       [206.333561  ],\n",
       "       [187.03151682],\n",
       "       [195.68456817],\n",
       "       [165.03910148],\n",
       "       [193.77497659],\n",
       "       [112.03733039],\n",
       "       [172.34904863]])"
      ]
     },
     "execution_count": 44,
     "metadata": {},
     "output_type": "execute_result"
    }
   ],
   "source": [
    "# predict \n",
    "y_hat = model.predict(x_test)\n",
    "y_hat"
   ]
  },
  {
   "cell_type": "code",
   "execution_count": 45,
   "metadata": {},
   "outputs": [],
   "source": [
    "# calculate MSE \n",
    "total = 0\n",
    "SSE = 0\n",
    "    \n",
    "length = len(y_test)\n",
    "y_test1 = np.array(y_test)\n",
    "\n",
    "for i in range(length):\n",
    "    a = (y_hat[i]-y_test1[i])**2\n",
    "    total += a\n",
    "    \n",
    "#MSE = float(total/length)  \n",
    "MSE = float(total/(length-1-10))  "
   ]
  },
  {
   "cell_type": "code",
   "execution_count": 46,
   "metadata": {},
   "outputs": [
    {
     "name": "stdout",
     "output_type": "stream",
     "text": [
      "MSE :  3376.3970197178455\n"
     ]
    }
   ],
   "source": [
    "# write calculated MSE value here \n",
    "print( \"MSE : \" , MSE)"
   ]
  },
  {
   "cell_type": "code",
   "execution_count": 47,
   "metadata": {},
   "outputs": [],
   "source": [
    "# calculate R2\n",
    "SSE = 0\n",
    "SST = 0\n",
    "\n",
    "length = len(y_test)\n",
    "y_test1 = np.array(y_test)\n",
    "\n",
    "## SSE 구하기 \n",
    "for i in range(length):\n",
    "    a = (y_hat[i]-y_test1[i])**2\n",
    "    SSE += a\n",
    "\n",
    "\n",
    "## SST구하기 \n",
    "mu = y_test1.mean()\n",
    "for i in range(length):\n",
    "    a = (y_test1[i]-mu)**2\n",
    "    SST += a\n"
   ]
  },
  {
   "cell_type": "code",
   "execution_count": 48,
   "metadata": {},
   "outputs": [
    {
     "name": "stdout",
     "output_type": "stream",
     "text": [
      "R_squared :  [0.39289398]\n"
     ]
    }
   ],
   "source": [
    "# write calculated R2 score here \n",
    "R_squared = 1- SSE/SST\n",
    "print( \"R_squared : \" , R_squared)\n",
    "\n",
    "#model.score(x_test, y_test)"
   ]
  },
  {
   "cell_type": "markdown",
   "metadata": {},
   "source": [
    "#### 1.5 Write the linear regression formula of the trained model [3 points]"
   ]
  },
  {
   "cell_type": "code",
   "execution_count": 49,
   "metadata": {
    "scrolled": true
   },
   "outputs": [
    {
     "name": "stdout",
     "output_type": "stream",
     "text": [
      "[153.719]+[-52.47]*X_1+[-193.511]*X_2+[579.483]*X_3+[272.464]*X_4+[-504.724]*X_5+[241.684]*X_6+[-69.736]*X_7+[86.62]*X_8+[721.956]*X_9\n"
     ]
    }
   ],
   "source": [
    "\n",
    "# y_estimated  = B0 + B1*x1 +B2*x2 + *** + B10*x10 \n",
    "\n",
    "A = []\n",
    "A.append(\"[\" + str(round(float(model.intercept_),3)) +\"]\" )\n",
    "for i in range(1,10):\n",
    "    A .append(\"[\" +str(round(model.coef_[0][i-1],3)) +\"]*X_\"+str(i))\n",
    "for i in range(len(A)):\n",
    "    if i != (len(A)-1):\n",
    "        print(A[i], end = \"+\")\n",
    "    else:\n",
    "        print(A[i])"
   ]
  },
  {
   "cell_type": "markdown",
   "metadata": {},
   "source": [
    "\n",
    "$ \\hat{y}  = [153.719]+[-52.47]X_1+[-193.511]X_2+[579.483]X_3+[272.464]X_4+[-504.724]X_5+[241.684]X_6+[-69.736]X_7+[86.62]X_8+[721.956]X_9$"
   ]
  },
  {
   "cell_type": "markdown",
   "metadata": {},
   "source": [
    "#### 1.6 Check the p-value and find out significant variables [4 points]\n",
    "- Print p-value of each variable \n",
    "- List all variables judged to be significant based on the p-value 0.05 "
   ]
  },
  {
   "cell_type": "code",
   "execution_count": 117,
   "metadata": {
    "scrolled": false
   },
   "outputs": [
    {
     "data": {
      "text/html": [
       "<table class=\"simpletable\">\n",
       "<caption>OLS Regression Results</caption>\n",
       "<tr>\n",
       "  <th>Dep. Variable:</th>         <td>target</td>      <th>  R-squared:         </th> <td>   0.554</td>\n",
       "</tr>\n",
       "<tr>\n",
       "  <th>Model:</th>                   <td>OLS</td>       <th>  Adj. R-squared:    </th> <td>   0.539</td>\n",
       "</tr>\n",
       "<tr>\n",
       "  <th>Method:</th>             <td>Least Squares</td>  <th>  F-statistic:       </th> <td>   37.01</td>\n",
       "</tr>\n",
       "<tr>\n",
       "  <th>Date:</th>             <td>Fri, 26 Mar 2021</td> <th>  Prob (F-statistic):</th> <td>1.21e-46</td>\n",
       "</tr>\n",
       "<tr>\n",
       "  <th>Time:</th>                 <td>21:58:51</td>     <th>  Log-Likelihood:    </th> <td> -1665.0</td>\n",
       "</tr>\n",
       "<tr>\n",
       "  <th>No. Observations:</th>      <td>   309</td>      <th>  AIC:               </th> <td>   3352.</td>\n",
       "</tr>\n",
       "<tr>\n",
       "  <th>Df Residuals:</th>          <td>   298</td>      <th>  BIC:               </th> <td>   3393.</td>\n",
       "</tr>\n",
       "<tr>\n",
       "  <th>Df Model:</th>              <td>    10</td>      <th>                     </th>     <td> </td>   \n",
       "</tr>\n",
       "<tr>\n",
       "  <th>Covariance Type:</th>      <td>nonrobust</td>    <th>                     </th>     <td> </td>   \n",
       "</tr>\n",
       "</table>\n",
       "<table class=\"simpletable\">\n",
       "<tr>\n",
       "    <td></td>       <th>coef</th>     <th>std err</th>      <th>t</th>      <th>P>|t|</th>  <th>[0.025</th>    <th>0.975]</th>  \n",
       "</tr>\n",
       "<tr>\n",
       "  <th>const</th> <td>  153.7191</td> <td>    3.076</td> <td>   49.970</td> <td> 0.000</td> <td>  147.665</td> <td>  159.773</td>\n",
       "</tr>\n",
       "<tr>\n",
       "  <th>age</th>   <td>  -52.4699</td> <td>   71.259</td> <td>   -0.736</td> <td> 0.462</td> <td> -192.705</td> <td>   87.765</td>\n",
       "</tr>\n",
       "<tr>\n",
       "  <th>sex</th>   <td> -193.5106</td> <td>   71.997</td> <td>   -2.688</td> <td> 0.008</td> <td> -335.198</td> <td>  -51.823</td>\n",
       "</tr>\n",
       "<tr>\n",
       "  <th>bmi</th>   <td>  579.4828</td> <td>   79.662</td> <td>    7.274</td> <td> 0.000</td> <td>  422.712</td> <td>  736.254</td>\n",
       "</tr>\n",
       "<tr>\n",
       "  <th>bp</th>    <td>  272.4640</td> <td>   81.194</td> <td>    3.356</td> <td> 0.001</td> <td>  112.679</td> <td>  432.250</td>\n",
       "</tr>\n",
       "<tr>\n",
       "  <th>s1</th>    <td> -504.7240</td> <td>  485.938</td> <td>   -1.039</td> <td> 0.300</td> <td>-1461.030</td> <td>  451.581</td>\n",
       "</tr>\n",
       "<tr>\n",
       "  <th>s2</th>    <td>  241.6844</td> <td>  388.681</td> <td>    0.622</td> <td> 0.535</td> <td> -523.224</td> <td> 1006.593</td>\n",
       "</tr>\n",
       "<tr>\n",
       "  <th>s3</th>    <td>  -69.7362</td> <td>  253.872</td> <td>   -0.275</td> <td> 0.784</td> <td> -569.345</td> <td>  429.872</td>\n",
       "</tr>\n",
       "<tr>\n",
       "  <th>s4</th>    <td>   86.6202</td> <td>  193.054</td> <td>    0.449</td> <td> 0.654</td> <td> -293.301</td> <td>  466.542</td>\n",
       "</tr>\n",
       "<tr>\n",
       "  <th>s5</th>    <td>  721.9558</td> <td>  197.026</td> <td>    3.664</td> <td> 0.000</td> <td>  334.216</td> <td> 1109.695</td>\n",
       "</tr>\n",
       "<tr>\n",
       "  <th>s6</th>    <td>   26.7789</td> <td>   76.109</td> <td>    0.352</td> <td> 0.725</td> <td> -122.999</td> <td>  176.557</td>\n",
       "</tr>\n",
       "</table>\n",
       "<table class=\"simpletable\">\n",
       "<tr>\n",
       "  <th>Omnibus:</th>       <td> 2.456</td> <th>  Durbin-Watson:     </th> <td>   1.904</td>\n",
       "</tr>\n",
       "<tr>\n",
       "  <th>Prob(Omnibus):</th> <td> 0.293</td> <th>  Jarque-Bera (JB):  </th> <td>   1.941</td>\n",
       "</tr>\n",
       "<tr>\n",
       "  <th>Skew:</th>          <td>-0.005</td> <th>  Prob(JB):          </th> <td>   0.379</td>\n",
       "</tr>\n",
       "<tr>\n",
       "  <th>Kurtosis:</th>      <td> 2.612</td> <th>  Cond. No.          </th> <td>    222.</td>\n",
       "</tr>\n",
       "</table><br/><br/>Warnings:<br/>[1] Standard Errors assume that the covariance matrix of the errors is correctly specified."
      ],
      "text/plain": [
       "<class 'statsmodels.iolib.summary.Summary'>\n",
       "\"\"\"\n",
       "                            OLS Regression Results                            \n",
       "==============================================================================\n",
       "Dep. Variable:                 target   R-squared:                       0.554\n",
       "Model:                            OLS   Adj. R-squared:                  0.539\n",
       "Method:                 Least Squares   F-statistic:                     37.01\n",
       "Date:                Fri, 26 Mar 2021   Prob (F-statistic):           1.21e-46\n",
       "Time:                        21:58:51   Log-Likelihood:                -1665.0\n",
       "No. Observations:                 309   AIC:                             3352.\n",
       "Df Residuals:                     298   BIC:                             3393.\n",
       "Df Model:                          10                                         \n",
       "Covariance Type:            nonrobust                                         \n",
       "==============================================================================\n",
       "                 coef    std err          t      P>|t|      [0.025      0.975]\n",
       "------------------------------------------------------------------------------\n",
       "const        153.7191      3.076     49.970      0.000     147.665     159.773\n",
       "age          -52.4699     71.259     -0.736      0.462    -192.705      87.765\n",
       "sex         -193.5106     71.997     -2.688      0.008    -335.198     -51.823\n",
       "bmi          579.4828     79.662      7.274      0.000     422.712     736.254\n",
       "bp           272.4640     81.194      3.356      0.001     112.679     432.250\n",
       "s1          -504.7240    485.938     -1.039      0.300   -1461.030     451.581\n",
       "s2           241.6844    388.681      0.622      0.535    -523.224    1006.593\n",
       "s3           -69.7362    253.872     -0.275      0.784    -569.345     429.872\n",
       "s4            86.6202    193.054      0.449      0.654    -293.301     466.542\n",
       "s5           721.9558    197.026      3.664      0.000     334.216    1109.695\n",
       "s6            26.7789     76.109      0.352      0.725    -122.999     176.557\n",
       "==============================================================================\n",
       "Omnibus:                        2.456   Durbin-Watson:                   1.904\n",
       "Prob(Omnibus):                  0.293   Jarque-Bera (JB):                1.941\n",
       "Skew:                          -0.005   Prob(JB):                        0.379\n",
       "Kurtosis:                       2.612   Cond. No.                         222.\n",
       "==============================================================================\n",
       "\n",
       "Warnings:\n",
       "[1] Standard Errors assume that the covariance matrix of the errors is correctly specified.\n",
       "\"\"\""
      ]
     },
     "execution_count": 117,
     "metadata": {},
     "output_type": "execute_result"
    }
   ],
   "source": [
    "# p-value of each variable\n",
    "x_train = sm.add_constant(x_train) # include the intercept\n",
    "sm.OLS(y_train,x_train).fit().summary()\n"
   ]
  },
  {
   "cell_type": "code",
   "execution_count": 118,
   "metadata": {
    "scrolled": true
   },
   "outputs": [
    {
     "data": {
      "text/plain": [
       "const    6.839785e-147\n",
       "age       4.621128e-01\n",
       "sex       7.598006e-03\n",
       "bmi       3.094248e-12\n",
       "bp        8.941189e-04\n",
       "s1        2.998056e-01\n",
       "s2        5.345449e-01\n",
       "s3        7.837443e-01\n",
       "s4        6.539856e-01\n",
       "s5        2.935403e-04\n",
       "s6        7.251985e-01\n",
       "dtype: float64"
      ]
     },
     "execution_count": 118,
     "metadata": {},
     "output_type": "execute_result"
    }
   ],
   "source": [
    "sm.OLS(y_train,x_train).fit().pvalues"
   ]
  },
  {
   "cell_type": "code",
   "execution_count": 112,
   "metadata": {},
   "outputs": [
    {
     "data": {
      "text/plain": [
       "[['const', 6.839784867887468e-147],\n",
       " ['sex', 0.0075980057292941465],\n",
       " ['bmi', 3.0942480853778784e-12],\n",
       " ['bp', 0.0008941189031918804],\n",
       " ['s5', 0.0002935402517207236]]"
      ]
     },
     "execution_count": 112,
     "metadata": {},
     "output_type": "execute_result"
    }
   ],
   "source": [
    "# significant variables list \n",
    "\n",
    "# find p-value < 0.05\n",
    "p_values = sm.OLS(y_train,x_train).fit().pvalues\n",
    "\n",
    "sig_variables = []\n",
    "for i in range (len(p_values)):\n",
    "    if p_values[:][i] < 0.05:\n",
    "        sig_variables.append([p_values.index[i], p_values[i]])\n",
    "        \n",
    "sig_variables"
   ]
  },
  {
   "cell_type": "markdown",
   "metadata": {},
   "source": [
    "## Task 2. Simple linear regression [15 points]"
   ]
  },
  {
   "cell_type": "markdown",
   "metadata": {},
   "source": [
    "#### 2.1 Select one feataure using information of p-value [1 points]\n",
    "- Select one of the variables judged to be significant in task 1.6 and mention the variable name you choose\n",
    "- Remake a dataset only including the variable you choose "
   ]
  },
  {
   "cell_type": "code",
   "execution_count": 131,
   "metadata": {},
   "outputs": [
    {
     "data": {
      "text/html": [
       "<div>\n",
       "<style scoped>\n",
       "    .dataframe tbody tr th:only-of-type {\n",
       "        vertical-align: middle;\n",
       "    }\n",
       "\n",
       "    .dataframe tbody tr th {\n",
       "        vertical-align: top;\n",
       "    }\n",
       "\n",
       "    .dataframe thead th {\n",
       "        text-align: right;\n",
       "    }\n",
       "</style>\n",
       "<table border=\"1\" class=\"dataframe\">\n",
       "  <thead>\n",
       "    <tr style=\"text-align: right;\">\n",
       "      <th></th>\n",
       "      <th>bmi</th>\n",
       "      <th>target</th>\n",
       "    </tr>\n",
       "  </thead>\n",
       "  <tbody>\n",
       "    <tr>\n",
       "      <th>0</th>\n",
       "      <td>0.061696</td>\n",
       "      <td>151.0</td>\n",
       "    </tr>\n",
       "    <tr>\n",
       "      <th>1</th>\n",
       "      <td>-0.051474</td>\n",
       "      <td>75.0</td>\n",
       "    </tr>\n",
       "    <tr>\n",
       "      <th>2</th>\n",
       "      <td>0.044451</td>\n",
       "      <td>141.0</td>\n",
       "    </tr>\n",
       "    <tr>\n",
       "      <th>3</th>\n",
       "      <td>-0.011595</td>\n",
       "      <td>206.0</td>\n",
       "    </tr>\n",
       "    <tr>\n",
       "      <th>4</th>\n",
       "      <td>-0.036385</td>\n",
       "      <td>135.0</td>\n",
       "    </tr>\n",
       "    <tr>\n",
       "      <th>...</th>\n",
       "      <td>...</td>\n",
       "      <td>...</td>\n",
       "    </tr>\n",
       "    <tr>\n",
       "      <th>437</th>\n",
       "      <td>0.019662</td>\n",
       "      <td>178.0</td>\n",
       "    </tr>\n",
       "    <tr>\n",
       "      <th>438</th>\n",
       "      <td>-0.015906</td>\n",
       "      <td>104.0</td>\n",
       "    </tr>\n",
       "    <tr>\n",
       "      <th>439</th>\n",
       "      <td>-0.015906</td>\n",
       "      <td>132.0</td>\n",
       "    </tr>\n",
       "    <tr>\n",
       "      <th>440</th>\n",
       "      <td>0.039062</td>\n",
       "      <td>220.0</td>\n",
       "    </tr>\n",
       "    <tr>\n",
       "      <th>441</th>\n",
       "      <td>-0.073030</td>\n",
       "      <td>57.0</td>\n",
       "    </tr>\n",
       "  </tbody>\n",
       "</table>\n",
       "<p>442 rows × 2 columns</p>\n",
       "</div>"
      ],
      "text/plain": [
       "          bmi  target\n",
       "0    0.061696   151.0\n",
       "1   -0.051474    75.0\n",
       "2    0.044451   141.0\n",
       "3   -0.011595   206.0\n",
       "4   -0.036385   135.0\n",
       "..        ...     ...\n",
       "437  0.019662   178.0\n",
       "438 -0.015906   104.0\n",
       "439 -0.015906   132.0\n",
       "440  0.039062   220.0\n",
       "441 -0.073030    57.0\n",
       "\n",
       "[442 rows x 2 columns]"
      ]
     },
     "execution_count": 131,
     "metadata": {},
     "output_type": "execute_result"
    }
   ],
   "source": [
    "# I only choose the BMI, So I drop others\n",
    "new_data = data.drop([\"age\",\"sex\",'bp',\"s1\",\"s2\",\"s3\",\"s4\",\"s5\",\"s6\"],axis = 1)\n",
    "new_data"
   ]
  },
  {
   "cell_type": "markdown",
   "metadata": {},
   "source": [
    "#### 2.2 Split Dataset into the train & test set [1 points]\n",
    "- To perform this task, you need to use the reconstructed dataset in task 2.1\n",
    "- You have to use the specified random seed when dividing the dataset using the package 'train_test_split'\n",
    "- The specified random seed value is 0\n",
    "- The ratio of train set and test set is as follows: 70% train set / 30% test set"
   ]
  },
  {
   "cell_type": "code",
   "execution_count": 132,
   "metadata": {},
   "outputs": [],
   "source": [
    "x_train,x_test, y_train, y_test = train_test_split( new_data.iloc[:,:1],new_data.iloc[:,1:], test_size=0.3, random_state=0)"
   ]
  },
  {
   "cell_type": "code",
   "execution_count": 125,
   "metadata": {
    "scrolled": true
   },
   "outputs": [
    {
     "data": {
      "text/html": [
       "<div>\n",
       "<style scoped>\n",
       "    .dataframe tbody tr th:only-of-type {\n",
       "        vertical-align: middle;\n",
       "    }\n",
       "\n",
       "    .dataframe tbody tr th {\n",
       "        vertical-align: top;\n",
       "    }\n",
       "\n",
       "    .dataframe thead th {\n",
       "        text-align: right;\n",
       "    }\n",
       "</style>\n",
       "<table border=\"1\" class=\"dataframe\">\n",
       "  <thead>\n",
       "    <tr style=\"text-align: right;\">\n",
       "      <th></th>\n",
       "      <th>target</th>\n",
       "    </tr>\n",
       "  </thead>\n",
       "  <tbody>\n",
       "    <tr>\n",
       "      <th>362</th>\n",
       "      <td>321.0</td>\n",
       "    </tr>\n",
       "    <tr>\n",
       "      <th>249</th>\n",
       "      <td>215.0</td>\n",
       "    </tr>\n",
       "    <tr>\n",
       "      <th>271</th>\n",
       "      <td>127.0</td>\n",
       "    </tr>\n",
       "    <tr>\n",
       "      <th>435</th>\n",
       "      <td>64.0</td>\n",
       "    </tr>\n",
       "    <tr>\n",
       "      <th>400</th>\n",
       "      <td>175.0</td>\n",
       "    </tr>\n",
       "    <tr>\n",
       "      <th>...</th>\n",
       "      <td>...</td>\n",
       "    </tr>\n",
       "    <tr>\n",
       "      <th>328</th>\n",
       "      <td>78.0</td>\n",
       "    </tr>\n",
       "    <tr>\n",
       "      <th>414</th>\n",
       "      <td>131.0</td>\n",
       "    </tr>\n",
       "    <tr>\n",
       "      <th>421</th>\n",
       "      <td>212.0</td>\n",
       "    </tr>\n",
       "    <tr>\n",
       "      <th>361</th>\n",
       "      <td>182.0</td>\n",
       "    </tr>\n",
       "    <tr>\n",
       "      <th>415</th>\n",
       "      <td>174.0</td>\n",
       "    </tr>\n",
       "  </tbody>\n",
       "</table>\n",
       "<p>133 rows × 1 columns</p>\n",
       "</div>"
      ],
      "text/plain": [
       "     target\n",
       "362   321.0\n",
       "249   215.0\n",
       "271   127.0\n",
       "435    64.0\n",
       "400   175.0\n",
       "..      ...\n",
       "328    78.0\n",
       "414   131.0\n",
       "421   212.0\n",
       "361   182.0\n",
       "415   174.0\n",
       "\n",
       "[133 rows x 1 columns]"
      ]
     },
     "execution_count": 125,
     "metadata": {},
     "output_type": "execute_result"
    }
   ],
   "source": [
    "y_test"
   ]
  },
  {
   "cell_type": "markdown",
   "metadata": {},
   "source": [
    "#### 2.3 Load model and train the model [2 points]\n",
    "- Intercept term should be included for training"
   ]
  },
  {
   "cell_type": "code",
   "execution_count": 133,
   "metadata": {},
   "outputs": [
    {
     "name": "stdout",
     "output_type": "stream",
     "text": [
      "model intercept :  [153.43509039]\n",
      "\n",
      "model coef :  [[1013.17358257]]\n"
     ]
    }
   ],
   "source": [
    "model = linear_model.LinearRegression()\n",
    "model.fit(x_train, y_train)\n",
    "\n",
    "print(\"model intercept : \" , model.intercept_)\n",
    "print()\n",
    "print(\"model coef : \", model.coef_)"
   ]
  },
  {
   "cell_type": "markdown",
   "metadata": {},
   "source": [
    "#### 2.4 Predict and evaluate the results [4 points]\n",
    "\n",
    "- Predict target y using the trained model\n",
    "- Evaluate the trained model using the two metrics (*it is not allowed to use packages for this task)\n",
    "    1. mean squared error(MSE)\n",
    "    2. R2 score\n",
    "- Calculated scores should be placed in the specified cell"
   ]
  },
  {
   "cell_type": "code",
   "execution_count": 134,
   "metadata": {},
   "outputs": [
    {
     "data": {
      "text/plain": [
       "array([[259.62448579],\n",
       "       [214.85204626],\n",
       "       [162.43553169],\n",
       "       [129.67521008],\n",
       "       [199.56389618],\n",
       "       [251.98041075],\n",
       "       [124.21515648],\n",
       "       [176.63167105],\n",
       "       [208.29998194],\n",
       "       [200.6559069 ],\n",
       "       [ 94.73086704],\n",
       "       [200.6559069 ],\n",
       "       [115.47907072],\n",
       "       [106.74298496],\n",
       "       [243.24432499],\n",
       "       [130.7672208 ],\n",
       "       [ 93.63885632],\n",
       "       [101.28293136],\n",
       "       [ 68.52260975],\n",
       "       [194.10384258],\n",
       "       [182.09172465],\n",
       "       [164.61955313],\n",
       "       [128.58319936],\n",
       "       [212.66802482],\n",
       "       [209.39199266],\n",
       "       [171.17161745],\n",
       "       [111.11102784],\n",
       "       [107.83499568],\n",
       "       [158.06748881],\n",
       "       [179.90770321],\n",
       "       [150.42341377],\n",
       "       [100.19092064],\n",
       "       [142.77933873],\n",
       "       [141.68732801],\n",
       "       [147.14738161],\n",
       "       [174.44764961],\n",
       "       [137.31928513],\n",
       "       [143.87134945],\n",
       "       [154.79145665],\n",
       "       [187.55177826],\n",
       "       [ 87.08679199],\n",
       "       [142.77933873],\n",
       "       [146.05537089],\n",
       "       [149.33140305],\n",
       "       [184.2757461 ],\n",
       "       [ 91.45483488],\n",
       "       [134.04325296],\n",
       "       [178.81569249],\n",
       "       [119.8471136 ],\n",
       "       [187.55177826],\n",
       "       [130.7672208 ],\n",
       "       [105.65097424],\n",
       "       [172.26362817],\n",
       "       [144.96336017],\n",
       "       [197.37987474],\n",
       "       [135.13526368],\n",
       "       [184.2757461 ],\n",
       "       [149.33140305],\n",
       "       [148.23939233],\n",
       "       [165.71156385],\n",
       "       [195.1958533 ],\n",
       "       [177.72368177],\n",
       "       [203.93193906],\n",
       "       [131.85923152],\n",
       "       [214.85204626],\n",
       "       [182.09172465],\n",
       "       [ 90.36282416],\n",
       "       [201.74791762],\n",
       "       [196.28786402],\n",
       "       [ 79.44271695],\n",
       "       [127.49118864],\n",
       "       [127.49118864],\n",
       "       [123.12314576],\n",
       "       [190.82781042],\n",
       "       [159.15949953],\n",
       "       [128.58319936],\n",
       "       [137.31928513],\n",
       "       [214.85204626],\n",
       "       [235.60024995],\n",
       "       [179.90770321],\n",
       "       [150.42341377],\n",
       "       [163.52754241],\n",
       "       [132.95124224],\n",
       "       [167.89558529],\n",
       "       [ 63.06255615],\n",
       "       [ 81.62673839],\n",
       "       [197.37987474],\n",
       "       [167.89558529],\n",
       "       [143.87134945],\n",
       "       [155.88346737],\n",
       "       [ 75.07467407],\n",
       "       [117.66309216],\n",
       "       [154.79145665],\n",
       "       [174.44764961],\n",
       "       [116.57108144],\n",
       "       [112.20303856],\n",
       "       [186.45976754],\n",
       "       [269.45258227],\n",
       "       [182.09172465],\n",
       "       [215.94405698],\n",
       "       [140.59531729],\n",
       "       [112.20303856],\n",
       "       [143.87134945],\n",
       "       [ 94.73086704],\n",
       "       [207.20797122],\n",
       "       [151.51542449],\n",
       "       [208.29998194],\n",
       "       [292.3848074 ],\n",
       "       [149.33140305],\n",
       "       [123.12314576],\n",
       "       [173.35563889],\n",
       "       [ 95.82287776],\n",
       "       [ 96.91488848],\n",
       "       [ 61.97054543],\n",
       "       [127.49118864],\n",
       "       [227.9561749 ],\n",
       "       [229.04818562],\n",
       "       [114.38706   ],\n",
       "       [278.18866803],\n",
       "       [108.9270064 ],\n",
       "       [122.03113504],\n",
       "       [127.49118864],\n",
       "       [103.4669528 ],\n",
       "       [210.48400338],\n",
       "       [ 96.91488848],\n",
       "       [130.7672208 ],\n",
       "       [167.89558529],\n",
       "       [191.91982114],\n",
       "       [221.40411058],\n",
       "       [160.25151025],\n",
       "       [170.07960673],\n",
       "       [146.05537089],\n",
       "       [162.43553169]])"
      ]
     },
     "execution_count": 134,
     "metadata": {},
     "output_type": "execute_result"
    }
   ],
   "source": [
    "# predict \n",
    "y_hat = model.predict(x_test)\n",
    "y_hat"
   ]
  },
  {
   "cell_type": "code",
   "execution_count": 135,
   "metadata": {},
   "outputs": [],
   "source": [
    "# code for caluating MSE\n",
    "\n",
    "total = 0\n",
    "SSE = 0\n",
    "length = len(y_test)\n",
    "y_test1 = np.array(y_test)\n",
    "\n",
    "for i in range(length):\n",
    "    a = (y_hat[i]-y_test1[i])**2\n",
    "    total += a\n",
    "#MSE = float(total/length)  \n",
    "MSE = float(total/(length-1-1))  \n"
   ]
  },
  {
   "cell_type": "code",
   "execution_count": 136,
   "metadata": {},
   "outputs": [
    {
     "name": "stdout",
     "output_type": "stream",
     "text": [
      "MSE :  3981.2403026527113\n"
     ]
    }
   ],
   "source": [
    "# write calculated MSE value here \n",
    "print( \"MSE : \" , MSE)"
   ]
  },
  {
   "cell_type": "code",
   "execution_count": 137,
   "metadata": {},
   "outputs": [],
   "source": [
    "# code for calculating R2 score\n",
    "\n",
    "\n",
    "SSE = 0\n",
    "SST = 0\n",
    "\n",
    "length = len(y_test)\n",
    "ynew_test1 = np.array(y_test)\n",
    "\n",
    "## SSE 구하기 \n",
    "for i in range(length):\n",
    "    a = (y_hat[i]-y_test1[i])**2\n",
    "    SSE += a\n",
    "\n",
    "\n",
    "## SST구하기 \n",
    "mu = y_test1.mean()\n",
    "for i in range(length):\n",
    "    a = (y_test1[i]-mu)**2\n",
    "    SST += a\n"
   ]
  },
  {
   "cell_type": "code",
   "execution_count": 138,
   "metadata": {},
   "outputs": [
    {
     "name": "stdout",
     "output_type": "stream",
     "text": [
      "R_squared :  [0.23132831]\n"
     ]
    }
   ],
   "source": [
    "# write calculated R2 score value here \n",
    "\n",
    "R_squared = 1- SSE/SST\n",
    "print( \"R_squared : \" , R_squared)\n",
    "\n",
    "#model.score(x_test, y_test)"
   ]
  },
  {
   "cell_type": "markdown",
   "metadata": {},
   "source": [
    "#### 2.5 Write the linear regression formula of the trained model [3 points]"
   ]
  },
  {
   "cell_type": "code",
   "execution_count": 140,
   "metadata": {
    "scrolled": false
   },
   "outputs": [
    {
     "name": "stdout",
     "output_type": "stream",
     "text": [
      "[153.435] + [1013.174]*X1\n"
     ]
    }
   ],
   "source": [
    "# y_estimated  = B0 + B1*x1\n",
    "print(\"[\" +str(round(float(model.intercept_),3)) +\"] + \" +\"[\" + str(round(float(model.coef_),3)) + \"]*\" + \"X1\")"
   ]
  },
  {
   "cell_type": "markdown",
   "metadata": {},
   "source": [
    "$\\hat{y} = [153.435] + [1013.174]*X_1 $"
   ]
  },
  {
   "cell_type": "markdown",
   "metadata": {},
   "source": [
    "#### 2.6 Plot graph [4 points]\n",
    "- Plot data points of test set and draw the line you get from the trained model "
   ]
  },
  {
   "cell_type": "code",
   "execution_count": 24,
   "metadata": {},
   "outputs": [
    {
     "data": {
      "image/png": "[encoded data removed]",
      "text/plain": [
       "<Figure size 432x288 with 1 Axes>"
      ]
     },
     "metadata": {
      "needs_background": "light"
     },
     "output_type": "display_data"
    }
   ],
   "source": [
    "plt.scatter(x_test,y_test )\n",
    "x = np.arange(-0.1,0.2, 0.001)\n",
    "y = float(model.intercept_) + x*float(model.coef_)\n",
    "plt.plot(x,y, 'r')\n",
    "plt.title(\"Relationship between BMI & target\")\n",
    "plt.xlabel('BMI')\n",
    "plt.ylabel(\"target\")\n",
    "plt.show()\n"
   ]
  },
  {
   "cell_type": "code",
   "execution_count": null,
   "metadata": {},
   "outputs": [],
   "source": []
  }
 ],
 "metadata": {
  "kernelspec": {
   "display_name": "Python 3",
   "language": "python",
   "name": "python3"
  },
  "language_info": {
   "codemirror_mode": {
    "name": "ipython",
    "version": 3
   },
   "file_extension": ".py",
   "mimetype": "text/x-python",
   "name": "python",
   "nbconvert_exporter": "python",
   "pygments_lexer": "ipython3",
   "version": "3.8.3"
  }
 },
 "nbformat": 4,
 "nbformat_minor": 4
}

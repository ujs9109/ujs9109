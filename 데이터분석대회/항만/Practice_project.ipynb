{
 "cells": [
  {
   "cell_type": "markdown",
   "metadata": {},
   "source": [
    "원래 주피터 노트북의 장점은, 코드를 한방에 쓰는 것이 아닌, 나눠서 **\"RUN\"** 하기 위함입니다. \n",
    "하지만, 이 프로젝트는, 모든 작동이, 코드가 실행됨가 동시에 처음부터 끝까지 다 가동이 되어야 하기 때문에, 하나의 note에 모든 코딩을 마무리 하여야 합니다!\n",
    "\n",
    "(단, 세부 사항 (1~5번)을 가동을 위한, 코드를 가동할 때에는, 따로 별개의 note 를 활용해보세요!\n"
   ]
  },
  {
   "cell_type": "code",
   "execution_count": 110,
   "metadata": {
    "scrolled": true
   },
   "outputs": [
    {
     "name": "stdout",
     "output_type": "stream",
     "text": [
      "NAME BIRTH_DATE PASSWD ACCOUNT_BALANCE\n",
      "1. Create new account.\n",
      "2. For transactions.\n",
      "3. Check the details of existing account.\n",
      "4. View customer's list.\n",
      "5. Exit.\n"
     ]
    }
   ],
   "source": [
    "# this is for \"read the txt.file\" \n",
    "# I split the independent indexs and data\n",
    "## you can check the total_list and indexs before you do this project.\n",
    "## this is the given instructions, I check where you have to write some codes.\n",
    "\n",
    "f = open(\"Bank_account.txt\", 'r', encoding='utf8')\n",
    "total_list = []\n",
    "indexs = f.readline()[:-1]\n",
    "temps = indexs\n",
    "print(temps)\n",
    "while(temps != ''):\n",
    "    temps = f.readline()[:-1]\n",
    "    total_list.append(temps)\n",
    "f.close()    \n",
    "  \n",
    "print(\"1. Create new account.\")\n",
    "print(\"2. For transactions.\")\n",
    "print(\"3. Check the details of existing account.\")\n",
    "print(\"4. View customer's list.\")\n",
    "print(\"5. Exit.\")\n",
    "\n",
    "\n",
    "## 여기에서는 choose the option(1~5) 을 input으로 받는 것을 작성해 보세요!\n",
    "## cf) number = input()\n",
    "\n",
    "\n",
    "\n",
    "\n",
    "\n",
    "## 여기에서는 input이 1번일때의, 코드를 작성해보세요!\n",
    "###cf) if number == '1':\n",
    "\n",
    "\n",
    "\n",
    "## 여기에서는 input이 2번일때의, 코드를 작성해보세요!\n",
    "###cf) if number == '2':\n",
    "\n",
    "\n",
    "\n",
    "## 여기에서는 input이 3번일때의, 코드를 작성해보세요!\n",
    "###cf) if number == '3':\n",
    "\n",
    "\n",
    "## 여기에서는 input이 4번일때의, 코드를 작성해보세요!\n",
    "###cf) if number == '4':\n",
    "\n",
    "\n",
    "\n",
    "# 여기에서는 input이 5번일때의, 코드를 작성해보세요!\n",
    "## input이 5번일때에는, Exit 이기 때문에, 아무 작업을 안해도 됩니다.\n",
    "###cf) if number == '5':\n",
    "    \n",
    "\n",
    "    \n",
    "# this is for \"write the txt.file\" \n",
    "## 1~5 transaction 을 통해, 수정된 내용을 반영할 수도 있고 (1~2)\n",
    "## 기존의 내용을 그대로 다시 작성할 수도 있습니다. (3~5)\n",
    "\n",
    "# format 을 유지하는것이 중요합니다.\n",
    "## 기존에, given format이, (indexs 와 total_list가 어떤 방식으로 적혀있는지를 파악하시길 바랍니다.)\n",
    "\n",
    "f = open(\"Bank_accoun.txt\", 'w', encoding='utf8')\n",
    "f.write(indexs+ '\\n')\n",
    "for i in total_list:\n",
    "    f.write(i + '\\n')\n",
    "f.close()\n",
    "\n"
   ]
  },
  {
   "cell_type": "code",
   "execution_count": null,
   "metadata": {},
   "outputs": [],
   "source": []
  }
 ],
 "metadata": {
  "kernelspec": {
   "display_name": "Python 3",
   "language": "python",
   "name": "python3"
  },
  "language_info": {
   "codemirror_mode": {
    "name": "ipython",
    "version": 3
   },
   "file_extension": ".py",
   "mimetype": "text/x-python",
   "name": "python",
   "nbconvert_exporter": "python",
   "pygments_lexer": "ipython3",
   "version": "3.8.3"
  }
 },
 "nbformat": 4,
 "nbformat_minor": 4
}

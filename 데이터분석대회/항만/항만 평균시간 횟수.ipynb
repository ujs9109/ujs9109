{
 "cells": [
  {
   "cell_type": "code",
   "execution_count": 616,
   "metadata": {},
   "outputs": [],
   "source": [
    "# Python3 program to Print all possible paths from\n",
    "# top left to bottom right of a mXn matrix\n",
    "allPaths = []\n",
    "icount = 0\n",
    "jcount = 0\n",
    "\n",
    "def findPaths(maze, m, n):\n",
    "    path = [0 for d in range(m + n - 1)]\n",
    "    findPathsUtil(maze, m, n, 0, 0, path, 0)\n",
    "\n",
    "def findPathsUtil(maze, m, n, i, j, path, indx):\n",
    "    # if we reach the bottom of maze, we can only move right\n",
    "    global icount\n",
    "    global jcount\n",
    "    if i == m - 1:\n",
    "        for k in range(j, n):\n",
    "            # path.append(maze[i][k])\n",
    "            path[indx + k - j] = maze[i][k]\n",
    "        # if we hit this block, it means one path is completed.\n",
    "        # Add it to paths list and print\n",
    "        # print(path)\n",
    "        allPaths.append(path[:])\n",
    "        return\n",
    "    # if we reach to the right most corner, we can only move down\n",
    "    if j == n - 1:\n",
    "        for k in range(i, m):\n",
    "            path[indx + k - i] = maze[k][j]\n",
    "        # path.append(maze[j][k])\n",
    "        # if we hit this block, it means one path is completed.\n",
    "        # Add it to paths list and print\n",
    "        # print(path)\n",
    "        allPaths.append(path[:])\n",
    "        jcount += 1\n",
    "        return\n",
    "\n",
    "    # add current element to the path list\n",
    "    # path.append(maze[i][j])\n",
    "    path[indx] = maze[i][j]\n",
    "\n",
    "    # move down in y direction and call findPathsUtil recursively\n",
    "    findPathsUtil(maze, m, n, i + 1, j, path, indx + 1)\n",
    "\n",
    "    # move down in y direction and call findPathsUtil recursively\n",
    "    findPathsUtil(maze, m, n, i, j + 1, path, indx + 1)"
   ]
  },
  {
   "cell_type": "markdown",
   "metadata": {},
   "source": [
    "## vertex point 와 아닌 점들 간의 차이가 심하다. \n",
    "\n",
    "\n",
    "## vertex point 와 아닌 점을 나눈다\n",
    "\n",
    "### 다시 방향을 돌아가는 경우를 제외한다. (오른쪽 갔다가, 나중에 왼쪽으로 가는 경우를 제외)"
   ]
  },
  {
   "cell_type": "markdown",
   "metadata": {},
   "source": [
    "### 1) vertex point 계산"
   ]
  },
  {
   "cell_type": "code",
   "execution_count": 617,
   "metadata": {},
   "outputs": [],
   "source": [
    "def point_to_point(isize, jsize):\n",
    "    global allPaths\n",
    "    total_count_list = [0,0,0,0]\n",
    "    mat = []\n",
    "\n",
    "    for i in range(isize):\n",
    "        mat.append([])\n",
    "        for j in range(jsize):\n",
    "            mat[i].append([(i + 1) , j + 1])\n",
    "    allPaths = []\n",
    "    findPaths(mat, isize, jsize)\n",
    "\n",
    "    for i in allPaths:\n",
    "        count = 0\n",
    "        for j in range(1, len(i)-1):\n",
    "            if i[j-1][0] == i[j][0]:\n",
    "                if i[j][0] != i[j+1][0]:\n",
    "                    count +=1\n",
    "\n",
    "            if i[j-1][1] == i[j][1]:\n",
    "                if i[j][1] != i[j+1][1]:\n",
    "                    count +=1             \n",
    "\n",
    "        if count <= 2:\n",
    "            #print(i, count)\n",
    "            total_count_list[count] +=1\n",
    "            \n",
    "    y_length = 3.5* (jsize-2) + 14.0\n",
    "    x_length = round(58.8 *(isize-1),2)  \n",
    "    total_count_list[3] = x_length + y_length\n",
    "    \n",
    "    #print(x_length, y_length)\n",
    "    return (total_count_list)\n",
    "    "
   ]
  },
  {
   "cell_type": "code",
   "execution_count": 618,
   "metadata": {
    "scrolled": true
   },
   "outputs": [
    {
     "data": {
      "text/plain": [
       "[48, 672, 3024, 92467.20000000008]"
      ]
     },
     "execution_count": 618,
     "metadata": {},
     "output_type": "execute_result"
    }
   ],
   "source": [
    "# (1번쨰 & 8번쨰 줄 완성 )\n",
    "one_point_total_list = [0,0,0,0]\n",
    "for k in range(0,6):\n",
    "    for i in [1,2,3,4,5,6,7,8]:\n",
    "        for j in range(7-k,15-k):\n",
    "            a,b,c,d = point_to_point(i,j)\n",
    "            one_point_total_list[0] += a\n",
    "            one_point_total_list[1] += b\n",
    "            one_point_total_list[2] += c\n",
    "            one_point_total_list[3] += d\n",
    "\n",
    "one_point_total_list"
   ]
  },
  {
   "cell_type": "code",
   "execution_count": 619,
   "metadata": {},
   "outputs": [
    {
     "data": {
      "text/plain": [
       "[48, 672, 2736, 75532.80000000012]"
      ]
     },
     "execution_count": 619,
     "metadata": {},
     "output_type": "execute_result"
    }
   ],
   "source": [
    "# (2번쨰 & 7번쨰 줄 완성 )\n",
    "one_point_total_list = [0,0,0,0]\n",
    "for k in range(0,6):\n",
    "    # 줄 내에서의 세로 \n",
    "    for i in [1,2,2,3,4,5,6,7]:\n",
    "        # 가로 축 길이 조절\n",
    "        for j in range(7-k,15-k):\n",
    "            # 위에 있는 vertex 만 고려\n",
    "            a,b,c,d = point_to_point(i,j)\n",
    "            one_point_total_list[0] += a\n",
    "            one_point_total_list[1] += b\n",
    "            one_point_total_list[2] += c\n",
    "            one_point_total_list[3] += d\n",
    "\n",
    "one_point_total_list"
   ]
  },
  {
   "cell_type": "code",
   "execution_count": 620,
   "metadata": {
    "scrolled": true
   },
   "outputs": [
    {
     "data": {
      "text/plain": [
       "[48, 672, 2544, 64243.20000000002]"
      ]
     },
     "execution_count": 620,
     "metadata": {},
     "output_type": "execute_result"
    }
   ],
   "source": [
    "# (3번쨰 & 6번쨰 줄 완성 )\n",
    "one_point_total_list = [0,0,0,0]\n",
    "for k in range(0,6):\n",
    "    # 줄 내에서의 세로 \n",
    "    for i in [1,2,2,3,3,4,5,6]:\n",
    "        # 가로 축 길이 조절\n",
    "        for j in range(7-k,15-k):\n",
    "            # 위에 있는 vertex 만 고려\n",
    "            a,b,c,d = point_to_point(i,j)\n",
    "            one_point_total_list[0] += a\n",
    "            one_point_total_list[1] += b\n",
    "            one_point_total_list[2] += c\n",
    "            one_point_total_list[3] += d\n",
    "\n",
    "one_point_total_list"
   ]
  },
  {
   "cell_type": "code",
   "execution_count": 621,
   "metadata": {},
   "outputs": [
    {
     "data": {
      "text/plain": [
       "[48, 672, 2448, 58598.400000000016]"
      ]
     },
     "execution_count": 621,
     "metadata": {},
     "output_type": "execute_result"
    }
   ],
   "source": [
    "# (4번쨰 & 5번쨰 줄 완성 )\n",
    "one_point_total_list = [0,0,0,0]\n",
    "for k in range(0,6):\n",
    "    # 줄 내에서의 세로\n",
    "    for i in [1,2,2,3,3,4,4,5]:\n",
    "        # 가로 축 길이 조절\n",
    "        for j in range(7-k,15-k):\n",
    "            # 위에 있는 vertex 만 고려\n",
    "            a,b,c,d = point_to_point(i,j)\n",
    "            one_point_total_list[0] += a\n",
    "            one_point_total_list[1] += b\n",
    "            one_point_total_list[2] += c\n",
    "            one_point_total_list[3] += d\n",
    "\n",
    "one_point_total_list"
   ]
  },
  {
   "cell_type": "markdown",
   "metadata": {},
   "source": [
    "## 최종 vertex 합 도출 "
   ]
  },
  {
   "cell_type": "code",
   "execution_count": 622,
   "metadata": {},
   "outputs": [],
   "source": [
    "# (1번쨰 & 8번쨰 줄 완성 )\n",
    "one_point_total_list = [0,0,0,0]\n",
    "for k in range(0,6):\n",
    "    for i in [1,2,3,4,5,6,7,8]:\n",
    "        for j in range(7-k,15-k):\n",
    "            a,b,c,d = point_to_point(i,j)\n",
    "            one_point_total_list[0] += a\n",
    "            one_point_total_list[1] += b\n",
    "            one_point_total_list[2] += c\n",
    "            one_point_total_list[3] += d * (a+b+c)\n",
    "  \n",
    "\n",
    "\n",
    "#(2번쨰 & 7번쨰 줄 완성)\n",
    "for k in range(0,6):\n",
    "    # 줄 내에서의 세로 \n",
    "    for i in [1,2,2,3,4,5,6,7]:\n",
    "        # 가로 축 길이 조절\n",
    "        for j in range(7-k,15-k):\n",
    "            # 위에 있는 vertex 만 고려\n",
    "            a,b,c,d = point_to_point(i,j)\n",
    "            one_point_total_list[0] += a\n",
    "            one_point_total_list[1] += b\n",
    "            one_point_total_list[2] += c\n",
    "            one_point_total_list[3] += d * (a+b+c)\n",
    "\n",
    "# (3번쨰 & 6번쨰 줄 완성 )\n",
    "for k in range(0,6):\n",
    "    # 줄 내에서의 세로 \n",
    "    for i in [1,2,2,3,3,4,5,6]:\n",
    "        # 가로 축 길이 조절\n",
    "        for j in range(7-k,15-k):\n",
    "            # 위에 있는 vertex 만 고려\n",
    "            a,b,c,d = point_to_point(i,j)\n",
    "            one_point_total_list[0] += a\n",
    "            one_point_total_list[1] += b\n",
    "            one_point_total_list[2] += c\n",
    "            one_point_total_list[3] += d* (a+b+c)\n",
    "\n",
    "\n",
    "\n",
    "# (4번쨰 & 5번쨰 줄 완성 )\n",
    "for k in range(0,6):\n",
    "    # 줄 내에서의 세로\n",
    "    for i in [1,2,2,3,3,4,4,5]:\n",
    "        # 가로 축 길이 조절\n",
    "        for j in range(7-k,15-k):\n",
    "            # 위에 있는 vertex 만 고려\n",
    "            a,b,c,d = point_to_point(i,j)\n",
    "            one_point_total_list[0] += a\n",
    "            one_point_total_list[1] += b\n",
    "            one_point_total_list[2] += c\n",
    "            one_point_total_list[3] += d * (a+b+c)\n",
    "\n",
    "# 대칭     \n",
    "for i in range(4):\n",
    "    one_point_total_list[i] *=2\n",
    "\n",
    "    \n",
    "# 9번쨰 비대칭 줄\n",
    "for k in range(0,6):\n",
    "    # 줄 내에서의 세로\n",
    "    for i in [1,2,3,4,5,6,7,8]:\n",
    "        # 가로 축 길이 조절\n",
    "        for j in range(7-k,15-k):\n",
    "            # 위에 있는 vertex 만 고려\n",
    "            a,b,c,d = point_to_point(i,j)\n",
    "            one_point_total_list[0] += 0\n",
    "            one_point_total_list[1] += a\n",
    "            one_point_total_list[2] += b\n",
    "            one_point_total_list[3] += (d + 2*(13.2 + 16.2))* (a+b)"
   ]
  },
  {
   "cell_type": "code",
   "execution_count": 623,
   "metadata": {},
   "outputs": [
    {
     "data": {
      "text/plain": [
       "[384, 5424, 22176, 6472457.599999989]"
      ]
     },
     "execution_count": 623,
     "metadata": {},
     "output_type": "execute_result"
    }
   ],
   "source": [
    "one_point_total_list"
   ]
  },
  {
   "cell_type": "markdown",
   "metadata": {},
   "source": [
    "### more simplistic form"
   ]
  },
  {
   "cell_type": "code",
   "execution_count": 263,
   "metadata": {},
   "outputs": [
    {
     "data": {
      "text/plain": [
       "[384, 5424, 22176, 6472457.599999989]"
      ]
     },
     "execution_count": 263,
     "metadata": {},
     "output_type": "execute_result"
    }
   ],
   "source": [
    "# (1번쨰 & 8번쨰 줄 완성 )\n",
    "one_point_total_list = [0,0,0,0]\n",
    "horizon_indexes= [[1,2,3,4,5,6,7,8], [1,2,2,3,4,5,6,7], [1,2,2,3,3,4,5,6], [1,2,2,3,3,4,4,5]]\n",
    "\n",
    "for i in horizon_indexes:\n",
    "    for k in range(0,6):\n",
    "        for ii in i:\n",
    "            for j in range(7-k,15-k):\n",
    "                a,b,c,d = point_to_point(ii,j)\n",
    "                one_point_total_list[0] += a\n",
    "                one_point_total_list[1] += b\n",
    "                one_point_total_list[2] += c\n",
    "                one_point_total_list[3] += d *(a+b+c)\n",
    "\n",
    "# 대칭     \n",
    "for i in range(4):\n",
    "    one_point_total_list[i] *=2\n",
    "    \n",
    "for k in range(0,6):\n",
    "    # 줄 내에서의 세로\n",
    "    for i in [1,2,3,4,5,6,7,8]:\n",
    "        # 가로 축 길이 조절\n",
    "        for j in range(7-k,15-k):\n",
    "            # 위에 있는 vertex 만 고려\n",
    "            a,b,c,d = point_to_point(i,j)\n",
    "            one_point_total_list[0] += 0\n",
    "            one_point_total_list[1] += a\n",
    "            one_point_total_list[2] += b\n",
    "            one_point_total_list[3] += (d + 2*(13.2 + 16.2))* (a+b)\n",
    "one_point_total_list    \n"
   ]
  },
  {
   "cell_type": "code",
   "execution_count": 264,
   "metadata": {
    "scrolled": true
   },
   "outputs": [
    {
     "data": {
      "text/plain": [
       "231.2913664951397"
      ]
     },
     "execution_count": 264,
     "metadata": {},
     "output_type": "execute_result"
    }
   ],
   "source": [
    "one_point_total_list[-1]/sum(one_point_total_list[:-1])"
   ]
  },
  {
   "cell_type": "markdown",
   "metadata": {},
   "source": [
    "# non-vertex 값 고려하기"
   ]
  },
  {
   "cell_type": "markdown",
   "metadata": {},
   "source": [
    "## 꺾는 횟수가 0인 경우"
   ]
  },
  {
   "cell_type": "code",
   "execution_count": 624,
   "metadata": {},
   "outputs": [],
   "source": [
    "def point_to_point_inner(isize, jsize):\n",
    "    global allPaths\n",
    "    total_count_list = [0,0,0,0]\n",
    "    mat = []\n",
    "\n",
    "    for i in range(isize):\n",
    "        mat.append([])\n",
    "        for j in range(jsize):\n",
    "            mat[i].append([(i + 1) , j + 1])\n",
    "    allPaths = []\n",
    "    findPaths(mat, isize, jsize)\n",
    "\n",
    "    for i in allPaths:\n",
    "        count = 0\n",
    "        for j in range(1, len(i)-1):\n",
    "            if i[j-1][0] == i[j][0]:\n",
    "                if i[j][0] != i[j+1][0]:\n",
    "                    count +=1\n",
    "\n",
    "            if i[j-1][1] == i[j][1]:\n",
    "                if i[j][1] != i[j+1][1]:\n",
    "                    count +=1             \n",
    "\n",
    "        if count <= 2:\n",
    "            #print(i, count)\n",
    "            total_count_list[count] +=1\n",
    "            \n",
    "    y_length = 3.5* (jsize-1)\n",
    "    x_length = round(58.4 *(isize-1),2)  \n",
    "    total_count_list[3] = x_length + y_length\n",
    "    \n",
    "    #print(x_length, y_length)\n",
    "    return (total_count_list)\n",
    "    "
   ]
  },
  {
   "cell_type": "markdown",
   "metadata": {},
   "source": [
    "## 일반화 버전"
   ]
  },
  {
   "cell_type": "code",
   "execution_count": 358,
   "metadata": {
    "scrolled": true
   },
   "outputs": [
    {
     "data": {
      "text/plain": [
       "[1296, 0, 0, 213979.2]"
      ]
     },
     "execution_count": 358,
     "metadata": {},
     "output_type": "execute_result"
    }
   ],
   "source": [
    "one_point_total_list = [0,0,0,0]\n",
    "aa = 14.7\n",
    "\n",
    "for k in range(1,9):\n",
    "    for i in range(1,10-k):\n",
    "        #오른쪽 \n",
    "        a,b,c,d = point_to_point_inner(i,1)\n",
    "        if i <9-k:\n",
    "            one_point_total_list[0] += 3*a\n",
    "            one_point_total_list[1] += 3*b\n",
    "            one_point_total_list[2] += 3*c \n",
    "            one_point_total_list[3] += (3*d + 6*aa) *(a+b+c)\n",
    "\n",
    "        if i == 9-k :\n",
    "            one_point_total_list[0] += 2*a\n",
    "            one_point_total_list[1] += 2*b\n",
    "            one_point_total_list[2] += 2*c\n",
    "            one_point_total_list[3] += (2*d + 3*aa) *(a+b+c)\n",
    "            \n",
    "    for i in range(1,k):\n",
    "        #왼쪽\n",
    "        a,b,c,d = point_to_point_inner(i,1)\n",
    "        \n",
    "        one_point_total_list[0] += 3*a\n",
    "        one_point_total_list[1] += 3*b\n",
    "        one_point_total_list[2] += 3*c \n",
    "        one_point_total_list[3] += (3*d + 6*aa) *(a+b+c)\n",
    "        \n",
    "    \n",
    "    # 맨 왼쪽 고려\n",
    "    one_point_total_list[0] += point_to_point_inner(k,1)[0]\n",
    "    one_point_total_list[3] += point_to_point_inner(k,1)[3] + aa\n",
    "    \n",
    "    \n",
    "    \n",
    "# 맨 오른쪽 9번쨰 번쨰 틀, 2개인 예외상황 고려    \n",
    "for k in range(1,9):\n",
    "    a,b,c,d = point_to_point_inner(k,1)\n",
    "    \n",
    "    if k ==1:\n",
    "        one_point_total_list[0] += 2*a \n",
    "        one_point_total_list[1] += 2*b\n",
    "        one_point_total_list[2] += 2*c \n",
    "        one_point_total_list[3] += (2*d + 3*aa)*(a+b+c)\n",
    "        \n",
    "    else:\n",
    "        one_point_total_list[0] += 3*a \n",
    "        one_point_total_list[1] += 3*b\n",
    "        one_point_total_list[2] += 3*c \n",
    "        one_point_total_list[3] += (3*d + 6*aa -(3*aa))*(a+b+c)\n",
    "    \n",
    "one_point_total_list[0] += point_to_point_inner(9,1)[0]\n",
    "one_point_total_list[3] += point_to_point_inner(9,1)[3] + aa - (aa)\n",
    "\n",
    "\n",
    "\n",
    "#총 각 행마다 6개씩 존재\n",
    "for i in range(4):\n",
    "    one_point_total_list[i] *=6\n",
    "one_point_total_list"
   ]
  },
  {
   "cell_type": "code",
   "execution_count": 359,
   "metadata": {},
   "outputs": [
    {
     "data": {
      "text/plain": [
       "165.1074074074074"
      ]
     },
     "execution_count": 359,
     "metadata": {},
     "output_type": "execute_result"
    }
   ],
   "source": [
    "one_point_total_list[-1]/one_point_total_list[0]"
   ]
  },
  {
   "cell_type": "markdown",
   "metadata": {},
   "source": [
    "## 꺾는 횟수가 1인 경우"
   ]
  },
  {
   "cell_type": "code",
   "execution_count": 625,
   "metadata": {
    "scrolled": true
   },
   "outputs": [
    {
     "data": {
      "text/plain": [
       "[0, 14976, 0, 2581756.8000000003]"
      ]
     },
     "execution_count": 625,
     "metadata": {},
     "output_type": "execute_result"
    }
   ],
   "source": [
    "one_point_total_list_1st = [0,0,0,0]\n",
    "aa = 14.7\n",
    "\n",
    "for k in range(1,9):\n",
    "    for i in range(1,10-k):\n",
    "        #오른쪽 \n",
    "        a,b,c,d = point_to_point_inner(i,1)\n",
    "        if i <9-k:\n",
    "            one_point_total_list_1st[0] += 3*a\n",
    "            one_point_total_list_1st[1] += 3*b\n",
    "            one_point_total_list_1st[2] += 3*c \n",
    "            one_point_total_list_1st[3] += (3*d + 6*aa) *(a+b+c)\n",
    "\n",
    "        if i == 9-k :\n",
    "            one_point_total_list_1st[0] += 2*a\n",
    "            one_point_total_list_1st[1] += 2*b\n",
    "            one_point_total_list_1st[2] += 2*c\n",
    "            one_point_total_list_1st[3] += (2*d + 3*aa) *(a+b+c)\n",
    "            \n",
    "    for i in range(1,k):\n",
    "        #왼쪽\n",
    "        a,b,c,d = point_to_point_inner(i,1)\n",
    "        \n",
    "        one_point_total_list_1st[0] += 3*a\n",
    "        one_point_total_list_1st[1] += 3*b\n",
    "        one_point_total_list_1st[2] += 3*c \n",
    "        one_point_total_list_1st[3] += (3*d + 6*aa) *(a+b+c)\n",
    "        \n",
    "    \n",
    "    # 맨 왼쪽 고려\n",
    "    one_point_total_list_1st[0] += point_to_point_inner(k,1)[0]\n",
    "    one_point_total_list_1st[3] += point_to_point_inner(k,1)[3] + aa\n",
    "\n",
    "#각 행마다 13구역으로 이동 가능\n",
    "for i in range(4):\n",
    "    one_point_total_list_1st[i] *=(13 *6)\n",
    "one_point_total_list_1st\n",
    "\n",
    "\n",
    "height = 3.5\n",
    "much_height = 14\n",
    "summation = 0\n",
    "for i in range(12,6, -1):\n",
    "    imme = (((i * (i+1))/2)*height + much_height)\n",
    "    #print(   (i * (i+1))/2, imme)   \n",
    "    summation += imme\n",
    "\n",
    "for i in range(1,6):\n",
    "    imme = ((i*(i+1)/2))*height\n",
    "    summation += imme\n",
    "    \n",
    "summation *= 24 * 8\n",
    "# 각 층마다 24개 그리고 이러한 포인트가 각 8개의 가로축\n",
    "\n",
    "\n",
    "one_point_total_list_1st[3] += summation\n",
    "one_point_total_list_1st[1] = one_point_total_list_1st[0]\n",
    "one_point_total_list_1st[0] = 0\n",
    "\n",
    "one_point_total_list_1st"
   ]
  },
  {
   "cell_type": "code",
   "execution_count": 626,
   "metadata": {},
   "outputs": [
    {
     "data": {
      "text/plain": [
       "172.39294871794874"
      ]
     },
     "execution_count": 626,
     "metadata": {},
     "output_type": "execute_result"
    }
   ],
   "source": [
    "one_point_total_list_1st[-1]/one_point_total_list_1st[1]"
   ]
  },
  {
   "cell_type": "markdown",
   "metadata": {},
   "source": [
    "## 꺾는 횟수가 2인 경우"
   ]
  },
  {
   "cell_type": "code",
   "execution_count": 637,
   "metadata": {},
   "outputs": [],
   "source": [
    "def distance_calculate(i,j,isize, jsize):\n",
    "    x = i-isize\n",
    "    if x <0:\n",
    "        x = -x\n",
    "        \n",
    "    y = j-jsize\n",
    "    if y<0:\n",
    "        y = -y\n",
    "    \n",
    "    if jsize <7:\n",
    "        return x*58.4 + y*3.5\n",
    "    else:\n",
    "        return x*58.4 + (y-1)*3.5 + 14"
   ]
  },
  {
   "cell_type": "code",
   "execution_count": 638,
   "metadata": {},
   "outputs": [],
   "source": [
    "def right_arrow_sum(x, y):\n",
    "    number = 0\n",
    "    answer = 0\n",
    "    a = 14.7\n",
    "\n",
    "    for i in range(1, 10-x):\n",
    "        answer += 12*i*a -6*a\n",
    "        number +=3\n",
    "       \n",
    "    answer -=  (3*a + 4*(8-x)*a)\n",
    "    number -= 1\n",
    "   \n",
    "    return answer, number\n",
    "       \n",
    "    \n",
    "def upper_right_arrow_sum(x,y):\n",
    "    # 한 축으로만! \n",
    "    number = 0\n",
    "    answer = 0\n",
    "    a = 14.7\n",
    "    \n",
    "    for j in range(y+1, 15): \n",
    "        for i in range(x+1, 9):\n",
    "            d = distance_calculate(x,y,i,j)\n",
    "            a, b = right_arrow_sum(i,j)            \n",
    "            answer += d + a\n",
    "            number += b\n",
    "\n",
    "\n",
    "   \n",
    "    return answer, number\n",
    "\n",
    "def lower_right_arrow_sum(x,y):\n",
    "    # 한 축으로만! \n",
    "    number = 0\n",
    "    answer = 0\n",
    "    a = 14.7\n",
    "    \n",
    "    if y >1:\n",
    "        for j in range(y-1,0,-1): \n",
    "            for i in range(x+1, 9):\n",
    "      \n",
    "                d = distance_calculate(x,y,i,j)\n",
    "                a, b = right_arrow_sum(i,j)\n",
    "\n",
    "                answer += d + a\n",
    "                number += b\n",
    "   \n",
    "    return answer, number"
   ]
  },
  {
   "cell_type": "code",
   "execution_count": 639,
   "metadata": {
    "scrolled": true
   },
   "outputs": [],
   "source": [
    "def left_arrow_sum(x, y):\n",
    "    number = 0\n",
    "    answer = 0\n",
    "    a = 14.7\n",
    "\n",
    "    for i in range(1, x):\n",
    "        answer += 12*i*a -6*a\n",
    "        number += 3\n",
    "       \n",
    "    answer +=  (a + 4*(x-1)*a)\n",
    "    number += 1\n",
    "   \n",
    "    return answer, number\n",
    "\n",
    "def upper_left_arrow_sum(x,y):\n",
    "    # 한 축으로만! \n",
    "    number = 0\n",
    "    answer = 0\n",
    "    a = 14.7\n",
    "    \n",
    "    for j in range(y+1, 15): \n",
    "        for i in range(x-1, 0, -1):\n",
    "            d = distance_calculate(x,y,i,j)\n",
    "            a, b = left_arrow_sum(i,j)\n",
    "            answer += d + a\n",
    "            number += b\n",
    "            \n",
    "    return answer, number\n",
    "            \n",
    "\n",
    "def lower_left_arrow_sum(x,y):\n",
    "    # 한 축으로만! \n",
    "    number = 0\n",
    "    answer = 0\n",
    "    a = 14.7\n",
    "    \n",
    "    if y >1:\n",
    "        for j in range(y-1,0,-1): \n",
    "            for i in range(x-1, 0,-1):\n",
    "                \n",
    "                d = distance_calculate(x,y,i,j)\n",
    "                a, b = left_arrow_sum(i,j)\n",
    "                answer += d + a\n",
    "                number += b\n",
    "   \n",
    "    return answer, number"
   ]
  },
  {
   "cell_type": "code",
   "execution_count": 641,
   "metadata": {},
   "outputs": [
    {
     "name": "stdout",
     "output_type": "stream",
     "text": [
      "4468811.200000002 32760\n"
     ]
    }
   ],
   "source": [
    "#(1,1)에서의 2번 꺾는점\n",
    "summation = 0\n",
    "number = 0\n",
    "#for i in range(1,)\n",
    "\n",
    "for i in range(1,9):\n",
    "    for j in range(1,7):\n",
    "        \n",
    "        a1,b1 = upper_right_arrow_sum(i,j)\n",
    "        a2,b2 = lower_right_arrow_sum(i,j)\n",
    "        a3,b3 = upper_left_arrow_sum(i,j)\n",
    "        a4,b4 = lower_left_arrow_sum(i,j)\n",
    "       \n",
    "        summation +=a1+a2+a3+a4\n",
    "        number += b1+b2+b3+b4\n",
    "    \n",
    "print(summation, number)"
   ]
  },
  {
   "cell_type": "code",
   "execution_count": 644,
   "metadata": {},
   "outputs": [
    {
     "data": {
      "text/plain": [
       "136.41059829059836"
      ]
     },
     "execution_count": 644,
     "metadata": {},
     "output_type": "execute_result"
    }
   ],
   "source": [
    "one_point_total_list_2nd= [0,0, number, summation]\n",
    "one_point_total_list_2nd\n",
    "\n",
    "one_point_total_list_2nd[-1]/ one_point_total_list_2nd[2]"
   ]
  },
  {
   "cell_type": "code",
   "execution_count": 668,
   "metadata": {},
   "outputs": [
    {
     "name": "stdout",
     "output_type": "stream",
     "text": [
      "[384, 5424, 22176, 6472457.599999989]\n",
      "231.2913664951397\n"
     ]
    }
   ],
   "source": [
    "print(one_point_total_list)\n",
    "print(one_point_total_list[3]/ sum(one_point_total_list[:-1]))"
   ]
  },
  {
   "cell_type": "code",
   "execution_count": 669,
   "metadata": {},
   "outputs": [
    {
     "name": "stdout",
     "output_type": "stream",
     "text": [
      "[0, 14976, 0, 2581756.8000000003]\n",
      "172.39294871794874\n"
     ]
    }
   ],
   "source": [
    "print(one_point_total_list_1st)\n",
    "print(one_point_total_list_1st[3]/ sum(one_point_total_list_1st[:-1]))"
   ]
  },
  {
   "cell_type": "code",
   "execution_count": 667,
   "metadata": {},
   "outputs": [
    {
     "name": "stdout",
     "output_type": "stream",
     "text": [
      "[0, 0, 32760, 4468811.200000002]\n",
      "136.41059829059836\n"
     ]
    }
   ],
   "source": [
    "print(one_point_total_list_2nd)\n",
    "print(one_point_total_list_2nd[3]/ sum(one_point_total_list_2nd[:-1]))"
   ]
  },
  {
   "cell_type": "code",
   "execution_count": 654,
   "metadata": {},
   "outputs": [
    {
     "data": {
      "text/plain": [
       "[384, 20400, 54936, 13523025.59999999]"
      ]
     },
     "execution_count": 654,
     "metadata": {},
     "output_type": "execute_result"
    }
   ],
   "source": [
    "final_list= [0,0,0,0]\n",
    "for i in [0,1,2,3]:\n",
    "    final_list[i] =one_point_total_list[i] + one_point_total_list_1st[i]+ one_point_total_list_2nd[i]\n",
    "final_list"
   ]
  },
  {
   "cell_type": "code",
   "execution_count": 664,
   "metadata": {},
   "outputs": [],
   "source": [
    "ave_turning = (final_list[1] + final_list[2]*2)/ sum(final_list[:-1])\n",
    "ave_movement = final_list[3]/ sum(final_list[:-1])"
   ]
  },
  {
   "cell_type": "code",
   "execution_count": 665,
   "metadata": {
    "scrolled": true
   },
   "outputs": [
    {
     "name": "stdout",
     "output_type": "stream",
     "text": [
      "1.7204437400950872 178.59251980982555\n"
     ]
    }
   ],
   "source": [
    "print(ave_turning, ave_movement)"
   ]
  },
  {
   "cell_type": "code",
   "execution_count": null,
   "metadata": {},
   "outputs": [],
   "source": []
  },
  {
   "cell_type": "code",
   "execution_count": null,
   "metadata": {},
   "outputs": [],
   "source": []
  }
 ],
 "metadata": {
  "kernelspec": {
   "display_name": "Python 3",
   "language": "python",
   "name": "python3"
  },
  "language_info": {
   "codemirror_mode": {
    "name": "ipython",
    "version": 3
   },
   "file_extension": ".py",
   "mimetype": "text/x-python",
   "name": "python",
   "nbconvert_exporter": "python",
   "pygments_lexer": "ipython3",
   "version": "3.8.3"
  }
 },
 "nbformat": 4,
 "nbformat_minor": 5
}
